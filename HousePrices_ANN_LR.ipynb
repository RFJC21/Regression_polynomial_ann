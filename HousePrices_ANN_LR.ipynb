{
  "nbformat": 4,
  "nbformat_minor": 0,
  "metadata": {
    "colab": {
      "name": "HousePrices_ANN_LR.ipynb",
      "provenance": [],
      "collapsed_sections": [],
      "authorship_tag": "ABX9TyOZA1d5uNVf4hb7b46q7nZc",
      "include_colab_link": true
    },
    "kernelspec": {
      "name": "python3",
      "display_name": "Python 3"
    }
  },
  "cells": [
    {
      "cell_type": "markdown",
      "metadata": {
        "id": "view-in-github",
        "colab_type": "text"
      },
      "source": [
        "<a href=\"https://colab.research.google.com/github/RFJC21/Regression_polynomial_ann/blob/master/HousePrices_ANN_LR.ipynb\" target=\"_parent\"><img src=\"https://colab.research.google.com/assets/colab-badge.svg\" alt=\"Open In Colab\"/></a>"
      ]
    },
    {
      "cell_type": "code",
      "metadata": {
        "id": "oOjwonNztph0",
        "colab_type": "code",
        "colab": {}
      },
      "source": [
        "#import data from scikitlearn\n",
        "from sklearn.datasets import load_boston\n",
        "import pandas as pd\n",
        "import matplotlib.pyplot as plt\n",
        "import seaborn as sns\n",
        "import numpy as np\n",
        "from sklearn.model_selection import train_test_split\n",
        "from sklearn.linear_model import LinearRegression\n",
        "import statsmodels.api as sm\n",
        "from statsmodels.stats.outliers_influence import variance_inflation_factor\n",
        "import pandas_profiling "
      ],
      "execution_count": 0,
      "outputs": []
    },
    {
      "cell_type": "markdown",
      "metadata": {
        "id": "2S3c9Y3wu3O8",
        "colab_type": "text"
      },
      "source": [
        "# Multivariate Linear Regression vs ANN Keras Regression"
      ]
    },
    {
      "cell_type": "code",
      "metadata": {
        "id": "tIo9wa3Eu1Vg",
        "colab_type": "code",
        "colab": {
          "resources": {
            "http://localhost:8080/nbextensions/google.colab/files.js": {
              "data": "Ly8gQ29weXJpZ2h0IDIwMTcgR29vZ2xlIExMQwovLwovLyBMaWNlbnNlZCB1bmRlciB0aGUgQXBhY2hlIExpY2Vuc2UsIFZlcnNpb24gMi4wICh0aGUgIkxpY2Vuc2UiKTsKLy8geW91IG1heSBub3QgdXNlIHRoaXMgZmlsZSBleGNlcHQgaW4gY29tcGxpYW5jZSB3aXRoIHRoZSBMaWNlbnNlLgovLyBZb3UgbWF5IG9idGFpbiBhIGNvcHkgb2YgdGhlIExpY2Vuc2UgYXQKLy8KLy8gICAgICBodHRwOi8vd3d3LmFwYWNoZS5vcmcvbGljZW5zZXMvTElDRU5TRS0yLjAKLy8KLy8gVW5sZXNzIHJlcXVpcmVkIGJ5IGFwcGxpY2FibGUgbGF3IG9yIGFncmVlZCB0byBpbiB3cml0aW5nLCBzb2Z0d2FyZQovLyBkaXN0cmlidXRlZCB1bmRlciB0aGUgTGljZW5zZSBpcyBkaXN0cmlidXRlZCBvbiBhbiAiQVMgSVMiIEJBU0lTLAovLyBXSVRIT1VUIFdBUlJBTlRJRVMgT1IgQ09ORElUSU9OUyBPRiBBTlkgS0lORCwgZWl0aGVyIGV4cHJlc3Mgb3IgaW1wbGllZC4KLy8gU2VlIHRoZSBMaWNlbnNlIGZvciB0aGUgc3BlY2lmaWMgbGFuZ3VhZ2UgZ292ZXJuaW5nIHBlcm1pc3Npb25zIGFuZAovLyBsaW1pdGF0aW9ucyB1bmRlciB0aGUgTGljZW5zZS4KCi8qKgogKiBAZmlsZW92ZXJ2aWV3IEhlbHBlcnMgZm9yIGdvb2dsZS5jb2xhYiBQeXRob24gbW9kdWxlLgogKi8KKGZ1bmN0aW9uKHNjb3BlKSB7CmZ1bmN0aW9uIHNwYW4odGV4dCwgc3R5bGVBdHRyaWJ1dGVzID0ge30pIHsKICBjb25zdCBlbGVtZW50ID0gZG9jdW1lbnQuY3JlYXRlRWxlbWVudCgnc3BhbicpOwogIGVsZW1lbnQudGV4dENvbnRlbnQgPSB0ZXh0OwogIGZvciAoY29uc3Qga2V5IG9mIE9iamVjdC5rZXlzKHN0eWxlQXR0cmlidXRlcykpIHsKICAgIGVsZW1lbnQuc3R5bGVba2V5XSA9IHN0eWxlQXR0cmlidXRlc1trZXldOwogIH0KICByZXR1cm4gZWxlbWVudDsKfQoKLy8gTWF4IG51bWJlciBvZiBieXRlcyB3aGljaCB3aWxsIGJlIHVwbG9hZGVkIGF0IGEgdGltZS4KY29uc3QgTUFYX1BBWUxPQURfU0laRSA9IDEwMCAqIDEwMjQ7Ci8vIE1heCBhbW91bnQgb2YgdGltZSB0byBibG9jayB3YWl0aW5nIGZvciB0aGUgdXNlci4KY29uc3QgRklMRV9DSEFOR0VfVElNRU9VVF9NUyA9IDMwICogMTAwMDsKCmZ1bmN0aW9uIF91cGxvYWRGaWxlcyhpbnB1dElkLCBvdXRwdXRJZCkgewogIGNvbnN0IHN0ZXBzID0gdXBsb2FkRmlsZXNTdGVwKGlucHV0SWQsIG91dHB1dElkKTsKICBjb25zdCBvdXRwdXRFbGVtZW50ID0gZG9jdW1lbnQuZ2V0RWxlbWVudEJ5SWQob3V0cHV0SWQpOwogIC8vIENhY2hlIHN0ZXBzIG9uIHRoZSBvdXRwdXRFbGVtZW50IHRvIG1ha2UgaXQgYXZhaWxhYmxlIGZvciB0aGUgbmV4dCBjYWxsCiAgLy8gdG8gdXBsb2FkRmlsZXNDb250aW51ZSBmcm9tIFB5dGhvbi4KICBvdXRwdXRFbGVtZW50LnN0ZXBzID0gc3RlcHM7CgogIHJldHVybiBfdXBsb2FkRmlsZXNDb250aW51ZShvdXRwdXRJZCk7Cn0KCi8vIFRoaXMgaXMgcm91Z2hseSBhbiBhc3luYyBnZW5lcmF0b3IgKG5vdCBzdXBwb3J0ZWQgaW4gdGhlIGJyb3dzZXIgeWV0KSwKLy8gd2hlcmUgdGhlcmUgYXJlIG11bHRpcGxlIGFzeW5jaHJvbm91cyBzdGVwcyBhbmQgdGhlIFB5dGhvbiBzaWRlIGlzIGdvaW5nCi8vIHRvIHBvbGwgZm9yIGNvbXBsZXRpb24gb2YgZWFjaCBzdGVwLgovLyBUaGlzIHVzZXMgYSBQcm9taXNlIHRvIGJsb2NrIHRoZSBweXRob24gc2lkZSBvbiBjb21wbGV0aW9uIG9mIGVhY2ggc3RlcCwKLy8gdGhlbiBwYXNzZXMgdGhlIHJlc3VsdCBvZiB0aGUgcHJldmlvdXMgc3RlcCBhcyB0aGUgaW5wdXQgdG8gdGhlIG5leHQgc3RlcC4KZnVuY3Rpb24gX3VwbG9hZEZpbGVzQ29udGludWUob3V0cHV0SWQpIHsKICBjb25zdCBvdXRwdXRFbGVtZW50ID0gZG9jdW1lbnQuZ2V0RWxlbWVudEJ5SWQob3V0cHV0SWQpOwogIGNvbnN0IHN0ZXBzID0gb3V0cHV0RWxlbWVudC5zdGVwczsKCiAgY29uc3QgbmV4dCA9IHN0ZXBzLm5leHQob3V0cHV0RWxlbWVudC5sYXN0UHJvbWlzZVZhbHVlKTsKICByZXR1cm4gUHJvbWlzZS5yZXNvbHZlKG5leHQudmFsdWUucHJvbWlzZSkudGhlbigodmFsdWUpID0+IHsKICAgIC8vIENhY2hlIHRoZSBsYXN0IHByb21pc2UgdmFsdWUgdG8gbWFrZSBpdCBhdmFpbGFibGUgdG8gdGhlIG5leHQKICAgIC8vIHN0ZXAgb2YgdGhlIGdlbmVyYXRvci4KICAgIG91dHB1dEVsZW1lbnQubGFzdFByb21pc2VWYWx1ZSA9IHZhbHVlOwogICAgcmV0dXJuIG5leHQudmFsdWUucmVzcG9uc2U7CiAgfSk7Cn0KCi8qKgogKiBHZW5lcmF0b3IgZnVuY3Rpb24gd2hpY2ggaXMgY2FsbGVkIGJldHdlZW4gZWFjaCBhc3luYyBzdGVwIG9mIHRoZSB1cGxvYWQKICogcHJvY2Vzcy4KICogQHBhcmFtIHtzdHJpbmd9IGlucHV0SWQgRWxlbWVudCBJRCBvZiB0aGUgaW5wdXQgZmlsZSBwaWNrZXIgZWxlbWVudC4KICogQHBhcmFtIHtzdHJpbmd9IG91dHB1dElkIEVsZW1lbnQgSUQgb2YgdGhlIG91dHB1dCBkaXNwbGF5LgogKiBAcmV0dXJuIHshSXRlcmFibGU8IU9iamVjdD59IEl0ZXJhYmxlIG9mIG5leHQgc3RlcHMuCiAqLwpmdW5jdGlvbiogdXBsb2FkRmlsZXNTdGVwKGlucHV0SWQsIG91dHB1dElkKSB7CiAgY29uc3QgaW5wdXRFbGVtZW50ID0gZG9jdW1lbnQuZ2V0RWxlbWVudEJ5SWQoaW5wdXRJZCk7CiAgaW5wdXRFbGVtZW50LmRpc2FibGVkID0gZmFsc2U7CgogIGNvbnN0IG91dHB1dEVsZW1lbnQgPSBkb2N1bWVudC5nZXRFbGVtZW50QnlJZChvdXRwdXRJZCk7CiAgb3V0cHV0RWxlbWVudC5pbm5lckhUTUwgPSAnJzsKCiAgY29uc3QgcGlja2VkUHJvbWlzZSA9IG5ldyBQcm9taXNlKChyZXNvbHZlKSA9PiB7CiAgICBpbnB1dEVsZW1lbnQuYWRkRXZlbnRMaXN0ZW5lcignY2hhbmdlJywgKGUpID0+IHsKICAgICAgcmVzb2x2ZShlLnRhcmdldC5maWxlcyk7CiAgICB9KTsKICB9KTsKCiAgY29uc3QgY2FuY2VsID0gZG9jdW1lbnQuY3JlYXRlRWxlbWVudCgnYnV0dG9uJyk7CiAgaW5wdXRFbGVtZW50LnBhcmVudEVsZW1lbnQuYXBwZW5kQ2hpbGQoY2FuY2VsKTsKICBjYW5jZWwudGV4dENvbnRlbnQgPSAnQ2FuY2VsIHVwbG9hZCc7CiAgY29uc3QgY2FuY2VsUHJvbWlzZSA9IG5ldyBQcm9taXNlKChyZXNvbHZlKSA9PiB7CiAgICBjYW5jZWwub25jbGljayA9ICgpID0+IHsKICAgICAgcmVzb2x2ZShudWxsKTsKICAgIH07CiAgfSk7CgogIC8vIENhbmNlbCB1cGxvYWQgaWYgdXNlciBoYXNuJ3QgcGlja2VkIGFueXRoaW5nIGluIHRpbWVvdXQuCiAgY29uc3QgdGltZW91dFByb21pc2UgPSBuZXcgUHJvbWlzZSgocmVzb2x2ZSkgPT4gewogICAgc2V0VGltZW91dCgoKSA9PiB7CiAgICAgIHJlc29sdmUobnVsbCk7CiAgICB9LCBGSUxFX0NIQU5HRV9USU1FT1VUX01TKTsKICB9KTsKCiAgLy8gV2FpdCBmb3IgdGhlIHVzZXIgdG8gcGljayB0aGUgZmlsZXMuCiAgY29uc3QgZmlsZXMgPSB5aWVsZCB7CiAgICBwcm9taXNlOiBQcm9taXNlLnJhY2UoW3BpY2tlZFByb21pc2UsIHRpbWVvdXRQcm9taXNlLCBjYW5jZWxQcm9taXNlXSksCiAgICByZXNwb25zZTogewogICAgICBhY3Rpb246ICdzdGFydGluZycsCiAgICB9CiAgfTsKCiAgaWYgKCFmaWxlcykgewogICAgcmV0dXJuIHsKICAgICAgcmVzcG9uc2U6IHsKICAgICAgICBhY3Rpb246ICdjb21wbGV0ZScsCiAgICAgIH0KICAgIH07CiAgfQoKICBjYW5jZWwucmVtb3ZlKCk7CgogIC8vIERpc2FibGUgdGhlIGlucHV0IGVsZW1lbnQgc2luY2UgZnVydGhlciBwaWNrcyBhcmUgbm90IGFsbG93ZWQuCiAgaW5wdXRFbGVtZW50LmRpc2FibGVkID0gdHJ1ZTsKCiAgZm9yIChjb25zdCBmaWxlIG9mIGZpbGVzKSB7CiAgICBjb25zdCBsaSA9IGRvY3VtZW50LmNyZWF0ZUVsZW1lbnQoJ2xpJyk7CiAgICBsaS5hcHBlbmQoc3BhbihmaWxlLm5hbWUsIHtmb250V2VpZ2h0OiAnYm9sZCd9KSk7CiAgICBsaS5hcHBlbmQoc3BhbigKICAgICAgICBgKCR7ZmlsZS50eXBlIHx8ICduL2EnfSkgLSAke2ZpbGUuc2l6ZX0gYnl0ZXMsIGAgKwogICAgICAgIGBsYXN0IG1vZGlmaWVkOiAkewogICAgICAgICAgICBmaWxlLmxhc3RNb2RpZmllZERhdGUgPyBmaWxlLmxhc3RNb2RpZmllZERhdGUudG9Mb2NhbGVEYXRlU3RyaW5nKCkgOgogICAgICAgICAgICAgICAgICAgICAgICAgICAgICAgICAgICAnbi9hJ30gLSBgKSk7CiAgICBjb25zdCBwZXJjZW50ID0gc3BhbignMCUgZG9uZScpOwogICAgbGkuYXBwZW5kQ2hpbGQocGVyY2VudCk7CgogICAgb3V0cHV0RWxlbWVudC5hcHBlbmRDaGlsZChsaSk7CgogICAgY29uc3QgZmlsZURhdGFQcm9taXNlID0gbmV3IFByb21pc2UoKHJlc29sdmUpID0+IHsKICAgICAgY29uc3QgcmVhZGVyID0gbmV3IEZpbGVSZWFkZXIoKTsKICAgICAgcmVhZGVyLm9ubG9hZCA9IChlKSA9PiB7CiAgICAgICAgcmVzb2x2ZShlLnRhcmdldC5yZXN1bHQpOwogICAgICB9OwogICAgICByZWFkZXIucmVhZEFzQXJyYXlCdWZmZXIoZmlsZSk7CiAgICB9KTsKICAgIC8vIFdhaXQgZm9yIHRoZSBkYXRhIHRvIGJlIHJlYWR5LgogICAgbGV0IGZpbGVEYXRhID0geWllbGQgewogICAgICBwcm9taXNlOiBmaWxlRGF0YVByb21pc2UsCiAgICAgIHJlc3BvbnNlOiB7CiAgICAgICAgYWN0aW9uOiAnY29udGludWUnLAogICAgICB9CiAgICB9OwoKICAgIC8vIFVzZSBhIGNodW5rZWQgc2VuZGluZyB0byBhdm9pZCBtZXNzYWdlIHNpemUgbGltaXRzLiBTZWUgYi82MjExNTY2MC4KICAgIGxldCBwb3NpdGlvbiA9IDA7CiAgICB3aGlsZSAocG9zaXRpb24gPCBmaWxlRGF0YS5ieXRlTGVuZ3RoKSB7CiAgICAgIGNvbnN0IGxlbmd0aCA9IE1hdGgubWluKGZpbGVEYXRhLmJ5dGVMZW5ndGggLSBwb3NpdGlvbiwgTUFYX1BBWUxPQURfU0laRSk7CiAgICAgIGNvbnN0IGNodW5rID0gbmV3IFVpbnQ4QXJyYXkoZmlsZURhdGEsIHBvc2l0aW9uLCBsZW5ndGgpOwogICAgICBwb3NpdGlvbiArPSBsZW5ndGg7CgogICAgICBjb25zdCBiYXNlNjQgPSBidG9hKFN0cmluZy5mcm9tQ2hhckNvZGUuYXBwbHkobnVsbCwgY2h1bmspKTsKICAgICAgeWllbGQgewogICAgICAgIHJlc3BvbnNlOiB7CiAgICAgICAgICBhY3Rpb246ICdhcHBlbmQnLAogICAgICAgICAgZmlsZTogZmlsZS5uYW1lLAogICAgICAgICAgZGF0YTogYmFzZTY0LAogICAgICAgIH0sCiAgICAgIH07CiAgICAgIHBlcmNlbnQudGV4dENvbnRlbnQgPQogICAgICAgICAgYCR7TWF0aC5yb3VuZCgocG9zaXRpb24gLyBmaWxlRGF0YS5ieXRlTGVuZ3RoKSAqIDEwMCl9JSBkb25lYDsKICAgIH0KICB9CgogIC8vIEFsbCBkb25lLgogIHlpZWxkIHsKICAgIHJlc3BvbnNlOiB7CiAgICAgIGFjdGlvbjogJ2NvbXBsZXRlJywKICAgIH0KICB9Owp9CgpzY29wZS5nb29nbGUgPSBzY29wZS5nb29nbGUgfHwge307CnNjb3BlLmdvb2dsZS5jb2xhYiA9IHNjb3BlLmdvb2dsZS5jb2xhYiB8fCB7fTsKc2NvcGUuZ29vZ2xlLmNvbGFiLl9maWxlcyA9IHsKICBfdXBsb2FkRmlsZXMsCiAgX3VwbG9hZEZpbGVzQ29udGludWUsCn07Cn0pKHNlbGYpOwo=",
              "ok": true,
              "headers": [
                [
                  "content-type",
                  "application/javascript"
                ]
              ],
              "status": 200,
              "status_text": ""
            }
          },
          "base_uri": "https://localhost:8080/",
          "height": 74
        },
        "outputId": "b12c0bf2-9e71-451a-f7cf-24de05e5e255"
      },
      "source": [
        "from google.colab import files\n",
        "uploaded = files.upload()"
      ],
      "execution_count": 2,
      "outputs": [
        {
          "output_type": "display_data",
          "data": {
            "text/html": [
              "\n",
              "     <input type=\"file\" id=\"files-d6cd4b06-0304-43a4-9136-c3a55761727a\" name=\"files[]\" multiple disabled />\n",
              "     <output id=\"result-d6cd4b06-0304-43a4-9136-c3a55761727a\">\n",
              "      Upload widget is only available when the cell has been executed in the\n",
              "      current browser session. Please rerun this cell to enable.\n",
              "      </output>\n",
              "      <script src=\"/nbextensions/google.colab/files.js\"></script> "
            ],
            "text/plain": [
              "<IPython.core.display.HTML object>"
            ]
          },
          "metadata": {
            "tags": []
          }
        },
        {
          "output_type": "stream",
          "text": [
            "Saving Boston.csv to Boston.csv\n"
          ],
          "name": "stdout"
        }
      ]
    },
    {
      "cell_type": "code",
      "metadata": {
        "id": "5xD50jptvHLu",
        "colab_type": "code",
        "colab": {
          "base_uri": "https://localhost:8080/",
          "height": 204
        },
        "outputId": "83de05fb-e3a0-4f6b-9c21-85fa6d6bba87"
      },
      "source": [
        "import io\n",
        "df = pd.read_csv(io.BytesIO(uploaded['Boston.csv']))\n",
        "df.head()"
      ],
      "execution_count": 381,
      "outputs": [
        {
          "output_type": "execute_result",
          "data": {
            "text/html": [
              "<div>\n",
              "<style scoped>\n",
              "    .dataframe tbody tr th:only-of-type {\n",
              "        vertical-align: middle;\n",
              "    }\n",
              "\n",
              "    .dataframe tbody tr th {\n",
              "        vertical-align: top;\n",
              "    }\n",
              "\n",
              "    .dataframe thead th {\n",
              "        text-align: right;\n",
              "    }\n",
              "</style>\n",
              "<table border=\"1\" class=\"dataframe\">\n",
              "  <thead>\n",
              "    <tr style=\"text-align: right;\">\n",
              "      <th></th>\n",
              "      <th>Unnamed: 0</th>\n",
              "      <th>crim</th>\n",
              "      <th>zn</th>\n",
              "      <th>indus</th>\n",
              "      <th>chas</th>\n",
              "      <th>nox</th>\n",
              "      <th>rm</th>\n",
              "      <th>age</th>\n",
              "      <th>dis</th>\n",
              "      <th>rad</th>\n",
              "      <th>tax</th>\n",
              "      <th>ptratio</th>\n",
              "      <th>black</th>\n",
              "      <th>lstat</th>\n",
              "      <th>medv</th>\n",
              "    </tr>\n",
              "  </thead>\n",
              "  <tbody>\n",
              "    <tr>\n",
              "      <th>0</th>\n",
              "      <td>1</td>\n",
              "      <td>0.00632</td>\n",
              "      <td>18.0</td>\n",
              "      <td>2.31</td>\n",
              "      <td>0</td>\n",
              "      <td>0.538</td>\n",
              "      <td>6.575</td>\n",
              "      <td>65.2</td>\n",
              "      <td>4.0900</td>\n",
              "      <td>1</td>\n",
              "      <td>296</td>\n",
              "      <td>15.3</td>\n",
              "      <td>396.90</td>\n",
              "      <td>4.98</td>\n",
              "      <td>24.0</td>\n",
              "    </tr>\n",
              "    <tr>\n",
              "      <th>1</th>\n",
              "      <td>2</td>\n",
              "      <td>0.02731</td>\n",
              "      <td>0.0</td>\n",
              "      <td>7.07</td>\n",
              "      <td>0</td>\n",
              "      <td>0.469</td>\n",
              "      <td>6.421</td>\n",
              "      <td>78.9</td>\n",
              "      <td>4.9671</td>\n",
              "      <td>2</td>\n",
              "      <td>242</td>\n",
              "      <td>17.8</td>\n",
              "      <td>396.90</td>\n",
              "      <td>9.14</td>\n",
              "      <td>21.6</td>\n",
              "    </tr>\n",
              "    <tr>\n",
              "      <th>2</th>\n",
              "      <td>3</td>\n",
              "      <td>0.02729</td>\n",
              "      <td>0.0</td>\n",
              "      <td>7.07</td>\n",
              "      <td>0</td>\n",
              "      <td>0.469</td>\n",
              "      <td>7.185</td>\n",
              "      <td>61.1</td>\n",
              "      <td>4.9671</td>\n",
              "      <td>2</td>\n",
              "      <td>242</td>\n",
              "      <td>17.8</td>\n",
              "      <td>392.83</td>\n",
              "      <td>4.03</td>\n",
              "      <td>34.7</td>\n",
              "    </tr>\n",
              "    <tr>\n",
              "      <th>3</th>\n",
              "      <td>4</td>\n",
              "      <td>0.03237</td>\n",
              "      <td>0.0</td>\n",
              "      <td>2.18</td>\n",
              "      <td>0</td>\n",
              "      <td>0.458</td>\n",
              "      <td>6.998</td>\n",
              "      <td>45.8</td>\n",
              "      <td>6.0622</td>\n",
              "      <td>3</td>\n",
              "      <td>222</td>\n",
              "      <td>18.7</td>\n",
              "      <td>394.63</td>\n",
              "      <td>2.94</td>\n",
              "      <td>33.4</td>\n",
              "    </tr>\n",
              "    <tr>\n",
              "      <th>4</th>\n",
              "      <td>5</td>\n",
              "      <td>0.06905</td>\n",
              "      <td>0.0</td>\n",
              "      <td>2.18</td>\n",
              "      <td>0</td>\n",
              "      <td>0.458</td>\n",
              "      <td>7.147</td>\n",
              "      <td>54.2</td>\n",
              "      <td>6.0622</td>\n",
              "      <td>3</td>\n",
              "      <td>222</td>\n",
              "      <td>18.7</td>\n",
              "      <td>396.90</td>\n",
              "      <td>5.33</td>\n",
              "      <td>36.2</td>\n",
              "    </tr>\n",
              "  </tbody>\n",
              "</table>\n",
              "</div>"
            ],
            "text/plain": [
              "   Unnamed: 0     crim    zn  indus  chas  ...  tax  ptratio   black  lstat  medv\n",
              "0           1  0.00632  18.0   2.31     0  ...  296     15.3  396.90   4.98  24.0\n",
              "1           2  0.02731   0.0   7.07     0  ...  242     17.8  396.90   9.14  21.6\n",
              "2           3  0.02729   0.0   7.07     0  ...  242     17.8  392.83   4.03  34.7\n",
              "3           4  0.03237   0.0   2.18     0  ...  222     18.7  394.63   2.94  33.4\n",
              "4           5  0.06905   0.0   2.18     0  ...  222     18.7  396.90   5.33  36.2\n",
              "\n",
              "[5 rows x 15 columns]"
            ]
          },
          "metadata": {
            "tags": []
          },
          "execution_count": 381
        }
      ]
    },
    {
      "cell_type": "code",
      "metadata": {
        "id": "3ry6rNLdvMbj",
        "colab_type": "code",
        "colab": {
          "base_uri": "https://localhost:8080/",
          "height": 391
        },
        "outputId": "a5c05ae0-823b-4a9d-8028-38c84c6b92bf"
      },
      "source": [
        "df.info()"
      ],
      "execution_count": 185,
      "outputs": [
        {
          "output_type": "stream",
          "text": [
            "<class 'pandas.core.frame.DataFrame'>\n",
            "RangeIndex: 506 entries, 0 to 505\n",
            "Data columns (total 15 columns):\n",
            " #   Column      Non-Null Count  Dtype  \n",
            "---  ------      --------------  -----  \n",
            " 0   Unnamed: 0  506 non-null    int64  \n",
            " 1   crim        506 non-null    float64\n",
            " 2   zn          506 non-null    float64\n",
            " 3   indus       506 non-null    float64\n",
            " 4   chas        506 non-null    int64  \n",
            " 5   nox         506 non-null    float64\n",
            " 6   rm          506 non-null    float64\n",
            " 7   age         506 non-null    float64\n",
            " 8   dis         506 non-null    float64\n",
            " 9   rad         506 non-null    int64  \n",
            " 10  tax         506 non-null    int64  \n",
            " 11  ptratio     506 non-null    float64\n",
            " 12  black       506 non-null    float64\n",
            " 13  lstat       506 non-null    float64\n",
            " 14  medv        506 non-null    float64\n",
            "dtypes: float64(11), int64(4)\n",
            "memory usage: 59.4 KB\n"
          ],
          "name": "stdout"
        }
      ]
    },
    {
      "cell_type": "code",
      "metadata": {
        "id": "l3Wi1lnhvnB5",
        "colab_type": "code",
        "colab": {
          "base_uri": "https://localhost:8080/",
          "height": 514
        },
        "outputId": "504d3a75-3eb2-413e-a19d-fe78ad84a329"
      },
      "source": [
        "df.describe().transpose()"
      ],
      "execution_count": 186,
      "outputs": [
        {
          "output_type": "execute_result",
          "data": {
            "text/html": [
              "<div>\n",
              "<style scoped>\n",
              "    .dataframe tbody tr th:only-of-type {\n",
              "        vertical-align: middle;\n",
              "    }\n",
              "\n",
              "    .dataframe tbody tr th {\n",
              "        vertical-align: top;\n",
              "    }\n",
              "\n",
              "    .dataframe thead th {\n",
              "        text-align: right;\n",
              "    }\n",
              "</style>\n",
              "<table border=\"1\" class=\"dataframe\">\n",
              "  <thead>\n",
              "    <tr style=\"text-align: right;\">\n",
              "      <th></th>\n",
              "      <th>count</th>\n",
              "      <th>mean</th>\n",
              "      <th>std</th>\n",
              "      <th>min</th>\n",
              "      <th>25%</th>\n",
              "      <th>50%</th>\n",
              "      <th>75%</th>\n",
              "      <th>max</th>\n",
              "    </tr>\n",
              "  </thead>\n",
              "  <tbody>\n",
              "    <tr>\n",
              "      <th>Unnamed: 0</th>\n",
              "      <td>506.0</td>\n",
              "      <td>253.500000</td>\n",
              "      <td>146.213884</td>\n",
              "      <td>1.00000</td>\n",
              "      <td>127.250000</td>\n",
              "      <td>253.50000</td>\n",
              "      <td>379.750000</td>\n",
              "      <td>506.0000</td>\n",
              "    </tr>\n",
              "    <tr>\n",
              "      <th>crim</th>\n",
              "      <td>506.0</td>\n",
              "      <td>3.613524</td>\n",
              "      <td>8.601545</td>\n",
              "      <td>0.00632</td>\n",
              "      <td>0.082045</td>\n",
              "      <td>0.25651</td>\n",
              "      <td>3.677082</td>\n",
              "      <td>88.9762</td>\n",
              "    </tr>\n",
              "    <tr>\n",
              "      <th>zn</th>\n",
              "      <td>506.0</td>\n",
              "      <td>11.363636</td>\n",
              "      <td>23.322453</td>\n",
              "      <td>0.00000</td>\n",
              "      <td>0.000000</td>\n",
              "      <td>0.00000</td>\n",
              "      <td>12.500000</td>\n",
              "      <td>100.0000</td>\n",
              "    </tr>\n",
              "    <tr>\n",
              "      <th>indus</th>\n",
              "      <td>506.0</td>\n",
              "      <td>11.136779</td>\n",
              "      <td>6.860353</td>\n",
              "      <td>0.46000</td>\n",
              "      <td>5.190000</td>\n",
              "      <td>9.69000</td>\n",
              "      <td>18.100000</td>\n",
              "      <td>27.7400</td>\n",
              "    </tr>\n",
              "    <tr>\n",
              "      <th>chas</th>\n",
              "      <td>506.0</td>\n",
              "      <td>0.069170</td>\n",
              "      <td>0.253994</td>\n",
              "      <td>0.00000</td>\n",
              "      <td>0.000000</td>\n",
              "      <td>0.00000</td>\n",
              "      <td>0.000000</td>\n",
              "      <td>1.0000</td>\n",
              "    </tr>\n",
              "    <tr>\n",
              "      <th>nox</th>\n",
              "      <td>506.0</td>\n",
              "      <td>0.554695</td>\n",
              "      <td>0.115878</td>\n",
              "      <td>0.38500</td>\n",
              "      <td>0.449000</td>\n",
              "      <td>0.53800</td>\n",
              "      <td>0.624000</td>\n",
              "      <td>0.8710</td>\n",
              "    </tr>\n",
              "    <tr>\n",
              "      <th>rm</th>\n",
              "      <td>506.0</td>\n",
              "      <td>6.284634</td>\n",
              "      <td>0.702617</td>\n",
              "      <td>3.56100</td>\n",
              "      <td>5.885500</td>\n",
              "      <td>6.20850</td>\n",
              "      <td>6.623500</td>\n",
              "      <td>8.7800</td>\n",
              "    </tr>\n",
              "    <tr>\n",
              "      <th>age</th>\n",
              "      <td>506.0</td>\n",
              "      <td>68.574901</td>\n",
              "      <td>28.148861</td>\n",
              "      <td>2.90000</td>\n",
              "      <td>45.025000</td>\n",
              "      <td>77.50000</td>\n",
              "      <td>94.075000</td>\n",
              "      <td>100.0000</td>\n",
              "    </tr>\n",
              "    <tr>\n",
              "      <th>dis</th>\n",
              "      <td>506.0</td>\n",
              "      <td>3.795043</td>\n",
              "      <td>2.105710</td>\n",
              "      <td>1.12960</td>\n",
              "      <td>2.100175</td>\n",
              "      <td>3.20745</td>\n",
              "      <td>5.188425</td>\n",
              "      <td>12.1265</td>\n",
              "    </tr>\n",
              "    <tr>\n",
              "      <th>rad</th>\n",
              "      <td>506.0</td>\n",
              "      <td>9.549407</td>\n",
              "      <td>8.707259</td>\n",
              "      <td>1.00000</td>\n",
              "      <td>4.000000</td>\n",
              "      <td>5.00000</td>\n",
              "      <td>24.000000</td>\n",
              "      <td>24.0000</td>\n",
              "    </tr>\n",
              "    <tr>\n",
              "      <th>tax</th>\n",
              "      <td>506.0</td>\n",
              "      <td>408.237154</td>\n",
              "      <td>168.537116</td>\n",
              "      <td>187.00000</td>\n",
              "      <td>279.000000</td>\n",
              "      <td>330.00000</td>\n",
              "      <td>666.000000</td>\n",
              "      <td>711.0000</td>\n",
              "    </tr>\n",
              "    <tr>\n",
              "      <th>ptratio</th>\n",
              "      <td>506.0</td>\n",
              "      <td>18.455534</td>\n",
              "      <td>2.164946</td>\n",
              "      <td>12.60000</td>\n",
              "      <td>17.400000</td>\n",
              "      <td>19.05000</td>\n",
              "      <td>20.200000</td>\n",
              "      <td>22.0000</td>\n",
              "    </tr>\n",
              "    <tr>\n",
              "      <th>black</th>\n",
              "      <td>506.0</td>\n",
              "      <td>356.674032</td>\n",
              "      <td>91.294864</td>\n",
              "      <td>0.32000</td>\n",
              "      <td>375.377500</td>\n",
              "      <td>391.44000</td>\n",
              "      <td>396.225000</td>\n",
              "      <td>396.9000</td>\n",
              "    </tr>\n",
              "    <tr>\n",
              "      <th>lstat</th>\n",
              "      <td>506.0</td>\n",
              "      <td>12.653063</td>\n",
              "      <td>7.141062</td>\n",
              "      <td>1.73000</td>\n",
              "      <td>6.950000</td>\n",
              "      <td>11.36000</td>\n",
              "      <td>16.955000</td>\n",
              "      <td>37.9700</td>\n",
              "    </tr>\n",
              "    <tr>\n",
              "      <th>medv</th>\n",
              "      <td>506.0</td>\n",
              "      <td>22.532806</td>\n",
              "      <td>9.197104</td>\n",
              "      <td>5.00000</td>\n",
              "      <td>17.025000</td>\n",
              "      <td>21.20000</td>\n",
              "      <td>25.000000</td>\n",
              "      <td>50.0000</td>\n",
              "    </tr>\n",
              "  </tbody>\n",
              "</table>\n",
              "</div>"
            ],
            "text/plain": [
              "            count        mean         std  ...        50%         75%       max\n",
              "Unnamed: 0  506.0  253.500000  146.213884  ...  253.50000  379.750000  506.0000\n",
              "crim        506.0    3.613524    8.601545  ...    0.25651    3.677082   88.9762\n",
              "zn          506.0   11.363636   23.322453  ...    0.00000   12.500000  100.0000\n",
              "indus       506.0   11.136779    6.860353  ...    9.69000   18.100000   27.7400\n",
              "chas        506.0    0.069170    0.253994  ...    0.00000    0.000000    1.0000\n",
              "nox         506.0    0.554695    0.115878  ...    0.53800    0.624000    0.8710\n",
              "rm          506.0    6.284634    0.702617  ...    6.20850    6.623500    8.7800\n",
              "age         506.0   68.574901   28.148861  ...   77.50000   94.075000  100.0000\n",
              "dis         506.0    3.795043    2.105710  ...    3.20745    5.188425   12.1265\n",
              "rad         506.0    9.549407    8.707259  ...    5.00000   24.000000   24.0000\n",
              "tax         506.0  408.237154  168.537116  ...  330.00000  666.000000  711.0000\n",
              "ptratio     506.0   18.455534    2.164946  ...   19.05000   20.200000   22.0000\n",
              "black       506.0  356.674032   91.294864  ...  391.44000  396.225000  396.9000\n",
              "lstat       506.0   12.653063    7.141062  ...   11.36000   16.955000   37.9700\n",
              "medv        506.0   22.532806    9.197104  ...   21.20000   25.000000   50.0000\n",
              "\n",
              "[15 rows x 8 columns]"
            ]
          },
          "metadata": {
            "tags": []
          },
          "execution_count": 186
        }
      ]
    },
    {
      "cell_type": "code",
      "metadata": {
        "id": "V9Qd5UJ0telp",
        "colab_type": "code",
        "colab": {
          "base_uri": "https://localhost:8080/",
          "height": 514
        },
        "outputId": "85aac690-8ca5-4c23-92a1-73eab6733aaa"
      },
      "source": [
        "plt.figure(figsize=(14,8))\n",
        "sns.scatterplot(x='rm',y='medv',data=df)"
      ],
      "execution_count": 387,
      "outputs": [
        {
          "output_type": "execute_result",
          "data": {
            "text/plain": [
              "<matplotlib.axes._subplots.AxesSubplot at 0x7fa58768c588>"
            ]
          },
          "metadata": {
            "tags": []
          },
          "execution_count": 387
        },
        {
          "output_type": "display_data",
          "data": {
            "image/png": "[encoded data removed]",
            "text/plain": [
              "<Figure size 1008x576 with 1 Axes>"
            ]
          },
          "metadata": {
            "tags": [],
            "needs_background": "light"
          }
        }
      ]
    },
    {
      "cell_type": "code",
      "metadata": {
        "id": "syo_6nl2xCNI",
        "colab_type": "code",
        "colab": {}
      },
      "source": [
        "df=df.drop('Unnamed: 0',axis=1)"
      ],
      "execution_count": 0,
      "outputs": []
    },
    {
      "cell_type": "code",
      "metadata": {
        "id": "ut2bhJCOxIGU",
        "colab_type": "code",
        "colab": {
          "base_uri": "https://localhost:8080/",
          "height": 204
        },
        "outputId": "e0aafe52-8faa-4a1a-ed4b-e497a1dad417"
      },
      "source": [
        "df.head()"
      ],
      "execution_count": 188,
      "outputs": [
        {
          "output_type": "execute_result",
          "data": {
            "text/html": [
              "<div>\n",
              "<style scoped>\n",
              "    .dataframe tbody tr th:only-of-type {\n",
              "        vertical-align: middle;\n",
              "    }\n",
              "\n",
              "    .dataframe tbody tr th {\n",
              "        vertical-align: top;\n",
              "    }\n",
              "\n",
              "    .dataframe thead th {\n",
              "        text-align: right;\n",
              "    }\n",
              "</style>\n",
              "<table border=\"1\" class=\"dataframe\">\n",
              "  <thead>\n",
              "    <tr style=\"text-align: right;\">\n",
              "      <th></th>\n",
              "      <th>crim</th>\n",
              "      <th>zn</th>\n",
              "      <th>indus</th>\n",
              "      <th>chas</th>\n",
              "      <th>nox</th>\n",
              "      <th>rm</th>\n",
              "      <th>age</th>\n",
              "      <th>dis</th>\n",
              "      <th>rad</th>\n",
              "      <th>tax</th>\n",
              "      <th>ptratio</th>\n",
              "      <th>black</th>\n",
              "      <th>lstat</th>\n",
              "      <th>medv</th>\n",
              "    </tr>\n",
              "  </thead>\n",
              "  <tbody>\n",
              "    <tr>\n",
              "      <th>0</th>\n",
              "      <td>0.00632</td>\n",
              "      <td>18.0</td>\n",
              "      <td>2.31</td>\n",
              "      <td>0</td>\n",
              "      <td>0.538</td>\n",
              "      <td>6.575</td>\n",
              "      <td>65.2</td>\n",
              "      <td>4.0900</td>\n",
              "      <td>1</td>\n",
              "      <td>296</td>\n",
              "      <td>15.3</td>\n",
              "      <td>396.90</td>\n",
              "      <td>4.98</td>\n",
              "      <td>24.0</td>\n",
              "    </tr>\n",
              "    <tr>\n",
              "      <th>1</th>\n",
              "      <td>0.02731</td>\n",
              "      <td>0.0</td>\n",
              "      <td>7.07</td>\n",
              "      <td>0</td>\n",
              "      <td>0.469</td>\n",
              "      <td>6.421</td>\n",
              "      <td>78.9</td>\n",
              "      <td>4.9671</td>\n",
              "      <td>2</td>\n",
              "      <td>242</td>\n",
              "      <td>17.8</td>\n",
              "      <td>396.90</td>\n",
              "      <td>9.14</td>\n",
              "      <td>21.6</td>\n",
              "    </tr>\n",
              "    <tr>\n",
              "      <th>2</th>\n",
              "      <td>0.02729</td>\n",
              "      <td>0.0</td>\n",
              "      <td>7.07</td>\n",
              "      <td>0</td>\n",
              "      <td>0.469</td>\n",
              "      <td>7.185</td>\n",
              "      <td>61.1</td>\n",
              "      <td>4.9671</td>\n",
              "      <td>2</td>\n",
              "      <td>242</td>\n",
              "      <td>17.8</td>\n",
              "      <td>392.83</td>\n",
              "      <td>4.03</td>\n",
              "      <td>34.7</td>\n",
              "    </tr>\n",
              "    <tr>\n",
              "      <th>3</th>\n",
              "      <td>0.03237</td>\n",
              "      <td>0.0</td>\n",
              "      <td>2.18</td>\n",
              "      <td>0</td>\n",
              "      <td>0.458</td>\n",
              "      <td>6.998</td>\n",
              "      <td>45.8</td>\n",
              "      <td>6.0622</td>\n",
              "      <td>3</td>\n",
              "      <td>222</td>\n",
              "      <td>18.7</td>\n",
              "      <td>394.63</td>\n",
              "      <td>2.94</td>\n",
              "      <td>33.4</td>\n",
              "    </tr>\n",
              "    <tr>\n",
              "      <th>4</th>\n",
              "      <td>0.06905</td>\n",
              "      <td>0.0</td>\n",
              "      <td>2.18</td>\n",
              "      <td>0</td>\n",
              "      <td>0.458</td>\n",
              "      <td>7.147</td>\n",
              "      <td>54.2</td>\n",
              "      <td>6.0622</td>\n",
              "      <td>3</td>\n",
              "      <td>222</td>\n",
              "      <td>18.7</td>\n",
              "      <td>396.90</td>\n",
              "      <td>5.33</td>\n",
              "      <td>36.2</td>\n",
              "    </tr>\n",
              "  </tbody>\n",
              "</table>\n",
              "</div>"
            ],
            "text/plain": [
              "      crim    zn  indus  chas    nox  ...  tax  ptratio   black  lstat  medv\n",
              "0  0.00632  18.0   2.31     0  0.538  ...  296     15.3  396.90   4.98  24.0\n",
              "1  0.02731   0.0   7.07     0  0.469  ...  242     17.8  396.90   9.14  21.6\n",
              "2  0.02729   0.0   7.07     0  0.469  ...  242     17.8  392.83   4.03  34.7\n",
              "3  0.03237   0.0   2.18     0  0.458  ...  222     18.7  394.63   2.94  33.4\n",
              "4  0.06905   0.0   2.18     0  0.458  ...  222     18.7  396.90   5.33  36.2\n",
              "\n",
              "[5 rows x 14 columns]"
            ]
          },
          "metadata": {
            "tags": []
          },
          "execution_count": 188
        }
      ]
    },
    {
      "cell_type": "code",
      "metadata": {
        "id": "aUL1JxgYv_KF",
        "colab_type": "code",
        "colab": {
          "base_uri": "https://localhost:8080/",
          "height": 514
        },
        "outputId": "685f4452-c93c-482e-bdd7-86719b8699af"
      },
      "source": [
        "plt.figure(figsize=(14,8))\n",
        "sns.distplot(df['medv'],bins=50, kde=False,color='#1c869c')"
      ],
      "execution_count": 189,
      "outputs": [
        {
          "output_type": "execute_result",
          "data": {
            "text/plain": [
              "<matplotlib.axes._subplots.AxesSubplot at 0x7fa5d3f75390>"
            ]
          },
          "metadata": {
            "tags": []
          },
          "execution_count": 189
        },
        {
          "output_type": "display_data",
          "data": {
            "image/png": "[encoded data removed]",
            "text/plain": [
              "<Figure size 1008x576 with 1 Axes>"
            ]
          },
          "metadata": {
            "tags": [],
            "needs_background": "light"
          }
        }
      ]
    },
    {
      "cell_type": "code",
      "metadata": {
        "id": "Su2tJv5rwOG8",
        "colab_type": "code",
        "colab": {
          "base_uri": "https://localhost:8080/",
          "height": 600
        },
        "outputId": "ab236409-4662-4675-a4c9-4f401521e98e"
      },
      "source": [
        "correlation=df.corr()\n",
        "\n",
        "mask=np.zeros_like(df.corr())\n",
        "triangle_indices=np.triu_indices_from(mask)\n",
        "mask[triangle_indices]=True\n",
        "mask\n",
        "\n",
        "#Heat Map com matplotlib and seaborn\n",
        "plt.figure(figsize=(16,10))\n",
        "sns.heatmap(df.corr(), mask=mask, cmap=\"coolwarm\",annot=True, annot_kws={'size':14})\n",
        "plt.xticks(fontsize=14)\n",
        "plt.yticks(fontsize=12)\n",
        "plt.show()"
      ],
      "execution_count": 190,
      "outputs": [
        {
          "output_type": "display_data",
          "data": {
            "image/png": "[encoded data removed]",
            "text/plain": [
              "<Figure size 1152x720 with 2 Axes>"
            ]
          },
          "metadata": {
            "tags": [],
            "needs_background": "light"
          }
        }
      ]
    },
    {
      "cell_type": "code",
      "metadata": {
        "id": "WHaViJ2qxiPd",
        "colab_type": "code",
        "colab": {
          "base_uri": "https://localhost:8080/",
          "height": 523
        },
        "outputId": "bbf9e46c-2c0d-435f-8e4a-25f186e6d1b2"
      },
      "source": [
        "plt.figure(figsize=(14,8))\n",
        "df.corr()['medv'].sort_values().drop('medv').plot(kind='bar')"
      ],
      "execution_count": 191,
      "outputs": [
        {
          "output_type": "execute_result",
          "data": {
            "text/plain": [
              "<matplotlib.axes._subplots.AxesSubplot at 0x7fa5d3e60e48>"
            ]
          },
          "metadata": {
            "tags": []
          },
          "execution_count": 191
        },
        {
          "output_type": "display_data",
          "data": {
            "image/png": "[encoded data removed]",
            "text/plain": [
              "<Figure size 1008x576 with 1 Axes>"
            ]
          },
          "metadata": {
            "tags": [],
            "needs_background": "light"
          }
        }
      ]
    },
    {
      "cell_type": "code",
      "metadata": {
        "id": "tKkXdJy6wap0",
        "colab_type": "code",
        "colab": {
          "base_uri": "https://localhost:8080/",
          "height": 514
        },
        "outputId": "5898ebea-462a-428c-c6d9-04695ceef18c"
      },
      "source": [
        "plt.figure(figsize=(14,8))\n",
        "sns.boxplot(x='rad',y='medv',data=df)"
      ],
      "execution_count": 192,
      "outputs": [
        {
          "output_type": "execute_result",
          "data": {
            "text/plain": [
              "<matplotlib.axes._subplots.AxesSubplot at 0x7fa5d3c75e10>"
            ]
          },
          "metadata": {
            "tags": []
          },
          "execution_count": 192
        },
        {
          "output_type": "display_data",
          "data": {
            "image/png": "[encoded data removed]",
            "text/plain": [
              "<Figure size 1008x576 with 1 Axes>"
            ]
          },
          "metadata": {
            "tags": [],
            "needs_background": "light"
          }
        }
      ]
    },
    {
      "cell_type": "code",
      "metadata": {
        "id": "0-v4-uhtwpzY",
        "colab_type": "code",
        "colab": {
          "base_uri": "https://localhost:8080/",
          "height": 514
        },
        "outputId": "8545ec78-567b-42bb-ce04-0e2a9477334b"
      },
      "source": [
        "plt.figure(figsize=(14,8))\n",
        "sns.boxplot(x='zn',y='medv',data=df)"
      ],
      "execution_count": 193,
      "outputs": [
        {
          "output_type": "execute_result",
          "data": {
            "text/plain": [
              "<matplotlib.axes._subplots.AxesSubplot at 0x7fa5d3c4aa20>"
            ]
          },
          "metadata": {
            "tags": []
          },
          "execution_count": 193
        },
        {
          "output_type": "display_data",
          "data": {
            "image/png": "[encoded data removed]",
            "text/plain": [
              "<Figure size 1008x576 with 1 Axes>"
            ]
          },
          "metadata": {
            "tags": [],
            "needs_background": "light"
          }
        }
      ]
    },
    {
      "cell_type": "markdown",
      "metadata": {
        "id": "4VPdUA0ux4GS",
        "colab_type": "text"
      },
      "source": [
        "# Multivariate Linear Regression"
      ]
    },
    {
      "cell_type": "code",
      "metadata": {
        "id": "h5eC2IFkx3UU",
        "colab_type": "code",
        "colab": {}
      },
      "source": [
        "X = df.iloc[:, :-1].values\n",
        "y = df.iloc[:, -1].values"
      ],
      "execution_count": 0,
      "outputs": []
    },
    {
      "cell_type": "code",
      "metadata": {
        "id": "upFQ_OkOxbnI",
        "colab_type": "code",
        "colab": {
          "base_uri": "https://localhost:8080/",
          "height": 136
        },
        "outputId": "c5c3dc68-01da-433b-c873-455ad2d8e59b"
      },
      "source": [
        "X"
      ],
      "execution_count": 366,
      "outputs": [
        {
          "output_type": "execute_result",
          "data": {
            "text/plain": [
              "array([[1.0e+00, 6.3e-03, 1.8e+01, ..., 1.5e+01, 4.0e+02, 5.0e+00],\n",
              "       [2.0e+00, 2.7e-02, 0.0e+00, ..., 1.8e+01, 4.0e+02, 9.1e+00],\n",
              "       [3.0e+00, 2.7e-02, 0.0e+00, ..., 1.8e+01, 3.9e+02, 4.0e+00],\n",
              "       ...,\n",
              "       [5.0e+02, 6.1e-02, 0.0e+00, ..., 2.1e+01, 4.0e+02, 5.6e+00],\n",
              "       [5.0e+02, 1.1e-01, 0.0e+00, ..., 2.1e+01, 3.9e+02, 6.5e+00],\n",
              "       [5.1e+02, 4.7e-02, 0.0e+00, ..., 2.1e+01, 4.0e+02, 7.9e+00]])"
            ]
          },
          "metadata": {
            "tags": []
          },
          "execution_count": 366
        }
      ]
    },
    {
      "cell_type": "markdown",
      "metadata": {
        "id": "7TPwkfZjypc5",
        "colab_type": "text"
      },
      "source": [
        "# Scale Features"
      ]
    },
    {
      "cell_type": "code",
      "metadata": {
        "id": "GKb98mVgyPVS",
        "colab_type": "code",
        "colab": {}
      },
      "source": [
        "from sklearn.preprocessing import StandardScaler"
      ],
      "execution_count": 0,
      "outputs": []
    },
    {
      "cell_type": "code",
      "metadata": {
        "id": "rsZ9vFWoyreg",
        "colab_type": "code",
        "colab": {}
      },
      "source": [
        "sc=StandardScaler()\n",
        "X=sc.fit_transform(X)"
      ],
      "execution_count": 0,
      "outputs": []
    },
    {
      "cell_type": "markdown",
      "metadata": {
        "id": "WJAJUpIGyxpy",
        "colab_type": "text"
      },
      "source": [
        "# Create Model"
      ]
    },
    {
      "cell_type": "code",
      "metadata": {
        "id": "g_qD5-X4ytuC",
        "colab_type": "code",
        "colab": {}
      },
      "source": [
        "from sklearn.model_selection import train_test_split\n",
        "X_train, X_test, y_train, y_test = train_test_split(X, y, test_size = 0.2, random_state = 0)"
      ],
      "execution_count": 0,
      "outputs": []
    },
    {
      "cell_type": "markdown",
      "metadata": {
        "id": "WfiW7SDVy8v6",
        "colab_type": "text"
      },
      "source": [
        "# Fit Model"
      ]
    },
    {
      "cell_type": "code",
      "metadata": {
        "id": "w9TSHp9Ly1-f",
        "colab_type": "code",
        "colab": {
          "base_uri": "https://localhost:8080/",
          "height": 34
        },
        "outputId": "2c8e6249-8ae6-4602-9273-b26bef7fb444"
      },
      "source": [
        "from sklearn.linear_model import LinearRegression\n",
        "regressor = LinearRegression()\n",
        "regressor.fit(X_train, y_train)"
      ],
      "execution_count": 369,
      "outputs": [
        {
          "output_type": "execute_result",
          "data": {
            "text/plain": [
              "LinearRegression(copy_X=True, fit_intercept=True, n_jobs=None, normalize=False)"
            ]
          },
          "metadata": {
            "tags": []
          },
          "execution_count": 369
        }
      ]
    },
    {
      "cell_type": "code",
      "metadata": {
        "id": "L5CYpBMdzAeK",
        "colab_type": "code",
        "colab": {
          "base_uri": "https://localhost:8080/",
          "height": 1000
        },
        "outputId": "729c2d97-4c4d-46f2-f216-28f8248fc2f7"
      },
      "source": [
        "y_pred = regressor.predict(X_test)\n",
        "np.set_printoptions(precision=1)\n",
        "print(np.concatenate((y_pred.reshape(len(y_pred),1), y_test.reshape(len(y_test),1)),1))"
      ],
      "execution_count": 370,
      "outputs": [
        {
          "output_type": "stream",
          "text": [
            "[[24.7 22.6]\n",
            " [24.1 50. ]\n",
            " [27.3 23. ]\n",
            " [12.2  8.3]\n",
            " [21.7 21.2]\n",
            " [19.5 19.9]\n",
            " [20.6 20.6]\n",
            " [21.3 18.7]\n",
            " [18.8 16.1]\n",
            " [19.9 18.6]\n",
            " [ 4.7  8.8]\n",
            " [16.4 17.2]\n",
            " [17.3 14.9]\n",
            " [ 5.7 10.5]\n",
            " [38.2 50. ]\n",
            " [32.5 29. ]\n",
            " [22.6 23. ]\n",
            " [37.1 33.3]\n",
            " [31.1 29.4]\n",
            " [23.5 21. ]\n",
            " [24.7 23.8]\n",
            " [25.  19.1]\n",
            " [20.8 20.4]\n",
            " [30.5 29.1]\n",
            " [22.7 19.3]\n",
            " [10.2 23.1]\n",
            " [17.9 19.6]\n",
            " [18.6 19.4]\n",
            " [35.9 38.7]\n",
            " [21.2 18.7]\n",
            " [18.5 14.6]\n",
            " [18.  20. ]\n",
            " [19.9 20.5]\n",
            " [24.1 20.1]\n",
            " [29.3 23.6]\n",
            " [17.2 16.8]\n",
            " [11.3  5.6]\n",
            " [22.5 50. ]\n",
            " [17.6 14.5]\n",
            " [15.6 13.3]\n",
            " [26.3 23.9]\n",
            " [21.1 20. ]\n",
            " [22.1 19.8]\n",
            " [15.7 13.8]\n",
            " [22.7 16.5]\n",
            " [25.5 21.6]\n",
            " [20.1 20.3]\n",
            " [20.9 17. ]\n",
            " [10.3 11.8]\n",
            " [24.5 27.5]\n",
            " [18.8 15.6]\n",
            " [17.  23.1]\n",
            " [24.7 24.3]\n",
            " [30.1 42.8]\n",
            " [13.5 15.6]\n",
            " [22.1 21.7]\n",
            " [20.6 17.1]\n",
            " [15.1 17.2]\n",
            " [13.7 15. ]\n",
            " [20.  21.7]\n",
            " [17.3 18.6]\n",
            " [21.6 21. ]\n",
            " [33.1 33.1]\n",
            " [31.4 31.5]\n",
            " [17.8 20.1]\n",
            " [33.  29.8]\n",
            " [18.9 15.2]\n",
            " [20.2 15. ]\n",
            " [19.2 27.5]\n",
            " [23.  22.6]\n",
            " [23.2 20. ]\n",
            " [24.3 21.4]\n",
            " [31.  23.5]\n",
            " [28.8 31.2]\n",
            " [26.1 23.7]\n",
            " [ 5.3  7.4]\n",
            " [37.1 48.3]\n",
            " [23.9 24.4]\n",
            " [27.5 22.6]\n",
            " [19.  18.3]\n",
            " [28.8 23.3]\n",
            " [19.5 17.1]\n",
            " [19.2 27.9]\n",
            " [38.2 44.8]\n",
            " [39.7 50. ]\n",
            " [23.6 23. ]\n",
            " [25.1 21.4]\n",
            " [15.9 10.2]\n",
            " [26.5 23.3]\n",
            " [17.  23.2]\n",
            " [15.8 18.9]\n",
            " [13.2 13.4]\n",
            " [24.6 21.9]\n",
            " [31.3 24.8]\n",
            " [21.8 11.9]\n",
            " [20.2 24.3]\n",
            " [ 0.6 13.8]\n",
            " [25.6 24.7]\n",
            " [15.6 14.1]\n",
            " [18.2 18.7]\n",
            " [25.5 28.1]\n",
            " [22.6 19.8]]\n"
          ],
          "name": "stdout"
        }
      ]
    },
    {
      "cell_type": "code",
      "metadata": {
        "id": "lLiiBj4d20XL",
        "colab_type": "code",
        "colab": {
          "base_uri": "https://localhost:8080/",
          "height": 419
        },
        "outputId": "d864abc6-9ce8-419c-dc93-305faf8045c5"
      },
      "source": [
        "pd.DataFrame({'y_pred: ':y_pred, 'y_reeal: ':y_test})"
      ],
      "execution_count": 371,
      "outputs": [
        {
          "output_type": "execute_result",
          "data": {
            "text/html": [
              "<div>\n",
              "<style scoped>\n",
              "    .dataframe tbody tr th:only-of-type {\n",
              "        vertical-align: middle;\n",
              "    }\n",
              "\n",
              "    .dataframe tbody tr th {\n",
              "        vertical-align: top;\n",
              "    }\n",
              "\n",
              "    .dataframe thead th {\n",
              "        text-align: right;\n",
              "    }\n",
              "</style>\n",
              "<table border=\"1\" class=\"dataframe\">\n",
              "  <thead>\n",
              "    <tr style=\"text-align: right;\">\n",
              "      <th></th>\n",
              "      <th>y_pred:</th>\n",
              "      <th>y_reeal:</th>\n",
              "    </tr>\n",
              "  </thead>\n",
              "  <tbody>\n",
              "    <tr>\n",
              "      <th>0</th>\n",
              "      <td>24.675092</td>\n",
              "      <td>22.6</td>\n",
              "    </tr>\n",
              "    <tr>\n",
              "      <th>1</th>\n",
              "      <td>24.066201</td>\n",
              "      <td>50.0</td>\n",
              "    </tr>\n",
              "    <tr>\n",
              "      <th>2</th>\n",
              "      <td>27.331221</td>\n",
              "      <td>23.0</td>\n",
              "    </tr>\n",
              "    <tr>\n",
              "      <th>3</th>\n",
              "      <td>12.226360</td>\n",
              "      <td>8.3</td>\n",
              "    </tr>\n",
              "    <tr>\n",
              "      <th>4</th>\n",
              "      <td>21.699298</td>\n",
              "      <td>21.2</td>\n",
              "    </tr>\n",
              "    <tr>\n",
              "      <th>...</th>\n",
              "      <td>...</td>\n",
              "      <td>...</td>\n",
              "    </tr>\n",
              "    <tr>\n",
              "      <th>97</th>\n",
              "      <td>25.583103</td>\n",
              "      <td>24.7</td>\n",
              "    </tr>\n",
              "    <tr>\n",
              "      <th>98</th>\n",
              "      <td>15.597159</td>\n",
              "      <td>14.1</td>\n",
              "    </tr>\n",
              "    <tr>\n",
              "      <th>99</th>\n",
              "      <td>18.190181</td>\n",
              "      <td>18.7</td>\n",
              "    </tr>\n",
              "    <tr>\n",
              "      <th>100</th>\n",
              "      <td>25.469171</td>\n",
              "      <td>28.1</td>\n",
              "    </tr>\n",
              "    <tr>\n",
              "      <th>101</th>\n",
              "      <td>22.580354</td>\n",
              "      <td>19.8</td>\n",
              "    </tr>\n",
              "  </tbody>\n",
              "</table>\n",
              "<p>102 rows × 2 columns</p>\n",
              "</div>"
            ],
            "text/plain": [
              "      y_pred:   y_reeal: \n",
              "0    24.675092       22.6\n",
              "1    24.066201       50.0\n",
              "2    27.331221       23.0\n",
              "3    12.226360        8.3\n",
              "4    21.699298       21.2\n",
              "..         ...        ...\n",
              "97   25.583103       24.7\n",
              "98   15.597159       14.1\n",
              "99   18.190181       18.7\n",
              "100  25.469171       28.1\n",
              "101  22.580354       19.8\n",
              "\n",
              "[102 rows x 2 columns]"
            ]
          },
          "metadata": {
            "tags": []
          },
          "execution_count": 371
        }
      ]
    },
    {
      "cell_type": "markdown",
      "metadata": {
        "id": "qcMWmgnXjODJ",
        "colab_type": "text"
      },
      "source": [
        "# Evaluate"
      ]
    },
    {
      "cell_type": "code",
      "metadata": {
        "id": "vknlIivczc-q",
        "colab_type": "code",
        "colab": {
          "base_uri": "https://localhost:8080/",
          "height": 51
        },
        "outputId": "f61b2e6f-d497-49eb-800a-f4b7fd9e9fd8"
      },
      "source": [
        "# r_squared for trainning and test data\n",
        "print('Trainning data r_squared: ', regressor.score(X_train,y_train))\n",
        "print('Test data r_squared: ', regressor.score(X_test,y_test))"
      ],
      "execution_count": 372,
      "outputs": [
        {
          "output_type": "stream",
          "text": [
            "Trainning data r_squared:  0.7693101100640507\n",
            "Test data r_squared:  0.581902374475493\n"
          ],
          "name": "stdout"
        }
      ]
    },
    {
      "cell_type": "code",
      "metadata": {
        "id": "cSx1myRN2Qck",
        "colab_type": "code",
        "colab": {
          "base_uri": "https://localhost:8080/",
          "height": 390
        },
        "outputId": "af18175a-9346-4ce1-8a28-a889db291d8d"
      },
      "source": [
        "df.head(11)"
      ],
      "execution_count": 203,
      "outputs": [
        {
          "output_type": "execute_result",
          "data": {
            "text/html": [
              "<div>\n",
              "<style scoped>\n",
              "    .dataframe tbody tr th:only-of-type {\n",
              "        vertical-align: middle;\n",
              "    }\n",
              "\n",
              "    .dataframe tbody tr th {\n",
              "        vertical-align: top;\n",
              "    }\n",
              "\n",
              "    .dataframe thead th {\n",
              "        text-align: right;\n",
              "    }\n",
              "</style>\n",
              "<table border=\"1\" class=\"dataframe\">\n",
              "  <thead>\n",
              "    <tr style=\"text-align: right;\">\n",
              "      <th></th>\n",
              "      <th>crim</th>\n",
              "      <th>zn</th>\n",
              "      <th>indus</th>\n",
              "      <th>chas</th>\n",
              "      <th>nox</th>\n",
              "      <th>rm</th>\n",
              "      <th>age</th>\n",
              "      <th>dis</th>\n",
              "      <th>rad</th>\n",
              "      <th>tax</th>\n",
              "      <th>ptratio</th>\n",
              "      <th>black</th>\n",
              "      <th>lstat</th>\n",
              "      <th>medv</th>\n",
              "    </tr>\n",
              "  </thead>\n",
              "  <tbody>\n",
              "    <tr>\n",
              "      <th>0</th>\n",
              "      <td>0.00632</td>\n",
              "      <td>18.0</td>\n",
              "      <td>2.31</td>\n",
              "      <td>0</td>\n",
              "      <td>0.538</td>\n",
              "      <td>6.575</td>\n",
              "      <td>65.2</td>\n",
              "      <td>4.0900</td>\n",
              "      <td>1</td>\n",
              "      <td>296</td>\n",
              "      <td>15.3</td>\n",
              "      <td>396.90</td>\n",
              "      <td>4.98</td>\n",
              "      <td>24.0</td>\n",
              "    </tr>\n",
              "    <tr>\n",
              "      <th>1</th>\n",
              "      <td>0.02731</td>\n",
              "      <td>0.0</td>\n",
              "      <td>7.07</td>\n",
              "      <td>0</td>\n",
              "      <td>0.469</td>\n",
              "      <td>6.421</td>\n",
              "      <td>78.9</td>\n",
              "      <td>4.9671</td>\n",
              "      <td>2</td>\n",
              "      <td>242</td>\n",
              "      <td>17.8</td>\n",
              "      <td>396.90</td>\n",
              "      <td>9.14</td>\n",
              "      <td>21.6</td>\n",
              "    </tr>\n",
              "    <tr>\n",
              "      <th>2</th>\n",
              "      <td>0.02729</td>\n",
              "      <td>0.0</td>\n",
              "      <td>7.07</td>\n",
              "      <td>0</td>\n",
              "      <td>0.469</td>\n",
              "      <td>7.185</td>\n",
              "      <td>61.1</td>\n",
              "      <td>4.9671</td>\n",
              "      <td>2</td>\n",
              "      <td>242</td>\n",
              "      <td>17.8</td>\n",
              "      <td>392.83</td>\n",
              "      <td>4.03</td>\n",
              "      <td>34.7</td>\n",
              "    </tr>\n",
              "    <tr>\n",
              "      <th>3</th>\n",
              "      <td>0.03237</td>\n",
              "      <td>0.0</td>\n",
              "      <td>2.18</td>\n",
              "      <td>0</td>\n",
              "      <td>0.458</td>\n",
              "      <td>6.998</td>\n",
              "      <td>45.8</td>\n",
              "      <td>6.0622</td>\n",
              "      <td>3</td>\n",
              "      <td>222</td>\n",
              "      <td>18.7</td>\n",
              "      <td>394.63</td>\n",
              "      <td>2.94</td>\n",
              "      <td>33.4</td>\n",
              "    </tr>\n",
              "    <tr>\n",
              "      <th>4</th>\n",
              "      <td>0.06905</td>\n",
              "      <td>0.0</td>\n",
              "      <td>2.18</td>\n",
              "      <td>0</td>\n",
              "      <td>0.458</td>\n",
              "      <td>7.147</td>\n",
              "      <td>54.2</td>\n",
              "      <td>6.0622</td>\n",
              "      <td>3</td>\n",
              "      <td>222</td>\n",
              "      <td>18.7</td>\n",
              "      <td>396.90</td>\n",
              "      <td>5.33</td>\n",
              "      <td>36.2</td>\n",
              "    </tr>\n",
              "    <tr>\n",
              "      <th>5</th>\n",
              "      <td>0.02985</td>\n",
              "      <td>0.0</td>\n",
              "      <td>2.18</td>\n",
              "      <td>0</td>\n",
              "      <td>0.458</td>\n",
              "      <td>6.430</td>\n",
              "      <td>58.7</td>\n",
              "      <td>6.0622</td>\n",
              "      <td>3</td>\n",
              "      <td>222</td>\n",
              "      <td>18.7</td>\n",
              "      <td>394.12</td>\n",
              "      <td>5.21</td>\n",
              "      <td>28.7</td>\n",
              "    </tr>\n",
              "    <tr>\n",
              "      <th>6</th>\n",
              "      <td>0.08829</td>\n",
              "      <td>12.5</td>\n",
              "      <td>7.87</td>\n",
              "      <td>0</td>\n",
              "      <td>0.524</td>\n",
              "      <td>6.012</td>\n",
              "      <td>66.6</td>\n",
              "      <td>5.5605</td>\n",
              "      <td>5</td>\n",
              "      <td>311</td>\n",
              "      <td>15.2</td>\n",
              "      <td>395.60</td>\n",
              "      <td>12.43</td>\n",
              "      <td>22.9</td>\n",
              "    </tr>\n",
              "    <tr>\n",
              "      <th>7</th>\n",
              "      <td>0.14455</td>\n",
              "      <td>12.5</td>\n",
              "      <td>7.87</td>\n",
              "      <td>0</td>\n",
              "      <td>0.524</td>\n",
              "      <td>6.172</td>\n",
              "      <td>96.1</td>\n",
              "      <td>5.9505</td>\n",
              "      <td>5</td>\n",
              "      <td>311</td>\n",
              "      <td>15.2</td>\n",
              "      <td>396.90</td>\n",
              "      <td>19.15</td>\n",
              "      <td>27.1</td>\n",
              "    </tr>\n",
              "    <tr>\n",
              "      <th>8</th>\n",
              "      <td>0.21124</td>\n",
              "      <td>12.5</td>\n",
              "      <td>7.87</td>\n",
              "      <td>0</td>\n",
              "      <td>0.524</td>\n",
              "      <td>5.631</td>\n",
              "      <td>100.0</td>\n",
              "      <td>6.0821</td>\n",
              "      <td>5</td>\n",
              "      <td>311</td>\n",
              "      <td>15.2</td>\n",
              "      <td>386.63</td>\n",
              "      <td>29.93</td>\n",
              "      <td>16.5</td>\n",
              "    </tr>\n",
              "    <tr>\n",
              "      <th>9</th>\n",
              "      <td>0.17004</td>\n",
              "      <td>12.5</td>\n",
              "      <td>7.87</td>\n",
              "      <td>0</td>\n",
              "      <td>0.524</td>\n",
              "      <td>6.004</td>\n",
              "      <td>85.9</td>\n",
              "      <td>6.5921</td>\n",
              "      <td>5</td>\n",
              "      <td>311</td>\n",
              "      <td>15.2</td>\n",
              "      <td>386.71</td>\n",
              "      <td>17.10</td>\n",
              "      <td>18.9</td>\n",
              "    </tr>\n",
              "    <tr>\n",
              "      <th>10</th>\n",
              "      <td>0.22489</td>\n",
              "      <td>12.5</td>\n",
              "      <td>7.87</td>\n",
              "      <td>0</td>\n",
              "      <td>0.524</td>\n",
              "      <td>6.377</td>\n",
              "      <td>94.3</td>\n",
              "      <td>6.3467</td>\n",
              "      <td>5</td>\n",
              "      <td>311</td>\n",
              "      <td>15.2</td>\n",
              "      <td>392.52</td>\n",
              "      <td>20.45</td>\n",
              "      <td>15.0</td>\n",
              "    </tr>\n",
              "  </tbody>\n",
              "</table>\n",
              "</div>"
            ],
            "text/plain": [
              "       crim    zn  indus  chas    nox  ...  tax  ptratio   black  lstat  medv\n",
              "0   0.00632  18.0   2.31     0  0.538  ...  296     15.3  396.90   4.98  24.0\n",
              "1   0.02731   0.0   7.07     0  0.469  ...  242     17.8  396.90   9.14  21.6\n",
              "2   0.02729   0.0   7.07     0  0.469  ...  242     17.8  392.83   4.03  34.7\n",
              "3   0.03237   0.0   2.18     0  0.458  ...  222     18.7  394.63   2.94  33.4\n",
              "4   0.06905   0.0   2.18     0  0.458  ...  222     18.7  396.90   5.33  36.2\n",
              "5   0.02985   0.0   2.18     0  0.458  ...  222     18.7  394.12   5.21  28.7\n",
              "6   0.08829  12.5   7.87     0  0.524  ...  311     15.2  395.60  12.43  22.9\n",
              "7   0.14455  12.5   7.87     0  0.524  ...  311     15.2  396.90  19.15  27.1\n",
              "8   0.21124  12.5   7.87     0  0.524  ...  311     15.2  386.63  29.93  16.5\n",
              "9   0.17004  12.5   7.87     0  0.524  ...  311     15.2  386.71  17.10  18.9\n",
              "10  0.22489  12.5   7.87     0  0.524  ...  311     15.2  392.52  20.45  15.0\n",
              "\n",
              "[11 rows x 14 columns]"
            ]
          },
          "metadata": {
            "tags": []
          },
          "execution_count": 203
        }
      ]
    },
    {
      "cell_type": "code",
      "metadata": {
        "id": "I_uqAr2Z4LbM",
        "colab_type": "code",
        "colab": {
          "base_uri": "https://localhost:8080/",
          "height": 68
        },
        "outputId": "00d94e89-d46c-4561-dffb-d7bd15a82989"
      },
      "source": [
        "x_incl_const=sm.add_constant(X_train)\n",
        "model=sm.OLS(y_train,x_incl_const)\n",
        "results=model.fit()\n",
        "results.pvalues"
      ],
      "execution_count": 204,
      "outputs": [
        {
          "output_type": "execute_result",
          "data": {
            "text/plain": [
              "array([7.9e-281, 1.2e-003, 2.1e-003, 9.3e-001, 9.8e-003, 1.5e-004,\n",
              "       6.8e-015, 8.3e-001, 2.8e-010, 5.6e-004, 5.1e-003, 1.7e-013,\n",
              "       6.3e-003, 5.3e-018])"
            ]
          },
          "metadata": {
            "tags": []
          },
          "execution_count": 204
        }
      ]
    },
    {
      "cell_type": "code",
      "metadata": {
        "id": "82klAdPJmCHW",
        "colab_type": "code",
        "colab": {
          "base_uri": "https://localhost:8080/",
          "height": 68
        },
        "outputId": "a4864c08-ab62-4aae-b137-073b1436c7f6"
      },
      "source": [
        "df.columns"
      ],
      "execution_count": 348,
      "outputs": [
        {
          "output_type": "execute_result",
          "data": {
            "text/plain": [
              "Index(['crim', 'zn', 'indus', 'chas', 'nox', 'rm', 'age', 'dis', 'rad', 'tax',\n",
              "       'ptratio', 'black', 'lstat', 'medv'],\n",
              "      dtype='object')"
            ]
          },
          "metadata": {
            "tags": []
          },
          "execution_count": 348
        }
      ]
    },
    {
      "cell_type": "code",
      "metadata": {
        "id": "uMkPqtFWmJzx",
        "colab_type": "code",
        "colab": {}
      },
      "source": [
        "columns=['crim', 'zn', 'indus', 'chas', 'nox', 'rm', 'age', 'dis', 'rad', 'tax',\n",
        "       'ptratio', 'black', 'lstat', 'medv']"
      ],
      "execution_count": 0,
      "outputs": []
    },
    {
      "cell_type": "code",
      "metadata": {
        "id": "uyIH3awplWLm",
        "colab_type": "code",
        "colab": {
          "base_uri": "https://localhost:8080/",
          "height": 483
        },
        "outputId": "cdbb9704-a9de-42aa-9197-4953c540db65"
      },
      "source": [
        "pd.DataFrame({ 'columns: ':columns,'p-values: ':results.pvalues})"
      ],
      "execution_count": 360,
      "outputs": [
        {
          "output_type": "execute_result",
          "data": {
            "text/html": [
              "<div>\n",
              "<style scoped>\n",
              "    .dataframe tbody tr th:only-of-type {\n",
              "        vertical-align: middle;\n",
              "    }\n",
              "\n",
              "    .dataframe tbody tr th {\n",
              "        vertical-align: top;\n",
              "    }\n",
              "\n",
              "    .dataframe thead th {\n",
              "        text-align: right;\n",
              "    }\n",
              "</style>\n",
              "<table border=\"1\" class=\"dataframe\">\n",
              "  <thead>\n",
              "    <tr style=\"text-align: right;\">\n",
              "      <th></th>\n",
              "      <th>columns:</th>\n",
              "      <th>p-values:</th>\n",
              "    </tr>\n",
              "  </thead>\n",
              "  <tbody>\n",
              "    <tr>\n",
              "      <th>0</th>\n",
              "      <td>crim</td>\n",
              "      <td>7.880479e-281</td>\n",
              "    </tr>\n",
              "    <tr>\n",
              "      <th>1</th>\n",
              "      <td>zn</td>\n",
              "      <td>1.222501e-03</td>\n",
              "    </tr>\n",
              "    <tr>\n",
              "      <th>2</th>\n",
              "      <td>indus</td>\n",
              "      <td>2.060526e-03</td>\n",
              "    </tr>\n",
              "    <tr>\n",
              "      <th>3</th>\n",
              "      <td>chas</td>\n",
              "      <td>9.311050e-01</td>\n",
              "    </tr>\n",
              "    <tr>\n",
              "      <th>4</th>\n",
              "      <td>nox</td>\n",
              "      <td>9.826245e-03</td>\n",
              "    </tr>\n",
              "    <tr>\n",
              "      <th>5</th>\n",
              "      <td>rm</td>\n",
              "      <td>1.503121e-04</td>\n",
              "    </tr>\n",
              "    <tr>\n",
              "      <th>6</th>\n",
              "      <td>age</td>\n",
              "      <td>6.837385e-15</td>\n",
              "    </tr>\n",
              "    <tr>\n",
              "      <th>7</th>\n",
              "      <td>dis</td>\n",
              "      <td>8.276851e-01</td>\n",
              "    </tr>\n",
              "    <tr>\n",
              "      <th>8</th>\n",
              "      <td>rad</td>\n",
              "      <td>2.771759e-10</td>\n",
              "    </tr>\n",
              "    <tr>\n",
              "      <th>9</th>\n",
              "      <td>tax</td>\n",
              "      <td>5.570378e-04</td>\n",
              "    </tr>\n",
              "    <tr>\n",
              "      <th>10</th>\n",
              "      <td>ptratio</td>\n",
              "      <td>5.061523e-03</td>\n",
              "    </tr>\n",
              "    <tr>\n",
              "      <th>11</th>\n",
              "      <td>black</td>\n",
              "      <td>1.747353e-13</td>\n",
              "    </tr>\n",
              "    <tr>\n",
              "      <th>12</th>\n",
              "      <td>lstat</td>\n",
              "      <td>6.263236e-03</td>\n",
              "    </tr>\n",
              "    <tr>\n",
              "      <th>13</th>\n",
              "      <td>medv</td>\n",
              "      <td>5.257076e-18</td>\n",
              "    </tr>\n",
              "  </tbody>\n",
              "</table>\n",
              "</div>"
            ],
            "text/plain": [
              "   columns:      p-values: \n",
              "0       crim  7.880479e-281\n",
              "1         zn   1.222501e-03\n",
              "2      indus   2.060526e-03\n",
              "3       chas   9.311050e-01\n",
              "4        nox   9.826245e-03\n",
              "5         rm   1.503121e-04\n",
              "6        age   6.837385e-15\n",
              "7        dis   8.276851e-01\n",
              "8        rad   2.771759e-10\n",
              "9        tax   5.570378e-04\n",
              "10   ptratio   5.061523e-03\n",
              "11     black   1.747353e-13\n",
              "12     lstat   6.263236e-03\n",
              "13      medv   5.257076e-18"
            ]
          },
          "metadata": {
            "tags": []
          },
          "execution_count": 360
        }
      ]
    },
    {
      "cell_type": "markdown",
      "metadata": {
        "id": "qIvhW_A0jRPN",
        "colab_type": "text"
      },
      "source": [
        "# Predictions"
      ]
    },
    {
      "cell_type": "code",
      "metadata": {
        "id": "9jcVRlSh1d2s",
        "colab_type": "code",
        "colab": {}
      },
      "source": [
        "df1=df.drop('medv',axis=1)"
      ],
      "execution_count": 0,
      "outputs": []
    },
    {
      "cell_type": "code",
      "metadata": {
        "id": "FJDE1pwWz5DF",
        "colab_type": "code",
        "colab": {
          "base_uri": "https://localhost:8080/",
          "height": 359
        },
        "outputId": "456550c2-7c47-43de-b81e-891bf87d3e85"
      },
      "source": [
        "house_prediction=df1.head(10)\n",
        "house_prediction"
      ],
      "execution_count": 206,
      "outputs": [
        {
          "output_type": "execute_result",
          "data": {
            "text/html": [
              "<div>\n",
              "<style scoped>\n",
              "    .dataframe tbody tr th:only-of-type {\n",
              "        vertical-align: middle;\n",
              "    }\n",
              "\n",
              "    .dataframe tbody tr th {\n",
              "        vertical-align: top;\n",
              "    }\n",
              "\n",
              "    .dataframe thead th {\n",
              "        text-align: right;\n",
              "    }\n",
              "</style>\n",
              "<table border=\"1\" class=\"dataframe\">\n",
              "  <thead>\n",
              "    <tr style=\"text-align: right;\">\n",
              "      <th></th>\n",
              "      <th>crim</th>\n",
              "      <th>zn</th>\n",
              "      <th>indus</th>\n",
              "      <th>chas</th>\n",
              "      <th>nox</th>\n",
              "      <th>rm</th>\n",
              "      <th>age</th>\n",
              "      <th>dis</th>\n",
              "      <th>rad</th>\n",
              "      <th>tax</th>\n",
              "      <th>ptratio</th>\n",
              "      <th>black</th>\n",
              "      <th>lstat</th>\n",
              "    </tr>\n",
              "  </thead>\n",
              "  <tbody>\n",
              "    <tr>\n",
              "      <th>0</th>\n",
              "      <td>0.00632</td>\n",
              "      <td>18.0</td>\n",
              "      <td>2.31</td>\n",
              "      <td>0</td>\n",
              "      <td>0.538</td>\n",
              "      <td>6.575</td>\n",
              "      <td>65.2</td>\n",
              "      <td>4.0900</td>\n",
              "      <td>1</td>\n",
              "      <td>296</td>\n",
              "      <td>15.3</td>\n",
              "      <td>396.90</td>\n",
              "      <td>4.98</td>\n",
              "    </tr>\n",
              "    <tr>\n",
              "      <th>1</th>\n",
              "      <td>0.02731</td>\n",
              "      <td>0.0</td>\n",
              "      <td>7.07</td>\n",
              "      <td>0</td>\n",
              "      <td>0.469</td>\n",
              "      <td>6.421</td>\n",
              "      <td>78.9</td>\n",
              "      <td>4.9671</td>\n",
              "      <td>2</td>\n",
              "      <td>242</td>\n",
              "      <td>17.8</td>\n",
              "      <td>396.90</td>\n",
              "      <td>9.14</td>\n",
              "    </tr>\n",
              "    <tr>\n",
              "      <th>2</th>\n",
              "      <td>0.02729</td>\n",
              "      <td>0.0</td>\n",
              "      <td>7.07</td>\n",
              "      <td>0</td>\n",
              "      <td>0.469</td>\n",
              "      <td>7.185</td>\n",
              "      <td>61.1</td>\n",
              "      <td>4.9671</td>\n",
              "      <td>2</td>\n",
              "      <td>242</td>\n",
              "      <td>17.8</td>\n",
              "      <td>392.83</td>\n",
              "      <td>4.03</td>\n",
              "    </tr>\n",
              "    <tr>\n",
              "      <th>3</th>\n",
              "      <td>0.03237</td>\n",
              "      <td>0.0</td>\n",
              "      <td>2.18</td>\n",
              "      <td>0</td>\n",
              "      <td>0.458</td>\n",
              "      <td>6.998</td>\n",
              "      <td>45.8</td>\n",
              "      <td>6.0622</td>\n",
              "      <td>3</td>\n",
              "      <td>222</td>\n",
              "      <td>18.7</td>\n",
              "      <td>394.63</td>\n",
              "      <td>2.94</td>\n",
              "    </tr>\n",
              "    <tr>\n",
              "      <th>4</th>\n",
              "      <td>0.06905</td>\n",
              "      <td>0.0</td>\n",
              "      <td>2.18</td>\n",
              "      <td>0</td>\n",
              "      <td>0.458</td>\n",
              "      <td>7.147</td>\n",
              "      <td>54.2</td>\n",
              "      <td>6.0622</td>\n",
              "      <td>3</td>\n",
              "      <td>222</td>\n",
              "      <td>18.7</td>\n",
              "      <td>396.90</td>\n",
              "      <td>5.33</td>\n",
              "    </tr>\n",
              "    <tr>\n",
              "      <th>5</th>\n",
              "      <td>0.02985</td>\n",
              "      <td>0.0</td>\n",
              "      <td>2.18</td>\n",
              "      <td>0</td>\n",
              "      <td>0.458</td>\n",
              "      <td>6.430</td>\n",
              "      <td>58.7</td>\n",
              "      <td>6.0622</td>\n",
              "      <td>3</td>\n",
              "      <td>222</td>\n",
              "      <td>18.7</td>\n",
              "      <td>394.12</td>\n",
              "      <td>5.21</td>\n",
              "    </tr>\n",
              "    <tr>\n",
              "      <th>6</th>\n",
              "      <td>0.08829</td>\n",
              "      <td>12.5</td>\n",
              "      <td>7.87</td>\n",
              "      <td>0</td>\n",
              "      <td>0.524</td>\n",
              "      <td>6.012</td>\n",
              "      <td>66.6</td>\n",
              "      <td>5.5605</td>\n",
              "      <td>5</td>\n",
              "      <td>311</td>\n",
              "      <td>15.2</td>\n",
              "      <td>395.60</td>\n",
              "      <td>12.43</td>\n",
              "    </tr>\n",
              "    <tr>\n",
              "      <th>7</th>\n",
              "      <td>0.14455</td>\n",
              "      <td>12.5</td>\n",
              "      <td>7.87</td>\n",
              "      <td>0</td>\n",
              "      <td>0.524</td>\n",
              "      <td>6.172</td>\n",
              "      <td>96.1</td>\n",
              "      <td>5.9505</td>\n",
              "      <td>5</td>\n",
              "      <td>311</td>\n",
              "      <td>15.2</td>\n",
              "      <td>396.90</td>\n",
              "      <td>19.15</td>\n",
              "    </tr>\n",
              "    <tr>\n",
              "      <th>8</th>\n",
              "      <td>0.21124</td>\n",
              "      <td>12.5</td>\n",
              "      <td>7.87</td>\n",
              "      <td>0</td>\n",
              "      <td>0.524</td>\n",
              "      <td>5.631</td>\n",
              "      <td>100.0</td>\n",
              "      <td>6.0821</td>\n",
              "      <td>5</td>\n",
              "      <td>311</td>\n",
              "      <td>15.2</td>\n",
              "      <td>386.63</td>\n",
              "      <td>29.93</td>\n",
              "    </tr>\n",
              "    <tr>\n",
              "      <th>9</th>\n",
              "      <td>0.17004</td>\n",
              "      <td>12.5</td>\n",
              "      <td>7.87</td>\n",
              "      <td>0</td>\n",
              "      <td>0.524</td>\n",
              "      <td>6.004</td>\n",
              "      <td>85.9</td>\n",
              "      <td>6.5921</td>\n",
              "      <td>5</td>\n",
              "      <td>311</td>\n",
              "      <td>15.2</td>\n",
              "      <td>386.71</td>\n",
              "      <td>17.10</td>\n",
              "    </tr>\n",
              "  </tbody>\n",
              "</table>\n",
              "</div>"
            ],
            "text/plain": [
              "      crim    zn  indus  chas    nox  ...  rad  tax  ptratio   black  lstat\n",
              "0  0.00632  18.0   2.31     0  0.538  ...    1  296     15.3  396.90   4.98\n",
              "1  0.02731   0.0   7.07     0  0.469  ...    2  242     17.8  396.90   9.14\n",
              "2  0.02729   0.0   7.07     0  0.469  ...    2  242     17.8  392.83   4.03\n",
              "3  0.03237   0.0   2.18     0  0.458  ...    3  222     18.7  394.63   2.94\n",
              "4  0.06905   0.0   2.18     0  0.458  ...    3  222     18.7  396.90   5.33\n",
              "5  0.02985   0.0   2.18     0  0.458  ...    3  222     18.7  394.12   5.21\n",
              "6  0.08829  12.5   7.87     0  0.524  ...    5  311     15.2  395.60  12.43\n",
              "7  0.14455  12.5   7.87     0  0.524  ...    5  311     15.2  396.90  19.15\n",
              "8  0.21124  12.5   7.87     0  0.524  ...    5  311     15.2  386.63  29.93\n",
              "9  0.17004  12.5   7.87     0  0.524  ...    5  311     15.2  386.71  17.10\n",
              "\n",
              "[10 rows x 13 columns]"
            ]
          },
          "metadata": {
            "tags": []
          },
          "execution_count": 206
        }
      ]
    },
    {
      "cell_type": "code",
      "metadata": {
        "id": "6A8rWReq146F",
        "colab_type": "code",
        "colab": {}
      },
      "source": [
        "house_prediction=sc.transform(house_prediction.values.reshape(-1,13))"
      ],
      "execution_count": 0,
      "outputs": []
    },
    {
      "cell_type": "code",
      "metadata": {
        "id": "0xOXD2pa1XED",
        "colab_type": "code",
        "colab": {}
      },
      "source": [
        "pred_houses = regressor.predict(house_prediction)"
      ],
      "execution_count": 0,
      "outputs": []
    },
    {
      "cell_type": "code",
      "metadata": {
        "id": "7eFUJohn1nbd",
        "colab_type": "code",
        "colab": {
          "base_uri": "https://localhost:8080/",
          "height": 34
        },
        "outputId": "0cc1e603-1c28-4926-b76d-31d44cf09c6f"
      },
      "source": [
        "pred_houses"
      ],
      "execution_count": 209,
      "outputs": [
        {
          "output_type": "execute_result",
          "data": {
            "text/plain": [
              "array([30.5, 25.2, 30.5, 28.6, 28. , 25.3, 23.6, 20.3, 12.7, 19.7])"
            ]
          },
          "metadata": {
            "tags": []
          },
          "execution_count": 209
        }
      ]
    },
    {
      "cell_type": "code",
      "metadata": {
        "id": "pUOSaU3pc0Vc",
        "colab_type": "code",
        "colab": {
          "base_uri": "https://localhost:8080/",
          "height": 359
        },
        "outputId": "dbff234b-05f6-407a-be40-b4d0d3273a24"
      },
      "source": [
        "df_lr = pd.DataFrame(pred_houses, columns=['Predictions_lr'])\n",
        "df_lr"
      ],
      "execution_count": 256,
      "outputs": [
        {
          "output_type": "execute_result",
          "data": {
            "text/html": [
              "<div>\n",
              "<style scoped>\n",
              "    .dataframe tbody tr th:only-of-type {\n",
              "        vertical-align: middle;\n",
              "    }\n",
              "\n",
              "    .dataframe tbody tr th {\n",
              "        vertical-align: top;\n",
              "    }\n",
              "\n",
              "    .dataframe thead th {\n",
              "        text-align: right;\n",
              "    }\n",
              "</style>\n",
              "<table border=\"1\" class=\"dataframe\">\n",
              "  <thead>\n",
              "    <tr style=\"text-align: right;\">\n",
              "      <th></th>\n",
              "      <th>Predictions_lr</th>\n",
              "    </tr>\n",
              "  </thead>\n",
              "  <tbody>\n",
              "    <tr>\n",
              "      <th>0</th>\n",
              "      <td>30.499498</td>\n",
              "    </tr>\n",
              "    <tr>\n",
              "      <th>1</th>\n",
              "      <td>25.172480</td>\n",
              "    </tr>\n",
              "    <tr>\n",
              "      <th>2</th>\n",
              "      <td>30.546654</td>\n",
              "    </tr>\n",
              "    <tr>\n",
              "      <th>3</th>\n",
              "      <td>28.606948</td>\n",
              "    </tr>\n",
              "    <tr>\n",
              "      <th>4</th>\n",
              "      <td>27.969583</td>\n",
              "    </tr>\n",
              "    <tr>\n",
              "      <th>5</th>\n",
              "      <td>25.337665</td>\n",
              "    </tr>\n",
              "    <tr>\n",
              "      <th>6</th>\n",
              "      <td>23.603188</td>\n",
              "    </tr>\n",
              "    <tr>\n",
              "      <th>7</th>\n",
              "      <td>20.256071</td>\n",
              "    </tr>\n",
              "    <tr>\n",
              "      <th>8</th>\n",
              "      <td>12.651475</td>\n",
              "    </tr>\n",
              "    <tr>\n",
              "      <th>9</th>\n",
              "      <td>19.699869</td>\n",
              "    </tr>\n",
              "  </tbody>\n",
              "</table>\n",
              "</div>"
            ],
            "text/plain": [
              "   Predictions_lr\n",
              "0       30.499498\n",
              "1       25.172480\n",
              "2       30.546654\n",
              "3       28.606948\n",
              "4       27.969583\n",
              "5       25.337665\n",
              "6       23.603188\n",
              "7       20.256071\n",
              "8       12.651475\n",
              "9       19.699869"
            ]
          },
          "metadata": {
            "tags": []
          },
          "execution_count": 256
        }
      ]
    },
    {
      "cell_type": "markdown",
      "metadata": {
        "id": "MhgntDiPkDAV",
        "colab_type": "text"
      },
      "source": [
        "# Evaluate"
      ]
    },
    {
      "cell_type": "code",
      "metadata": {
        "id": "inlZ8W6S3pn6",
        "colab_type": "code",
        "colab": {
          "base_uri": "https://localhost:8080/",
          "height": 34
        },
        "outputId": "6e2c64b7-2a01-4a87-c9e2-7a4133dd172c"
      },
      "source": [
        "from sklearn.metrics import mean_absolute_error\n",
        "mean_absolute_error(y_test,y_pred)"
      ],
      "execution_count": 210,
      "outputs": [
        {
          "output_type": "execute_result",
          "data": {
            "text/plain": [
              "3.8429092204444966"
            ]
          },
          "metadata": {
            "tags": []
          },
          "execution_count": 210
        }
      ]
    },
    {
      "cell_type": "code",
      "metadata": {
        "id": "s47bazFuV0yD",
        "colab_type": "code",
        "colab": {
          "base_uri": "https://localhost:8080/",
          "height": 34
        },
        "outputId": "7046d29b-de75-4d49-95de-1010f21a2077"
      },
      "source": [
        "df['medv'].mean()"
      ],
      "execution_count": 211,
      "outputs": [
        {
          "output_type": "execute_result",
          "data": {
            "text/plain": [
              "22.532806324110698"
            ]
          },
          "metadata": {
            "tags": []
          },
          "execution_count": 211
        }
      ]
    },
    {
      "cell_type": "markdown",
      "metadata": {
        "id": "JpqqTCmZYrNw",
        "colab_type": "text"
      },
      "source": [
        "# ANN Regression"
      ]
    },
    {
      "cell_type": "code",
      "metadata": {
        "id": "2-SEeodXZB_J",
        "colab_type": "code",
        "colab": {}
      },
      "source": [
        "from sklearn.preprocessing import MinMaxScaler\n",
        "from tensorflow.keras.models import Sequential\n",
        "from tensorflow.keras.callbacks import EarlyStopping\n",
        "from tensorflow.keras.layers import Dense, Dropout\n",
        "\n",
        "from sklearn.metrics import mean_absolute_error,mean_squared_error, explained_variance_score"
      ],
      "execution_count": 0,
      "outputs": []
    },
    {
      "cell_type": "code",
      "metadata": {
        "id": "pUMi2YIxXcU2",
        "colab_type": "code",
        "colab": {
          "base_uri": "https://localhost:8080/",
          "height": 204
        },
        "outputId": "7f5a2bd7-39f6-4d7f-9ee3-a2ee73737b85"
      },
      "source": [
        "df = pd.read_csv(io.BytesIO(uploaded['Boston.csv']))\n",
        "df.head()"
      ],
      "execution_count": 320,
      "outputs": [
        {
          "output_type": "execute_result",
          "data": {
            "text/html": [
              "<div>\n",
              "<style scoped>\n",
              "    .dataframe tbody tr th:only-of-type {\n",
              "        vertical-align: middle;\n",
              "    }\n",
              "\n",
              "    .dataframe tbody tr th {\n",
              "        vertical-align: top;\n",
              "    }\n",
              "\n",
              "    .dataframe thead th {\n",
              "        text-align: right;\n",
              "    }\n",
              "</style>\n",
              "<table border=\"1\" class=\"dataframe\">\n",
              "  <thead>\n",
              "    <tr style=\"text-align: right;\">\n",
              "      <th></th>\n",
              "      <th>Unnamed: 0</th>\n",
              "      <th>crim</th>\n",
              "      <th>zn</th>\n",
              "      <th>indus</th>\n",
              "      <th>chas</th>\n",
              "      <th>nox</th>\n",
              "      <th>rm</th>\n",
              "      <th>age</th>\n",
              "      <th>dis</th>\n",
              "      <th>rad</th>\n",
              "      <th>tax</th>\n",
              "      <th>ptratio</th>\n",
              "      <th>black</th>\n",
              "      <th>lstat</th>\n",
              "      <th>medv</th>\n",
              "    </tr>\n",
              "  </thead>\n",
              "  <tbody>\n",
              "    <tr>\n",
              "      <th>0</th>\n",
              "      <td>1</td>\n",
              "      <td>0.00632</td>\n",
              "      <td>18.0</td>\n",
              "      <td>2.31</td>\n",
              "      <td>0</td>\n",
              "      <td>0.538</td>\n",
              "      <td>6.575</td>\n",
              "      <td>65.2</td>\n",
              "      <td>4.0900</td>\n",
              "      <td>1</td>\n",
              "      <td>296</td>\n",
              "      <td>15.3</td>\n",
              "      <td>396.90</td>\n",
              "      <td>4.98</td>\n",
              "      <td>24.0</td>\n",
              "    </tr>\n",
              "    <tr>\n",
              "      <th>1</th>\n",
              "      <td>2</td>\n",
              "      <td>0.02731</td>\n",
              "      <td>0.0</td>\n",
              "      <td>7.07</td>\n",
              "      <td>0</td>\n",
              "      <td>0.469</td>\n",
              "      <td>6.421</td>\n",
              "      <td>78.9</td>\n",
              "      <td>4.9671</td>\n",
              "      <td>2</td>\n",
              "      <td>242</td>\n",
              "      <td>17.8</td>\n",
              "      <td>396.90</td>\n",
              "      <td>9.14</td>\n",
              "      <td>21.6</td>\n",
              "    </tr>\n",
              "    <tr>\n",
              "      <th>2</th>\n",
              "      <td>3</td>\n",
              "      <td>0.02729</td>\n",
              "      <td>0.0</td>\n",
              "      <td>7.07</td>\n",
              "      <td>0</td>\n",
              "      <td>0.469</td>\n",
              "      <td>7.185</td>\n",
              "      <td>61.1</td>\n",
              "      <td>4.9671</td>\n",
              "      <td>2</td>\n",
              "      <td>242</td>\n",
              "      <td>17.8</td>\n",
              "      <td>392.83</td>\n",
              "      <td>4.03</td>\n",
              "      <td>34.7</td>\n",
              "    </tr>\n",
              "    <tr>\n",
              "      <th>3</th>\n",
              "      <td>4</td>\n",
              "      <td>0.03237</td>\n",
              "      <td>0.0</td>\n",
              "      <td>2.18</td>\n",
              "      <td>0</td>\n",
              "      <td>0.458</td>\n",
              "      <td>6.998</td>\n",
              "      <td>45.8</td>\n",
              "      <td>6.0622</td>\n",
              "      <td>3</td>\n",
              "      <td>222</td>\n",
              "      <td>18.7</td>\n",
              "      <td>394.63</td>\n",
              "      <td>2.94</td>\n",
              "      <td>33.4</td>\n",
              "    </tr>\n",
              "    <tr>\n",
              "      <th>4</th>\n",
              "      <td>5</td>\n",
              "      <td>0.06905</td>\n",
              "      <td>0.0</td>\n",
              "      <td>2.18</td>\n",
              "      <td>0</td>\n",
              "      <td>0.458</td>\n",
              "      <td>7.147</td>\n",
              "      <td>54.2</td>\n",
              "      <td>6.0622</td>\n",
              "      <td>3</td>\n",
              "      <td>222</td>\n",
              "      <td>18.7</td>\n",
              "      <td>396.90</td>\n",
              "      <td>5.33</td>\n",
              "      <td>36.2</td>\n",
              "    </tr>\n",
              "  </tbody>\n",
              "</table>\n",
              "</div>"
            ],
            "text/plain": [
              "   Unnamed: 0     crim    zn  indus  chas  ...  tax  ptratio   black  lstat  medv\n",
              "0           1  0.00632  18.0   2.31     0  ...  296     15.3  396.90   4.98  24.0\n",
              "1           2  0.02731   0.0   7.07     0  ...  242     17.8  396.90   9.14  21.6\n",
              "2           3  0.02729   0.0   7.07     0  ...  242     17.8  392.83   4.03  34.7\n",
              "3           4  0.03237   0.0   2.18     0  ...  222     18.7  394.63   2.94  33.4\n",
              "4           5  0.06905   0.0   2.18     0  ...  222     18.7  396.90   5.33  36.2\n",
              "\n",
              "[5 rows x 15 columns]"
            ]
          },
          "metadata": {
            "tags": []
          },
          "execution_count": 320
        }
      ]
    },
    {
      "cell_type": "code",
      "metadata": {
        "id": "WFlfhoLOZKcg",
        "colab_type": "code",
        "colab": {}
      },
      "source": [
        "df=df.drop('Unnamed: 0',axis=1)"
      ],
      "execution_count": 0,
      "outputs": []
    },
    {
      "cell_type": "markdown",
      "metadata": {
        "id": "C08p9NZwkGkV",
        "colab_type": "text"
      },
      "source": [
        "# Train and scale features"
      ]
    },
    {
      "cell_type": "code",
      "metadata": {
        "id": "OMUaab_NYwy-",
        "colab_type": "code",
        "colab": {}
      },
      "source": [
        "#.values because of the validation data\n",
        "X=df.drop('medv',axis=1).values\n",
        "y=df['medv'].values"
      ],
      "execution_count": 0,
      "outputs": []
    },
    {
      "cell_type": "code",
      "metadata": {
        "id": "vi5mcng0YyrL",
        "colab_type": "code",
        "colab": {}
      },
      "source": [
        "X_train,X_test,y_train,y_test=train_test_split(X,y,test_size=0.2,random_state=0)"
      ],
      "execution_count": 0,
      "outputs": []
    },
    {
      "cell_type": "code",
      "metadata": {
        "id": "_Qi7rtdyY4Mb",
        "colab_type": "code",
        "colab": {}
      },
      "source": [
        "scaler=MinMaxScaler()\n",
        "X_train=scaler.fit_transform(X_train)\n",
        "X_test=scaler.transform(X_test)"
      ],
      "execution_count": 0,
      "outputs": []
    },
    {
      "cell_type": "markdown",
      "metadata": {
        "id": "lRRqLwKSg0y-",
        "colab_type": "text"
      },
      "source": [
        "# Model with early stopping and dropout layer"
      ]
    },
    {
      "cell_type": "code",
      "metadata": {
        "id": "lhpErFAFY543",
        "colab_type": "code",
        "colab": {}
      },
      "source": [
        "model=Sequential()\n",
        "\n",
        "model.add(Dense(256, activation='relu'))\n",
        "model.add(Dropout(0.2))\n",
        "model.add(Dense(128, activation='relu'))\n",
        "model.add(Dropout(0.2))\n",
        "model.add(Dense(64, activation='relu'))\n",
        "model.add(Dropout(0.2))\n",
        "model.add(Dense(1))\n",
        "\n",
        "model.compile(optimizer='adam',loss='mse')"
      ],
      "execution_count": 0,
      "outputs": []
    },
    {
      "cell_type": "code",
      "metadata": {
        "id": "_Wr2FpZ0Zjjp",
        "colab_type": "code",
        "colab": {
          "base_uri": "https://localhost:8080/",
          "height": 34
        },
        "outputId": "205069e9-6a70-48b0-82ba-d1caeffa3515"
      },
      "source": [
        "X_test.shape"
      ],
      "execution_count": 326,
      "outputs": [
        {
          "output_type": "execute_result",
          "data": {
            "text/plain": [
              "(102, 13)"
            ]
          },
          "metadata": {
            "tags": []
          },
          "execution_count": 326
        }
      ]
    },
    {
      "cell_type": "code",
      "metadata": {
        "id": "efW6LTTmfvgK",
        "colab_type": "code",
        "colab": {}
      },
      "source": [
        "early_stop=EarlyStopping(monitor='val_loss',mode='min',verbose=1,patience=25)"
      ],
      "execution_count": 0,
      "outputs": []
    },
    {
      "cell_type": "code",
      "metadata": {
        "id": "moHiPoa-ZW3c",
        "colab_type": "code",
        "colab": {
          "base_uri": "https://localhost:8080/",
          "height": 1000
        },
        "outputId": "60445877-0896-4655-d8df-70973ab009b2"
      },
      "source": [
        "# also pass Validation Data -> after every epoch on trainning in the training data, it runs on the test data anc check the loss on the test data\n",
        "# because of the size of trainning data, lets use batch sizes\n",
        "model.fit(x=X_train,y=y_train,validation_data=(X_test,y_test),Callbacks=[early_stop],epochs=600)"
      ],
      "execution_count": 328,
      "outputs": [
        {
          "output_type": "stream",
          "text": [
            "Epoch 1/600\n",
            "13/13 [==============================] - 0s 9ms/step - loss: 570.0638 - val_loss: 480.5715\n",
            "Epoch 2/600\n",
            "13/13 [==============================] - 0s 4ms/step - loss: 446.1112 - val_loss: 263.4232\n",
            "Epoch 3/600\n",
            "13/13 [==============================] - 0s 4ms/step - loss: 196.5227 - val_loss: 121.5171\n",
            "Epoch 4/600\n",
            "13/13 [==============================] - 0s 4ms/step - loss: 130.0983 - val_loss: 75.6613\n",
            "Epoch 5/600\n",
            "13/13 [==============================] - 0s 4ms/step - loss: 90.3163 - val_loss: 61.9905\n",
            "Epoch 6/600\n",
            "13/13 [==============================] - 0s 4ms/step - loss: 71.7352 - val_loss: 59.6751\n",
            "Epoch 7/600\n",
            "13/13 [==============================] - 0s 5ms/step - loss: 62.5716 - val_loss: 59.7928\n",
            "Epoch 8/600\n",
            "13/13 [==============================] - 0s 5ms/step - loss: 54.2420 - val_loss: 57.3257\n",
            "Epoch 9/600\n",
            "13/13 [==============================] - 0s 5ms/step - loss: 54.3220 - val_loss: 54.1194\n",
            "Epoch 10/600\n",
            "13/13 [==============================] - 0s 4ms/step - loss: 44.3967 - val_loss: 48.5403\n",
            "Epoch 11/600\n",
            "13/13 [==============================] - 0s 4ms/step - loss: 43.9642 - val_loss: 44.1118\n",
            "Epoch 12/600\n",
            "13/13 [==============================] - 0s 4ms/step - loss: 37.2017 - val_loss: 42.4115\n",
            "Epoch 13/600\n",
            "13/13 [==============================] - 0s 4ms/step - loss: 32.4148 - val_loss: 39.9434\n",
            "Epoch 14/600\n",
            "13/13 [==============================] - 0s 4ms/step - loss: 32.1456 - val_loss: 36.7527\n",
            "Epoch 15/600\n",
            "13/13 [==============================] - 0s 5ms/step - loss: 32.1275 - val_loss: 35.1215\n",
            "Epoch 16/600\n",
            "13/13 [==============================] - 0s 4ms/step - loss: 29.2694 - val_loss: 33.9579\n",
            "Epoch 17/600\n",
            "13/13 [==============================] - 0s 5ms/step - loss: 28.9203 - val_loss: 30.6958\n",
            "Epoch 18/600\n",
            "13/13 [==============================] - 0s 4ms/step - loss: 27.2021 - val_loss: 30.2125\n",
            "Epoch 19/600\n",
            "13/13 [==============================] - 0s 4ms/step - loss: 28.2552 - val_loss: 28.4325\n",
            "Epoch 20/600\n",
            "13/13 [==============================] - 0s 5ms/step - loss: 25.0607 - val_loss: 30.4273\n",
            "Epoch 21/600\n",
            "13/13 [==============================] - 0s 4ms/step - loss: 21.1693 - val_loss: 26.6710\n",
            "Epoch 22/600\n",
            "13/13 [==============================] - 0s 5ms/step - loss: 22.5420 - val_loss: 29.7544\n",
            "Epoch 23/600\n",
            "13/13 [==============================] - 0s 5ms/step - loss: 24.8581 - val_loss: 26.6369\n",
            "Epoch 24/600\n",
            "13/13 [==============================] - 0s 4ms/step - loss: 23.5443 - val_loss: 28.5300\n",
            "Epoch 25/600\n",
            "13/13 [==============================] - 0s 4ms/step - loss: 25.3705 - val_loss: 26.2508\n",
            "Epoch 26/600\n",
            "13/13 [==============================] - 0s 4ms/step - loss: 25.1299 - val_loss: 26.8672\n",
            "Epoch 27/600\n",
            "13/13 [==============================] - 0s 5ms/step - loss: 21.9046 - val_loss: 30.6247\n",
            "Epoch 28/600\n",
            "13/13 [==============================] - 0s 5ms/step - loss: 28.1833 - val_loss: 26.7615\n",
            "Epoch 29/600\n",
            "13/13 [==============================] - 0s 4ms/step - loss: 22.8060 - val_loss: 28.8168\n",
            "Epoch 30/600\n",
            "13/13 [==============================] - 0s 4ms/step - loss: 25.8415 - val_loss: 25.2763\n",
            "Epoch 31/600\n",
            "13/13 [==============================] - 0s 5ms/step - loss: 22.8294 - val_loss: 23.2431\n",
            "Epoch 32/600\n",
            "13/13 [==============================] - 0s 5ms/step - loss: 22.2296 - val_loss: 24.0280\n",
            "Epoch 33/600\n",
            "13/13 [==============================] - 0s 4ms/step - loss: 22.0434 - val_loss: 29.8303\n",
            "Epoch 34/600\n",
            "13/13 [==============================] - 0s 4ms/step - loss: 25.6935 - val_loss: 27.9345\n",
            "Epoch 35/600\n",
            "13/13 [==============================] - 0s 5ms/step - loss: 24.0587 - val_loss: 23.7236\n",
            "Epoch 36/600\n",
            "13/13 [==============================] - 0s 5ms/step - loss: 23.6929 - val_loss: 23.0118\n",
            "Epoch 37/600\n",
            "13/13 [==============================] - 0s 5ms/step - loss: 23.9453 - val_loss: 23.8185\n",
            "Epoch 38/600\n",
            "13/13 [==============================] - 0s 5ms/step - loss: 21.4666 - val_loss: 25.2306\n",
            "Epoch 39/600\n",
            "13/13 [==============================] - 0s 5ms/step - loss: 23.9176 - val_loss: 26.5803\n",
            "Epoch 40/600\n",
            "13/13 [==============================] - 0s 5ms/step - loss: 21.0778 - val_loss: 22.5875\n",
            "Epoch 41/600\n",
            "13/13 [==============================] - 0s 4ms/step - loss: 21.9800 - val_loss: 21.8199\n",
            "Epoch 42/600\n",
            "13/13 [==============================] - 0s 5ms/step - loss: 20.7827 - val_loss: 21.7916\n",
            "Epoch 43/600\n",
            "13/13 [==============================] - 0s 5ms/step - loss: 20.7168 - val_loss: 21.9031\n",
            "Epoch 44/600\n",
            "13/13 [==============================] - 0s 5ms/step - loss: 19.1739 - val_loss: 22.5129\n",
            "Epoch 45/600\n",
            "13/13 [==============================] - 0s 5ms/step - loss: 20.8263 - val_loss: 21.2642\n",
            "Epoch 46/600\n",
            "13/13 [==============================] - 0s 5ms/step - loss: 23.1885 - val_loss: 24.8681\n",
            "Epoch 47/600\n",
            "13/13 [==============================] - 0s 4ms/step - loss: 16.2802 - val_loss: 22.4521\n",
            "Epoch 48/600\n",
            "13/13 [==============================] - 0s 4ms/step - loss: 19.2978 - val_loss: 23.4207\n",
            "Epoch 49/600\n",
            "13/13 [==============================] - 0s 4ms/step - loss: 20.2734 - val_loss: 23.4364\n",
            "Epoch 50/600\n",
            "13/13 [==============================] - 0s 5ms/step - loss: 16.7239 - val_loss: 21.4858\n",
            "Epoch 51/600\n",
            "13/13 [==============================] - 0s 5ms/step - loss: 17.6378 - val_loss: 21.4619\n",
            "Epoch 52/600\n",
            "13/13 [==============================] - 0s 5ms/step - loss: 17.4342 - val_loss: 21.4368\n",
            "Epoch 53/600\n",
            "13/13 [==============================] - 0s 4ms/step - loss: 21.7366 - val_loss: 22.2708\n",
            "Epoch 54/600\n",
            "13/13 [==============================] - 0s 5ms/step - loss: 20.2057 - val_loss: 21.9893\n",
            "Epoch 55/600\n",
            "13/13 [==============================] - 0s 5ms/step - loss: 17.4008 - val_loss: 26.3822\n",
            "Epoch 56/600\n",
            "13/13 [==============================] - 0s 4ms/step - loss: 18.7252 - val_loss: 23.1774\n",
            "Epoch 57/600\n",
            "13/13 [==============================] - 0s 5ms/step - loss: 20.0887 - val_loss: 22.8564\n",
            "Epoch 58/600\n",
            "13/13 [==============================] - 0s 5ms/step - loss: 23.2732 - val_loss: 20.9149\n",
            "Epoch 59/600\n",
            "13/13 [==============================] - 0s 4ms/step - loss: 16.7480 - val_loss: 21.8452\n",
            "Epoch 60/600\n",
            "13/13 [==============================] - 0s 5ms/step - loss: 18.3810 - val_loss: 20.0607\n",
            "Epoch 61/600\n",
            "13/13 [==============================] - 0s 5ms/step - loss: 15.4931 - val_loss: 21.5002\n",
            "Epoch 62/600\n",
            "13/13 [==============================] - 0s 4ms/step - loss: 18.1495 - val_loss: 21.6120\n",
            "Epoch 63/600\n",
            "13/13 [==============================] - 0s 5ms/step - loss: 16.0470 - val_loss: 19.7261\n",
            "Epoch 64/600\n",
            "13/13 [==============================] - 0s 5ms/step - loss: 19.0165 - val_loss: 20.8726\n",
            "Epoch 65/600\n",
            "13/13 [==============================] - 0s 5ms/step - loss: 16.0073 - val_loss: 20.1524\n",
            "Epoch 66/600\n",
            "13/13 [==============================] - 0s 5ms/step - loss: 19.7092 - val_loss: 21.0696\n",
            "Epoch 67/600\n",
            "13/13 [==============================] - 0s 5ms/step - loss: 18.4266 - val_loss: 21.0176\n",
            "Epoch 68/600\n",
            "13/13 [==============================] - 0s 5ms/step - loss: 16.0457 - val_loss: 21.7221\n",
            "Epoch 69/600\n",
            "13/13 [==============================] - 0s 4ms/step - loss: 16.0974 - val_loss: 22.3413\n",
            "Epoch 70/600\n",
            "13/13 [==============================] - 0s 5ms/step - loss: 15.6389 - val_loss: 21.0587\n",
            "Epoch 71/600\n",
            "13/13 [==============================] - 0s 5ms/step - loss: 17.7920 - val_loss: 21.9783\n",
            "Epoch 72/600\n",
            "13/13 [==============================] - 0s 4ms/step - loss: 17.5684 - val_loss: 25.3825\n",
            "Epoch 73/600\n",
            "13/13 [==============================] - 0s 5ms/step - loss: 15.1709 - val_loss: 24.4761\n",
            "Epoch 74/600\n",
            "13/13 [==============================] - 0s 5ms/step - loss: 15.2460 - val_loss: 19.5225\n",
            "Epoch 75/600\n",
            "13/13 [==============================] - 0s 4ms/step - loss: 17.2260 - val_loss: 19.8556\n",
            "Epoch 76/600\n",
            "13/13 [==============================] - 0s 5ms/step - loss: 16.1433 - val_loss: 19.5707\n",
            "Epoch 77/600\n",
            "13/13 [==============================] - 0s 5ms/step - loss: 16.4398 - val_loss: 19.0757\n",
            "Epoch 78/600\n",
            "13/13 [==============================] - 0s 5ms/step - loss: 17.0588 - val_loss: 21.4792\n",
            "Epoch 79/600\n",
            "13/13 [==============================] - 0s 5ms/step - loss: 14.2623 - val_loss: 18.9512\n",
            "Epoch 80/600\n",
            "13/13 [==============================] - 0s 4ms/step - loss: 16.6389 - val_loss: 18.4686\n",
            "Epoch 81/600\n",
            "13/13 [==============================] - 0s 4ms/step - loss: 16.2233 - val_loss: 19.2592\n",
            "Epoch 82/600\n",
            "13/13 [==============================] - 0s 5ms/step - loss: 16.5649 - val_loss: 23.3195\n",
            "Epoch 83/600\n",
            "13/13 [==============================] - 0s 5ms/step - loss: 16.4854 - val_loss: 20.2380\n",
            "Epoch 84/600\n",
            "13/13 [==============================] - 0s 4ms/step - loss: 14.0526 - val_loss: 21.9407\n",
            "Epoch 85/600\n",
            "13/13 [==============================] - 0s 4ms/step - loss: 15.5346 - val_loss: 20.2303\n",
            "Epoch 86/600\n",
            "13/13 [==============================] - 0s 4ms/step - loss: 18.2347 - val_loss: 19.0435\n",
            "Epoch 87/600\n",
            "13/13 [==============================] - 0s 5ms/step - loss: 15.9005 - val_loss: 18.4002\n",
            "Epoch 88/600\n",
            "13/13 [==============================] - 0s 5ms/step - loss: 14.6586 - val_loss: 20.2728\n",
            "Epoch 89/600\n",
            "13/13 [==============================] - 0s 5ms/step - loss: 17.6265 - val_loss: 21.3360\n",
            "Epoch 90/600\n",
            "13/13 [==============================] - 0s 4ms/step - loss: 17.5741 - val_loss: 18.7083\n",
            "Epoch 91/600\n",
            "13/13 [==============================] - 0s 5ms/step - loss: 16.9998 - val_loss: 18.7902\n",
            "Epoch 92/600\n",
            "13/13 [==============================] - 0s 5ms/step - loss: 16.0207 - val_loss: 20.9318\n",
            "Epoch 93/600\n",
            "13/13 [==============================] - 0s 5ms/step - loss: 15.9750 - val_loss: 23.6359\n",
            "Epoch 94/600\n",
            "13/13 [==============================] - 0s 4ms/step - loss: 17.4481 - val_loss: 17.9547\n",
            "Epoch 95/600\n",
            "13/13 [==============================] - 0s 4ms/step - loss: 17.1768 - val_loss: 17.4455\n",
            "Epoch 96/600\n",
            "13/13 [==============================] - 0s 4ms/step - loss: 14.7179 - val_loss: 17.9623\n",
            "Epoch 97/600\n",
            "13/13 [==============================] - 0s 5ms/step - loss: 13.5151 - val_loss: 17.6839\n",
            "Epoch 98/600\n",
            "13/13 [==============================] - 0s 5ms/step - loss: 13.8080 - val_loss: 21.7230\n",
            "Epoch 99/600\n",
            "13/13 [==============================] - 0s 4ms/step - loss: 16.2741 - val_loss: 22.0216\n",
            "Epoch 100/600\n",
            "13/13 [==============================] - 0s 5ms/step - loss: 14.8862 - val_loss: 23.2335\n",
            "Epoch 101/600\n",
            "13/13 [==============================] - 0s 4ms/step - loss: 15.2766 - val_loss: 17.8071\n",
            "Epoch 102/600\n",
            "13/13 [==============================] - 0s 5ms/step - loss: 15.1922 - val_loss: 19.1632\n",
            "Epoch 103/600\n",
            "13/13 [==============================] - 0s 5ms/step - loss: 14.5263 - val_loss: 17.7638\n",
            "Epoch 104/600\n",
            "13/13 [==============================] - 0s 5ms/step - loss: 12.7520 - val_loss: 18.6632\n",
            "Epoch 105/600\n",
            "13/13 [==============================] - 0s 4ms/step - loss: 13.1468 - val_loss: 17.5339\n",
            "Epoch 106/600\n",
            "13/13 [==============================] - 0s 5ms/step - loss: 14.9082 - val_loss: 19.0423\n",
            "Epoch 107/600\n",
            "13/13 [==============================] - 0s 4ms/step - loss: 13.9916 - val_loss: 19.5409\n",
            "Epoch 108/600\n",
            "13/13 [==============================] - 0s 4ms/step - loss: 15.9726 - val_loss: 17.2105\n",
            "Epoch 109/600\n",
            "13/13 [==============================] - 0s 5ms/step - loss: 16.1870 - val_loss: 19.0658\n",
            "Epoch 110/600\n",
            "13/13 [==============================] - 0s 5ms/step - loss: 15.6049 - val_loss: 18.0558\n",
            "Epoch 111/600\n",
            "13/13 [==============================] - 0s 4ms/step - loss: 13.7563 - val_loss: 24.7060\n",
            "Epoch 112/600\n",
            "13/13 [==============================] - 0s 5ms/step - loss: 14.8061 - val_loss: 21.8912\n",
            "Epoch 113/600\n",
            "13/13 [==============================] - 0s 5ms/step - loss: 16.6688 - val_loss: 16.9993\n",
            "Epoch 114/600\n",
            "13/13 [==============================] - 0s 4ms/step - loss: 15.1222 - val_loss: 18.5695\n",
            "Epoch 115/600\n",
            "13/13 [==============================] - 0s 4ms/step - loss: 14.9946 - val_loss: 17.7895\n",
            "Epoch 116/600\n",
            "13/13 [==============================] - 0s 5ms/step - loss: 15.0479 - val_loss: 19.4119\n",
            "Epoch 117/600\n",
            "13/13 [==============================] - 0s 5ms/step - loss: 14.1041 - val_loss: 21.3315\n",
            "Epoch 118/600\n",
            "13/13 [==============================] - 0s 4ms/step - loss: 16.0540 - val_loss: 24.5598\n",
            "Epoch 119/600\n",
            "13/13 [==============================] - 0s 5ms/step - loss: 13.9991 - val_loss: 19.0381\n",
            "Epoch 120/600\n",
            "13/13 [==============================] - 0s 5ms/step - loss: 14.6419 - val_loss: 18.1958\n",
            "Epoch 121/600\n",
            "13/13 [==============================] - 0s 6ms/step - loss: 14.3783 - val_loss: 16.4863\n",
            "Epoch 122/600\n",
            "13/13 [==============================] - 0s 5ms/step - loss: 13.5211 - val_loss: 16.5817\n",
            "Epoch 123/600\n",
            "13/13 [==============================] - 0s 5ms/step - loss: 13.9820 - val_loss: 17.7457\n",
            "Epoch 124/600\n",
            "13/13 [==============================] - 0s 5ms/step - loss: 12.4169 - val_loss: 16.9215\n",
            "Epoch 125/600\n",
            "13/13 [==============================] - 0s 5ms/step - loss: 12.9182 - val_loss: 17.5633\n",
            "Epoch 126/600\n",
            "13/13 [==============================] - 0s 5ms/step - loss: 12.6087 - val_loss: 16.3710\n",
            "Epoch 127/600\n",
            "13/13 [==============================] - 0s 5ms/step - loss: 12.8555 - val_loss: 19.6644\n",
            "Epoch 128/600\n",
            "13/13 [==============================] - 0s 5ms/step - loss: 14.6217 - val_loss: 16.5138\n",
            "Epoch 129/600\n",
            "13/13 [==============================] - 0s 5ms/step - loss: 15.0057 - val_loss: 17.6553\n",
            "Epoch 130/600\n",
            "13/13 [==============================] - 0s 6ms/step - loss: 14.0776 - val_loss: 15.9055\n",
            "Epoch 131/600\n",
            "13/13 [==============================] - 0s 5ms/step - loss: 12.9985 - val_loss: 22.0990\n",
            "Epoch 132/600\n",
            "13/13 [==============================] - 0s 5ms/step - loss: 13.8145 - val_loss: 24.9426\n",
            "Epoch 133/600\n",
            "13/13 [==============================] - 0s 4ms/step - loss: 17.9654 - val_loss: 21.2281\n",
            "Epoch 134/600\n",
            "13/13 [==============================] - 0s 5ms/step - loss: 16.1820 - val_loss: 18.1387\n",
            "Epoch 135/600\n",
            "13/13 [==============================] - 0s 4ms/step - loss: 12.5814 - val_loss: 16.6195\n",
            "Epoch 136/600\n",
            "13/13 [==============================] - 0s 5ms/step - loss: 13.9743 - val_loss: 16.8634\n",
            "Epoch 137/600\n",
            "13/13 [==============================] - 0s 5ms/step - loss: 13.2037 - val_loss: 18.7679\n",
            "Epoch 138/600\n",
            "13/13 [==============================] - 0s 5ms/step - loss: 14.2643 - val_loss: 17.9826\n",
            "Epoch 139/600\n",
            "13/13 [==============================] - 0s 5ms/step - loss: 13.8257 - val_loss: 14.8091\n",
            "Epoch 140/600\n",
            "13/13 [==============================] - 0s 5ms/step - loss: 14.4550 - val_loss: 19.2896\n",
            "Epoch 141/600\n",
            "13/13 [==============================] - 0s 4ms/step - loss: 12.9182 - val_loss: 22.3608\n",
            "Epoch 142/600\n",
            "13/13 [==============================] - 0s 4ms/step - loss: 14.8342 - val_loss: 18.7799\n",
            "Epoch 143/600\n",
            "13/13 [==============================] - 0s 5ms/step - loss: 13.4169 - val_loss: 19.2812\n",
            "Epoch 144/600\n",
            "13/13 [==============================] - 0s 4ms/step - loss: 13.4047 - val_loss: 18.0736\n",
            "Epoch 145/600\n",
            "13/13 [==============================] - 0s 5ms/step - loss: 12.9545 - val_loss: 18.8274\n",
            "Epoch 146/600\n",
            "13/13 [==============================] - 0s 5ms/step - loss: 13.8751 - val_loss: 15.2779\n",
            "Epoch 147/600\n",
            "13/13 [==============================] - 0s 5ms/step - loss: 13.0403 - val_loss: 17.5166\n",
            "Epoch 148/600\n",
            "13/13 [==============================] - 0s 5ms/step - loss: 13.4570 - val_loss: 15.5818\n",
            "Epoch 149/600\n",
            "13/13 [==============================] - 0s 5ms/step - loss: 14.1794 - val_loss: 17.0584\n",
            "Epoch 150/600\n",
            "13/13 [==============================] - 0s 5ms/step - loss: 13.4709 - val_loss: 20.0214\n",
            "Epoch 151/600\n",
            "13/13 [==============================] - 0s 4ms/step - loss: 12.9345 - val_loss: 15.2649\n",
            "Epoch 152/600\n",
            "13/13 [==============================] - 0s 5ms/step - loss: 12.4784 - val_loss: 18.0568\n",
            "Epoch 153/600\n",
            "13/13 [==============================] - 0s 5ms/step - loss: 12.5749 - val_loss: 15.8479\n",
            "Epoch 154/600\n",
            "13/13 [==============================] - 0s 4ms/step - loss: 13.2617 - val_loss: 19.5273\n",
            "Epoch 155/600\n",
            "13/13 [==============================] - 0s 4ms/step - loss: 11.8639 - val_loss: 16.0149\n",
            "Epoch 156/600\n",
            "13/13 [==============================] - 0s 4ms/step - loss: 15.3411 - val_loss: 18.5290\n",
            "Epoch 157/600\n",
            "13/13 [==============================] - 0s 4ms/step - loss: 11.4606 - val_loss: 15.2421\n",
            "Epoch 158/600\n",
            "13/13 [==============================] - 0s 5ms/step - loss: 11.8596 - val_loss: 16.9061\n",
            "Epoch 159/600\n",
            "13/13 [==============================] - 0s 5ms/step - loss: 13.7331 - val_loss: 17.4573\n",
            "Epoch 160/600\n",
            "13/13 [==============================] - 0s 4ms/step - loss: 11.3966 - val_loss: 20.5891\n",
            "Epoch 161/600\n",
            "13/13 [==============================] - 0s 4ms/step - loss: 13.1781 - val_loss: 20.2077\n",
            "Epoch 162/600\n",
            "13/13 [==============================] - 0s 5ms/step - loss: 13.6650 - val_loss: 18.5983\n",
            "Epoch 163/600\n",
            "13/13 [==============================] - 0s 5ms/step - loss: 13.2027 - val_loss: 17.2662\n",
            "Epoch 164/600\n",
            "13/13 [==============================] - 0s 4ms/step - loss: 12.9327 - val_loss: 17.4199\n",
            "Epoch 165/600\n",
            "13/13 [==============================] - 0s 5ms/step - loss: 13.7337 - val_loss: 15.9573\n",
            "Epoch 166/600\n",
            "13/13 [==============================] - 0s 5ms/step - loss: 12.0842 - val_loss: 17.1172\n",
            "Epoch 167/600\n",
            "13/13 [==============================] - 0s 4ms/step - loss: 12.2478 - val_loss: 17.0117\n",
            "Epoch 168/600\n",
            "13/13 [==============================] - 0s 5ms/step - loss: 12.1232 - val_loss: 18.0423\n",
            "Epoch 169/600\n",
            "13/13 [==============================] - 1s 43ms/step - loss: 12.1472 - val_loss: 17.0048\n",
            "Epoch 170/600\n",
            "13/13 [==============================] - 0s 5ms/step - loss: 13.3567 - val_loss: 14.9457\n",
            "Epoch 171/600\n",
            "13/13 [==============================] - 0s 4ms/step - loss: 12.0821 - val_loss: 19.1977\n",
            "Epoch 172/600\n",
            "13/13 [==============================] - 0s 4ms/step - loss: 11.6689 - val_loss: 18.1103\n",
            "Epoch 173/600\n",
            "13/13 [==============================] - 0s 5ms/step - loss: 13.8486 - val_loss: 20.6858\n",
            "Epoch 174/600\n",
            "13/13 [==============================] - 0s 6ms/step - loss: 11.5747 - val_loss: 15.9646\n",
            "Epoch 175/600\n",
            "13/13 [==============================] - 0s 5ms/step - loss: 12.4205 - val_loss: 17.5465\n",
            "Epoch 176/600\n",
            "13/13 [==============================] - 0s 4ms/step - loss: 12.2198 - val_loss: 17.0574\n",
            "Epoch 177/600\n",
            "13/13 [==============================] - 0s 4ms/step - loss: 11.0339 - val_loss: 19.4275\n",
            "Epoch 178/600\n",
            "13/13 [==============================] - 0s 5ms/step - loss: 12.0119 - val_loss: 16.6622\n",
            "Epoch 179/600\n",
            "13/13 [==============================] - 0s 5ms/step - loss: 11.9796 - val_loss: 18.9556\n",
            "Epoch 180/600\n",
            "13/13 [==============================] - 0s 5ms/step - loss: 12.2933 - val_loss: 15.9376\n",
            "Epoch 181/600\n",
            "13/13 [==============================] - 0s 5ms/step - loss: 13.3215 - val_loss: 15.2354\n",
            "Epoch 182/600\n",
            "13/13 [==============================] - 0s 5ms/step - loss: 12.7009 - val_loss: 18.0857\n",
            "Epoch 183/600\n",
            "13/13 [==============================] - 0s 5ms/step - loss: 10.3074 - val_loss: 17.9180\n",
            "Epoch 184/600\n",
            "13/13 [==============================] - 0s 4ms/step - loss: 11.9736 - val_loss: 16.3818\n",
            "Epoch 185/600\n",
            "13/13 [==============================] - 0s 4ms/step - loss: 11.2318 - val_loss: 18.7158\n",
            "Epoch 186/600\n",
            "13/13 [==============================] - 0s 4ms/step - loss: 14.0139 - val_loss: 20.1150\n",
            "Epoch 187/600\n",
            "13/13 [==============================] - 0s 4ms/step - loss: 11.1563 - val_loss: 18.0709\n",
            "Epoch 188/600\n",
            "13/13 [==============================] - 0s 5ms/step - loss: 11.6547 - val_loss: 16.8392\n",
            "Epoch 189/600\n",
            "13/13 [==============================] - 0s 5ms/step - loss: 12.4690 - val_loss: 17.6437\n",
            "Epoch 190/600\n",
            "13/13 [==============================] - 0s 4ms/step - loss: 11.5853 - val_loss: 18.5388\n",
            "Epoch 191/600\n",
            "13/13 [==============================] - 0s 5ms/step - loss: 10.7963 - val_loss: 15.8630\n",
            "Epoch 192/600\n",
            "13/13 [==============================] - 0s 5ms/step - loss: 12.2110 - val_loss: 18.1003\n",
            "Epoch 193/600\n",
            "13/13 [==============================] - 0s 5ms/step - loss: 12.4069 - val_loss: 15.0873\n",
            "Epoch 194/600\n",
            "13/13 [==============================] - 0s 4ms/step - loss: 13.4344 - val_loss: 17.0810\n",
            "Epoch 195/600\n",
            "13/13 [==============================] - 0s 5ms/step - loss: 13.5501 - val_loss: 16.0584\n",
            "Epoch 196/600\n",
            "13/13 [==============================] - 0s 5ms/step - loss: 11.7400 - val_loss: 17.6131\n",
            "Epoch 197/600\n",
            "13/13 [==============================] - 0s 5ms/step - loss: 11.0725 - val_loss: 18.3164\n",
            "Epoch 198/600\n",
            "13/13 [==============================] - 0s 5ms/step - loss: 10.0256 - val_loss: 16.4300\n",
            "Epoch 199/600\n",
            "13/13 [==============================] - 0s 5ms/step - loss: 11.5953 - val_loss: 18.8507\n",
            "Epoch 200/600\n",
            "13/13 [==============================] - 0s 4ms/step - loss: 11.2505 - val_loss: 17.4120\n",
            "Epoch 201/600\n",
            "13/13 [==============================] - 0s 5ms/step - loss: 10.2385 - val_loss: 15.3682\n",
            "Epoch 202/600\n",
            "13/13 [==============================] - 0s 5ms/step - loss: 9.9918 - val_loss: 15.9240\n",
            "Epoch 203/600\n",
            "13/13 [==============================] - 0s 5ms/step - loss: 12.0229 - val_loss: 18.1242\n",
            "Epoch 204/600\n",
            "13/13 [==============================] - 0s 5ms/step - loss: 11.4953 - val_loss: 17.4275\n",
            "Epoch 205/600\n",
            "13/13 [==============================] - 0s 5ms/step - loss: 11.3018 - val_loss: 18.4120\n",
            "Epoch 206/600\n",
            "13/13 [==============================] - 0s 5ms/step - loss: 11.4173 - val_loss: 19.2324\n",
            "Epoch 207/600\n",
            "13/13 [==============================] - 0s 4ms/step - loss: 11.0898 - val_loss: 16.1150\n",
            "Epoch 208/600\n",
            "13/13 [==============================] - 0s 5ms/step - loss: 12.8474 - val_loss: 17.5301\n",
            "Epoch 209/600\n",
            "13/13 [==============================] - 0s 5ms/step - loss: 11.4692 - val_loss: 16.6108\n",
            "Epoch 210/600\n",
            "13/13 [==============================] - 0s 5ms/step - loss: 12.1789 - val_loss: 15.0827\n",
            "Epoch 211/600\n",
            "13/13 [==============================] - 0s 5ms/step - loss: 12.4573 - val_loss: 16.1865\n",
            "Epoch 212/600\n",
            "13/13 [==============================] - 0s 5ms/step - loss: 11.5226 - val_loss: 16.4386\n",
            "Epoch 213/600\n",
            "13/13 [==============================] - 0s 5ms/step - loss: 10.2922 - val_loss: 16.4077\n",
            "Epoch 214/600\n",
            "13/13 [==============================] - 0s 5ms/step - loss: 11.8798 - val_loss: 15.5165\n",
            "Epoch 215/600\n",
            "13/13 [==============================] - 0s 5ms/step - loss: 11.1204 - val_loss: 16.8442\n",
            "Epoch 216/600\n",
            "13/13 [==============================] - 0s 5ms/step - loss: 12.4138 - val_loss: 17.0783\n",
            "Epoch 217/600\n",
            "13/13 [==============================] - 0s 5ms/step - loss: 11.2573 - val_loss: 15.8705\n",
            "Epoch 218/600\n",
            "13/13 [==============================] - 0s 5ms/step - loss: 15.6024 - val_loss: 17.3351\n",
            "Epoch 219/600\n",
            "13/13 [==============================] - 0s 5ms/step - loss: 12.7829 - val_loss: 17.1119\n",
            "Epoch 220/600\n",
            "13/13 [==============================] - 0s 4ms/step - loss: 10.6053 - val_loss: 15.5674\n",
            "Epoch 221/600\n",
            "13/13 [==============================] - 0s 4ms/step - loss: 12.0919 - val_loss: 21.5893\n",
            "Epoch 222/600\n",
            "13/13 [==============================] - 0s 5ms/step - loss: 10.4565 - val_loss: 16.5713\n",
            "Epoch 223/600\n",
            "13/13 [==============================] - 0s 5ms/step - loss: 9.7358 - val_loss: 16.3309\n",
            "Epoch 224/600\n",
            "13/13 [==============================] - 0s 5ms/step - loss: 9.5037 - val_loss: 15.7420\n",
            "Epoch 225/600\n",
            "13/13 [==============================] - 0s 5ms/step - loss: 11.3596 - val_loss: 19.4697\n",
            "Epoch 226/600\n",
            "13/13 [==============================] - 0s 5ms/step - loss: 12.0578 - val_loss: 16.4310\n",
            "Epoch 227/600\n",
            "13/13 [==============================] - 0s 4ms/step - loss: 10.2313 - val_loss: 15.1536\n",
            "Epoch 228/600\n",
            "13/13 [==============================] - 0s 5ms/step - loss: 10.6661 - val_loss: 15.7657\n",
            "Epoch 229/600\n",
            "13/13 [==============================] - 0s 4ms/step - loss: 10.5738 - val_loss: 17.2340\n",
            "Epoch 230/600\n",
            "13/13 [==============================] - 0s 5ms/step - loss: 10.8658 - val_loss: 14.8182\n",
            "Epoch 231/600\n",
            "13/13 [==============================] - 0s 4ms/step - loss: 12.9699 - val_loss: 18.0104\n",
            "Epoch 232/600\n",
            "13/13 [==============================] - 0s 4ms/step - loss: 13.7418 - val_loss: 16.7413\n",
            "Epoch 233/600\n",
            "13/13 [==============================] - 0s 4ms/step - loss: 12.0789 - val_loss: 16.5022\n",
            "Epoch 234/600\n",
            "13/13 [==============================] - 0s 5ms/step - loss: 10.8881 - val_loss: 18.3320\n",
            "Epoch 235/600\n",
            "13/13 [==============================] - 0s 4ms/step - loss: 11.7568 - val_loss: 15.1451\n",
            "Epoch 236/600\n",
            "13/13 [==============================] - 0s 4ms/step - loss: 10.5848 - val_loss: 18.5829\n",
            "Epoch 237/600\n",
            "13/13 [==============================] - 0s 5ms/step - loss: 11.1315 - val_loss: 15.7422\n",
            "Epoch 238/600\n",
            "13/13 [==============================] - 0s 5ms/step - loss: 11.4325 - val_loss: 17.9513\n",
            "Epoch 239/600\n",
            "13/13 [==============================] - 0s 4ms/step - loss: 12.3834 - val_loss: 18.9772\n",
            "Epoch 240/600\n",
            "13/13 [==============================] - 0s 5ms/step - loss: 12.0323 - val_loss: 17.2973\n",
            "Epoch 241/600\n",
            "13/13 [==============================] - 0s 5ms/step - loss: 12.9607 - val_loss: 17.9489\n",
            "Epoch 242/600\n",
            "13/13 [==============================] - 0s 4ms/step - loss: 10.3368 - val_loss: 17.6373\n",
            "Epoch 243/600\n",
            "13/13 [==============================] - 0s 5ms/step - loss: 11.3919 - val_loss: 15.1907\n",
            "Epoch 244/600\n",
            "13/13 [==============================] - 0s 5ms/step - loss: 10.3832 - val_loss: 16.4955\n",
            "Epoch 245/600\n",
            "13/13 [==============================] - 0s 5ms/step - loss: 12.3347 - val_loss: 18.2054\n",
            "Epoch 246/600\n",
            "13/13 [==============================] - 0s 5ms/step - loss: 11.2325 - val_loss: 17.1075\n",
            "Epoch 247/600\n",
            "13/13 [==============================] - 0s 5ms/step - loss: 11.0479 - val_loss: 15.2708\n",
            "Epoch 248/600\n",
            "13/13 [==============================] - 0s 5ms/step - loss: 11.6341 - val_loss: 15.8682\n",
            "Epoch 249/600\n",
            "13/13 [==============================] - 0s 4ms/step - loss: 12.2849 - val_loss: 16.9259\n",
            "Epoch 250/600\n",
            "13/13 [==============================] - 0s 4ms/step - loss: 10.7424 - val_loss: 17.3044\n",
            "Epoch 251/600\n",
            "13/13 [==============================] - 0s 4ms/step - loss: 12.3717 - val_loss: 15.3707\n",
            "Epoch 252/600\n",
            "13/13 [==============================] - 0s 5ms/step - loss: 12.4874 - val_loss: 14.8626\n",
            "Epoch 253/600\n",
            "13/13 [==============================] - 0s 5ms/step - loss: 12.5993 - val_loss: 17.1957\n",
            "Epoch 254/600\n",
            "13/13 [==============================] - 0s 5ms/step - loss: 10.5878 - val_loss: 16.0374\n",
            "Epoch 255/600\n",
            "13/13 [==============================] - 0s 5ms/step - loss: 10.0149 - val_loss: 18.8800\n",
            "Epoch 256/600\n",
            "13/13 [==============================] - 0s 4ms/step - loss: 11.4412 - val_loss: 17.7392\n",
            "Epoch 257/600\n",
            "13/13 [==============================] - 0s 5ms/step - loss: 10.3919 - val_loss: 17.4910\n",
            "Epoch 258/600\n",
            "13/13 [==============================] - 0s 5ms/step - loss: 12.9636 - val_loss: 15.5098\n",
            "Epoch 259/600\n",
            "13/13 [==============================] - 0s 5ms/step - loss: 13.5427 - val_loss: 18.0180\n",
            "Epoch 260/600\n",
            "13/13 [==============================] - 0s 5ms/step - loss: 9.5501 - val_loss: 19.5646\n",
            "Epoch 261/600\n",
            "13/13 [==============================] - 0s 5ms/step - loss: 12.4738 - val_loss: 18.7258\n",
            "Epoch 262/600\n",
            "13/13 [==============================] - 0s 5ms/step - loss: 10.2538 - val_loss: 16.1138\n",
            "Epoch 263/600\n",
            "13/13 [==============================] - 0s 5ms/step - loss: 9.9864 - val_loss: 19.0517\n",
            "Epoch 264/600\n",
            "13/13 [==============================] - 0s 5ms/step - loss: 10.9253 - val_loss: 18.5296\n",
            "Epoch 265/600\n",
            "13/13 [==============================] - 0s 5ms/step - loss: 10.8108 - val_loss: 15.8658\n",
            "Epoch 266/600\n",
            "13/13 [==============================] - 0s 5ms/step - loss: 10.9122 - val_loss: 17.4241\n",
            "Epoch 267/600\n",
            "13/13 [==============================] - 0s 5ms/step - loss: 10.3843 - val_loss: 18.2513\n",
            "Epoch 268/600\n",
            "13/13 [==============================] - 0s 6ms/step - loss: 12.2633 - val_loss: 16.7268\n",
            "Epoch 269/600\n",
            "13/13 [==============================] - 0s 6ms/step - loss: 11.3257 - val_loss: 14.6335\n",
            "Epoch 270/600\n",
            "13/13 [==============================] - 0s 5ms/step - loss: 10.5903 - val_loss: 17.8385\n",
            "Epoch 271/600\n",
            "13/13 [==============================] - 0s 6ms/step - loss: 8.2210 - val_loss: 20.4434\n",
            "Epoch 272/600\n",
            "13/13 [==============================] - 0s 6ms/step - loss: 10.4153 - val_loss: 15.9275\n",
            "Epoch 273/600\n",
            "13/13 [==============================] - 0s 5ms/step - loss: 10.1435 - val_loss: 16.3053\n",
            "Epoch 274/600\n",
            "13/13 [==============================] - 0s 5ms/step - loss: 9.2508 - val_loss: 15.3276\n",
            "Epoch 275/600\n",
            "13/13 [==============================] - 0s 5ms/step - loss: 10.2541 - val_loss: 15.4741\n",
            "Epoch 276/600\n",
            "13/13 [==============================] - 0s 5ms/step - loss: 8.6520 - val_loss: 14.8577\n",
            "Epoch 277/600\n",
            "13/13 [==============================] - 0s 5ms/step - loss: 9.7450 - val_loss: 14.9265\n",
            "Epoch 278/600\n",
            "13/13 [==============================] - 0s 5ms/step - loss: 11.6733 - val_loss: 18.2618\n",
            "Epoch 279/600\n",
            "13/13 [==============================] - 0s 5ms/step - loss: 10.2730 - val_loss: 15.3423\n",
            "Epoch 280/600\n",
            "13/13 [==============================] - 0s 5ms/step - loss: 10.4155 - val_loss: 17.7890\n",
            "Epoch 281/600\n",
            "13/13 [==============================] - 0s 5ms/step - loss: 10.4652 - val_loss: 15.1758\n",
            "Epoch 282/600\n",
            "13/13 [==============================] - 0s 5ms/step - loss: 11.1837 - val_loss: 19.0304\n",
            "Epoch 283/600\n",
            "13/13 [==============================] - 0s 6ms/step - loss: 10.1315 - val_loss: 15.4078\n",
            "Epoch 284/600\n",
            "13/13 [==============================] - 0s 5ms/step - loss: 9.5042 - val_loss: 14.6552\n",
            "Epoch 285/600\n",
            "13/13 [==============================] - 0s 6ms/step - loss: 9.9324 - val_loss: 15.5209\n",
            "Epoch 286/600\n",
            "13/13 [==============================] - 0s 5ms/step - loss: 9.6179 - val_loss: 14.1831\n",
            "Epoch 287/600\n",
            "13/13 [==============================] - 0s 5ms/step - loss: 10.3561 - val_loss: 17.3837\n",
            "Epoch 288/600\n",
            "13/13 [==============================] - 0s 5ms/step - loss: 12.7554 - val_loss: 21.9274\n",
            "Epoch 289/600\n",
            "13/13 [==============================] - 0s 5ms/step - loss: 11.5457 - val_loss: 17.8460\n",
            "Epoch 290/600\n",
            "13/13 [==============================] - 0s 5ms/step - loss: 10.2959 - val_loss: 14.9014\n",
            "Epoch 291/600\n",
            "13/13 [==============================] - 0s 6ms/step - loss: 12.2965 - val_loss: 17.8861\n",
            "Epoch 292/600\n",
            "13/13 [==============================] - 0s 5ms/step - loss: 9.6652 - val_loss: 17.2451\n",
            "Epoch 293/600\n",
            "13/13 [==============================] - 0s 5ms/step - loss: 11.1746 - val_loss: 15.8102\n",
            "Epoch 294/600\n",
            "13/13 [==============================] - 0s 5ms/step - loss: 10.4734 - val_loss: 18.2363\n",
            "Epoch 295/600\n",
            "13/13 [==============================] - 0s 5ms/step - loss: 10.6165 - val_loss: 20.0395\n",
            "Epoch 296/600\n",
            "13/13 [==============================] - 0s 5ms/step - loss: 10.8396 - val_loss: 16.6872\n",
            "Epoch 297/600\n",
            "13/13 [==============================] - 0s 5ms/step - loss: 11.0404 - val_loss: 15.2156\n",
            "Epoch 298/600\n",
            "13/13 [==============================] - 0s 5ms/step - loss: 13.1654 - val_loss: 15.8785\n",
            "Epoch 299/600\n",
            "13/13 [==============================] - 0s 5ms/step - loss: 11.5076 - val_loss: 16.7371\n",
            "Epoch 300/600\n",
            "13/13 [==============================] - 0s 5ms/step - loss: 9.2462 - val_loss: 17.2006\n",
            "Epoch 301/600\n",
            "13/13 [==============================] - 0s 5ms/step - loss: 10.9607 - val_loss: 17.5735\n",
            "Epoch 302/600\n",
            "13/13 [==============================] - 0s 5ms/step - loss: 10.3033 - val_loss: 18.2229\n",
            "Epoch 303/600\n",
            "13/13 [==============================] - 0s 5ms/step - loss: 10.8559 - val_loss: 17.5138\n",
            "Epoch 304/600\n",
            "13/13 [==============================] - 0s 5ms/step - loss: 11.0148 - val_loss: 16.1500\n",
            "Epoch 305/600\n",
            "13/13 [==============================] - 0s 5ms/step - loss: 10.0809 - val_loss: 17.0524\n",
            "Epoch 306/600\n",
            "13/13 [==============================] - 0s 5ms/step - loss: 9.6844 - val_loss: 15.5280\n",
            "Epoch 307/600\n",
            "13/13 [==============================] - 0s 5ms/step - loss: 10.7878 - val_loss: 17.3860\n",
            "Epoch 308/600\n",
            "13/13 [==============================] - 0s 5ms/step - loss: 10.5926 - val_loss: 16.3346\n",
            "Epoch 309/600\n",
            "13/13 [==============================] - 0s 5ms/step - loss: 10.4433 - val_loss: 18.3159\n",
            "Epoch 310/600\n",
            "13/13 [==============================] - 0s 6ms/step - loss: 10.4407 - val_loss: 18.9863\n",
            "Epoch 311/600\n",
            "13/13 [==============================] - 0s 5ms/step - loss: 11.9970 - val_loss: 16.1522\n",
            "Epoch 312/600\n",
            "13/13 [==============================] - 0s 5ms/step - loss: 10.2623 - val_loss: 17.2596\n",
            "Epoch 313/600\n",
            "13/13 [==============================] - 0s 5ms/step - loss: 9.0252 - val_loss: 15.4636\n",
            "Epoch 314/600\n",
            "13/13 [==============================] - 0s 5ms/step - loss: 9.7219 - val_loss: 15.8893\n",
            "Epoch 315/600\n",
            "13/13 [==============================] - 0s 5ms/step - loss: 9.9073 - val_loss: 16.9047\n",
            "Epoch 316/600\n",
            "13/13 [==============================] - 0s 5ms/step - loss: 11.0077 - val_loss: 19.5547\n",
            "Epoch 317/600\n",
            "13/13 [==============================] - 0s 5ms/step - loss: 8.8033 - val_loss: 17.2616\n",
            "Epoch 318/600\n",
            "13/13 [==============================] - 0s 5ms/step - loss: 9.7385 - val_loss: 15.2649\n",
            "Epoch 319/600\n",
            "13/13 [==============================] - 0s 6ms/step - loss: 10.2564 - val_loss: 15.9927\n",
            "Epoch 320/600\n",
            "13/13 [==============================] - 0s 5ms/step - loss: 10.4822 - val_loss: 17.1181\n",
            "Epoch 321/600\n",
            "13/13 [==============================] - 0s 5ms/step - loss: 8.9861 - val_loss: 16.7669\n",
            "Epoch 322/600\n",
            "13/13 [==============================] - 0s 5ms/step - loss: 10.4908 - val_loss: 17.8715\n",
            "Epoch 323/600\n",
            "13/13 [==============================] - 0s 5ms/step - loss: 8.3415 - val_loss: 16.9288\n",
            "Epoch 324/600\n",
            "13/13 [==============================] - 0s 5ms/step - loss: 11.3533 - val_loss: 17.5584\n",
            "Epoch 325/600\n",
            "13/13 [==============================] - 0s 5ms/step - loss: 10.8386 - val_loss: 16.2660\n",
            "Epoch 326/600\n",
            "13/13 [==============================] - 0s 5ms/step - loss: 9.5729 - val_loss: 16.4135\n",
            "Epoch 327/600\n",
            "13/13 [==============================] - 0s 5ms/step - loss: 9.7894 - val_loss: 17.0843\n",
            "Epoch 328/600\n",
            "13/13 [==============================] - 0s 5ms/step - loss: 11.1512 - val_loss: 19.7229\n",
            "Epoch 329/600\n",
            "13/13 [==============================] - 0s 5ms/step - loss: 9.8642 - val_loss: 16.4394\n",
            "Epoch 330/600\n",
            "13/13 [==============================] - 0s 5ms/step - loss: 9.3684 - val_loss: 16.4071\n",
            "Epoch 331/600\n",
            "13/13 [==============================] - 0s 5ms/step - loss: 9.0782 - val_loss: 15.3788\n",
            "Epoch 332/600\n",
            "13/13 [==============================] - 0s 5ms/step - loss: 8.8769 - val_loss: 14.7890\n",
            "Epoch 333/600\n",
            "13/13 [==============================] - 0s 4ms/step - loss: 10.0883 - val_loss: 17.0383\n",
            "Epoch 334/600\n",
            "13/13 [==============================] - 0s 5ms/step - loss: 9.7999 - val_loss: 16.8524\n",
            "Epoch 335/600\n",
            "13/13 [==============================] - 0s 6ms/step - loss: 11.2602 - val_loss: 15.7470\n",
            "Epoch 336/600\n",
            "13/13 [==============================] - 0s 5ms/step - loss: 11.5087 - val_loss: 20.0237\n",
            "Epoch 337/600\n",
            "13/13 [==============================] - 0s 5ms/step - loss: 9.6409 - val_loss: 16.8154\n",
            "Epoch 338/600\n",
            "13/13 [==============================] - 0s 5ms/step - loss: 11.6254 - val_loss: 15.8461\n",
            "Epoch 339/600\n",
            "13/13 [==============================] - 0s 5ms/step - loss: 10.3982 - val_loss: 15.0643\n",
            "Epoch 340/600\n",
            "13/13 [==============================] - 0s 5ms/step - loss: 9.5647 - val_loss: 16.1954\n",
            "Epoch 341/600\n",
            "13/13 [==============================] - 0s 5ms/step - loss: 9.8970 - val_loss: 17.7410\n",
            "Epoch 342/600\n",
            "13/13 [==============================] - 0s 4ms/step - loss: 10.7362 - val_loss: 16.5718\n",
            "Epoch 343/600\n",
            "13/13 [==============================] - 0s 5ms/step - loss: 10.8647 - val_loss: 16.4370\n",
            "Epoch 344/600\n",
            "13/13 [==============================] - 0s 5ms/step - loss: 10.6527 - val_loss: 15.5860\n",
            "Epoch 345/600\n",
            "13/13 [==============================] - 0s 5ms/step - loss: 9.5996 - val_loss: 16.0618\n",
            "Epoch 346/600\n",
            "13/13 [==============================] - 0s 5ms/step - loss: 9.2073 - val_loss: 16.3028\n",
            "Epoch 347/600\n",
            "13/13 [==============================] - 0s 5ms/step - loss: 11.0782 - val_loss: 16.0338\n",
            "Epoch 348/600\n",
            "13/13 [==============================] - 0s 5ms/step - loss: 9.9636 - val_loss: 17.6070\n",
            "Epoch 349/600\n",
            "13/13 [==============================] - 0s 5ms/step - loss: 10.6819 - val_loss: 16.1970\n",
            "Epoch 350/600\n",
            "13/13 [==============================] - 0s 5ms/step - loss: 11.5469 - val_loss: 16.3631\n",
            "Epoch 351/600\n",
            "13/13 [==============================] - 0s 5ms/step - loss: 9.9858 - val_loss: 13.7320\n",
            "Epoch 352/600\n",
            "13/13 [==============================] - 0s 5ms/step - loss: 10.0953 - val_loss: 15.4883\n",
            "Epoch 353/600\n",
            "13/13 [==============================] - 0s 6ms/step - loss: 10.3382 - val_loss: 14.8401\n",
            "Epoch 354/600\n",
            "13/13 [==============================] - 0s 5ms/step - loss: 8.9429 - val_loss: 15.5099\n",
            "Epoch 355/600\n",
            "13/13 [==============================] - 0s 5ms/step - loss: 10.6900 - val_loss: 18.2299\n",
            "Epoch 356/600\n",
            "13/13 [==============================] - 0s 4ms/step - loss: 8.5761 - val_loss: 20.8346\n",
            "Epoch 357/600\n",
            "13/13 [==============================] - 0s 5ms/step - loss: 11.5892 - val_loss: 19.0395\n",
            "Epoch 358/600\n",
            "13/13 [==============================] - 0s 5ms/step - loss: 7.4237 - val_loss: 16.3100\n",
            "Epoch 359/600\n",
            "13/13 [==============================] - 0s 5ms/step - loss: 9.5341 - val_loss: 17.5402\n",
            "Epoch 360/600\n",
            "13/13 [==============================] - 0s 5ms/step - loss: 9.9053 - val_loss: 16.9816\n",
            "Epoch 361/600\n",
            "13/13 [==============================] - 0s 6ms/step - loss: 10.7201 - val_loss: 15.1895\n",
            "Epoch 362/600\n",
            "13/13 [==============================] - 0s 5ms/step - loss: 7.9167 - val_loss: 15.4744\n",
            "Epoch 363/600\n",
            "13/13 [==============================] - 0s 5ms/step - loss: 9.9951 - val_loss: 16.4935\n",
            "Epoch 364/600\n",
            "13/13 [==============================] - 0s 5ms/step - loss: 9.0212 - val_loss: 15.7340\n",
            "Epoch 365/600\n",
            "13/13 [==============================] - 0s 5ms/step - loss: 10.5115 - val_loss: 17.2672\n",
            "Epoch 366/600\n",
            "13/13 [==============================] - 0s 6ms/step - loss: 10.0202 - val_loss: 16.9251\n",
            "Epoch 367/600\n",
            "13/13 [==============================] - 0s 5ms/step - loss: 11.2301 - val_loss: 15.9019\n",
            "Epoch 368/600\n",
            "13/13 [==============================] - 0s 5ms/step - loss: 9.3371 - val_loss: 16.7813\n",
            "Epoch 369/600\n",
            "13/13 [==============================] - 0s 5ms/step - loss: 8.3650 - val_loss: 16.6795\n",
            "Epoch 370/600\n",
            "13/13 [==============================] - 0s 5ms/step - loss: 9.3751 - val_loss: 16.8236\n",
            "Epoch 371/600\n",
            "13/13 [==============================] - 0s 5ms/step - loss: 10.8945 - val_loss: 15.7219\n",
            "Epoch 372/600\n",
            "13/13 [==============================] - 0s 5ms/step - loss: 9.0374 - val_loss: 19.0424\n",
            "Epoch 373/600\n",
            "13/13 [==============================] - 0s 4ms/step - loss: 9.7728 - val_loss: 17.3903\n",
            "Epoch 374/600\n",
            "13/13 [==============================] - 0s 5ms/step - loss: 9.0211 - val_loss: 15.1844\n",
            "Epoch 375/600\n",
            "13/13 [==============================] - 0s 5ms/step - loss: 10.3120 - val_loss: 18.3830\n",
            "Epoch 376/600\n",
            "13/13 [==============================] - 0s 5ms/step - loss: 9.9959 - val_loss: 16.5631\n",
            "Epoch 377/600\n",
            "13/13 [==============================] - 0s 6ms/step - loss: 9.7486 - val_loss: 16.5592\n",
            "Epoch 378/600\n",
            "13/13 [==============================] - 0s 5ms/step - loss: 11.0216 - val_loss: 19.6846\n",
            "Epoch 379/600\n",
            "13/13 [==============================] - 0s 5ms/step - loss: 8.3947 - val_loss: 15.9483\n",
            "Epoch 380/600\n",
            "13/13 [==============================] - 0s 5ms/step - loss: 8.1967 - val_loss: 15.4003\n",
            "Epoch 381/600\n",
            "13/13 [==============================] - 0s 5ms/step - loss: 10.5188 - val_loss: 19.8432\n",
            "Epoch 382/600\n",
            "13/13 [==============================] - 0s 5ms/step - loss: 9.1196 - val_loss: 18.1691\n",
            "Epoch 383/600\n",
            "13/13 [==============================] - 0s 5ms/step - loss: 9.2158 - val_loss: 15.0798\n",
            "Epoch 384/600\n",
            "13/13 [==============================] - 0s 4ms/step - loss: 9.8891 - val_loss: 15.4206\n",
            "Epoch 385/600\n",
            "13/13 [==============================] - 0s 5ms/step - loss: 9.1876 - val_loss: 17.6325\n",
            "Epoch 386/600\n",
            "13/13 [==============================] - 0s 5ms/step - loss: 10.6042 - val_loss: 17.3374\n",
            "Epoch 387/600\n",
            "13/13 [==============================] - 0s 5ms/step - loss: 9.8703 - val_loss: 18.2318\n",
            "Epoch 388/600\n",
            "13/13 [==============================] - 0s 5ms/step - loss: 8.7089 - val_loss: 16.6678\n",
            "Epoch 389/600\n",
            "13/13 [==============================] - 0s 5ms/step - loss: 8.4924 - val_loss: 14.9794\n",
            "Epoch 390/600\n",
            "13/13 [==============================] - 0s 5ms/step - loss: 8.3726 - val_loss: 16.2986\n",
            "Epoch 391/600\n",
            "13/13 [==============================] - 0s 5ms/step - loss: 8.1789 - val_loss: 17.6491\n",
            "Epoch 392/600\n",
            "13/13 [==============================] - 0s 5ms/step - loss: 9.2783 - val_loss: 16.4258\n",
            "Epoch 393/600\n",
            "13/13 [==============================] - 0s 5ms/step - loss: 8.6150 - val_loss: 17.9533\n",
            "Epoch 394/600\n",
            "13/13 [==============================] - 0s 6ms/step - loss: 9.2722 - val_loss: 15.8599\n",
            "Epoch 395/600\n",
            "13/13 [==============================] - 0s 5ms/step - loss: 9.6392 - val_loss: 17.2704\n",
            "Epoch 396/600\n",
            "13/13 [==============================] - 0s 5ms/step - loss: 9.6291 - val_loss: 16.3872\n",
            "Epoch 397/600\n",
            "13/13 [==============================] - 0s 5ms/step - loss: 8.4269 - val_loss: 17.1166\n",
            "Epoch 398/600\n",
            "13/13 [==============================] - 0s 5ms/step - loss: 9.0348 - val_loss: 16.6921\n",
            "Epoch 399/600\n",
            "13/13 [==============================] - 0s 5ms/step - loss: 8.6825 - val_loss: 17.1858\n",
            "Epoch 400/600\n",
            "13/13 [==============================] - 0s 5ms/step - loss: 9.4068 - val_loss: 16.3478\n",
            "Epoch 401/600\n",
            "13/13 [==============================] - 0s 5ms/step - loss: 10.4466 - val_loss: 17.4540\n",
            "Epoch 402/600\n",
            "13/13 [==============================] - 0s 5ms/step - loss: 8.7057 - val_loss: 16.1131\n",
            "Epoch 403/600\n",
            "13/13 [==============================] - 0s 5ms/step - loss: 9.1471 - val_loss: 17.5311\n",
            "Epoch 404/600\n",
            "13/13 [==============================] - 0s 6ms/step - loss: 9.5297 - val_loss: 19.6686\n",
            "Epoch 405/600\n",
            "13/13 [==============================] - 0s 5ms/step - loss: 9.4612 - val_loss: 17.5803\n",
            "Epoch 406/600\n",
            "13/13 [==============================] - 0s 5ms/step - loss: 9.5053 - val_loss: 19.2477\n",
            "Epoch 407/600\n",
            "13/13 [==============================] - 0s 4ms/step - loss: 10.0413 - val_loss: 15.8654\n",
            "Epoch 408/600\n",
            "13/13 [==============================] - 0s 5ms/step - loss: 10.0085 - val_loss: 14.5702\n",
            "Epoch 409/600\n",
            "13/13 [==============================] - 0s 5ms/step - loss: 9.6468 - val_loss: 19.5857\n",
            "Epoch 410/600\n",
            "13/13 [==============================] - 0s 5ms/step - loss: 10.0035 - val_loss: 19.0946\n",
            "Epoch 411/600\n",
            "13/13 [==============================] - 0s 5ms/step - loss: 10.5706 - val_loss: 15.2898\n",
            "Epoch 412/600\n",
            "13/13 [==============================] - 0s 5ms/step - loss: 9.6567 - val_loss: 18.6950\n",
            "Epoch 413/600\n",
            "13/13 [==============================] - 0s 5ms/step - loss: 8.9849 - val_loss: 15.9145\n",
            "Epoch 414/600\n",
            "13/13 [==============================] - 0s 5ms/step - loss: 7.4880 - val_loss: 15.2203\n",
            "Epoch 415/600\n",
            "13/13 [==============================] - 0s 5ms/step - loss: 9.8985 - val_loss: 14.6419\n",
            "Epoch 416/600\n",
            "13/13 [==============================] - 0s 5ms/step - loss: 8.8168 - val_loss: 15.4936\n",
            "Epoch 417/600\n",
            "13/13 [==============================] - 0s 4ms/step - loss: 9.1121 - val_loss: 19.4903\n",
            "Epoch 418/600\n",
            "13/13 [==============================] - 0s 4ms/step - loss: 9.7250 - val_loss: 17.1382\n",
            "Epoch 419/600\n",
            "13/13 [==============================] - 0s 4ms/step - loss: 10.0209 - val_loss: 16.7243\n",
            "Epoch 420/600\n",
            "13/13 [==============================] - 0s 4ms/step - loss: 8.3919 - val_loss: 16.4848\n",
            "Epoch 421/600\n",
            "13/13 [==============================] - 0s 4ms/step - loss: 9.2164 - val_loss: 16.6216\n",
            "Epoch 422/600\n",
            "13/13 [==============================] - 0s 5ms/step - loss: 8.4896 - val_loss: 15.9004\n",
            "Epoch 423/600\n",
            "13/13 [==============================] - 0s 5ms/step - loss: 9.0511 - val_loss: 14.4011\n",
            "Epoch 424/600\n",
            "13/13 [==============================] - 0s 5ms/step - loss: 9.0054 - val_loss: 21.0732\n",
            "Epoch 425/600\n",
            "13/13 [==============================] - 0s 5ms/step - loss: 11.0915 - val_loss: 13.8416\n",
            "Epoch 426/600\n",
            "13/13 [==============================] - 0s 4ms/step - loss: 11.1704 - val_loss: 15.9211\n",
            "Epoch 427/600\n",
            "13/13 [==============================] - 0s 5ms/step - loss: 9.2286 - val_loss: 15.8260\n",
            "Epoch 428/600\n",
            "13/13 [==============================] - 0s 5ms/step - loss: 9.5414 - val_loss: 15.3171\n",
            "Epoch 429/600\n",
            "13/13 [==============================] - 0s 4ms/step - loss: 9.8783 - val_loss: 14.5255\n",
            "Epoch 430/600\n",
            "13/13 [==============================] - 0s 5ms/step - loss: 11.4591 - val_loss: 19.3212\n",
            "Epoch 431/600\n",
            "13/13 [==============================] - 0s 5ms/step - loss: 10.3356 - val_loss: 14.7577\n",
            "Epoch 432/600\n",
            "13/13 [==============================] - 0s 6ms/step - loss: 11.0327 - val_loss: 19.2554\n",
            "Epoch 433/600\n",
            "13/13 [==============================] - 0s 5ms/step - loss: 8.2667 - val_loss: 16.2379\n",
            "Epoch 434/600\n",
            "13/13 [==============================] - 0s 5ms/step - loss: 9.9506 - val_loss: 15.3684\n",
            "Epoch 435/600\n",
            "13/13 [==============================] - 0s 5ms/step - loss: 10.9492 - val_loss: 14.6840\n",
            "Epoch 436/600\n",
            "13/13 [==============================] - 0s 4ms/step - loss: 8.5853 - val_loss: 16.2586\n",
            "Epoch 437/600\n",
            "13/13 [==============================] - 0s 4ms/step - loss: 8.8776 - val_loss: 15.9878\n",
            "Epoch 438/600\n",
            "13/13 [==============================] - 0s 5ms/step - loss: 9.0794 - val_loss: 15.8013\n",
            "Epoch 439/600\n",
            "13/13 [==============================] - 0s 4ms/step - loss: 9.2782 - val_loss: 13.7668\n",
            "Epoch 440/600\n",
            "13/13 [==============================] - 0s 5ms/step - loss: 8.0451 - val_loss: 15.3077\n",
            "Epoch 441/600\n",
            "13/13 [==============================] - 0s 5ms/step - loss: 8.1587 - val_loss: 14.7038\n",
            "Epoch 442/600\n",
            "13/13 [==============================] - 0s 5ms/step - loss: 9.0180 - val_loss: 16.6083\n",
            "Epoch 443/600\n",
            "13/13 [==============================] - 0s 4ms/step - loss: 10.2900 - val_loss: 16.1784\n",
            "Epoch 444/600\n",
            "13/13 [==============================] - 0s 5ms/step - loss: 9.8067 - val_loss: 18.7499\n",
            "Epoch 445/600\n",
            "13/13 [==============================] - 0s 5ms/step - loss: 10.0235 - val_loss: 17.0070\n",
            "Epoch 446/600\n",
            "13/13 [==============================] - 0s 4ms/step - loss: 8.3675 - val_loss: 17.4223\n",
            "Epoch 447/600\n",
            "13/13 [==============================] - 0s 5ms/step - loss: 8.9255 - val_loss: 15.4603\n",
            "Epoch 448/600\n",
            "13/13 [==============================] - 0s 5ms/step - loss: 8.0822 - val_loss: 15.8610\n",
            "Epoch 449/600\n",
            "13/13 [==============================] - 0s 5ms/step - loss: 9.5326 - val_loss: 15.7109\n",
            "Epoch 450/600\n",
            "13/13 [==============================] - 0s 4ms/step - loss: 8.1779 - val_loss: 16.2343\n",
            "Epoch 451/600\n",
            "13/13 [==============================] - 0s 6ms/step - loss: 9.0226 - val_loss: 14.6842\n",
            "Epoch 452/600\n",
            "13/13 [==============================] - 0s 4ms/step - loss: 9.3340 - val_loss: 16.2648\n",
            "Epoch 453/600\n",
            "13/13 [==============================] - 0s 4ms/step - loss: 8.6105 - val_loss: 16.3911\n",
            "Epoch 454/600\n",
            "13/13 [==============================] - 0s 4ms/step - loss: 9.2983 - val_loss: 19.2063\n",
            "Epoch 455/600\n",
            "13/13 [==============================] - 0s 5ms/step - loss: 9.8026 - val_loss: 18.0493\n",
            "Epoch 456/600\n",
            "13/13 [==============================] - 0s 5ms/step - loss: 9.3722 - val_loss: 15.4434\n",
            "Epoch 457/600\n",
            "13/13 [==============================] - 0s 5ms/step - loss: 10.0469 - val_loss: 17.8325\n",
            "Epoch 458/600\n",
            "13/13 [==============================] - 0s 5ms/step - loss: 9.1048 - val_loss: 15.2708\n",
            "Epoch 459/600\n",
            "13/13 [==============================] - 0s 4ms/step - loss: 9.3855 - val_loss: 18.2568\n",
            "Epoch 460/600\n",
            "13/13 [==============================] - 0s 5ms/step - loss: 9.3737 - val_loss: 18.1003\n",
            "Epoch 461/600\n",
            "13/13 [==============================] - 0s 5ms/step - loss: 9.0231 - val_loss: 18.0944\n",
            "Epoch 462/600\n",
            "13/13 [==============================] - 0s 5ms/step - loss: 9.8640 - val_loss: 14.8276\n",
            "Epoch 463/600\n",
            "13/13 [==============================] - 0s 4ms/step - loss: 10.3209 - val_loss: 16.3152\n",
            "Epoch 464/600\n",
            "13/13 [==============================] - 0s 4ms/step - loss: 9.5695 - val_loss: 13.9127\n",
            "Epoch 465/600\n",
            "13/13 [==============================] - 0s 4ms/step - loss: 8.3350 - val_loss: 17.4762\n",
            "Epoch 466/600\n",
            "13/13 [==============================] - 0s 5ms/step - loss: 9.9579 - val_loss: 14.8353\n",
            "Epoch 467/600\n",
            "13/13 [==============================] - 0s 4ms/step - loss: 10.4915 - val_loss: 18.9724\n",
            "Epoch 468/600\n",
            "13/13 [==============================] - 0s 5ms/step - loss: 10.6728 - val_loss: 16.2357\n",
            "Epoch 469/600\n",
            "13/13 [==============================] - 0s 4ms/step - loss: 10.2211 - val_loss: 17.8629\n",
            "Epoch 470/600\n",
            "13/13 [==============================] - 0s 6ms/step - loss: 8.7760 - val_loss: 16.9338\n",
            "Epoch 471/600\n",
            "13/13 [==============================] - 0s 4ms/step - loss: 8.7135 - val_loss: 17.7765\n",
            "Epoch 472/600\n",
            "13/13 [==============================] - 0s 4ms/step - loss: 9.9277 - val_loss: 15.7026\n",
            "Epoch 473/600\n",
            "13/13 [==============================] - 0s 4ms/step - loss: 8.5408 - val_loss: 15.7821\n",
            "Epoch 474/600\n",
            "13/13 [==============================] - 0s 4ms/step - loss: 8.3670 - val_loss: 15.8787\n",
            "Epoch 475/600\n",
            "13/13 [==============================] - 0s 4ms/step - loss: 10.3295 - val_loss: 15.9826\n",
            "Epoch 476/600\n",
            "13/13 [==============================] - 0s 5ms/step - loss: 8.0660 - val_loss: 15.4785\n",
            "Epoch 477/600\n",
            "13/13 [==============================] - 0s 5ms/step - loss: 9.2994 - val_loss: 19.2138\n",
            "Epoch 478/600\n",
            "13/13 [==============================] - 0s 4ms/step - loss: 8.2344 - val_loss: 15.1473\n",
            "Epoch 479/600\n",
            "13/13 [==============================] - 0s 5ms/step - loss: 9.3658 - val_loss: 15.4259\n",
            "Epoch 480/600\n",
            "13/13 [==============================] - 0s 4ms/step - loss: 8.7353 - val_loss: 18.0556\n",
            "Epoch 481/600\n",
            "13/13 [==============================] - 0s 4ms/step - loss: 8.1461 - val_loss: 17.3369\n",
            "Epoch 482/600\n",
            "13/13 [==============================] - 0s 4ms/step - loss: 8.2949 - val_loss: 18.4702\n",
            "Epoch 483/600\n",
            "13/13 [==============================] - 0s 5ms/step - loss: 10.3878 - val_loss: 16.9594\n",
            "Epoch 484/600\n",
            "13/13 [==============================] - 0s 4ms/step - loss: 8.6405 - val_loss: 15.2718\n",
            "Epoch 485/600\n",
            "13/13 [==============================] - 0s 5ms/step - loss: 9.6528 - val_loss: 18.3365\n",
            "Epoch 486/600\n",
            "13/13 [==============================] - 0s 5ms/step - loss: 8.3546 - val_loss: 16.7301\n",
            "Epoch 487/600\n",
            "13/13 [==============================] - 0s 5ms/step - loss: 9.8102 - val_loss: 16.5818\n",
            "Epoch 488/600\n",
            "13/13 [==============================] - 0s 4ms/step - loss: 9.5766 - val_loss: 19.0257\n",
            "Epoch 489/600\n",
            "13/13 [==============================] - 0s 6ms/step - loss: 10.2863 - val_loss: 18.7856\n",
            "Epoch 490/600\n",
            "13/13 [==============================] - 0s 5ms/step - loss: 9.4726 - val_loss: 18.1382\n",
            "Epoch 491/600\n",
            "13/13 [==============================] - 0s 5ms/step - loss: 9.6523 - val_loss: 18.0161\n",
            "Epoch 492/600\n",
            "13/13 [==============================] - 0s 5ms/step - loss: 8.3460 - val_loss: 14.5147\n",
            "Epoch 493/600\n",
            "13/13 [==============================] - 0s 4ms/step - loss: 8.9678 - val_loss: 15.3718\n",
            "Epoch 494/600\n",
            "13/13 [==============================] - 0s 5ms/step - loss: 7.7094 - val_loss: 16.1254\n",
            "Epoch 495/600\n",
            "13/13 [==============================] - 0s 4ms/step - loss: 9.7708 - val_loss: 16.9129\n",
            "Epoch 496/600\n",
            "13/13 [==============================] - 0s 4ms/step - loss: 9.5572 - val_loss: 15.6710\n",
            "Epoch 497/600\n",
            "13/13 [==============================] - 0s 5ms/step - loss: 10.1525 - val_loss: 15.9698\n",
            "Epoch 498/600\n",
            "13/13 [==============================] - 0s 5ms/step - loss: 8.6012 - val_loss: 15.0634\n",
            "Epoch 499/600\n",
            "13/13 [==============================] - 0s 4ms/step - loss: 8.3569 - val_loss: 16.8020\n",
            "Epoch 500/600\n",
            "13/13 [==============================] - 0s 4ms/step - loss: 8.8101 - val_loss: 16.3020\n",
            "Epoch 501/600\n",
            "13/13 [==============================] - 0s 5ms/step - loss: 8.4888 - val_loss: 14.0193\n",
            "Epoch 502/600\n",
            "13/13 [==============================] - 0s 4ms/step - loss: 8.7167 - val_loss: 16.3654\n",
            "Epoch 503/600\n",
            "13/13 [==============================] - 0s 5ms/step - loss: 10.2932 - val_loss: 17.8915\n",
            "Epoch 504/600\n",
            "13/13 [==============================] - 0s 5ms/step - loss: 9.4326 - val_loss: 19.2343\n",
            "Epoch 505/600\n",
            "13/13 [==============================] - 0s 5ms/step - loss: 8.9619 - val_loss: 14.4589\n",
            "Epoch 506/600\n",
            "13/13 [==============================] - 0s 5ms/step - loss: 8.2152 - val_loss: 19.2091\n",
            "Epoch 507/600\n",
            "13/13 [==============================] - 0s 4ms/step - loss: 9.5724 - val_loss: 14.7918\n",
            "Epoch 508/600\n",
            "13/13 [==============================] - 0s 5ms/step - loss: 9.8832 - val_loss: 17.7399\n",
            "Epoch 509/600\n",
            "13/13 [==============================] - 0s 5ms/step - loss: 9.5017 - val_loss: 16.5647\n",
            "Epoch 510/600\n",
            "13/13 [==============================] - 0s 4ms/step - loss: 7.4136 - val_loss: 16.9164\n",
            "Epoch 511/600\n",
            "13/13 [==============================] - 0s 5ms/step - loss: 7.5229 - val_loss: 16.2331\n",
            "Epoch 512/600\n",
            "13/13 [==============================] - 0s 4ms/step - loss: 8.1013 - val_loss: 15.9428\n",
            "Epoch 513/600\n",
            "13/13 [==============================] - 0s 5ms/step - loss: 7.9484 - val_loss: 15.5709\n",
            "Epoch 514/600\n",
            "13/13 [==============================] - 0s 5ms/step - loss: 9.3368 - val_loss: 15.7331\n",
            "Epoch 515/600\n",
            "13/13 [==============================] - 0s 5ms/step - loss: 9.2690 - val_loss: 20.0071\n",
            "Epoch 516/600\n",
            "13/13 [==============================] - 0s 5ms/step - loss: 10.9478 - val_loss: 16.3458\n",
            "Epoch 517/600\n",
            "13/13 [==============================] - 0s 5ms/step - loss: 8.8395 - val_loss: 16.7095\n",
            "Epoch 518/600\n",
            "13/13 [==============================] - 0s 5ms/step - loss: 9.7458 - val_loss: 16.3699\n",
            "Epoch 519/600\n",
            "13/13 [==============================] - 0s 5ms/step - loss: 8.9411 - val_loss: 16.0417\n",
            "Epoch 520/600\n",
            "13/13 [==============================] - 0s 5ms/step - loss: 9.8735 - val_loss: 17.5549\n",
            "Epoch 521/600\n",
            "13/13 [==============================] - 0s 4ms/step - loss: 9.7340 - val_loss: 16.1431\n",
            "Epoch 522/600\n",
            "13/13 [==============================] - 0s 5ms/step - loss: 8.6867 - val_loss: 16.0972\n",
            "Epoch 523/600\n",
            "13/13 [==============================] - 0s 4ms/step - loss: 9.7348 - val_loss: 19.2437\n",
            "Epoch 524/600\n",
            "13/13 [==============================] - 0s 4ms/step - loss: 9.6177 - val_loss: 15.2153\n",
            "Epoch 525/600\n",
            "13/13 [==============================] - 0s 4ms/step - loss: 8.3735 - val_loss: 15.8098\n",
            "Epoch 526/600\n",
            "13/13 [==============================] - 0s 5ms/step - loss: 9.2005 - val_loss: 18.6409\n",
            "Epoch 527/600\n",
            "13/13 [==============================] - 0s 5ms/step - loss: 7.9491 - val_loss: 17.1900\n",
            "Epoch 528/600\n",
            "13/13 [==============================] - 0s 5ms/step - loss: 8.3264 - val_loss: 14.1486\n",
            "Epoch 529/600\n",
            "13/13 [==============================] - 0s 5ms/step - loss: 8.1096 - val_loss: 15.6615\n",
            "Epoch 530/600\n",
            "13/13 [==============================] - 0s 5ms/step - loss: 9.3310 - val_loss: 14.8149\n",
            "Epoch 531/600\n",
            "13/13 [==============================] - 0s 4ms/step - loss: 8.1673 - val_loss: 18.7626\n",
            "Epoch 532/600\n",
            "13/13 [==============================] - 0s 4ms/step - loss: 8.2725 - val_loss: 19.4960\n",
            "Epoch 533/600\n",
            "13/13 [==============================] - 0s 4ms/step - loss: 8.2136 - val_loss: 16.5247\n",
            "Epoch 534/600\n",
            "13/13 [==============================] - 0s 5ms/step - loss: 9.2386 - val_loss: 16.9828\n",
            "Epoch 535/600\n",
            "13/13 [==============================] - 0s 5ms/step - loss: 8.6602 - val_loss: 17.0328\n",
            "Epoch 536/600\n",
            "13/13 [==============================] - 0s 5ms/step - loss: 8.4864 - val_loss: 16.0305\n",
            "Epoch 537/600\n",
            "13/13 [==============================] - 0s 5ms/step - loss: 9.0733 - val_loss: 16.7511\n",
            "Epoch 538/600\n",
            "13/13 [==============================] - 0s 5ms/step - loss: 9.4978 - val_loss: 15.3603\n",
            "Epoch 539/600\n",
            "13/13 [==============================] - 0s 5ms/step - loss: 7.1087 - val_loss: 17.5120\n",
            "Epoch 540/600\n",
            "13/13 [==============================] - 0s 5ms/step - loss: 9.0195 - val_loss: 15.6764\n",
            "Epoch 541/600\n",
            "13/13 [==============================] - 0s 5ms/step - loss: 8.0685 - val_loss: 16.9448\n",
            "Epoch 542/600\n",
            "13/13 [==============================] - 0s 5ms/step - loss: 7.1478 - val_loss: 15.6990\n",
            "Epoch 543/600\n",
            "13/13 [==============================] - 0s 5ms/step - loss: 7.2362 - val_loss: 17.8762\n",
            "Epoch 544/600\n",
            "13/13 [==============================] - 0s 4ms/step - loss: 8.1322 - val_loss: 15.8835\n",
            "Epoch 545/600\n",
            "13/13 [==============================] - 0s 6ms/step - loss: 9.7029 - val_loss: 16.7153\n",
            "Epoch 546/600\n",
            "13/13 [==============================] - 0s 5ms/step - loss: 10.1897 - val_loss: 15.3217\n",
            "Epoch 547/600\n",
            "13/13 [==============================] - 0s 5ms/step - loss: 8.2484 - val_loss: 15.7420\n",
            "Epoch 548/600\n",
            "13/13 [==============================] - 0s 5ms/step - loss: 9.0188 - val_loss: 17.9550\n",
            "Epoch 549/600\n",
            "13/13 [==============================] - 0s 4ms/step - loss: 8.8590 - val_loss: 15.0960\n",
            "Epoch 550/600\n",
            "13/13 [==============================] - 0s 5ms/step - loss: 8.7348 - val_loss: 15.2843\n",
            "Epoch 551/600\n",
            "13/13 [==============================] - 0s 4ms/step - loss: 9.1564 - val_loss: 17.3781\n",
            "Epoch 552/600\n",
            "13/13 [==============================] - 0s 4ms/step - loss: 8.0828 - val_loss: 16.5405\n",
            "Epoch 553/600\n",
            "13/13 [==============================] - 0s 4ms/step - loss: 8.3588 - val_loss: 16.1653\n",
            "Epoch 554/600\n",
            "13/13 [==============================] - 0s 4ms/step - loss: 7.5310 - val_loss: 16.2855\n",
            "Epoch 555/600\n",
            "13/13 [==============================] - 0s 5ms/step - loss: 8.3554 - val_loss: 17.0523\n",
            "Epoch 556/600\n",
            "13/13 [==============================] - 0s 4ms/step - loss: 8.2095 - val_loss: 14.5705\n",
            "Epoch 557/600\n",
            "13/13 [==============================] - 0s 5ms/step - loss: 8.4323 - val_loss: 14.2092\n",
            "Epoch 558/600\n",
            "13/13 [==============================] - 0s 5ms/step - loss: 8.8799 - val_loss: 16.5064\n",
            "Epoch 559/600\n",
            "13/13 [==============================] - 0s 4ms/step - loss: 6.8377 - val_loss: 16.2676\n",
            "Epoch 560/600\n",
            "13/13 [==============================] - 0s 5ms/step - loss: 8.0006 - val_loss: 16.2224\n",
            "Epoch 561/600\n",
            "13/13 [==============================] - 0s 5ms/step - loss: 8.8969 - val_loss: 16.3215\n",
            "Epoch 562/600\n",
            "13/13 [==============================] - 0s 5ms/step - loss: 8.6048 - val_loss: 16.0917\n",
            "Epoch 563/600\n",
            "13/13 [==============================] - 0s 5ms/step - loss: 7.7291 - val_loss: 15.9727\n",
            "Epoch 564/600\n",
            "13/13 [==============================] - 0s 5ms/step - loss: 8.7872 - val_loss: 17.5387\n",
            "Epoch 565/600\n",
            "13/13 [==============================] - 0s 5ms/step - loss: 7.3106 - val_loss: 14.6867\n",
            "Epoch 566/600\n",
            "13/13 [==============================] - 0s 5ms/step - loss: 8.8443 - val_loss: 18.0751\n",
            "Epoch 567/600\n",
            "13/13 [==============================] - 0s 5ms/step - loss: 7.5160 - val_loss: 18.0273\n",
            "Epoch 568/600\n",
            "13/13 [==============================] - 0s 5ms/step - loss: 8.7716 - val_loss: 16.1208\n",
            "Epoch 569/600\n",
            "13/13 [==============================] - 0s 5ms/step - loss: 9.7500 - val_loss: 18.1151\n",
            "Epoch 570/600\n",
            "13/13 [==============================] - 0s 5ms/step - loss: 9.0142 - val_loss: 16.8469\n",
            "Epoch 571/600\n",
            "13/13 [==============================] - 0s 5ms/step - loss: 8.7591 - val_loss: 16.9013\n",
            "Epoch 572/600\n",
            "13/13 [==============================] - 0s 5ms/step - loss: 8.2031 - val_loss: 15.4815\n",
            "Epoch 573/600\n",
            "13/13 [==============================] - 0s 4ms/step - loss: 8.1420 - val_loss: 15.5640\n",
            "Epoch 574/600\n",
            "13/13 [==============================] - 0s 5ms/step - loss: 7.9530 - val_loss: 15.1914\n",
            "Epoch 575/600\n",
            "13/13 [==============================] - 0s 5ms/step - loss: 10.0078 - val_loss: 15.3731\n",
            "Epoch 576/600\n",
            "13/13 [==============================] - 0s 4ms/step - loss: 7.7112 - val_loss: 16.5469\n",
            "Epoch 577/600\n",
            "13/13 [==============================] - 0s 5ms/step - loss: 9.6892 - val_loss: 15.4952\n",
            "Epoch 578/600\n",
            "13/13 [==============================] - 0s 5ms/step - loss: 8.2725 - val_loss: 16.4548\n",
            "Epoch 579/600\n",
            "13/13 [==============================] - 0s 5ms/step - loss: 8.3206 - val_loss: 14.0693\n",
            "Epoch 580/600\n",
            "13/13 [==============================] - 0s 4ms/step - loss: 8.3939 - val_loss: 17.1216\n",
            "Epoch 581/600\n",
            "13/13 [==============================] - 0s 5ms/step - loss: 9.1874 - val_loss: 17.7940\n",
            "Epoch 582/600\n",
            "13/13 [==============================] - 0s 4ms/step - loss: 7.8855 - val_loss: 16.1003\n",
            "Epoch 583/600\n",
            "13/13 [==============================] - 0s 5ms/step - loss: 8.9581 - val_loss: 15.4864\n",
            "Epoch 584/600\n",
            "13/13 [==============================] - 0s 4ms/step - loss: 8.6700 - val_loss: 17.2276\n",
            "Epoch 585/600\n",
            "13/13 [==============================] - 0s 6ms/step - loss: 8.0607 - val_loss: 17.2815\n",
            "Epoch 586/600\n",
            "13/13 [==============================] - 0s 5ms/step - loss: 8.1208 - val_loss: 13.5311\n",
            "Epoch 587/600\n",
            "13/13 [==============================] - 0s 5ms/step - loss: 7.9540 - val_loss: 17.2275\n",
            "Epoch 588/600\n",
            "13/13 [==============================] - 0s 4ms/step - loss: 8.0184 - val_loss: 15.4669\n",
            "Epoch 589/600\n",
            "13/13 [==============================] - 0s 4ms/step - loss: 8.7846 - val_loss: 15.4790\n",
            "Epoch 590/600\n",
            "13/13 [==============================] - 0s 5ms/step - loss: 8.2506 - val_loss: 19.8932\n",
            "Epoch 591/600\n",
            "13/13 [==============================] - 0s 5ms/step - loss: 8.5436 - val_loss: 16.3738\n",
            "Epoch 592/600\n",
            "13/13 [==============================] - 0s 5ms/step - loss: 8.7698 - val_loss: 17.4292\n",
            "Epoch 593/600\n",
            "13/13 [==============================] - 0s 5ms/step - loss: 8.7069 - val_loss: 17.1702\n",
            "Epoch 594/600\n",
            "13/13 [==============================] - 0s 5ms/step - loss: 7.7922 - val_loss: 17.1402\n",
            "Epoch 595/600\n",
            "13/13 [==============================] - 0s 4ms/step - loss: 8.1156 - val_loss: 16.4064\n",
            "Epoch 596/600\n",
            "13/13 [==============================] - 0s 4ms/step - loss: 7.4484 - val_loss: 16.6316\n",
            "Epoch 597/600\n",
            "13/13 [==============================] - 0s 4ms/step - loss: 7.9242 - val_loss: 15.8990\n",
            "Epoch 598/600\n",
            "13/13 [==============================] - 0s 5ms/step - loss: 8.3717 - val_loss: 15.0374\n",
            "Epoch 599/600\n",
            "13/13 [==============================] - 0s 4ms/step - loss: 7.8384 - val_loss: 16.0230\n",
            "Epoch 600/600\n",
            "13/13 [==============================] - 0s 4ms/step - loss: 8.9066 - val_loss: 15.4815\n"
          ],
          "name": "stdout"
        },
        {
          "output_type": "execute_result",
          "data": {
            "text/plain": [
              "<tensorflow.python.keras.callbacks.History at 0x7fa5824b4828>"
            ]
          },
          "metadata": {
            "tags": []
          },
          "execution_count": 328
        }
      ]
    },
    {
      "cell_type": "markdown",
      "metadata": {
        "id": "EKPFhUo-kLmu",
        "colab_type": "text"
      },
      "source": [
        "# Plot Loss"
      ]
    },
    {
      "cell_type": "code",
      "metadata": {
        "id": "izVFJ1tcZqfd",
        "colab_type": "code",
        "colab": {
          "base_uri": "https://localhost:8080/",
          "height": 500
        },
        "outputId": "af09ef5c-2a66-4e02-b523-6acfdbe7d73b"
      },
      "source": [
        "loss_df=pd.DataFrame(model.history.history)\n",
        "loss_df.plot(figsize=(14,8))"
      ],
      "execution_count": 329,
      "outputs": [
        {
          "output_type": "execute_result",
          "data": {
            "text/plain": [
              "<matplotlib.axes._subplots.AxesSubplot at 0x7fa58b4c64a8>"
            ]
          },
          "metadata": {
            "tags": []
          },
          "execution_count": 329
        },
        {
          "output_type": "display_data",
          "data": {
            "image/png": "[encoded data removed]",
            "text/plain": [
              "<Figure size 1008x576 with 1 Axes>"
            ]
          },
          "metadata": {
            "tags": [],
            "needs_background": "light"
          }
        }
      ]
    },
    {
      "cell_type": "code",
      "metadata": {
        "id": "UwKbJMn4Z11o",
        "colab_type": "code",
        "colab": {}
      },
      "source": [
        "predictions=model.predict(X_test)"
      ],
      "execution_count": 0,
      "outputs": []
    },
    {
      "cell_type": "code",
      "metadata": {
        "id": "7fyXnk3gZ5Qi",
        "colab_type": "code",
        "colab": {
          "base_uri": "https://localhost:8080/",
          "height": 1000
        },
        "outputId": "b7ba0d03-70b2-41d7-ae6f-492643cc55e7"
      },
      "source": [
        "predictions"
      ],
      "execution_count": 331,
      "outputs": [
        {
          "output_type": "execute_result",
          "data": {
            "text/plain": [
              "array([[23.6],\n",
              "       [26.6],\n",
              "       [24.5],\n",
              "       [10.1],\n",
              "       [20.2],\n",
              "       [20. ],\n",
              "       [21.2],\n",
              "       [19.9],\n",
              "       [19.1],\n",
              "       [18.9],\n",
              "       [ 8.8],\n",
              "       [11.9],\n",
              "       [14.4],\n",
              "       [ 8.2],\n",
              "       [48.1],\n",
              "       [33.7],\n",
              "       [21.6],\n",
              "       [38.5],\n",
              "       [31. ],\n",
              "       [21.6],\n",
              "       [22.9],\n",
              "       [21.1],\n",
              "       [21.1],\n",
              "       [26.2],\n",
              "       [20.4],\n",
              "       [25.6],\n",
              "       [17.5],\n",
              "       [18.3],\n",
              "       [39.8],\n",
              "       [18.8],\n",
              "       [16.4],\n",
              "       [18.6],\n",
              "       [19.9],\n",
              "       [20.7],\n",
              "       [25.3],\n",
              "       [20.5],\n",
              "       [ 9.3],\n",
              "       [31.8],\n",
              "       [14.4],\n",
              "       [15.4],\n",
              "       [23.3],\n",
              "       [21.1],\n",
              "       [20.9],\n",
              "       [17.8],\n",
              "       [21. ],\n",
              "       [22.8],\n",
              "       [20.5],\n",
              "       [17. ],\n",
              "       [15.7],\n",
              "       [22.5],\n",
              "       [13.1],\n",
              "       [22.9],\n",
              "       [21.4],\n",
              "       [38. ],\n",
              "       [15.2],\n",
              "       [21.1],\n",
              "       [18.3],\n",
              "       [18.3],\n",
              "       [16. ],\n",
              "       [20.9],\n",
              "       [19.2],\n",
              "       [20.9],\n",
              "       [32.5],\n",
              "       [32. ],\n",
              "       [19.4],\n",
              "       [31.3],\n",
              "       [16.4],\n",
              "       [22.7],\n",
              "       [12.5],\n",
              "       [22.2],\n",
              "       [20.5],\n",
              "       [21.6],\n",
              "       [27.5],\n",
              "       [28.1],\n",
              "       [25.1],\n",
              "       [ 7.4],\n",
              "       [39.9],\n",
              "       [22.5],\n",
              "       [23.8],\n",
              "       [19. ],\n",
              "       [24.9],\n",
              "       [19.4],\n",
              "       [20.7],\n",
              "       [40.6],\n",
              "       [44.4],\n",
              "       [23. ],\n",
              "       [22. ],\n",
              "       [13.2],\n",
              "       [29.3],\n",
              "       [16. ],\n",
              "       [17.4],\n",
              "       [10.2],\n",
              "       [20.8],\n",
              "       [27.5],\n",
              "       [19.8],\n",
              "       [20.8],\n",
              "       [13.4],\n",
              "       [22.8],\n",
              "       [14.1],\n",
              "       [18.4],\n",
              "       [24.3],\n",
              "       [20.6]], dtype=float32)"
            ]
          },
          "metadata": {
            "tags": []
          },
          "execution_count": 331
        }
      ]
    },
    {
      "cell_type": "markdown",
      "metadata": {
        "id": "JBtexzqgkRmN",
        "colab_type": "text"
      },
      "source": [
        "# Evaluate"
      ]
    },
    {
      "cell_type": "code",
      "metadata": {
        "id": "ZyKhve9VaAln",
        "colab_type": "code",
        "colab": {
          "base_uri": "https://localhost:8080/",
          "height": 34
        },
        "outputId": "3b9ac91a-efaf-4086-f5e6-47e5a9c169b2"
      },
      "source": [
        "df['medv'].mean()"
      ],
      "execution_count": 342,
      "outputs": [
        {
          "output_type": "execute_result",
          "data": {
            "text/plain": [
              "22.532806324110698"
            ]
          },
          "metadata": {
            "tags": []
          },
          "execution_count": 342
        }
      ]
    },
    {
      "cell_type": "code",
      "metadata": {
        "id": "CFOoUVDnZ6m-",
        "colab_type": "code",
        "colab": {
          "base_uri": "https://localhost:8080/",
          "height": 34
        },
        "outputId": "62ae6e5d-002d-4e63-a16d-8ce6d1a5b36b"
      },
      "source": [
        "mean_absolute_error(y_test,predictions)"
      ],
      "execution_count": 332,
      "outputs": [
        {
          "output_type": "execute_result",
          "data": {
            "text/plain": [
              "2.5306446225035417"
            ]
          },
          "metadata": {
            "tags": []
          },
          "execution_count": 332
        }
      ]
    },
    {
      "cell_type": "markdown",
      "metadata": {
        "id": "lTgO6j7zkY3s",
        "colab_type": "text"
      },
      "source": [
        "# Predictions"
      ]
    },
    {
      "cell_type": "code",
      "metadata": {
        "id": "MnxuZonAbfBb",
        "colab_type": "code",
        "colab": {}
      },
      "source": [
        "df2=df.drop('medv',axis=1)"
      ],
      "execution_count": 0,
      "outputs": []
    },
    {
      "cell_type": "code",
      "metadata": {
        "id": "PjgSdsjkbfEG",
        "colab_type": "code",
        "colab": {
          "base_uri": "https://localhost:8080/",
          "height": 359
        },
        "outputId": "ebc0203a-cf7b-414e-e128-aa927f9e92d9"
      },
      "source": [
        "house_prediction=df2.head(10)\n",
        "house_prediction"
      ],
      "execution_count": 334,
      "outputs": [
        {
          "output_type": "execute_result",
          "data": {
            "text/html": [
              "<div>\n",
              "<style scoped>\n",
              "    .dataframe tbody tr th:only-of-type {\n",
              "        vertical-align: middle;\n",
              "    }\n",
              "\n",
              "    .dataframe tbody tr th {\n",
              "        vertical-align: top;\n",
              "    }\n",
              "\n",
              "    .dataframe thead th {\n",
              "        text-align: right;\n",
              "    }\n",
              "</style>\n",
              "<table border=\"1\" class=\"dataframe\">\n",
              "  <thead>\n",
              "    <tr style=\"text-align: right;\">\n",
              "      <th></th>\n",
              "      <th>crim</th>\n",
              "      <th>zn</th>\n",
              "      <th>indus</th>\n",
              "      <th>chas</th>\n",
              "      <th>nox</th>\n",
              "      <th>rm</th>\n",
              "      <th>age</th>\n",
              "      <th>dis</th>\n",
              "      <th>rad</th>\n",
              "      <th>tax</th>\n",
              "      <th>ptratio</th>\n",
              "      <th>black</th>\n",
              "      <th>lstat</th>\n",
              "    </tr>\n",
              "  </thead>\n",
              "  <tbody>\n",
              "    <tr>\n",
              "      <th>0</th>\n",
              "      <td>0.00632</td>\n",
              "      <td>18.0</td>\n",
              "      <td>2.31</td>\n",
              "      <td>0</td>\n",
              "      <td>0.538</td>\n",
              "      <td>6.575</td>\n",
              "      <td>65.2</td>\n",
              "      <td>4.0900</td>\n",
              "      <td>1</td>\n",
              "      <td>296</td>\n",
              "      <td>15.3</td>\n",
              "      <td>396.90</td>\n",
              "      <td>4.98</td>\n",
              "    </tr>\n",
              "    <tr>\n",
              "      <th>1</th>\n",
              "      <td>0.02731</td>\n",
              "      <td>0.0</td>\n",
              "      <td>7.07</td>\n",
              "      <td>0</td>\n",
              "      <td>0.469</td>\n",
              "      <td>6.421</td>\n",
              "      <td>78.9</td>\n",
              "      <td>4.9671</td>\n",
              "      <td>2</td>\n",
              "      <td>242</td>\n",
              "      <td>17.8</td>\n",
              "      <td>396.90</td>\n",
              "      <td>9.14</td>\n",
              "    </tr>\n",
              "    <tr>\n",
              "      <th>2</th>\n",
              "      <td>0.02729</td>\n",
              "      <td>0.0</td>\n",
              "      <td>7.07</td>\n",
              "      <td>0</td>\n",
              "      <td>0.469</td>\n",
              "      <td>7.185</td>\n",
              "      <td>61.1</td>\n",
              "      <td>4.9671</td>\n",
              "      <td>2</td>\n",
              "      <td>242</td>\n",
              "      <td>17.8</td>\n",
              "      <td>392.83</td>\n",
              "      <td>4.03</td>\n",
              "    </tr>\n",
              "    <tr>\n",
              "      <th>3</th>\n",
              "      <td>0.03237</td>\n",
              "      <td>0.0</td>\n",
              "      <td>2.18</td>\n",
              "      <td>0</td>\n",
              "      <td>0.458</td>\n",
              "      <td>6.998</td>\n",
              "      <td>45.8</td>\n",
              "      <td>6.0622</td>\n",
              "      <td>3</td>\n",
              "      <td>222</td>\n",
              "      <td>18.7</td>\n",
              "      <td>394.63</td>\n",
              "      <td>2.94</td>\n",
              "    </tr>\n",
              "    <tr>\n",
              "      <th>4</th>\n",
              "      <td>0.06905</td>\n",
              "      <td>0.0</td>\n",
              "      <td>2.18</td>\n",
              "      <td>0</td>\n",
              "      <td>0.458</td>\n",
              "      <td>7.147</td>\n",
              "      <td>54.2</td>\n",
              "      <td>6.0622</td>\n",
              "      <td>3</td>\n",
              "      <td>222</td>\n",
              "      <td>18.7</td>\n",
              "      <td>396.90</td>\n",
              "      <td>5.33</td>\n",
              "    </tr>\n",
              "    <tr>\n",
              "      <th>5</th>\n",
              "      <td>0.02985</td>\n",
              "      <td>0.0</td>\n",
              "      <td>2.18</td>\n",
              "      <td>0</td>\n",
              "      <td>0.458</td>\n",
              "      <td>6.430</td>\n",
              "      <td>58.7</td>\n",
              "      <td>6.0622</td>\n",
              "      <td>3</td>\n",
              "      <td>222</td>\n",
              "      <td>18.7</td>\n",
              "      <td>394.12</td>\n",
              "      <td>5.21</td>\n",
              "    </tr>\n",
              "    <tr>\n",
              "      <th>6</th>\n",
              "      <td>0.08829</td>\n",
              "      <td>12.5</td>\n",
              "      <td>7.87</td>\n",
              "      <td>0</td>\n",
              "      <td>0.524</td>\n",
              "      <td>6.012</td>\n",
              "      <td>66.6</td>\n",
              "      <td>5.5605</td>\n",
              "      <td>5</td>\n",
              "      <td>311</td>\n",
              "      <td>15.2</td>\n",
              "      <td>395.60</td>\n",
              "      <td>12.43</td>\n",
              "    </tr>\n",
              "    <tr>\n",
              "      <th>7</th>\n",
              "      <td>0.14455</td>\n",
              "      <td>12.5</td>\n",
              "      <td>7.87</td>\n",
              "      <td>0</td>\n",
              "      <td>0.524</td>\n",
              "      <td>6.172</td>\n",
              "      <td>96.1</td>\n",
              "      <td>5.9505</td>\n",
              "      <td>5</td>\n",
              "      <td>311</td>\n",
              "      <td>15.2</td>\n",
              "      <td>396.90</td>\n",
              "      <td>19.15</td>\n",
              "    </tr>\n",
              "    <tr>\n",
              "      <th>8</th>\n",
              "      <td>0.21124</td>\n",
              "      <td>12.5</td>\n",
              "      <td>7.87</td>\n",
              "      <td>0</td>\n",
              "      <td>0.524</td>\n",
              "      <td>5.631</td>\n",
              "      <td>100.0</td>\n",
              "      <td>6.0821</td>\n",
              "      <td>5</td>\n",
              "      <td>311</td>\n",
              "      <td>15.2</td>\n",
              "      <td>386.63</td>\n",
              "      <td>29.93</td>\n",
              "    </tr>\n",
              "    <tr>\n",
              "      <th>9</th>\n",
              "      <td>0.17004</td>\n",
              "      <td>12.5</td>\n",
              "      <td>7.87</td>\n",
              "      <td>0</td>\n",
              "      <td>0.524</td>\n",
              "      <td>6.004</td>\n",
              "      <td>85.9</td>\n",
              "      <td>6.5921</td>\n",
              "      <td>5</td>\n",
              "      <td>311</td>\n",
              "      <td>15.2</td>\n",
              "      <td>386.71</td>\n",
              "      <td>17.10</td>\n",
              "    </tr>\n",
              "  </tbody>\n",
              "</table>\n",
              "</div>"
            ],
            "text/plain": [
              "      crim    zn  indus  chas    nox  ...  rad  tax  ptratio   black  lstat\n",
              "0  0.00632  18.0   2.31     0  0.538  ...    1  296     15.3  396.90   4.98\n",
              "1  0.02731   0.0   7.07     0  0.469  ...    2  242     17.8  396.90   9.14\n",
              "2  0.02729   0.0   7.07     0  0.469  ...    2  242     17.8  392.83   4.03\n",
              "3  0.03237   0.0   2.18     0  0.458  ...    3  222     18.7  394.63   2.94\n",
              "4  0.06905   0.0   2.18     0  0.458  ...    3  222     18.7  396.90   5.33\n",
              "5  0.02985   0.0   2.18     0  0.458  ...    3  222     18.7  394.12   5.21\n",
              "6  0.08829  12.5   7.87     0  0.524  ...    5  311     15.2  395.60  12.43\n",
              "7  0.14455  12.5   7.87     0  0.524  ...    5  311     15.2  396.90  19.15\n",
              "8  0.21124  12.5   7.87     0  0.524  ...    5  311     15.2  386.63  29.93\n",
              "9  0.17004  12.5   7.87     0  0.524  ...    5  311     15.2  386.71  17.10\n",
              "\n",
              "[10 rows x 13 columns]"
            ]
          },
          "metadata": {
            "tags": []
          },
          "execution_count": 334
        }
      ]
    },
    {
      "cell_type": "code",
      "metadata": {
        "id": "Pw0fv_JRbkSZ",
        "colab_type": "code",
        "colab": {}
      },
      "source": [
        "house_ann=scaler.transform(house_prediction.values.reshape(-1,13))"
      ],
      "execution_count": 0,
      "outputs": []
    },
    {
      "cell_type": "code",
      "metadata": {
        "id": "ZzwJq24jbkaa",
        "colab_type": "code",
        "colab": {}
      },
      "source": [
        "predictions_ann=model.predict(house_ann)"
      ],
      "execution_count": 0,
      "outputs": []
    },
    {
      "cell_type": "code",
      "metadata": {
        "id": "jpFaH_WIbkYA",
        "colab_type": "code",
        "colab": {
          "base_uri": "https://localhost:8080/",
          "height": 359
        },
        "outputId": "4cdd77ed-16f8-4a03-9241-0b6a4b4f2794"
      },
      "source": [
        "df_ann = pd.DataFrame(predictions_ann, columns=['Predictions_ann'])\n",
        "df_ann"
      ],
      "execution_count": 337,
      "outputs": [
        {
          "output_type": "execute_result",
          "data": {
            "text/html": [
              "<div>\n",
              "<style scoped>\n",
              "    .dataframe tbody tr th:only-of-type {\n",
              "        vertical-align: middle;\n",
              "    }\n",
              "\n",
              "    .dataframe tbody tr th {\n",
              "        vertical-align: top;\n",
              "    }\n",
              "\n",
              "    .dataframe thead th {\n",
              "        text-align: right;\n",
              "    }\n",
              "</style>\n",
              "<table border=\"1\" class=\"dataframe\">\n",
              "  <thead>\n",
              "    <tr style=\"text-align: right;\">\n",
              "      <th></th>\n",
              "      <th>Predictions_ann</th>\n",
              "    </tr>\n",
              "  </thead>\n",
              "  <tbody>\n",
              "    <tr>\n",
              "      <th>0</th>\n",
              "      <td>25.101952</td>\n",
              "    </tr>\n",
              "    <tr>\n",
              "      <th>1</th>\n",
              "      <td>22.787239</td>\n",
              "    </tr>\n",
              "    <tr>\n",
              "      <th>2</th>\n",
              "      <td>30.726530</td>\n",
              "    </tr>\n",
              "    <tr>\n",
              "      <th>3</th>\n",
              "      <td>33.756142</td>\n",
              "    </tr>\n",
              "    <tr>\n",
              "      <th>4</th>\n",
              "      <td>33.590584</td>\n",
              "    </tr>\n",
              "    <tr>\n",
              "      <th>5</th>\n",
              "      <td>27.313545</td>\n",
              "    </tr>\n",
              "    <tr>\n",
              "      <th>6</th>\n",
              "      <td>21.191311</td>\n",
              "    </tr>\n",
              "    <tr>\n",
              "      <th>7</th>\n",
              "      <td>22.051537</td>\n",
              "    </tr>\n",
              "    <tr>\n",
              "      <th>8</th>\n",
              "      <td>18.007427</td>\n",
              "    </tr>\n",
              "    <tr>\n",
              "      <th>9</th>\n",
              "      <td>21.153299</td>\n",
              "    </tr>\n",
              "  </tbody>\n",
              "</table>\n",
              "</div>"
            ],
            "text/plain": [
              "   Predictions_ann\n",
              "0        25.101952\n",
              "1        22.787239\n",
              "2        30.726530\n",
              "3        33.756142\n",
              "4        33.590584\n",
              "5        27.313545\n",
              "6        21.191311\n",
              "7        22.051537\n",
              "8        18.007427\n",
              "9        21.153299"
            ]
          },
          "metadata": {
            "tags": []
          },
          "execution_count": 337
        }
      ]
    },
    {
      "cell_type": "code",
      "metadata": {
        "id": "f7lwxSLGcItc",
        "colab_type": "code",
        "colab": {
          "base_uri": "https://localhost:8080/",
          "height": 359
        },
        "outputId": "73a3f5ca-0a89-4a01-af59-9f533ea48d5c"
      },
      "source": [
        "data_predicted= pd.concat([df, df_ann,df_lr], axis=1)\n",
        "data_predicted.head(10)"
      ],
      "execution_count": 338,
      "outputs": [
        {
          "output_type": "execute_result",
          "data": {
            "text/html": [
              "<div>\n",
              "<style scoped>\n",
              "    .dataframe tbody tr th:only-of-type {\n",
              "        vertical-align: middle;\n",
              "    }\n",
              "\n",
              "    .dataframe tbody tr th {\n",
              "        vertical-align: top;\n",
              "    }\n",
              "\n",
              "    .dataframe thead th {\n",
              "        text-align: right;\n",
              "    }\n",
              "</style>\n",
              "<table border=\"1\" class=\"dataframe\">\n",
              "  <thead>\n",
              "    <tr style=\"text-align: right;\">\n",
              "      <th></th>\n",
              "      <th>crim</th>\n",
              "      <th>zn</th>\n",
              "      <th>indus</th>\n",
              "      <th>chas</th>\n",
              "      <th>nox</th>\n",
              "      <th>rm</th>\n",
              "      <th>age</th>\n",
              "      <th>dis</th>\n",
              "      <th>rad</th>\n",
              "      <th>tax</th>\n",
              "      <th>ptratio</th>\n",
              "      <th>black</th>\n",
              "      <th>lstat</th>\n",
              "      <th>medv</th>\n",
              "      <th>Predictions_ann</th>\n",
              "      <th>Predictions_lr</th>\n",
              "    </tr>\n",
              "  </thead>\n",
              "  <tbody>\n",
              "    <tr>\n",
              "      <th>0</th>\n",
              "      <td>0.00632</td>\n",
              "      <td>18.0</td>\n",
              "      <td>2.31</td>\n",
              "      <td>0</td>\n",
              "      <td>0.538</td>\n",
              "      <td>6.575</td>\n",
              "      <td>65.2</td>\n",
              "      <td>4.0900</td>\n",
              "      <td>1</td>\n",
              "      <td>296</td>\n",
              "      <td>15.3</td>\n",
              "      <td>396.90</td>\n",
              "      <td>4.98</td>\n",
              "      <td>24.0</td>\n",
              "      <td>25.101952</td>\n",
              "      <td>30.499498</td>\n",
              "    </tr>\n",
              "    <tr>\n",
              "      <th>1</th>\n",
              "      <td>0.02731</td>\n",
              "      <td>0.0</td>\n",
              "      <td>7.07</td>\n",
              "      <td>0</td>\n",
              "      <td>0.469</td>\n",
              "      <td>6.421</td>\n",
              "      <td>78.9</td>\n",
              "      <td>4.9671</td>\n",
              "      <td>2</td>\n",
              "      <td>242</td>\n",
              "      <td>17.8</td>\n",
              "      <td>396.90</td>\n",
              "      <td>9.14</td>\n",
              "      <td>21.6</td>\n",
              "      <td>22.787239</td>\n",
              "      <td>25.172480</td>\n",
              "    </tr>\n",
              "    <tr>\n",
              "      <th>2</th>\n",
              "      <td>0.02729</td>\n",
              "      <td>0.0</td>\n",
              "      <td>7.07</td>\n",
              "      <td>0</td>\n",
              "      <td>0.469</td>\n",
              "      <td>7.185</td>\n",
              "      <td>61.1</td>\n",
              "      <td>4.9671</td>\n",
              "      <td>2</td>\n",
              "      <td>242</td>\n",
              "      <td>17.8</td>\n",
              "      <td>392.83</td>\n",
              "      <td>4.03</td>\n",
              "      <td>34.7</td>\n",
              "      <td>30.726530</td>\n",
              "      <td>30.546654</td>\n",
              "    </tr>\n",
              "    <tr>\n",
              "      <th>3</th>\n",
              "      <td>0.03237</td>\n",
              "      <td>0.0</td>\n",
              "      <td>2.18</td>\n",
              "      <td>0</td>\n",
              "      <td>0.458</td>\n",
              "      <td>6.998</td>\n",
              "      <td>45.8</td>\n",
              "      <td>6.0622</td>\n",
              "      <td>3</td>\n",
              "      <td>222</td>\n",
              "      <td>18.7</td>\n",
              "      <td>394.63</td>\n",
              "      <td>2.94</td>\n",
              "      <td>33.4</td>\n",
              "      <td>33.756142</td>\n",
              "      <td>28.606948</td>\n",
              "    </tr>\n",
              "    <tr>\n",
              "      <th>4</th>\n",
              "      <td>0.06905</td>\n",
              "      <td>0.0</td>\n",
              "      <td>2.18</td>\n",
              "      <td>0</td>\n",
              "      <td>0.458</td>\n",
              "      <td>7.147</td>\n",
              "      <td>54.2</td>\n",
              "      <td>6.0622</td>\n",
              "      <td>3</td>\n",
              "      <td>222</td>\n",
              "      <td>18.7</td>\n",
              "      <td>396.90</td>\n",
              "      <td>5.33</td>\n",
              "      <td>36.2</td>\n",
              "      <td>33.590584</td>\n",
              "      <td>27.969583</td>\n",
              "    </tr>\n",
              "    <tr>\n",
              "      <th>5</th>\n",
              "      <td>0.02985</td>\n",
              "      <td>0.0</td>\n",
              "      <td>2.18</td>\n",
              "      <td>0</td>\n",
              "      <td>0.458</td>\n",
              "      <td>6.430</td>\n",
              "      <td>58.7</td>\n",
              "      <td>6.0622</td>\n",
              "      <td>3</td>\n",
              "      <td>222</td>\n",
              "      <td>18.7</td>\n",
              "      <td>394.12</td>\n",
              "      <td>5.21</td>\n",
              "      <td>28.7</td>\n",
              "      <td>27.313545</td>\n",
              "      <td>25.337665</td>\n",
              "    </tr>\n",
              "    <tr>\n",
              "      <th>6</th>\n",
              "      <td>0.08829</td>\n",
              "      <td>12.5</td>\n",
              "      <td>7.87</td>\n",
              "      <td>0</td>\n",
              "      <td>0.524</td>\n",
              "      <td>6.012</td>\n",
              "      <td>66.6</td>\n",
              "      <td>5.5605</td>\n",
              "      <td>5</td>\n",
              "      <td>311</td>\n",
              "      <td>15.2</td>\n",
              "      <td>395.60</td>\n",
              "      <td>12.43</td>\n",
              "      <td>22.9</td>\n",
              "      <td>21.191311</td>\n",
              "      <td>23.603188</td>\n",
              "    </tr>\n",
              "    <tr>\n",
              "      <th>7</th>\n",
              "      <td>0.14455</td>\n",
              "      <td>12.5</td>\n",
              "      <td>7.87</td>\n",
              "      <td>0</td>\n",
              "      <td>0.524</td>\n",
              "      <td>6.172</td>\n",
              "      <td>96.1</td>\n",
              "      <td>5.9505</td>\n",
              "      <td>5</td>\n",
              "      <td>311</td>\n",
              "      <td>15.2</td>\n",
              "      <td>396.90</td>\n",
              "      <td>19.15</td>\n",
              "      <td>27.1</td>\n",
              "      <td>22.051537</td>\n",
              "      <td>20.256071</td>\n",
              "    </tr>\n",
              "    <tr>\n",
              "      <th>8</th>\n",
              "      <td>0.21124</td>\n",
              "      <td>12.5</td>\n",
              "      <td>7.87</td>\n",
              "      <td>0</td>\n",
              "      <td>0.524</td>\n",
              "      <td>5.631</td>\n",
              "      <td>100.0</td>\n",
              "      <td>6.0821</td>\n",
              "      <td>5</td>\n",
              "      <td>311</td>\n",
              "      <td>15.2</td>\n",
              "      <td>386.63</td>\n",
              "      <td>29.93</td>\n",
              "      <td>16.5</td>\n",
              "      <td>18.007427</td>\n",
              "      <td>12.651475</td>\n",
              "    </tr>\n",
              "    <tr>\n",
              "      <th>9</th>\n",
              "      <td>0.17004</td>\n",
              "      <td>12.5</td>\n",
              "      <td>7.87</td>\n",
              "      <td>0</td>\n",
              "      <td>0.524</td>\n",
              "      <td>6.004</td>\n",
              "      <td>85.9</td>\n",
              "      <td>6.5921</td>\n",
              "      <td>5</td>\n",
              "      <td>311</td>\n",
              "      <td>15.2</td>\n",
              "      <td>386.71</td>\n",
              "      <td>17.10</td>\n",
              "      <td>18.9</td>\n",
              "      <td>21.153299</td>\n",
              "      <td>19.699869</td>\n",
              "    </tr>\n",
              "  </tbody>\n",
              "</table>\n",
              "</div>"
            ],
            "text/plain": [
              "      crim    zn  indus  chas  ...  lstat  medv  Predictions_ann  Predictions_lr\n",
              "0  0.00632  18.0   2.31     0  ...   4.98  24.0        25.101952       30.499498\n",
              "1  0.02731   0.0   7.07     0  ...   9.14  21.6        22.787239       25.172480\n",
              "2  0.02729   0.0   7.07     0  ...   4.03  34.7        30.726530       30.546654\n",
              "3  0.03237   0.0   2.18     0  ...   2.94  33.4        33.756142       28.606948\n",
              "4  0.06905   0.0   2.18     0  ...   5.33  36.2        33.590584       27.969583\n",
              "5  0.02985   0.0   2.18     0  ...   5.21  28.7        27.313545       25.337665\n",
              "6  0.08829  12.5   7.87     0  ...  12.43  22.9        21.191311       23.603188\n",
              "7  0.14455  12.5   7.87     0  ...  19.15  27.1        22.051537       20.256071\n",
              "8  0.21124  12.5   7.87     0  ...  29.93  16.5        18.007427       12.651475\n",
              "9  0.17004  12.5   7.87     0  ...  17.10  18.9        21.153299       19.699869\n",
              "\n",
              "[10 rows x 16 columns]"
            ]
          },
          "metadata": {
            "tags": []
          },
          "execution_count": 338
        }
      ]
    },
    {
      "cell_type": "code",
      "metadata": {
        "id": "3q6JJqBfcIwk",
        "colab_type": "code",
        "colab": {
          "base_uri": "https://localhost:8080/",
          "height": 516
        },
        "outputId": "23ab7506-6501-4ba5-f8b0-ce6a62a78ff6"
      },
      "source": [
        "plt.figure(figsize=(14,8))\n",
        "plt.scatter(y_test,predictions)\n",
        "plt.plot(y_test,y_test,'r')\n",
        "plt.title('ANN')"
      ],
      "execution_count": 339,
      "outputs": [
        {
          "output_type": "execute_result",
          "data": {
            "text/plain": [
              "Text(0.5, 1.0, 'ANN')"
            ]
          },
          "metadata": {
            "tags": []
          },
          "execution_count": 339
        },
        {
          "output_type": "display_data",
          "data": {
            "image/png": "[encoded data removed]",
            "text/plain": [
              "<Figure size 1008x576 with 1 Axes>"
            ]
          },
          "metadata": {
            "tags": [],
            "needs_background": "light"
          }
        }
      ]
    },
    {
      "cell_type": "code",
      "metadata": {
        "id": "Vkq4Q07mfNJ7",
        "colab_type": "code",
        "colab": {
          "base_uri": "https://localhost:8080/",
          "height": 516
        },
        "outputId": "8716d650-7a3c-4e4e-f7ed-f1c9257e0b9c"
      },
      "source": [
        "plt.figure(figsize=(14,8))\n",
        "plt.scatter(y_test,y_pred)\n",
        "plt.plot(y_test,y_test,'r')\n",
        "plt.title('LR')"
      ],
      "execution_count": 263,
      "outputs": [
        {
          "output_type": "execute_result",
          "data": {
            "text/plain": [
              "Text(0.5, 1.0, 'LR')"
            ]
          },
          "metadata": {
            "tags": []
          },
          "execution_count": 263
        },
        {
          "output_type": "display_data",
          "data": {
            "image/png": "[encoded data removed]",
            "text/plain": [
              "<Figure size 1008x576 with 1 Axes>"
            ]
          },
          "metadata": {
            "tags": [],
            "needs_background": "light"
          }
        }
      ]
    },
    {
      "cell_type": "code",
      "metadata": {
        "id": "eXpNacD7Z9gm",
        "colab_type": "code",
        "colab": {}
      },
      "source": [
        "from tensorflow.keras.callbacks import EarlyStopping"
      ],
      "execution_count": 0,
      "outputs": []
    },
    {
      "cell_type": "markdown",
      "metadata": {
        "id": "NNEAfyBG1lc8",
        "colab_type": "text"
      },
      "source": [
        "# Polynominal Regression"
      ]
    },
    {
      "cell_type": "code",
      "metadata": {
        "id": "M8krRt46otQ9",
        "colab_type": "code",
        "colab": {}
      },
      "source": [
        "from sklearn.preprocessing import PolynomialFeatures\n",
        "from sklearn.metrics import r2_score"
      ],
      "execution_count": 0,
      "outputs": []
    },
    {
      "cell_type": "code",
      "metadata": {
        "id": "2GltS8SA2LOp",
        "colab_type": "code",
        "colab": {
          "base_uri": "https://localhost:8080/",
          "height": 204
        },
        "outputId": "da9b8552-125b-4249-f54a-f4e0b1f627a9"
      },
      "source": [
        "df = pd.read_csv(io.BytesIO(uploaded['Boston.csv']))\n",
        "df.head()"
      ],
      "execution_count": 391,
      "outputs": [
        {
          "output_type": "execute_result",
          "data": {
            "text/html": [
              "<div>\n",
              "<style scoped>\n",
              "    .dataframe tbody tr th:only-of-type {\n",
              "        vertical-align: middle;\n",
              "    }\n",
              "\n",
              "    .dataframe tbody tr th {\n",
              "        vertical-align: top;\n",
              "    }\n",
              "\n",
              "    .dataframe thead th {\n",
              "        text-align: right;\n",
              "    }\n",
              "</style>\n",
              "<table border=\"1\" class=\"dataframe\">\n",
              "  <thead>\n",
              "    <tr style=\"text-align: right;\">\n",
              "      <th></th>\n",
              "      <th>Unnamed: 0</th>\n",
              "      <th>crim</th>\n",
              "      <th>zn</th>\n",
              "      <th>indus</th>\n",
              "      <th>chas</th>\n",
              "      <th>nox</th>\n",
              "      <th>rm</th>\n",
              "      <th>age</th>\n",
              "      <th>dis</th>\n",
              "      <th>rad</th>\n",
              "      <th>tax</th>\n",
              "      <th>ptratio</th>\n",
              "      <th>black</th>\n",
              "      <th>lstat</th>\n",
              "      <th>medv</th>\n",
              "    </tr>\n",
              "  </thead>\n",
              "  <tbody>\n",
              "    <tr>\n",
              "      <th>0</th>\n",
              "      <td>1</td>\n",
              "      <td>0.00632</td>\n",
              "      <td>18.0</td>\n",
              "      <td>2.31</td>\n",
              "      <td>0</td>\n",
              "      <td>0.538</td>\n",
              "      <td>6.575</td>\n",
              "      <td>65.2</td>\n",
              "      <td>4.0900</td>\n",
              "      <td>1</td>\n",
              "      <td>296</td>\n",
              "      <td>15.3</td>\n",
              "      <td>396.90</td>\n",
              "      <td>4.98</td>\n",
              "      <td>24.0</td>\n",
              "    </tr>\n",
              "    <tr>\n",
              "      <th>1</th>\n",
              "      <td>2</td>\n",
              "      <td>0.02731</td>\n",
              "      <td>0.0</td>\n",
              "      <td>7.07</td>\n",
              "      <td>0</td>\n",
              "      <td>0.469</td>\n",
              "      <td>6.421</td>\n",
              "      <td>78.9</td>\n",
              "      <td>4.9671</td>\n",
              "      <td>2</td>\n",
              "      <td>242</td>\n",
              "      <td>17.8</td>\n",
              "      <td>396.90</td>\n",
              "      <td>9.14</td>\n",
              "      <td>21.6</td>\n",
              "    </tr>\n",
              "    <tr>\n",
              "      <th>2</th>\n",
              "      <td>3</td>\n",
              "      <td>0.02729</td>\n",
              "      <td>0.0</td>\n",
              "      <td>7.07</td>\n",
              "      <td>0</td>\n",
              "      <td>0.469</td>\n",
              "      <td>7.185</td>\n",
              "      <td>61.1</td>\n",
              "      <td>4.9671</td>\n",
              "      <td>2</td>\n",
              "      <td>242</td>\n",
              "      <td>17.8</td>\n",
              "      <td>392.83</td>\n",
              "      <td>4.03</td>\n",
              "      <td>34.7</td>\n",
              "    </tr>\n",
              "    <tr>\n",
              "      <th>3</th>\n",
              "      <td>4</td>\n",
              "      <td>0.03237</td>\n",
              "      <td>0.0</td>\n",
              "      <td>2.18</td>\n",
              "      <td>0</td>\n",
              "      <td>0.458</td>\n",
              "      <td>6.998</td>\n",
              "      <td>45.8</td>\n",
              "      <td>6.0622</td>\n",
              "      <td>3</td>\n",
              "      <td>222</td>\n",
              "      <td>18.7</td>\n",
              "      <td>394.63</td>\n",
              "      <td>2.94</td>\n",
              "      <td>33.4</td>\n",
              "    </tr>\n",
              "    <tr>\n",
              "      <th>4</th>\n",
              "      <td>5</td>\n",
              "      <td>0.06905</td>\n",
              "      <td>0.0</td>\n",
              "      <td>2.18</td>\n",
              "      <td>0</td>\n",
              "      <td>0.458</td>\n",
              "      <td>7.147</td>\n",
              "      <td>54.2</td>\n",
              "      <td>6.0622</td>\n",
              "      <td>3</td>\n",
              "      <td>222</td>\n",
              "      <td>18.7</td>\n",
              "      <td>396.90</td>\n",
              "      <td>5.33</td>\n",
              "      <td>36.2</td>\n",
              "    </tr>\n",
              "  </tbody>\n",
              "</table>\n",
              "</div>"
            ],
            "text/plain": [
              "   Unnamed: 0     crim    zn  indus  chas  ...  tax  ptratio   black  lstat  medv\n",
              "0           1  0.00632  18.0   2.31     0  ...  296     15.3  396.90   4.98  24.0\n",
              "1           2  0.02731   0.0   7.07     0  ...  242     17.8  396.90   9.14  21.6\n",
              "2           3  0.02729   0.0   7.07     0  ...  242     17.8  392.83   4.03  34.7\n",
              "3           4  0.03237   0.0   2.18     0  ...  222     18.7  394.63   2.94  33.4\n",
              "4           5  0.06905   0.0   2.18     0  ...  222     18.7  396.90   5.33  36.2\n",
              "\n",
              "[5 rows x 15 columns]"
            ]
          },
          "metadata": {
            "tags": []
          },
          "execution_count": 391
        }
      ]
    },
    {
      "cell_type": "code",
      "metadata": {
        "id": "80QC-55N1tI3",
        "colab_type": "code",
        "colab": {}
      },
      "source": [
        " poly_features = PolynomialFeatures(degree=2)"
      ],
      "execution_count": 0,
      "outputs": []
    },
    {
      "cell_type": "code",
      "metadata": {
        "id": "nSOOjulJ1wnE",
        "colab_type": "code",
        "colab": {}
      },
      "source": [
        "X = df.iloc[:, :-1].values\n",
        "y = df.iloc[:, -1].values"
      ],
      "execution_count": 0,
      "outputs": []
    },
    {
      "cell_type": "code",
      "metadata": {
        "id": "NUdy-Y5n2ddY",
        "colab_type": "code",
        "colab": {}
      },
      "source": [
        "from sklearn.model_selection import train_test_split\n",
        "X_train, X_test, y_train, y_test = train_test_split(X, y, test_size = 0.2, random_state = 0)"
      ],
      "execution_count": 0,
      "outputs": []
    },
    {
      "cell_type": "code",
      "metadata": {
        "id": "VeGp8ZEl2f5L",
        "colab_type": "code",
        "colab": {}
      },
      "source": [
        "X_train_poly = poly_features.fit_transform(X_train)"
      ],
      "execution_count": 0,
      "outputs": []
    },
    {
      "cell_type": "code",
      "metadata": {
        "id": "LPJ6XPdC2iMm",
        "colab_type": "code",
        "colab": {
          "base_uri": "https://localhost:8080/",
          "height": 34
        },
        "outputId": "0f12c0d6-a666-433e-b2de-0fad22602ae9"
      },
      "source": [
        "poly_model = LinearRegression()\n",
        "poly_model.fit(X_train_poly, y_train)"
      ],
      "execution_count": 396,
      "outputs": [
        {
          "output_type": "execute_result",
          "data": {
            "text/plain": [
              "LinearRegression(copy_X=True, fit_intercept=True, n_jobs=None, normalize=False)"
            ]
          },
          "metadata": {
            "tags": []
          },
          "execution_count": 396
        }
      ]
    },
    {
      "cell_type": "code",
      "metadata": {
        "id": "NxnfflD12rfd",
        "colab_type": "code",
        "colab": {}
      },
      "source": [
        "y_test_predict_poly = poly_model.predict(poly_features.fit_transform(X_test))"
      ],
      "execution_count": 0,
      "outputs": []
    },
    {
      "cell_type": "code",
      "metadata": {
        "id": "5NdlZJRS24kx",
        "colab_type": "code",
        "colab": {
          "base_uri": "https://localhost:8080/",
          "height": 221
        },
        "outputId": "da8d8f79-cc68-480f-f7f5-d3b9d1034df0"
      },
      "source": [
        "y_test_predict_poly"
      ],
      "execution_count": 400,
      "outputs": [
        {
          "output_type": "execute_result",
          "data": {
            "text/plain": [
              "array([ 23.2,  28.5,  27.5,   6.9,  20.8,  21. ,  21.7,  20. ,  18.6,\n",
              "        24.8,   9.9,  15.8,  13.8,   4.3,  45.9,  32.1,  23. ,  38.9,\n",
              "        32.4,  21.5,  23. ,  22. ,  20.1,  26.3,  16.6,  25.1,  16. ,\n",
              "        18.7,  34.8,  14.8,  18.4,  17.5,  19.5,  17.7,  26.3,  16. ,\n",
              "         7.6,  38.4,  17.2,  15.1,  21.5,  17.1,  20.8,  18.5,  22.5,\n",
              "        20.2,  19.3,  12. ,  14.2,  23.2, -15.6,  26. ,  21.7,  50.6,\n",
              "         5.3,  20.7,  15.2,  19.2,  27.5,  19.3,  21.5,  21.7,  31.1,\n",
              "        31. ,  17.9,  29.9,  15. ,  20.4,  17.2,  19.2,  17.6,  22.5,\n",
              "        29.1,  28.6,  27.4,   6.5,  42.3,  22.5,  25.8,  18.4,  25.2,\n",
              "        18.6,  22.8,  41.5,  44.1,  22.6,  23.1,  13.6,  33.9,  16.5,\n",
              "        28.9,   8.5,  23.2,  27.5,  16.3,  19.7,  12.9,  31.5,  13.3,\n",
              "        16.2,  24.4,  19.1])"
            ]
          },
          "metadata": {
            "tags": []
          },
          "execution_count": 400
        }
      ]
    },
    {
      "cell_type": "code",
      "metadata": {
        "id": "jrs5o0mz2_r2",
        "colab_type": "code",
        "colab": {}
      },
      "source": [
        "rmse_test = np.sqrt(mean_squared_error(y_test, y_test_predict_poly))\n",
        "r2_test = r2_score(y_test, y_test_predict_poly)\n",
        "  "
      ],
      "execution_count": 0,
      "outputs": []
    },
    {
      "cell_type": "code",
      "metadata": {
        "id": "MydmWx5L3WfG",
        "colab_type": "code",
        "colab": {
          "base_uri": "https://localhost:8080/",
          "height": 34
        },
        "outputId": "b803818f-14ad-4c5b-d02e-72fe31ab0535"
      },
      "source": [
        "rmse_test"
      ],
      "execution_count": 405,
      "outputs": [
        {
          "output_type": "execute_result",
          "data": {
            "text/plain": [
              "5.530545453977526"
            ]
          },
          "metadata": {
            "tags": []
          },
          "execution_count": 405
        }
      ]
    },
    {
      "cell_type": "code",
      "metadata": {
        "id": "-GRVkz3D3fK_",
        "colab_type": "code",
        "colab": {
          "base_uri": "https://localhost:8080/",
          "height": 34
        },
        "outputId": "e1edba1b-697d-4749-e2af-7044e40b1bc1"
      },
      "source": [
        "print('Trainning data r_squared: ', poly_model.score(X_train_poly,y_train))"
      ],
      "execution_count": 426,
      "outputs": [
        {
          "output_type": "stream",
          "text": [
            "Trainning data r_squared:  0.9518402891629278\n"
          ],
          "name": "stdout"
        }
      ]
    },
    {
      "cell_type": "code",
      "metadata": {
        "id": "hu_AhnuA38oU",
        "colab_type": "code",
        "colab": {
          "base_uri": "https://localhost:8080/",
          "height": 34
        },
        "outputId": "3f1cf224-b6e3-4b30-c37f-baaa4aadbc59"
      },
      "source": [
        "mean_absolute_error(y_test,y_test_predict_poly)"
      ],
      "execution_count": 408,
      "outputs": [
        {
          "output_type": "execute_result",
          "data": {
            "text/plain": [
              "3.5950201843299125"
            ]
          },
          "metadata": {
            "tags": []
          },
          "execution_count": 408
        }
      ]
    },
    {
      "cell_type": "markdown",
      "metadata": {
        "id": "rnPbMzl377Ez",
        "colab_type": "text"
      },
      "source": [
        "# Visualizing"
      ]
    },
    {
      "cell_type": "code",
      "metadata": {
        "id": "Vh3VDryC9OFt",
        "colab_type": "code",
        "colab": {
          "base_uri": "https://localhost:8080/",
          "height": 516
        },
        "outputId": "9a953867-8103-4f3a-9723-0143f0f297b8"
      },
      "source": [
        "plt.figure(figsize=(14,8))\n",
        "plt.scatter(y_test,y_test_predict_poly)\n",
        "plt.plot(y_test,y_test,'r')\n",
        "plt.title('Poly')"
      ],
      "execution_count": 436,
      "outputs": [
        {
          "output_type": "execute_result",
          "data": {
            "text/plain": [
              "Text(0.5, 1.0, 'Poly')"
            ]
          },
          "metadata": {
            "tags": []
          },
          "execution_count": 436
        },
        {
          "output_type": "display_data",
          "data": {
            "image/png": "[encoded data removed]",
            "text/plain": [
              "<Figure size 1008x576 with 1 Axes>"
            ]
          },
          "metadata": {
            "tags": [],
            "needs_background": "light"
          }
        }
      ]
    },
    {
      "cell_type": "code",
      "metadata": {
        "id": "Lw_nPji17xik",
        "colab_type": "code",
        "colab": {
          "base_uri": "https://localhost:8080/",
          "height": 626
        },
        "outputId": "9c08813f-c475-4190-e465-97a23c00ec52"
      },
      "source": [
        "plt.scatter(X_test, y_test_predict_poly, color = 'red')\n",
        "plt.plot(X_test, poly_model.predict(poly_features.fit_transform(X_train)), color = 'blue')\n",
        "plt.title('Truth or Bluff (Polynomial Regression)')\n",
        "plt.xlabel('Position level')\n",
        "plt.ylabel('Salary')\n",
        "plt.show()"
      ],
      "execution_count": 442,
      "outputs": [
        {
          "output_type": "error",
          "ename": "ValueError",
          "evalue": "ignored",
          "traceback": [
            "\u001b[0;31m---------------------------------------------------------------------------\u001b[0m",
            "\u001b[0;31mValueError\u001b[0m                                Traceback (most recent call last)",
            "\u001b[0;32m<ipython-input-442-806634325da8>\u001b[0m in \u001b[0;36m<module>\u001b[0;34m()\u001b[0m\n\u001b[0;32m----> 1\u001b[0;31m \u001b[0mplt\u001b[0m\u001b[0;34m.\u001b[0m\u001b[0mscatter\u001b[0m\u001b[0;34m(\u001b[0m\u001b[0mX_test\u001b[0m\u001b[0;34m,\u001b[0m \u001b[0my_test_predict_poly\u001b[0m\u001b[0;34m,\u001b[0m \u001b[0mcolor\u001b[0m \u001b[0;34m=\u001b[0m \u001b[0;34m'red'\u001b[0m\u001b[0;34m)\u001b[0m\u001b[0;34m\u001b[0m\u001b[0;34m\u001b[0m\u001b[0m\n\u001b[0m\u001b[1;32m      2\u001b[0m \u001b[0mplt\u001b[0m\u001b[0;34m.\u001b[0m\u001b[0mplot\u001b[0m\u001b[0;34m(\u001b[0m\u001b[0mX_test\u001b[0m\u001b[0;34m,\u001b[0m \u001b[0mpoly_model\u001b[0m\u001b[0;34m.\u001b[0m\u001b[0mpredict\u001b[0m\u001b[0;34m(\u001b[0m\u001b[0mpoly_features\u001b[0m\u001b[0;34m.\u001b[0m\u001b[0mfit_transform\u001b[0m\u001b[0;34m(\u001b[0m\u001b[0mX_train\u001b[0m\u001b[0;34m)\u001b[0m\u001b[0;34m)\u001b[0m\u001b[0;34m,\u001b[0m \u001b[0mcolor\u001b[0m \u001b[0;34m=\u001b[0m \u001b[0;34m'blue'\u001b[0m\u001b[0;34m)\u001b[0m\u001b[0;34m\u001b[0m\u001b[0;34m\u001b[0m\u001b[0m\n\u001b[1;32m      3\u001b[0m \u001b[0mplt\u001b[0m\u001b[0;34m.\u001b[0m\u001b[0mtitle\u001b[0m\u001b[0;34m(\u001b[0m\u001b[0;34m'Truth or Bluff (Polynomial Regression)'\u001b[0m\u001b[0;34m)\u001b[0m\u001b[0;34m\u001b[0m\u001b[0;34m\u001b[0m\u001b[0m\n\u001b[1;32m      4\u001b[0m \u001b[0mplt\u001b[0m\u001b[0;34m.\u001b[0m\u001b[0mxlabel\u001b[0m\u001b[0;34m(\u001b[0m\u001b[0;34m'Position level'\u001b[0m\u001b[0;34m)\u001b[0m\u001b[0;34m\u001b[0m\u001b[0;34m\u001b[0m\u001b[0m\n\u001b[1;32m      5\u001b[0m \u001b[0mplt\u001b[0m\u001b[0;34m.\u001b[0m\u001b[0mylabel\u001b[0m\u001b[0;34m(\u001b[0m\u001b[0;34m'Salary'\u001b[0m\u001b[0;34m)\u001b[0m\u001b[0;34m\u001b[0m\u001b[0;34m\u001b[0m\u001b[0m\n",
            "\u001b[0;32m/usr/local/lib/python3.6/dist-packages/matplotlib/pyplot.py\u001b[0m in \u001b[0;36mscatter\u001b[0;34m(x, y, s, c, marker, cmap, norm, vmin, vmax, alpha, linewidths, verts, edgecolors, plotnonfinite, data, **kwargs)\u001b[0m\n\u001b[1;32m   2814\u001b[0m         \u001b[0mverts\u001b[0m\u001b[0;34m=\u001b[0m\u001b[0mverts\u001b[0m\u001b[0;34m,\u001b[0m \u001b[0medgecolors\u001b[0m\u001b[0;34m=\u001b[0m\u001b[0medgecolors\u001b[0m\u001b[0;34m,\u001b[0m\u001b[0;34m\u001b[0m\u001b[0;34m\u001b[0m\u001b[0m\n\u001b[1;32m   2815\u001b[0m         plotnonfinite=plotnonfinite, **({\"data\": data} if data is not\n\u001b[0;32m-> 2816\u001b[0;31m         None else {}), **kwargs)\n\u001b[0m\u001b[1;32m   2817\u001b[0m     \u001b[0msci\u001b[0m\u001b[0;34m(\u001b[0m\u001b[0m__ret\u001b[0m\u001b[0;34m)\u001b[0m\u001b[0;34m\u001b[0m\u001b[0;34m\u001b[0m\u001b[0m\n\u001b[1;32m   2818\u001b[0m     \u001b[0;32mreturn\u001b[0m \u001b[0m__ret\u001b[0m\u001b[0;34m\u001b[0m\u001b[0;34m\u001b[0m\u001b[0m\n",
            "\u001b[0;32m/usr/local/lib/python3.6/dist-packages/matplotlib/__init__.py\u001b[0m in \u001b[0;36minner\u001b[0;34m(ax, data, *args, **kwargs)\u001b[0m\n\u001b[1;32m   1563\u001b[0m     \u001b[0;32mdef\u001b[0m \u001b[0minner\u001b[0m\u001b[0;34m(\u001b[0m\u001b[0max\u001b[0m\u001b[0;34m,\u001b[0m \u001b[0;34m*\u001b[0m\u001b[0margs\u001b[0m\u001b[0;34m,\u001b[0m \u001b[0mdata\u001b[0m\u001b[0;34m=\u001b[0m\u001b[0;32mNone\u001b[0m\u001b[0;34m,\u001b[0m \u001b[0;34m**\u001b[0m\u001b[0mkwargs\u001b[0m\u001b[0;34m)\u001b[0m\u001b[0;34m:\u001b[0m\u001b[0;34m\u001b[0m\u001b[0;34m\u001b[0m\u001b[0m\n\u001b[1;32m   1564\u001b[0m         \u001b[0;32mif\u001b[0m \u001b[0mdata\u001b[0m \u001b[0;32mis\u001b[0m \u001b[0;32mNone\u001b[0m\u001b[0;34m:\u001b[0m\u001b[0;34m\u001b[0m\u001b[0;34m\u001b[0m\u001b[0m\n\u001b[0;32m-> 1565\u001b[0;31m             \u001b[0;32mreturn\u001b[0m \u001b[0mfunc\u001b[0m\u001b[0;34m(\u001b[0m\u001b[0max\u001b[0m\u001b[0;34m,\u001b[0m \u001b[0;34m*\u001b[0m\u001b[0mmap\u001b[0m\u001b[0;34m(\u001b[0m\u001b[0msanitize_sequence\u001b[0m\u001b[0;34m,\u001b[0m \u001b[0margs\u001b[0m\u001b[0;34m)\u001b[0m\u001b[0;34m,\u001b[0m \u001b[0;34m**\u001b[0m\u001b[0mkwargs\u001b[0m\u001b[0;34m)\u001b[0m\u001b[0;34m\u001b[0m\u001b[0;34m\u001b[0m\u001b[0m\n\u001b[0m\u001b[1;32m   1566\u001b[0m \u001b[0;34m\u001b[0m\u001b[0m\n\u001b[1;32m   1567\u001b[0m         \u001b[0mbound\u001b[0m \u001b[0;34m=\u001b[0m \u001b[0mnew_sig\u001b[0m\u001b[0;34m.\u001b[0m\u001b[0mbind\u001b[0m\u001b[0;34m(\u001b[0m\u001b[0max\u001b[0m\u001b[0;34m,\u001b[0m \u001b[0;34m*\u001b[0m\u001b[0margs\u001b[0m\u001b[0;34m,\u001b[0m \u001b[0;34m**\u001b[0m\u001b[0mkwargs\u001b[0m\u001b[0;34m)\u001b[0m\u001b[0;34m\u001b[0m\u001b[0;34m\u001b[0m\u001b[0m\n",
            "\u001b[0;32m/usr/local/lib/python3.6/dist-packages/matplotlib/cbook/deprecation.py\u001b[0m in \u001b[0;36mwrapper\u001b[0;34m(*args, **kwargs)\u001b[0m\n\u001b[1;32m    356\u001b[0m                 \u001b[0;34mf\"%(removal)s.  If any parameter follows {name!r}, they \"\u001b[0m\u001b[0;34m\u001b[0m\u001b[0;34m\u001b[0m\u001b[0m\n\u001b[1;32m    357\u001b[0m                 f\"should be pass as keyword, not positionally.\")\n\u001b[0;32m--> 358\u001b[0;31m         \u001b[0;32mreturn\u001b[0m \u001b[0mfunc\u001b[0m\u001b[0;34m(\u001b[0m\u001b[0;34m*\u001b[0m\u001b[0margs\u001b[0m\u001b[0;34m,\u001b[0m \u001b[0;34m**\u001b[0m\u001b[0mkwargs\u001b[0m\u001b[0;34m)\u001b[0m\u001b[0;34m\u001b[0m\u001b[0;34m\u001b[0m\u001b[0m\n\u001b[0m\u001b[1;32m    359\u001b[0m \u001b[0;34m\u001b[0m\u001b[0m\n\u001b[1;32m    360\u001b[0m     \u001b[0;32mreturn\u001b[0m \u001b[0mwrapper\u001b[0m\u001b[0;34m\u001b[0m\u001b[0;34m\u001b[0m\u001b[0m\n",
            "\u001b[0;32m/usr/local/lib/python3.6/dist-packages/matplotlib/axes/_axes.py\u001b[0m in \u001b[0;36mscatter\u001b[0;34m(self, x, y, s, c, marker, cmap, norm, vmin, vmax, alpha, linewidths, verts, edgecolors, plotnonfinite, **kwargs)\u001b[0m\n\u001b[1;32m   4378\u001b[0m         \u001b[0my\u001b[0m \u001b[0;34m=\u001b[0m \u001b[0mnp\u001b[0m\u001b[0;34m.\u001b[0m\u001b[0mma\u001b[0m\u001b[0;34m.\u001b[0m\u001b[0mravel\u001b[0m\u001b[0;34m(\u001b[0m\u001b[0my\u001b[0m\u001b[0;34m)\u001b[0m\u001b[0;34m\u001b[0m\u001b[0;34m\u001b[0m\u001b[0m\n\u001b[1;32m   4379\u001b[0m         \u001b[0;32mif\u001b[0m \u001b[0mx\u001b[0m\u001b[0;34m.\u001b[0m\u001b[0msize\u001b[0m \u001b[0;34m!=\u001b[0m \u001b[0my\u001b[0m\u001b[0;34m.\u001b[0m\u001b[0msize\u001b[0m\u001b[0;34m:\u001b[0m\u001b[0;34m\u001b[0m\u001b[0;34m\u001b[0m\u001b[0m\n\u001b[0;32m-> 4380\u001b[0;31m             \u001b[0;32mraise\u001b[0m \u001b[0mValueError\u001b[0m\u001b[0;34m(\u001b[0m\u001b[0;34m\"x and y must be the same size\"\u001b[0m\u001b[0;34m)\u001b[0m\u001b[0;34m\u001b[0m\u001b[0;34m\u001b[0m\u001b[0m\n\u001b[0m\u001b[1;32m   4381\u001b[0m \u001b[0;34m\u001b[0m\u001b[0m\n\u001b[1;32m   4382\u001b[0m         \u001b[0;32mif\u001b[0m \u001b[0ms\u001b[0m \u001b[0;32mis\u001b[0m \u001b[0;32mNone\u001b[0m\u001b[0;34m:\u001b[0m\u001b[0;34m\u001b[0m\u001b[0;34m\u001b[0m\u001b[0m\n",
            "\u001b[0;31mValueError\u001b[0m: x and y must be the same size"
          ]
        },
        {
          "output_type": "display_data",
          "data": {
            "image/png": "[encoded data removed]",
            "text/plain": [
              "<Figure size 432x288 with 1 Axes>"
            ]
          },
          "metadata": {
            "tags": [],
            "needs_background": "light"
          }
        }
      ]
    },
    {
      "cell_type": "code",
      "metadata": {
        "id": "oAvhGR3k7xmA",
        "colab_type": "code",
        "colab": {}
      },
      "source": [
        ""
      ],
      "execution_count": 0,
      "outputs": []
    },
    {
      "cell_type": "code",
      "metadata": {
        "id": "iun9Oubr4Enh",
        "colab_type": "code",
        "colab": {}
      },
      "source": [
        "df3=df.drop('medv',axis=1)"
      ],
      "execution_count": 0,
      "outputs": []
    },
    {
      "cell_type": "code",
      "metadata": {
        "id": "McLG_Kfe6QF0",
        "colab_type": "code",
        "colab": {
          "base_uri": "https://localhost:8080/",
          "height": 359
        },
        "outputId": "1752a4b3-4874-4fa7-e135-db166807bb20"
      },
      "source": [
        "house_prediction_poly=df3.head(10)\n",
        "house_prediction_poly"
      ],
      "execution_count": 417,
      "outputs": [
        {
          "output_type": "execute_result",
          "data": {
            "text/html": [
              "<div>\n",
              "<style scoped>\n",
              "    .dataframe tbody tr th:only-of-type {\n",
              "        vertical-align: middle;\n",
              "    }\n",
              "\n",
              "    .dataframe tbody tr th {\n",
              "        vertical-align: top;\n",
              "    }\n",
              "\n",
              "    .dataframe thead th {\n",
              "        text-align: right;\n",
              "    }\n",
              "</style>\n",
              "<table border=\"1\" class=\"dataframe\">\n",
              "  <thead>\n",
              "    <tr style=\"text-align: right;\">\n",
              "      <th></th>\n",
              "      <th>Unnamed: 0</th>\n",
              "      <th>crim</th>\n",
              "      <th>zn</th>\n",
              "      <th>indus</th>\n",
              "      <th>chas</th>\n",
              "      <th>nox</th>\n",
              "      <th>rm</th>\n",
              "      <th>age</th>\n",
              "      <th>dis</th>\n",
              "      <th>rad</th>\n",
              "      <th>tax</th>\n",
              "      <th>ptratio</th>\n",
              "      <th>black</th>\n",
              "      <th>lstat</th>\n",
              "    </tr>\n",
              "  </thead>\n",
              "  <tbody>\n",
              "    <tr>\n",
              "      <th>0</th>\n",
              "      <td>1</td>\n",
              "      <td>0.00632</td>\n",
              "      <td>18.0</td>\n",
              "      <td>2.31</td>\n",
              "      <td>0</td>\n",
              "      <td>0.538</td>\n",
              "      <td>6.575</td>\n",
              "      <td>65.2</td>\n",
              "      <td>4.0900</td>\n",
              "      <td>1</td>\n",
              "      <td>296</td>\n",
              "      <td>15.3</td>\n",
              "      <td>396.90</td>\n",
              "      <td>4.98</td>\n",
              "    </tr>\n",
              "    <tr>\n",
              "      <th>1</th>\n",
              "      <td>2</td>\n",
              "      <td>0.02731</td>\n",
              "      <td>0.0</td>\n",
              "      <td>7.07</td>\n",
              "      <td>0</td>\n",
              "      <td>0.469</td>\n",
              "      <td>6.421</td>\n",
              "      <td>78.9</td>\n",
              "      <td>4.9671</td>\n",
              "      <td>2</td>\n",
              "      <td>242</td>\n",
              "      <td>17.8</td>\n",
              "      <td>396.90</td>\n",
              "      <td>9.14</td>\n",
              "    </tr>\n",
              "    <tr>\n",
              "      <th>2</th>\n",
              "      <td>3</td>\n",
              "      <td>0.02729</td>\n",
              "      <td>0.0</td>\n",
              "      <td>7.07</td>\n",
              "      <td>0</td>\n",
              "      <td>0.469</td>\n",
              "      <td>7.185</td>\n",
              "      <td>61.1</td>\n",
              "      <td>4.9671</td>\n",
              "      <td>2</td>\n",
              "      <td>242</td>\n",
              "      <td>17.8</td>\n",
              "      <td>392.83</td>\n",
              "      <td>4.03</td>\n",
              "    </tr>\n",
              "    <tr>\n",
              "      <th>3</th>\n",
              "      <td>4</td>\n",
              "      <td>0.03237</td>\n",
              "      <td>0.0</td>\n",
              "      <td>2.18</td>\n",
              "      <td>0</td>\n",
              "      <td>0.458</td>\n",
              "      <td>6.998</td>\n",
              "      <td>45.8</td>\n",
              "      <td>6.0622</td>\n",
              "      <td>3</td>\n",
              "      <td>222</td>\n",
              "      <td>18.7</td>\n",
              "      <td>394.63</td>\n",
              "      <td>2.94</td>\n",
              "    </tr>\n",
              "    <tr>\n",
              "      <th>4</th>\n",
              "      <td>5</td>\n",
              "      <td>0.06905</td>\n",
              "      <td>0.0</td>\n",
              "      <td>2.18</td>\n",
              "      <td>0</td>\n",
              "      <td>0.458</td>\n",
              "      <td>7.147</td>\n",
              "      <td>54.2</td>\n",
              "      <td>6.0622</td>\n",
              "      <td>3</td>\n",
              "      <td>222</td>\n",
              "      <td>18.7</td>\n",
              "      <td>396.90</td>\n",
              "      <td>5.33</td>\n",
              "    </tr>\n",
              "    <tr>\n",
              "      <th>5</th>\n",
              "      <td>6</td>\n",
              "      <td>0.02985</td>\n",
              "      <td>0.0</td>\n",
              "      <td>2.18</td>\n",
              "      <td>0</td>\n",
              "      <td>0.458</td>\n",
              "      <td>6.430</td>\n",
              "      <td>58.7</td>\n",
              "      <td>6.0622</td>\n",
              "      <td>3</td>\n",
              "      <td>222</td>\n",
              "      <td>18.7</td>\n",
              "      <td>394.12</td>\n",
              "      <td>5.21</td>\n",
              "    </tr>\n",
              "    <tr>\n",
              "      <th>6</th>\n",
              "      <td>7</td>\n",
              "      <td>0.08829</td>\n",
              "      <td>12.5</td>\n",
              "      <td>7.87</td>\n",
              "      <td>0</td>\n",
              "      <td>0.524</td>\n",
              "      <td>6.012</td>\n",
              "      <td>66.6</td>\n",
              "      <td>5.5605</td>\n",
              "      <td>5</td>\n",
              "      <td>311</td>\n",
              "      <td>15.2</td>\n",
              "      <td>395.60</td>\n",
              "      <td>12.43</td>\n",
              "    </tr>\n",
              "    <tr>\n",
              "      <th>7</th>\n",
              "      <td>8</td>\n",
              "      <td>0.14455</td>\n",
              "      <td>12.5</td>\n",
              "      <td>7.87</td>\n",
              "      <td>0</td>\n",
              "      <td>0.524</td>\n",
              "      <td>6.172</td>\n",
              "      <td>96.1</td>\n",
              "      <td>5.9505</td>\n",
              "      <td>5</td>\n",
              "      <td>311</td>\n",
              "      <td>15.2</td>\n",
              "      <td>396.90</td>\n",
              "      <td>19.15</td>\n",
              "    </tr>\n",
              "    <tr>\n",
              "      <th>8</th>\n",
              "      <td>9</td>\n",
              "      <td>0.21124</td>\n",
              "      <td>12.5</td>\n",
              "      <td>7.87</td>\n",
              "      <td>0</td>\n",
              "      <td>0.524</td>\n",
              "      <td>5.631</td>\n",
              "      <td>100.0</td>\n",
              "      <td>6.0821</td>\n",
              "      <td>5</td>\n",
              "      <td>311</td>\n",
              "      <td>15.2</td>\n",
              "      <td>386.63</td>\n",
              "      <td>29.93</td>\n",
              "    </tr>\n",
              "    <tr>\n",
              "      <th>9</th>\n",
              "      <td>10</td>\n",
              "      <td>0.17004</td>\n",
              "      <td>12.5</td>\n",
              "      <td>7.87</td>\n",
              "      <td>0</td>\n",
              "      <td>0.524</td>\n",
              "      <td>6.004</td>\n",
              "      <td>85.9</td>\n",
              "      <td>6.5921</td>\n",
              "      <td>5</td>\n",
              "      <td>311</td>\n",
              "      <td>15.2</td>\n",
              "      <td>386.71</td>\n",
              "      <td>17.10</td>\n",
              "    </tr>\n",
              "  </tbody>\n",
              "</table>\n",
              "</div>"
            ],
            "text/plain": [
              "   Unnamed: 0     crim    zn  indus  chas  ...  rad  tax  ptratio   black  lstat\n",
              "0           1  0.00632  18.0   2.31     0  ...    1  296     15.3  396.90   4.98\n",
              "1           2  0.02731   0.0   7.07     0  ...    2  242     17.8  396.90   9.14\n",
              "2           3  0.02729   0.0   7.07     0  ...    2  242     17.8  392.83   4.03\n",
              "3           4  0.03237   0.0   2.18     0  ...    3  222     18.7  394.63   2.94\n",
              "4           5  0.06905   0.0   2.18     0  ...    3  222     18.7  396.90   5.33\n",
              "5           6  0.02985   0.0   2.18     0  ...    3  222     18.7  394.12   5.21\n",
              "6           7  0.08829  12.5   7.87     0  ...    5  311     15.2  395.60  12.43\n",
              "7           8  0.14455  12.5   7.87     0  ...    5  311     15.2  396.90  19.15\n",
              "8           9  0.21124  12.5   7.87     0  ...    5  311     15.2  386.63  29.93\n",
              "9          10  0.17004  12.5   7.87     0  ...    5  311     15.2  386.71  17.10\n",
              "\n",
              "[10 rows x 14 columns]"
            ]
          },
          "metadata": {
            "tags": []
          },
          "execution_count": 417
        }
      ]
    },
    {
      "cell_type": "code",
      "metadata": {
        "id": "jqI1FGrd6THb",
        "colab_type": "code",
        "colab": {}
      },
      "source": [
        "house_prediction_poly=poly_model.predict(poly_features.fit_transform(house_prediction_poly))"
      ],
      "execution_count": 0,
      "outputs": []
    },
    {
      "cell_type": "code",
      "metadata": {
        "id": "2gpANDXp6cdy",
        "colab_type": "code",
        "colab": {
          "base_uri": "https://localhost:8080/",
          "height": 34
        },
        "outputId": "675de86d-f283-48d8-951f-9bd3a359398a"
      },
      "source": [
        "house_prediction_poly"
      ],
      "execution_count": 424,
      "outputs": [
        {
          "output_type": "execute_result",
          "data": {
            "text/plain": [
              "array([26.2, 20.2, 31.2, 34.5, 33.3, 28.2, 21.9, 18. , 14.7, 22.3])"
            ]
          },
          "metadata": {
            "tags": []
          },
          "execution_count": 424
        }
      ]
    },
    {
      "cell_type": "code",
      "metadata": {
        "id": "wqS4k7_k7Nu4",
        "colab_type": "code",
        "colab": {
          "base_uri": "https://localhost:8080/",
          "height": 359
        },
        "outputId": "9acb850f-5cf1-4c63-c0bf-c39f62527dfd"
      },
      "source": [
        "df_poly = pd.DataFrame(house_prediction_poly, columns=['Predictions_poly'])\n",
        "df_poly"
      ],
      "execution_count": 425,
      "outputs": [
        {
          "output_type": "execute_result",
          "data": {
            "text/html": [
              "<div>\n",
              "<style scoped>\n",
              "    .dataframe tbody tr th:only-of-type {\n",
              "        vertical-align: middle;\n",
              "    }\n",
              "\n",
              "    .dataframe tbody tr th {\n",
              "        vertical-align: top;\n",
              "    }\n",
              "\n",
              "    .dataframe thead th {\n",
              "        text-align: right;\n",
              "    }\n",
              "</style>\n",
              "<table border=\"1\" class=\"dataframe\">\n",
              "  <thead>\n",
              "    <tr style=\"text-align: right;\">\n",
              "      <th></th>\n",
              "      <th>Predictions_poly</th>\n",
              "    </tr>\n",
              "  </thead>\n",
              "  <tbody>\n",
              "    <tr>\n",
              "      <th>0</th>\n",
              "      <td>26.185130</td>\n",
              "    </tr>\n",
              "    <tr>\n",
              "      <th>1</th>\n",
              "      <td>20.242273</td>\n",
              "    </tr>\n",
              "    <tr>\n",
              "      <th>2</th>\n",
              "      <td>31.229378</td>\n",
              "    </tr>\n",
              "    <tr>\n",
              "      <th>3</th>\n",
              "      <td>34.547726</td>\n",
              "    </tr>\n",
              "    <tr>\n",
              "      <th>4</th>\n",
              "      <td>33.330851</td>\n",
              "    </tr>\n",
              "    <tr>\n",
              "      <th>5</th>\n",
              "      <td>28.211071</td>\n",
              "    </tr>\n",
              "    <tr>\n",
              "      <th>6</th>\n",
              "      <td>21.896255</td>\n",
              "    </tr>\n",
              "    <tr>\n",
              "      <th>7</th>\n",
              "      <td>18.026796</td>\n",
              "    </tr>\n",
              "    <tr>\n",
              "      <th>8</th>\n",
              "      <td>14.739570</td>\n",
              "    </tr>\n",
              "    <tr>\n",
              "      <th>9</th>\n",
              "      <td>22.343196</td>\n",
              "    </tr>\n",
              "  </tbody>\n",
              "</table>\n",
              "</div>"
            ],
            "text/plain": [
              "   Predictions_poly\n",
              "0         26.185130\n",
              "1         20.242273\n",
              "2         31.229378\n",
              "3         34.547726\n",
              "4         33.330851\n",
              "5         28.211071\n",
              "6         21.896255\n",
              "7         18.026796\n",
              "8         14.739570\n",
              "9         22.343196"
            ]
          },
          "metadata": {
            "tags": []
          },
          "execution_count": 425
        }
      ]
    },
    {
      "cell_type": "code",
      "metadata": {
        "id": "jJw9R5Um7YwH",
        "colab_type": "code",
        "colab": {
          "base_uri": "https://localhost:8080/",
          "height": 359
        },
        "outputId": "bf1e93bd-cd43-4700-85dd-aea17649cd65"
      },
      "source": [
        "data_predicted= pd.concat([df, df_ann,df_lr,df_poly], axis=1)\n",
        "data_predicted.head(10)"
      ],
      "execution_count": 427,
      "outputs": [
        {
          "output_type": "execute_result",
          "data": {
            "text/html": [
              "<div>\n",
              "<style scoped>\n",
              "    .dataframe tbody tr th:only-of-type {\n",
              "        vertical-align: middle;\n",
              "    }\n",
              "\n",
              "    .dataframe tbody tr th {\n",
              "        vertical-align: top;\n",
              "    }\n",
              "\n",
              "    .dataframe thead th {\n",
              "        text-align: right;\n",
              "    }\n",
              "</style>\n",
              "<table border=\"1\" class=\"dataframe\">\n",
              "  <thead>\n",
              "    <tr style=\"text-align: right;\">\n",
              "      <th></th>\n",
              "      <th>Unnamed: 0</th>\n",
              "      <th>crim</th>\n",
              "      <th>zn</th>\n",
              "      <th>indus</th>\n",
              "      <th>chas</th>\n",
              "      <th>nox</th>\n",
              "      <th>rm</th>\n",
              "      <th>age</th>\n",
              "      <th>dis</th>\n",
              "      <th>rad</th>\n",
              "      <th>tax</th>\n",
              "      <th>ptratio</th>\n",
              "      <th>black</th>\n",
              "      <th>lstat</th>\n",
              "      <th>medv</th>\n",
              "      <th>Predictions_ann</th>\n",
              "      <th>Predictions_lr</th>\n",
              "      <th>Predictions_poly</th>\n",
              "    </tr>\n",
              "  </thead>\n",
              "  <tbody>\n",
              "    <tr>\n",
              "      <th>0</th>\n",
              "      <td>1</td>\n",
              "      <td>0.00632</td>\n",
              "      <td>18.0</td>\n",
              "      <td>2.31</td>\n",
              "      <td>0</td>\n",
              "      <td>0.538</td>\n",
              "      <td>6.575</td>\n",
              "      <td>65.2</td>\n",
              "      <td>4.0900</td>\n",
              "      <td>1</td>\n",
              "      <td>296</td>\n",
              "      <td>15.3</td>\n",
              "      <td>396.90</td>\n",
              "      <td>4.98</td>\n",
              "      <td>24.0</td>\n",
              "      <td>25.101952</td>\n",
              "      <td>30.499498</td>\n",
              "      <td>26.185130</td>\n",
              "    </tr>\n",
              "    <tr>\n",
              "      <th>1</th>\n",
              "      <td>2</td>\n",
              "      <td>0.02731</td>\n",
              "      <td>0.0</td>\n",
              "      <td>7.07</td>\n",
              "      <td>0</td>\n",
              "      <td>0.469</td>\n",
              "      <td>6.421</td>\n",
              "      <td>78.9</td>\n",
              "      <td>4.9671</td>\n",
              "      <td>2</td>\n",
              "      <td>242</td>\n",
              "      <td>17.8</td>\n",
              "      <td>396.90</td>\n",
              "      <td>9.14</td>\n",
              "      <td>21.6</td>\n",
              "      <td>22.787239</td>\n",
              "      <td>25.172480</td>\n",
              "      <td>20.242273</td>\n",
              "    </tr>\n",
              "    <tr>\n",
              "      <th>2</th>\n",
              "      <td>3</td>\n",
              "      <td>0.02729</td>\n",
              "      <td>0.0</td>\n",
              "      <td>7.07</td>\n",
              "      <td>0</td>\n",
              "      <td>0.469</td>\n",
              "      <td>7.185</td>\n",
              "      <td>61.1</td>\n",
              "      <td>4.9671</td>\n",
              "      <td>2</td>\n",
              "      <td>242</td>\n",
              "      <td>17.8</td>\n",
              "      <td>392.83</td>\n",
              "      <td>4.03</td>\n",
              "      <td>34.7</td>\n",
              "      <td>30.726530</td>\n",
              "      <td>30.546654</td>\n",
              "      <td>31.229378</td>\n",
              "    </tr>\n",
              "    <tr>\n",
              "      <th>3</th>\n",
              "      <td>4</td>\n",
              "      <td>0.03237</td>\n",
              "      <td>0.0</td>\n",
              "      <td>2.18</td>\n",
              "      <td>0</td>\n",
              "      <td>0.458</td>\n",
              "      <td>6.998</td>\n",
              "      <td>45.8</td>\n",
              "      <td>6.0622</td>\n",
              "      <td>3</td>\n",
              "      <td>222</td>\n",
              "      <td>18.7</td>\n",
              "      <td>394.63</td>\n",
              "      <td>2.94</td>\n",
              "      <td>33.4</td>\n",
              "      <td>33.756142</td>\n",
              "      <td>28.606948</td>\n",
              "      <td>34.547726</td>\n",
              "    </tr>\n",
              "    <tr>\n",
              "      <th>4</th>\n",
              "      <td>5</td>\n",
              "      <td>0.06905</td>\n",
              "      <td>0.0</td>\n",
              "      <td>2.18</td>\n",
              "      <td>0</td>\n",
              "      <td>0.458</td>\n",
              "      <td>7.147</td>\n",
              "      <td>54.2</td>\n",
              "      <td>6.0622</td>\n",
              "      <td>3</td>\n",
              "      <td>222</td>\n",
              "      <td>18.7</td>\n",
              "      <td>396.90</td>\n",
              "      <td>5.33</td>\n",
              "      <td>36.2</td>\n",
              "      <td>33.590584</td>\n",
              "      <td>27.969583</td>\n",
              "      <td>33.330851</td>\n",
              "    </tr>\n",
              "    <tr>\n",
              "      <th>5</th>\n",
              "      <td>6</td>\n",
              "      <td>0.02985</td>\n",
              "      <td>0.0</td>\n",
              "      <td>2.18</td>\n",
              "      <td>0</td>\n",
              "      <td>0.458</td>\n",
              "      <td>6.430</td>\n",
              "      <td>58.7</td>\n",
              "      <td>6.0622</td>\n",
              "      <td>3</td>\n",
              "      <td>222</td>\n",
              "      <td>18.7</td>\n",
              "      <td>394.12</td>\n",
              "      <td>5.21</td>\n",
              "      <td>28.7</td>\n",
              "      <td>27.313545</td>\n",
              "      <td>25.337665</td>\n",
              "      <td>28.211071</td>\n",
              "    </tr>\n",
              "    <tr>\n",
              "      <th>6</th>\n",
              "      <td>7</td>\n",
              "      <td>0.08829</td>\n",
              "      <td>12.5</td>\n",
              "      <td>7.87</td>\n",
              "      <td>0</td>\n",
              "      <td>0.524</td>\n",
              "      <td>6.012</td>\n",
              "      <td>66.6</td>\n",
              "      <td>5.5605</td>\n",
              "      <td>5</td>\n",
              "      <td>311</td>\n",
              "      <td>15.2</td>\n",
              "      <td>395.60</td>\n",
              "      <td>12.43</td>\n",
              "      <td>22.9</td>\n",
              "      <td>21.191311</td>\n",
              "      <td>23.603188</td>\n",
              "      <td>21.896255</td>\n",
              "    </tr>\n",
              "    <tr>\n",
              "      <th>7</th>\n",
              "      <td>8</td>\n",
              "      <td>0.14455</td>\n",
              "      <td>12.5</td>\n",
              "      <td>7.87</td>\n",
              "      <td>0</td>\n",
              "      <td>0.524</td>\n",
              "      <td>6.172</td>\n",
              "      <td>96.1</td>\n",
              "      <td>5.9505</td>\n",
              "      <td>5</td>\n",
              "      <td>311</td>\n",
              "      <td>15.2</td>\n",
              "      <td>396.90</td>\n",
              "      <td>19.15</td>\n",
              "      <td>27.1</td>\n",
              "      <td>22.051537</td>\n",
              "      <td>20.256071</td>\n",
              "      <td>18.026796</td>\n",
              "    </tr>\n",
              "    <tr>\n",
              "      <th>8</th>\n",
              "      <td>9</td>\n",
              "      <td>0.21124</td>\n",
              "      <td>12.5</td>\n",
              "      <td>7.87</td>\n",
              "      <td>0</td>\n",
              "      <td>0.524</td>\n",
              "      <td>5.631</td>\n",
              "      <td>100.0</td>\n",
              "      <td>6.0821</td>\n",
              "      <td>5</td>\n",
              "      <td>311</td>\n",
              "      <td>15.2</td>\n",
              "      <td>386.63</td>\n",
              "      <td>29.93</td>\n",
              "      <td>16.5</td>\n",
              "      <td>18.007427</td>\n",
              "      <td>12.651475</td>\n",
              "      <td>14.739570</td>\n",
              "    </tr>\n",
              "    <tr>\n",
              "      <th>9</th>\n",
              "      <td>10</td>\n",
              "      <td>0.17004</td>\n",
              "      <td>12.5</td>\n",
              "      <td>7.87</td>\n",
              "      <td>0</td>\n",
              "      <td>0.524</td>\n",
              "      <td>6.004</td>\n",
              "      <td>85.9</td>\n",
              "      <td>6.5921</td>\n",
              "      <td>5</td>\n",
              "      <td>311</td>\n",
              "      <td>15.2</td>\n",
              "      <td>386.71</td>\n",
              "      <td>17.10</td>\n",
              "      <td>18.9</td>\n",
              "      <td>21.153299</td>\n",
              "      <td>19.699869</td>\n",
              "      <td>22.343196</td>\n",
              "    </tr>\n",
              "  </tbody>\n",
              "</table>\n",
              "</div>"
            ],
            "text/plain": [
              "   Unnamed: 0     crim    zn  ...  Predictions_ann  Predictions_lr  Predictions_poly\n",
              "0           1  0.00632  18.0  ...        25.101952       30.499498         26.185130\n",
              "1           2  0.02731   0.0  ...        22.787239       25.172480         20.242273\n",
              "2           3  0.02729   0.0  ...        30.726530       30.546654         31.229378\n",
              "3           4  0.03237   0.0  ...        33.756142       28.606948         34.547726\n",
              "4           5  0.06905   0.0  ...        33.590584       27.969583         33.330851\n",
              "5           6  0.02985   0.0  ...        27.313545       25.337665         28.211071\n",
              "6           7  0.08829  12.5  ...        21.191311       23.603188         21.896255\n",
              "7           8  0.14455  12.5  ...        22.051537       20.256071         18.026796\n",
              "8           9  0.21124  12.5  ...        18.007427       12.651475         14.739570\n",
              "9          10  0.17004  12.5  ...        21.153299       19.699869         22.343196\n",
              "\n",
              "[10 rows x 18 columns]"
            ]
          },
          "metadata": {
            "tags": []
          },
          "execution_count": 427
        }
      ]
    },
    {
      "cell_type": "code",
      "metadata": {
        "id": "FFYFW2-u7kEN",
        "colab_type": "code",
        "colab": {}
      },
      "source": [
        ""
      ],
      "execution_count": 0,
      "outputs": []
    }
  ]
}