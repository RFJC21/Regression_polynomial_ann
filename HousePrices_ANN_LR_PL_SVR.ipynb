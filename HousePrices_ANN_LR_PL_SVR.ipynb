{
  "nbformat": 4,
  "nbformat_minor": 0,
  "metadata": {
    "colab": {
      "name": "HousePrices_ANN_LR_PL_SVR.ipynb",
      "provenance": [],
      "collapsed_sections": [],
      "authorship_tag": "ABX9TyN8+119yvaXRan8XkaVf7JU",
      "include_colab_link": true
    },
    "kernelspec": {
      "name": "python3",
      "display_name": "Python 3"
    }
  },
  "cells": [
    {
      "cell_type": "markdown",
      "metadata": {
        "id": "view-in-github",
        "colab_type": "text"
      },
      "source": [
        "<a href=\"https://colab.research.google.com/github/RFJC21/Regression_polynomial_ann/blob/master/HousePrices_ANN_LR_PL_SVR.ipynb\" target=\"_parent\"><img src=\"https://colab.research.google.com/assets/colab-badge.svg\" alt=\"Open In Colab\"/></a>"
      ]
    },
    {
      "cell_type": "code",
      "metadata": {
        "id": "oOjwonNztph0",
        "colab_type": "code",
        "colab": {
          "base_uri": "https://localhost:8080/",
          "height": 51
        },
        "outputId": "f59698ea-0e87-465a-d3cb-45b5b309bd44"
      },
      "source": [
        "#import data from scikitlearn\n",
        "import pandas as pd\n",
        "import matplotlib.pyplot as plt\n",
        "import seaborn as sns\n",
        "import numpy as np\n",
        "from sklearn.model_selection import train_test_split\n",
        "from sklearn.linear_model import LinearRegression\n",
        "import statsmodels.api as sm\n",
        "from statsmodels.stats.outliers_influence import variance_inflation_factor\n",
        "import pandas_profiling "
      ],
      "execution_count": 1,
      "outputs": [
        {
          "output_type": "stream",
          "text": [
            "/usr/local/lib/python3.6/dist-packages/statsmodels/tools/_testing.py:19: FutureWarning: pandas.util.testing is deprecated. Use the functions in the public API at pandas.testing instead.\n",
            "  import pandas.util.testing as tm\n"
          ],
          "name": "stderr"
        }
      ]
    },
    {
      "cell_type": "markdown",
      "metadata": {
        "id": "2S3c9Y3wu3O8",
        "colab_type": "text"
      },
      "source": [
        "# Multivariate Linear Regression vs ANN Keras Regression vs Polynomial Regression vs SVR vs Decision Trees"
      ]
    },
    {
      "cell_type": "code",
      "metadata": {
        "id": "tIo9wa3Eu1Vg",
        "colab_type": "code",
        "colab": {
          "resources": {
            "http://localhost:8080/nbextensions/google.colab/files.js": {
              "data": "Ly8gQ29weXJpZ2h0IDIwMTcgR29vZ2xlIExMQwovLwovLyBMaWNlbnNlZCB1bmRlciB0aGUgQXBhY2hlIExpY2Vuc2UsIFZlcnNpb24gMi4wICh0aGUgIkxpY2Vuc2UiKTsKLy8geW91IG1heSBub3QgdXNlIHRoaXMgZmlsZSBleGNlcHQgaW4gY29tcGxpYW5jZSB3aXRoIHRoZSBMaWNlbnNlLgovLyBZb3UgbWF5IG9idGFpbiBhIGNvcHkgb2YgdGhlIExpY2Vuc2UgYXQKLy8KLy8gICAgICBodHRwOi8vd3d3LmFwYWNoZS5vcmcvbGljZW5zZXMvTElDRU5TRS0yLjAKLy8KLy8gVW5sZXNzIHJlcXVpcmVkIGJ5IGFwcGxpY2FibGUgbGF3IG9yIGFncmVlZCB0byBpbiB3cml0aW5nLCBzb2Z0d2FyZQovLyBkaXN0cmlidXRlZCB1bmRlciB0aGUgTGljZW5zZSBpcyBkaXN0cmlidXRlZCBvbiBhbiAiQVMgSVMiIEJBU0lTLAovLyBXSVRIT1VUIFdBUlJBTlRJRVMgT1IgQ09ORElUSU9OUyBPRiBBTlkgS0lORCwgZWl0aGVyIGV4cHJlc3Mgb3IgaW1wbGllZC4KLy8gU2VlIHRoZSBMaWNlbnNlIGZvciB0aGUgc3BlY2lmaWMgbGFuZ3VhZ2UgZ292ZXJuaW5nIHBlcm1pc3Npb25zIGFuZAovLyBsaW1pdGF0aW9ucyB1bmRlciB0aGUgTGljZW5zZS4KCi8qKgogKiBAZmlsZW92ZXJ2aWV3IEhlbHBlcnMgZm9yIGdvb2dsZS5jb2xhYiBQeXRob24gbW9kdWxlLgogKi8KKGZ1bmN0aW9uKHNjb3BlKSB7CmZ1bmN0aW9uIHNwYW4odGV4dCwgc3R5bGVBdHRyaWJ1dGVzID0ge30pIHsKICBjb25zdCBlbGVtZW50ID0gZG9jdW1lbnQuY3JlYXRlRWxlbWVudCgnc3BhbicpOwogIGVsZW1lbnQudGV4dENvbnRlbnQgPSB0ZXh0OwogIGZvciAoY29uc3Qga2V5IG9mIE9iamVjdC5rZXlzKHN0eWxlQXR0cmlidXRlcykpIHsKICAgIGVsZW1lbnQuc3R5bGVba2V5XSA9IHN0eWxlQXR0cmlidXRlc1trZXldOwogIH0KICByZXR1cm4gZWxlbWVudDsKfQoKLy8gTWF4IG51bWJlciBvZiBieXRlcyB3aGljaCB3aWxsIGJlIHVwbG9hZGVkIGF0IGEgdGltZS4KY29uc3QgTUFYX1BBWUxPQURfU0laRSA9IDEwMCAqIDEwMjQ7Ci8vIE1heCBhbW91bnQgb2YgdGltZSB0byBibG9jayB3YWl0aW5nIGZvciB0aGUgdXNlci4KY29uc3QgRklMRV9DSEFOR0VfVElNRU9VVF9NUyA9IDMwICogMTAwMDsKCmZ1bmN0aW9uIF91cGxvYWRGaWxlcyhpbnB1dElkLCBvdXRwdXRJZCkgewogIGNvbnN0IHN0ZXBzID0gdXBsb2FkRmlsZXNTdGVwKGlucHV0SWQsIG91dHB1dElkKTsKICBjb25zdCBvdXRwdXRFbGVtZW50ID0gZG9jdW1lbnQuZ2V0RWxlbWVudEJ5SWQob3V0cHV0SWQpOwogIC8vIENhY2hlIHN0ZXBzIG9uIHRoZSBvdXRwdXRFbGVtZW50IHRvIG1ha2UgaXQgYXZhaWxhYmxlIGZvciB0aGUgbmV4dCBjYWxsCiAgLy8gdG8gdXBsb2FkRmlsZXNDb250aW51ZSBmcm9tIFB5dGhvbi4KICBvdXRwdXRFbGVtZW50LnN0ZXBzID0gc3RlcHM7CgogIHJldHVybiBfdXBsb2FkRmlsZXNDb250aW51ZShvdXRwdXRJZCk7Cn0KCi8vIFRoaXMgaXMgcm91Z2hseSBhbiBhc3luYyBnZW5lcmF0b3IgKG5vdCBzdXBwb3J0ZWQgaW4gdGhlIGJyb3dzZXIgeWV0KSwKLy8gd2hlcmUgdGhlcmUgYXJlIG11bHRpcGxlIGFzeW5jaHJvbm91cyBzdGVwcyBhbmQgdGhlIFB5dGhvbiBzaWRlIGlzIGdvaW5nCi8vIHRvIHBvbGwgZm9yIGNvbXBsZXRpb24gb2YgZWFjaCBzdGVwLgovLyBUaGlzIHVzZXMgYSBQcm9taXNlIHRvIGJsb2NrIHRoZSBweXRob24gc2lkZSBvbiBjb21wbGV0aW9uIG9mIGVhY2ggc3RlcCwKLy8gdGhlbiBwYXNzZXMgdGhlIHJlc3VsdCBvZiB0aGUgcHJldmlvdXMgc3RlcCBhcyB0aGUgaW5wdXQgdG8gdGhlIG5leHQgc3RlcC4KZnVuY3Rpb24gX3VwbG9hZEZpbGVzQ29udGludWUob3V0cHV0SWQpIHsKICBjb25zdCBvdXRwdXRFbGVtZW50ID0gZG9jdW1lbnQuZ2V0RWxlbWVudEJ5SWQob3V0cHV0SWQpOwogIGNvbnN0IHN0ZXBzID0gb3V0cHV0RWxlbWVudC5zdGVwczsKCiAgY29uc3QgbmV4dCA9IHN0ZXBzLm5leHQob3V0cHV0RWxlbWVudC5sYXN0UHJvbWlzZVZhbHVlKTsKICByZXR1cm4gUHJvbWlzZS5yZXNvbHZlKG5leHQudmFsdWUucHJvbWlzZSkudGhlbigodmFsdWUpID0+IHsKICAgIC8vIENhY2hlIHRoZSBsYXN0IHByb21pc2UgdmFsdWUgdG8gbWFrZSBpdCBhdmFpbGFibGUgdG8gdGhlIG5leHQKICAgIC8vIHN0ZXAgb2YgdGhlIGdlbmVyYXRvci4KICAgIG91dHB1dEVsZW1lbnQubGFzdFByb21pc2VWYWx1ZSA9IHZhbHVlOwogICAgcmV0dXJuIG5leHQudmFsdWUucmVzcG9uc2U7CiAgfSk7Cn0KCi8qKgogKiBHZW5lcmF0b3IgZnVuY3Rpb24gd2hpY2ggaXMgY2FsbGVkIGJldHdlZW4gZWFjaCBhc3luYyBzdGVwIG9mIHRoZSB1cGxvYWQKICogcHJvY2Vzcy4KICogQHBhcmFtIHtzdHJpbmd9IGlucHV0SWQgRWxlbWVudCBJRCBvZiB0aGUgaW5wdXQgZmlsZSBwaWNrZXIgZWxlbWVudC4KICogQHBhcmFtIHtzdHJpbmd9IG91dHB1dElkIEVsZW1lbnQgSUQgb2YgdGhlIG91dHB1dCBkaXNwbGF5LgogKiBAcmV0dXJuIHshSXRlcmFibGU8IU9iamVjdD59IEl0ZXJhYmxlIG9mIG5leHQgc3RlcHMuCiAqLwpmdW5jdGlvbiogdXBsb2FkRmlsZXNTdGVwKGlucHV0SWQsIG91dHB1dElkKSB7CiAgY29uc3QgaW5wdXRFbGVtZW50ID0gZG9jdW1lbnQuZ2V0RWxlbWVudEJ5SWQoaW5wdXRJZCk7CiAgaW5wdXRFbGVtZW50LmRpc2FibGVkID0gZmFsc2U7CgogIGNvbnN0IG91dHB1dEVsZW1lbnQgPSBkb2N1bWVudC5nZXRFbGVtZW50QnlJZChvdXRwdXRJZCk7CiAgb3V0cHV0RWxlbWVudC5pbm5lckhUTUwgPSAnJzsKCiAgY29uc3QgcGlja2VkUHJvbWlzZSA9IG5ldyBQcm9taXNlKChyZXNvbHZlKSA9PiB7CiAgICBpbnB1dEVsZW1lbnQuYWRkRXZlbnRMaXN0ZW5lcignY2hhbmdlJywgKGUpID0+IHsKICAgICAgcmVzb2x2ZShlLnRhcmdldC5maWxlcyk7CiAgICB9KTsKICB9KTsKCiAgY29uc3QgY2FuY2VsID0gZG9jdW1lbnQuY3JlYXRlRWxlbWVudCgnYnV0dG9uJyk7CiAgaW5wdXRFbGVtZW50LnBhcmVudEVsZW1lbnQuYXBwZW5kQ2hpbGQoY2FuY2VsKTsKICBjYW5jZWwudGV4dENvbnRlbnQgPSAnQ2FuY2VsIHVwbG9hZCc7CiAgY29uc3QgY2FuY2VsUHJvbWlzZSA9IG5ldyBQcm9taXNlKChyZXNvbHZlKSA9PiB7CiAgICBjYW5jZWwub25jbGljayA9ICgpID0+IHsKICAgICAgcmVzb2x2ZShudWxsKTsKICAgIH07CiAgfSk7CgogIC8vIENhbmNlbCB1cGxvYWQgaWYgdXNlciBoYXNuJ3QgcGlja2VkIGFueXRoaW5nIGluIHRpbWVvdXQuCiAgY29uc3QgdGltZW91dFByb21pc2UgPSBuZXcgUHJvbWlzZSgocmVzb2x2ZSkgPT4gewogICAgc2V0VGltZW91dCgoKSA9PiB7CiAgICAgIHJlc29sdmUobnVsbCk7CiAgICB9LCBGSUxFX0NIQU5HRV9USU1FT1VUX01TKTsKICB9KTsKCiAgLy8gV2FpdCBmb3IgdGhlIHVzZXIgdG8gcGljayB0aGUgZmlsZXMuCiAgY29uc3QgZmlsZXMgPSB5aWVsZCB7CiAgICBwcm9taXNlOiBQcm9taXNlLnJhY2UoW3BpY2tlZFByb21pc2UsIHRpbWVvdXRQcm9taXNlLCBjYW5jZWxQcm9taXNlXSksCiAgICByZXNwb25zZTogewogICAgICBhY3Rpb246ICdzdGFydGluZycsCiAgICB9CiAgfTsKCiAgaWYgKCFmaWxlcykgewogICAgcmV0dXJuIHsKICAgICAgcmVzcG9uc2U6IHsKICAgICAgICBhY3Rpb246ICdjb21wbGV0ZScsCiAgICAgIH0KICAgIH07CiAgfQoKICBjYW5jZWwucmVtb3ZlKCk7CgogIC8vIERpc2FibGUgdGhlIGlucHV0IGVsZW1lbnQgc2luY2UgZnVydGhlciBwaWNrcyBhcmUgbm90IGFsbG93ZWQuCiAgaW5wdXRFbGVtZW50LmRpc2FibGVkID0gdHJ1ZTsKCiAgZm9yIChjb25zdCBmaWxlIG9mIGZpbGVzKSB7CiAgICBjb25zdCBsaSA9IGRvY3VtZW50LmNyZWF0ZUVsZW1lbnQoJ2xpJyk7CiAgICBsaS5hcHBlbmQoc3BhbihmaWxlLm5hbWUsIHtmb250V2VpZ2h0OiAnYm9sZCd9KSk7CiAgICBsaS5hcHBlbmQoc3BhbigKICAgICAgICBgKCR7ZmlsZS50eXBlIHx8ICduL2EnfSkgLSAke2ZpbGUuc2l6ZX0gYnl0ZXMsIGAgKwogICAgICAgIGBsYXN0IG1vZGlmaWVkOiAkewogICAgICAgICAgICBmaWxlLmxhc3RNb2RpZmllZERhdGUgPyBmaWxlLmxhc3RNb2RpZmllZERhdGUudG9Mb2NhbGVEYXRlU3RyaW5nKCkgOgogICAgICAgICAgICAgICAgICAgICAgICAgICAgICAgICAgICAnbi9hJ30gLSBgKSk7CiAgICBjb25zdCBwZXJjZW50ID0gc3BhbignMCUgZG9uZScpOwogICAgbGkuYXBwZW5kQ2hpbGQocGVyY2VudCk7CgogICAgb3V0cHV0RWxlbWVudC5hcHBlbmRDaGlsZChsaSk7CgogICAgY29uc3QgZmlsZURhdGFQcm9taXNlID0gbmV3IFByb21pc2UoKHJlc29sdmUpID0+IHsKICAgICAgY29uc3QgcmVhZGVyID0gbmV3IEZpbGVSZWFkZXIoKTsKICAgICAgcmVhZGVyLm9ubG9hZCA9IChlKSA9PiB7CiAgICAgICAgcmVzb2x2ZShlLnRhcmdldC5yZXN1bHQpOwogICAgICB9OwogICAgICByZWFkZXIucmVhZEFzQXJyYXlCdWZmZXIoZmlsZSk7CiAgICB9KTsKICAgIC8vIFdhaXQgZm9yIHRoZSBkYXRhIHRvIGJlIHJlYWR5LgogICAgbGV0IGZpbGVEYXRhID0geWllbGQgewogICAgICBwcm9taXNlOiBmaWxlRGF0YVByb21pc2UsCiAgICAgIHJlc3BvbnNlOiB7CiAgICAgICAgYWN0aW9uOiAnY29udGludWUnLAogICAgICB9CiAgICB9OwoKICAgIC8vIFVzZSBhIGNodW5rZWQgc2VuZGluZyB0byBhdm9pZCBtZXNzYWdlIHNpemUgbGltaXRzLiBTZWUgYi82MjExNTY2MC4KICAgIGxldCBwb3NpdGlvbiA9IDA7CiAgICB3aGlsZSAocG9zaXRpb24gPCBmaWxlRGF0YS5ieXRlTGVuZ3RoKSB7CiAgICAgIGNvbnN0IGxlbmd0aCA9IE1hdGgubWluKGZpbGVEYXRhLmJ5dGVMZW5ndGggLSBwb3NpdGlvbiwgTUFYX1BBWUxPQURfU0laRSk7CiAgICAgIGNvbnN0IGNodW5rID0gbmV3IFVpbnQ4QXJyYXkoZmlsZURhdGEsIHBvc2l0aW9uLCBsZW5ndGgpOwogICAgICBwb3NpdGlvbiArPSBsZW5ndGg7CgogICAgICBjb25zdCBiYXNlNjQgPSBidG9hKFN0cmluZy5mcm9tQ2hhckNvZGUuYXBwbHkobnVsbCwgY2h1bmspKTsKICAgICAgeWllbGQgewogICAgICAgIHJlc3BvbnNlOiB7CiAgICAgICAgICBhY3Rpb246ICdhcHBlbmQnLAogICAgICAgICAgZmlsZTogZmlsZS5uYW1lLAogICAgICAgICAgZGF0YTogYmFzZTY0LAogICAgICAgIH0sCiAgICAgIH07CiAgICAgIHBlcmNlbnQudGV4dENvbnRlbnQgPQogICAgICAgICAgYCR7TWF0aC5yb3VuZCgocG9zaXRpb24gLyBmaWxlRGF0YS5ieXRlTGVuZ3RoKSAqIDEwMCl9JSBkb25lYDsKICAgIH0KICB9CgogIC8vIEFsbCBkb25lLgogIHlpZWxkIHsKICAgIHJlc3BvbnNlOiB7CiAgICAgIGFjdGlvbjogJ2NvbXBsZXRlJywKICAgIH0KICB9Owp9CgpzY29wZS5nb29nbGUgPSBzY29wZS5nb29nbGUgfHwge307CnNjb3BlLmdvb2dsZS5jb2xhYiA9IHNjb3BlLmdvb2dsZS5jb2xhYiB8fCB7fTsKc2NvcGUuZ29vZ2xlLmNvbGFiLl9maWxlcyA9IHsKICBfdXBsb2FkRmlsZXMsCiAgX3VwbG9hZEZpbGVzQ29udGludWUsCn07Cn0pKHNlbGYpOwo=",
              "ok": true,
              "headers": [
                [
                  "content-type",
                  "application/javascript"
                ]
              ],
              "status": 200,
              "status_text": ""
            }
          },
          "base_uri": "https://localhost:8080/",
          "height": 74
        },
        "outputId": "0887ba6e-564d-4544-8c8a-79b11222c5e8"
      },
      "source": [
        "from google.colab import files\n",
        "uploaded = files.upload()"
      ],
      "execution_count": 2,
      "outputs": [
        {
          "output_type": "display_data",
          "data": {
            "text/html": [
              "\n",
              "     <input type=\"file\" id=\"files-b9d43a4d-d9ea-48b8-b5db-4aad82b97375\" name=\"files[]\" multiple disabled />\n",
              "     <output id=\"result-b9d43a4d-d9ea-48b8-b5db-4aad82b97375\">\n",
              "      Upload widget is only available when the cell has been executed in the\n",
              "      current browser session. Please rerun this cell to enable.\n",
              "      </output>\n",
              "      <script src=\"/nbextensions/google.colab/files.js\"></script> "
            ],
            "text/plain": [
              "<IPython.core.display.HTML object>"
            ]
          },
          "metadata": {
            "tags": []
          }
        },
        {
          "output_type": "stream",
          "text": [
            "Saving Boston.csv to Boston.csv\n"
          ],
          "name": "stdout"
        }
      ]
    },
    {
      "cell_type": "code",
      "metadata": {
        "id": "5xD50jptvHLu",
        "colab_type": "code",
        "colab": {
          "base_uri": "https://localhost:8080/",
          "height": 204
        },
        "outputId": "a460ac87-6476-4fcb-d4f0-2e744f77d97e"
      },
      "source": [
        "import io\n",
        "df = pd.read_csv(io.BytesIO(uploaded['Boston.csv']))\n",
        "df.head()"
      ],
      "execution_count": 300,
      "outputs": [
        {
          "output_type": "execute_result",
          "data": {
            "text/html": [
              "<div>\n",
              "<style scoped>\n",
              "    .dataframe tbody tr th:only-of-type {\n",
              "        vertical-align: middle;\n",
              "    }\n",
              "\n",
              "    .dataframe tbody tr th {\n",
              "        vertical-align: top;\n",
              "    }\n",
              "\n",
              "    .dataframe thead th {\n",
              "        text-align: right;\n",
              "    }\n",
              "</style>\n",
              "<table border=\"1\" class=\"dataframe\">\n",
              "  <thead>\n",
              "    <tr style=\"text-align: right;\">\n",
              "      <th></th>\n",
              "      <th>Unnamed: 0</th>\n",
              "      <th>crim</th>\n",
              "      <th>zn</th>\n",
              "      <th>indus</th>\n",
              "      <th>chas</th>\n",
              "      <th>nox</th>\n",
              "      <th>rm</th>\n",
              "      <th>age</th>\n",
              "      <th>dis</th>\n",
              "      <th>rad</th>\n",
              "      <th>tax</th>\n",
              "      <th>ptratio</th>\n",
              "      <th>black</th>\n",
              "      <th>lstat</th>\n",
              "      <th>medv</th>\n",
              "    </tr>\n",
              "  </thead>\n",
              "  <tbody>\n",
              "    <tr>\n",
              "      <th>0</th>\n",
              "      <td>1</td>\n",
              "      <td>0.00632</td>\n",
              "      <td>18.0</td>\n",
              "      <td>2.31</td>\n",
              "      <td>0</td>\n",
              "      <td>0.538</td>\n",
              "      <td>6.575</td>\n",
              "      <td>65.2</td>\n",
              "      <td>4.0900</td>\n",
              "      <td>1</td>\n",
              "      <td>296</td>\n",
              "      <td>15.3</td>\n",
              "      <td>396.90</td>\n",
              "      <td>4.98</td>\n",
              "      <td>24.0</td>\n",
              "    </tr>\n",
              "    <tr>\n",
              "      <th>1</th>\n",
              "      <td>2</td>\n",
              "      <td>0.02731</td>\n",
              "      <td>0.0</td>\n",
              "      <td>7.07</td>\n",
              "      <td>0</td>\n",
              "      <td>0.469</td>\n",
              "      <td>6.421</td>\n",
              "      <td>78.9</td>\n",
              "      <td>4.9671</td>\n",
              "      <td>2</td>\n",
              "      <td>242</td>\n",
              "      <td>17.8</td>\n",
              "      <td>396.90</td>\n",
              "      <td>9.14</td>\n",
              "      <td>21.6</td>\n",
              "    </tr>\n",
              "    <tr>\n",
              "      <th>2</th>\n",
              "      <td>3</td>\n",
              "      <td>0.02729</td>\n",
              "      <td>0.0</td>\n",
              "      <td>7.07</td>\n",
              "      <td>0</td>\n",
              "      <td>0.469</td>\n",
              "      <td>7.185</td>\n",
              "      <td>61.1</td>\n",
              "      <td>4.9671</td>\n",
              "      <td>2</td>\n",
              "      <td>242</td>\n",
              "      <td>17.8</td>\n",
              "      <td>392.83</td>\n",
              "      <td>4.03</td>\n",
              "      <td>34.7</td>\n",
              "    </tr>\n",
              "    <tr>\n",
              "      <th>3</th>\n",
              "      <td>4</td>\n",
              "      <td>0.03237</td>\n",
              "      <td>0.0</td>\n",
              "      <td>2.18</td>\n",
              "      <td>0</td>\n",
              "      <td>0.458</td>\n",
              "      <td>6.998</td>\n",
              "      <td>45.8</td>\n",
              "      <td>6.0622</td>\n",
              "      <td>3</td>\n",
              "      <td>222</td>\n",
              "      <td>18.7</td>\n",
              "      <td>394.63</td>\n",
              "      <td>2.94</td>\n",
              "      <td>33.4</td>\n",
              "    </tr>\n",
              "    <tr>\n",
              "      <th>4</th>\n",
              "      <td>5</td>\n",
              "      <td>0.06905</td>\n",
              "      <td>0.0</td>\n",
              "      <td>2.18</td>\n",
              "      <td>0</td>\n",
              "      <td>0.458</td>\n",
              "      <td>7.147</td>\n",
              "      <td>54.2</td>\n",
              "      <td>6.0622</td>\n",
              "      <td>3</td>\n",
              "      <td>222</td>\n",
              "      <td>18.7</td>\n",
              "      <td>396.90</td>\n",
              "      <td>5.33</td>\n",
              "      <td>36.2</td>\n",
              "    </tr>\n",
              "  </tbody>\n",
              "</table>\n",
              "</div>"
            ],
            "text/plain": [
              "   Unnamed: 0     crim    zn  indus  chas  ...  tax  ptratio   black  lstat  medv\n",
              "0           1  0.00632  18.0   2.31     0  ...  296     15.3  396.90   4.98  24.0\n",
              "1           2  0.02731   0.0   7.07     0  ...  242     17.8  396.90   9.14  21.6\n",
              "2           3  0.02729   0.0   7.07     0  ...  242     17.8  392.83   4.03  34.7\n",
              "3           4  0.03237   0.0   2.18     0  ...  222     18.7  394.63   2.94  33.4\n",
              "4           5  0.06905   0.0   2.18     0  ...  222     18.7  396.90   5.33  36.2\n",
              "\n",
              "[5 rows x 15 columns]"
            ]
          },
          "metadata": {
            "tags": []
          },
          "execution_count": 300
        }
      ]
    },
    {
      "cell_type": "code",
      "metadata": {
        "id": "3ry6rNLdvMbj",
        "colab_type": "code",
        "colab": {
          "base_uri": "https://localhost:8080/",
          "height": 391
        },
        "outputId": "40a43c83-e7aa-4277-de47-2129295798c9"
      },
      "source": [
        "df.info()"
      ],
      "execution_count": 103,
      "outputs": [
        {
          "output_type": "stream",
          "text": [
            "<class 'pandas.core.frame.DataFrame'>\n",
            "RangeIndex: 506 entries, 0 to 505\n",
            "Data columns (total 15 columns):\n",
            " #   Column      Non-Null Count  Dtype  \n",
            "---  ------      --------------  -----  \n",
            " 0   Unnamed: 0  506 non-null    int64  \n",
            " 1   crim        506 non-null    float64\n",
            " 2   zn          506 non-null    float64\n",
            " 3   indus       506 non-null    float64\n",
            " 4   chas        506 non-null    int64  \n",
            " 5   nox         506 non-null    float64\n",
            " 6   rm          506 non-null    float64\n",
            " 7   age         506 non-null    float64\n",
            " 8   dis         506 non-null    float64\n",
            " 9   rad         506 non-null    int64  \n",
            " 10  tax         506 non-null    int64  \n",
            " 11  ptratio     506 non-null    float64\n",
            " 12  black       506 non-null    float64\n",
            " 13  lstat       506 non-null    float64\n",
            " 14  medv        506 non-null    float64\n",
            "dtypes: float64(11), int64(4)\n",
            "memory usage: 59.4 KB\n"
          ],
          "name": "stdout"
        }
      ]
    },
    {
      "cell_type": "code",
      "metadata": {
        "id": "l3Wi1lnhvnB5",
        "colab_type": "code",
        "colab": {
          "base_uri": "https://localhost:8080/",
          "height": 514
        },
        "outputId": "6798c367-6c0d-4521-c82e-b0a11579ef32"
      },
      "source": [
        "df.describe().transpose()"
      ],
      "execution_count": 104,
      "outputs": [
        {
          "output_type": "execute_result",
          "data": {
            "text/html": [
              "<div>\n",
              "<style scoped>\n",
              "    .dataframe tbody tr th:only-of-type {\n",
              "        vertical-align: middle;\n",
              "    }\n",
              "\n",
              "    .dataframe tbody tr th {\n",
              "        vertical-align: top;\n",
              "    }\n",
              "\n",
              "    .dataframe thead th {\n",
              "        text-align: right;\n",
              "    }\n",
              "</style>\n",
              "<table border=\"1\" class=\"dataframe\">\n",
              "  <thead>\n",
              "    <tr style=\"text-align: right;\">\n",
              "      <th></th>\n",
              "      <th>count</th>\n",
              "      <th>mean</th>\n",
              "      <th>std</th>\n",
              "      <th>min</th>\n",
              "      <th>25%</th>\n",
              "      <th>50%</th>\n",
              "      <th>75%</th>\n",
              "      <th>max</th>\n",
              "    </tr>\n",
              "  </thead>\n",
              "  <tbody>\n",
              "    <tr>\n",
              "      <th>Unnamed: 0</th>\n",
              "      <td>506.0</td>\n",
              "      <td>253.500000</td>\n",
              "      <td>146.213884</td>\n",
              "      <td>1.00000</td>\n",
              "      <td>127.250000</td>\n",
              "      <td>253.50000</td>\n",
              "      <td>379.750000</td>\n",
              "      <td>506.0000</td>\n",
              "    </tr>\n",
              "    <tr>\n",
              "      <th>crim</th>\n",
              "      <td>506.0</td>\n",
              "      <td>3.613524</td>\n",
              "      <td>8.601545</td>\n",
              "      <td>0.00632</td>\n",
              "      <td>0.082045</td>\n",
              "      <td>0.25651</td>\n",
              "      <td>3.677082</td>\n",
              "      <td>88.9762</td>\n",
              "    </tr>\n",
              "    <tr>\n",
              "      <th>zn</th>\n",
              "      <td>506.0</td>\n",
              "      <td>11.363636</td>\n",
              "      <td>23.322453</td>\n",
              "      <td>0.00000</td>\n",
              "      <td>0.000000</td>\n",
              "      <td>0.00000</td>\n",
              "      <td>12.500000</td>\n",
              "      <td>100.0000</td>\n",
              "    </tr>\n",
              "    <tr>\n",
              "      <th>indus</th>\n",
              "      <td>506.0</td>\n",
              "      <td>11.136779</td>\n",
              "      <td>6.860353</td>\n",
              "      <td>0.46000</td>\n",
              "      <td>5.190000</td>\n",
              "      <td>9.69000</td>\n",
              "      <td>18.100000</td>\n",
              "      <td>27.7400</td>\n",
              "    </tr>\n",
              "    <tr>\n",
              "      <th>chas</th>\n",
              "      <td>506.0</td>\n",
              "      <td>0.069170</td>\n",
              "      <td>0.253994</td>\n",
              "      <td>0.00000</td>\n",
              "      <td>0.000000</td>\n",
              "      <td>0.00000</td>\n",
              "      <td>0.000000</td>\n",
              "      <td>1.0000</td>\n",
              "    </tr>\n",
              "    <tr>\n",
              "      <th>nox</th>\n",
              "      <td>506.0</td>\n",
              "      <td>0.554695</td>\n",
              "      <td>0.115878</td>\n",
              "      <td>0.38500</td>\n",
              "      <td>0.449000</td>\n",
              "      <td>0.53800</td>\n",
              "      <td>0.624000</td>\n",
              "      <td>0.8710</td>\n",
              "    </tr>\n",
              "    <tr>\n",
              "      <th>rm</th>\n",
              "      <td>506.0</td>\n",
              "      <td>6.284634</td>\n",
              "      <td>0.702617</td>\n",
              "      <td>3.56100</td>\n",
              "      <td>5.885500</td>\n",
              "      <td>6.20850</td>\n",
              "      <td>6.623500</td>\n",
              "      <td>8.7800</td>\n",
              "    </tr>\n",
              "    <tr>\n",
              "      <th>age</th>\n",
              "      <td>506.0</td>\n",
              "      <td>68.574901</td>\n",
              "      <td>28.148861</td>\n",
              "      <td>2.90000</td>\n",
              "      <td>45.025000</td>\n",
              "      <td>77.50000</td>\n",
              "      <td>94.075000</td>\n",
              "      <td>100.0000</td>\n",
              "    </tr>\n",
              "    <tr>\n",
              "      <th>dis</th>\n",
              "      <td>506.0</td>\n",
              "      <td>3.795043</td>\n",
              "      <td>2.105710</td>\n",
              "      <td>1.12960</td>\n",
              "      <td>2.100175</td>\n",
              "      <td>3.20745</td>\n",
              "      <td>5.188425</td>\n",
              "      <td>12.1265</td>\n",
              "    </tr>\n",
              "    <tr>\n",
              "      <th>rad</th>\n",
              "      <td>506.0</td>\n",
              "      <td>9.549407</td>\n",
              "      <td>8.707259</td>\n",
              "      <td>1.00000</td>\n",
              "      <td>4.000000</td>\n",
              "      <td>5.00000</td>\n",
              "      <td>24.000000</td>\n",
              "      <td>24.0000</td>\n",
              "    </tr>\n",
              "    <tr>\n",
              "      <th>tax</th>\n",
              "      <td>506.0</td>\n",
              "      <td>408.237154</td>\n",
              "      <td>168.537116</td>\n",
              "      <td>187.00000</td>\n",
              "      <td>279.000000</td>\n",
              "      <td>330.00000</td>\n",
              "      <td>666.000000</td>\n",
              "      <td>711.0000</td>\n",
              "    </tr>\n",
              "    <tr>\n",
              "      <th>ptratio</th>\n",
              "      <td>506.0</td>\n",
              "      <td>18.455534</td>\n",
              "      <td>2.164946</td>\n",
              "      <td>12.60000</td>\n",
              "      <td>17.400000</td>\n",
              "      <td>19.05000</td>\n",
              "      <td>20.200000</td>\n",
              "      <td>22.0000</td>\n",
              "    </tr>\n",
              "    <tr>\n",
              "      <th>black</th>\n",
              "      <td>506.0</td>\n",
              "      <td>356.674032</td>\n",
              "      <td>91.294864</td>\n",
              "      <td>0.32000</td>\n",
              "      <td>375.377500</td>\n",
              "      <td>391.44000</td>\n",
              "      <td>396.225000</td>\n",
              "      <td>396.9000</td>\n",
              "    </tr>\n",
              "    <tr>\n",
              "      <th>lstat</th>\n",
              "      <td>506.0</td>\n",
              "      <td>12.653063</td>\n",
              "      <td>7.141062</td>\n",
              "      <td>1.73000</td>\n",
              "      <td>6.950000</td>\n",
              "      <td>11.36000</td>\n",
              "      <td>16.955000</td>\n",
              "      <td>37.9700</td>\n",
              "    </tr>\n",
              "    <tr>\n",
              "      <th>medv</th>\n",
              "      <td>506.0</td>\n",
              "      <td>22.532806</td>\n",
              "      <td>9.197104</td>\n",
              "      <td>5.00000</td>\n",
              "      <td>17.025000</td>\n",
              "      <td>21.20000</td>\n",
              "      <td>25.000000</td>\n",
              "      <td>50.0000</td>\n",
              "    </tr>\n",
              "  </tbody>\n",
              "</table>\n",
              "</div>"
            ],
            "text/plain": [
              "            count        mean         std  ...        50%         75%       max\n",
              "Unnamed: 0  506.0  253.500000  146.213884  ...  253.50000  379.750000  506.0000\n",
              "crim        506.0    3.613524    8.601545  ...    0.25651    3.677082   88.9762\n",
              "zn          506.0   11.363636   23.322453  ...    0.00000   12.500000  100.0000\n",
              "indus       506.0   11.136779    6.860353  ...    9.69000   18.100000   27.7400\n",
              "chas        506.0    0.069170    0.253994  ...    0.00000    0.000000    1.0000\n",
              "nox         506.0    0.554695    0.115878  ...    0.53800    0.624000    0.8710\n",
              "rm          506.0    6.284634    0.702617  ...    6.20850    6.623500    8.7800\n",
              "age         506.0   68.574901   28.148861  ...   77.50000   94.075000  100.0000\n",
              "dis         506.0    3.795043    2.105710  ...    3.20745    5.188425   12.1265\n",
              "rad         506.0    9.549407    8.707259  ...    5.00000   24.000000   24.0000\n",
              "tax         506.0  408.237154  168.537116  ...  330.00000  666.000000  711.0000\n",
              "ptratio     506.0   18.455534    2.164946  ...   19.05000   20.200000   22.0000\n",
              "black       506.0  356.674032   91.294864  ...  391.44000  396.225000  396.9000\n",
              "lstat       506.0   12.653063    7.141062  ...   11.36000   16.955000   37.9700\n",
              "medv        506.0   22.532806    9.197104  ...   21.20000   25.000000   50.0000\n",
              "\n",
              "[15 rows x 8 columns]"
            ]
          },
          "metadata": {
            "tags": []
          },
          "execution_count": 104
        }
      ]
    },
    {
      "cell_type": "code",
      "metadata": {
        "id": "V9Qd5UJ0telp",
        "colab_type": "code",
        "colab": {
          "base_uri": "https://localhost:8080/",
          "height": 514
        },
        "outputId": "ce66c478-950c-4d5b-eb79-ba376d07a261"
      },
      "source": [
        "plt.figure(figsize=(14,8))\n",
        "sns.scatterplot(x='rm',y='medv',data=df)"
      ],
      "execution_count": 105,
      "outputs": [
        {
          "output_type": "execute_result",
          "data": {
            "text/plain": [
              "<matplotlib.axes._subplots.AxesSubplot at 0x7f2fbb174978>"
            ]
          },
          "metadata": {
            "tags": []
          },
          "execution_count": 105
        },
        {
          "output_type": "display_data",
          "data": {
            "image/png": "[encoded data removed]",
            "text/plain": [
              "<Figure size 1008x576 with 1 Axes>"
            ]
          },
          "metadata": {
            "tags": [],
            "needs_background": "light"
          }
        }
      ]
    },
    {
      "cell_type": "code",
      "metadata": {
        "id": "syo_6nl2xCNI",
        "colab_type": "code",
        "colab": {}
      },
      "source": [
        "df=df.drop('Unnamed: 0',axis=1)"
      ],
      "execution_count": 0,
      "outputs": []
    },
    {
      "cell_type": "code",
      "metadata": {
        "id": "ut2bhJCOxIGU",
        "colab_type": "code",
        "colab": {
          "base_uri": "https://localhost:8080/",
          "height": 204
        },
        "outputId": "8d2db47b-5de9-4ab3-d225-c805379933c8"
      },
      "source": [
        "df.head()"
      ],
      "execution_count": 107,
      "outputs": [
        {
          "output_type": "execute_result",
          "data": {
            "text/html": [
              "<div>\n",
              "<style scoped>\n",
              "    .dataframe tbody tr th:only-of-type {\n",
              "        vertical-align: middle;\n",
              "    }\n",
              "\n",
              "    .dataframe tbody tr th {\n",
              "        vertical-align: top;\n",
              "    }\n",
              "\n",
              "    .dataframe thead th {\n",
              "        text-align: right;\n",
              "    }\n",
              "</style>\n",
              "<table border=\"1\" class=\"dataframe\">\n",
              "  <thead>\n",
              "    <tr style=\"text-align: right;\">\n",
              "      <th></th>\n",
              "      <th>crim</th>\n",
              "      <th>zn</th>\n",
              "      <th>indus</th>\n",
              "      <th>chas</th>\n",
              "      <th>nox</th>\n",
              "      <th>rm</th>\n",
              "      <th>age</th>\n",
              "      <th>dis</th>\n",
              "      <th>rad</th>\n",
              "      <th>tax</th>\n",
              "      <th>ptratio</th>\n",
              "      <th>black</th>\n",
              "      <th>lstat</th>\n",
              "      <th>medv</th>\n",
              "    </tr>\n",
              "  </thead>\n",
              "  <tbody>\n",
              "    <tr>\n",
              "      <th>0</th>\n",
              "      <td>0.00632</td>\n",
              "      <td>18.0</td>\n",
              "      <td>2.31</td>\n",
              "      <td>0</td>\n",
              "      <td>0.538</td>\n",
              "      <td>6.575</td>\n",
              "      <td>65.2</td>\n",
              "      <td>4.0900</td>\n",
              "      <td>1</td>\n",
              "      <td>296</td>\n",
              "      <td>15.3</td>\n",
              "      <td>396.90</td>\n",
              "      <td>4.98</td>\n",
              "      <td>24.0</td>\n",
              "    </tr>\n",
              "    <tr>\n",
              "      <th>1</th>\n",
              "      <td>0.02731</td>\n",
              "      <td>0.0</td>\n",
              "      <td>7.07</td>\n",
              "      <td>0</td>\n",
              "      <td>0.469</td>\n",
              "      <td>6.421</td>\n",
              "      <td>78.9</td>\n",
              "      <td>4.9671</td>\n",
              "      <td>2</td>\n",
              "      <td>242</td>\n",
              "      <td>17.8</td>\n",
              "      <td>396.90</td>\n",
              "      <td>9.14</td>\n",
              "      <td>21.6</td>\n",
              "    </tr>\n",
              "    <tr>\n",
              "      <th>2</th>\n",
              "      <td>0.02729</td>\n",
              "      <td>0.0</td>\n",
              "      <td>7.07</td>\n",
              "      <td>0</td>\n",
              "      <td>0.469</td>\n",
              "      <td>7.185</td>\n",
              "      <td>61.1</td>\n",
              "      <td>4.9671</td>\n",
              "      <td>2</td>\n",
              "      <td>242</td>\n",
              "      <td>17.8</td>\n",
              "      <td>392.83</td>\n",
              "      <td>4.03</td>\n",
              "      <td>34.7</td>\n",
              "    </tr>\n",
              "    <tr>\n",
              "      <th>3</th>\n",
              "      <td>0.03237</td>\n",
              "      <td>0.0</td>\n",
              "      <td>2.18</td>\n",
              "      <td>0</td>\n",
              "      <td>0.458</td>\n",
              "      <td>6.998</td>\n",
              "      <td>45.8</td>\n",
              "      <td>6.0622</td>\n",
              "      <td>3</td>\n",
              "      <td>222</td>\n",
              "      <td>18.7</td>\n",
              "      <td>394.63</td>\n",
              "      <td>2.94</td>\n",
              "      <td>33.4</td>\n",
              "    </tr>\n",
              "    <tr>\n",
              "      <th>4</th>\n",
              "      <td>0.06905</td>\n",
              "      <td>0.0</td>\n",
              "      <td>2.18</td>\n",
              "      <td>0</td>\n",
              "      <td>0.458</td>\n",
              "      <td>7.147</td>\n",
              "      <td>54.2</td>\n",
              "      <td>6.0622</td>\n",
              "      <td>3</td>\n",
              "      <td>222</td>\n",
              "      <td>18.7</td>\n",
              "      <td>396.90</td>\n",
              "      <td>5.33</td>\n",
              "      <td>36.2</td>\n",
              "    </tr>\n",
              "  </tbody>\n",
              "</table>\n",
              "</div>"
            ],
            "text/plain": [
              "      crim    zn  indus  chas    nox  ...  tax  ptratio   black  lstat  medv\n",
              "0  0.00632  18.0   2.31     0  0.538  ...  296     15.3  396.90   4.98  24.0\n",
              "1  0.02731   0.0   7.07     0  0.469  ...  242     17.8  396.90   9.14  21.6\n",
              "2  0.02729   0.0   7.07     0  0.469  ...  242     17.8  392.83   4.03  34.7\n",
              "3  0.03237   0.0   2.18     0  0.458  ...  222     18.7  394.63   2.94  33.4\n",
              "4  0.06905   0.0   2.18     0  0.458  ...  222     18.7  396.90   5.33  36.2\n",
              "\n",
              "[5 rows x 14 columns]"
            ]
          },
          "metadata": {
            "tags": []
          },
          "execution_count": 107
        }
      ]
    },
    {
      "cell_type": "code",
      "metadata": {
        "id": "aUL1JxgYv_KF",
        "colab_type": "code",
        "colab": {
          "base_uri": "https://localhost:8080/",
          "height": 514
        },
        "outputId": "983af763-f734-49b0-e261-286f2ab27ec9"
      },
      "source": [
        "plt.figure(figsize=(14,8))\n",
        "sns.distplot(df['medv'],bins=50, kde=False,color='#1c869c')"
      ],
      "execution_count": 108,
      "outputs": [
        {
          "output_type": "execute_result",
          "data": {
            "text/plain": [
              "<matplotlib.axes._subplots.AxesSubplot at 0x7f2fbb08c630>"
            ]
          },
          "metadata": {
            "tags": []
          },
          "execution_count": 108
        },
        {
          "output_type": "display_data",
          "data": {
            "image/png": "[encoded data removed]",
            "text/plain": [
              "<Figure size 1008x576 with 1 Axes>"
            ]
          },
          "metadata": {
            "tags": [],
            "needs_background": "light"
          }
        }
      ]
    },
    {
      "cell_type": "code",
      "metadata": {
        "id": "Su2tJv5rwOG8",
        "colab_type": "code",
        "colab": {
          "base_uri": "https://localhost:8080/",
          "height": 600
        },
        "outputId": "09955833-fb55-453b-987d-a38aca0ec214"
      },
      "source": [
        "correlation=df.corr()\n",
        "\n",
        "mask=np.zeros_like(df.corr())\n",
        "triangle_indices=np.triu_indices_from(mask)\n",
        "mask[triangle_indices]=True\n",
        "mask\n",
        "\n",
        "#Heat Map com matplotlib and seaborn\n",
        "plt.figure(figsize=(16,10))\n",
        "sns.heatmap(df.corr(), mask=mask, cmap=\"coolwarm\",annot=True, annot_kws={'size':14})\n",
        "plt.xticks(fontsize=14)\n",
        "plt.yticks(fontsize=12)\n",
        "plt.show()"
      ],
      "execution_count": 109,
      "outputs": [
        {
          "output_type": "display_data",
          "data": {
            "image/png": "[encoded data removed]",
            "text/plain": [
              "<Figure size 1152x720 with 2 Axes>"
            ]
          },
          "metadata": {
            "tags": [],
            "needs_background": "light"
          }
        }
      ]
    },
    {
      "cell_type": "code",
      "metadata": {
        "id": "WHaViJ2qxiPd",
        "colab_type": "code",
        "colab": {
          "base_uri": "https://localhost:8080/",
          "height": 523
        },
        "outputId": "ea6a7a76-f26a-475b-ba30-139f83f9ec79"
      },
      "source": [
        "plt.figure(figsize=(14,8))\n",
        "df.corr()['medv'].sort_values().drop('medv').plot(kind='bar')"
      ],
      "execution_count": 110,
      "outputs": [
        {
          "output_type": "execute_result",
          "data": {
            "text/plain": [
              "<matplotlib.axes._subplots.AxesSubplot at 0x7f2fbae2a390>"
            ]
          },
          "metadata": {
            "tags": []
          },
          "execution_count": 110
        },
        {
          "output_type": "display_data",
          "data": {
            "image/png": "[encoded data removed]",
            "text/plain": [
              "<Figure size 1008x576 with 1 Axes>"
            ]
          },
          "metadata": {
            "tags": [],
            "needs_background": "light"
          }
        }
      ]
    },
    {
      "cell_type": "code",
      "metadata": {
        "id": "tKkXdJy6wap0",
        "colab_type": "code",
        "colab": {
          "base_uri": "https://localhost:8080/",
          "height": 514
        },
        "outputId": "97dd4e63-53b4-41e4-8e31-1f56b9493803"
      },
      "source": [
        "plt.figure(figsize=(14,8))\n",
        "sns.boxplot(x='rad',y='medv',data=df)"
      ],
      "execution_count": 111,
      "outputs": [
        {
          "output_type": "execute_result",
          "data": {
            "text/plain": [
              "<matplotlib.axes._subplots.AxesSubplot at 0x7f2fbb061f60>"
            ]
          },
          "metadata": {
            "tags": []
          },
          "execution_count": 111
        },
        {
          "output_type": "display_data",
          "data": {
            "image/png": "[encoded data removed]",
            "text/plain": [
              "<Figure size 1008x576 with 1 Axes>"
            ]
          },
          "metadata": {
            "tags": [],
            "needs_background": "light"
          }
        }
      ]
    },
    {
      "cell_type": "code",
      "metadata": {
        "id": "0-v4-uhtwpzY",
        "colab_type": "code",
        "colab": {
          "base_uri": "https://localhost:8080/",
          "height": 514
        },
        "outputId": "90b89c95-2546-49c8-dc78-466efead010f"
      },
      "source": [
        "plt.figure(figsize=(14,8))\n",
        "sns.boxplot(x='zn',y='medv',data=df)"
      ],
      "execution_count": 112,
      "outputs": [
        {
          "output_type": "execute_result",
          "data": {
            "text/plain": [
              "<matplotlib.axes._subplots.AxesSubplot at 0x7f2fbb6e6748>"
            ]
          },
          "metadata": {
            "tags": []
          },
          "execution_count": 112
        },
        {
          "output_type": "display_data",
          "data": {
            "image/png": "[encoded data removed]",
            "text/plain": [
              "<Figure size 1008x576 with 1 Axes>"
            ]
          },
          "metadata": {
            "tags": [],
            "needs_background": "light"
          }
        }
      ]
    },
    {
      "cell_type": "markdown",
      "metadata": {
        "id": "4VPdUA0ux4GS",
        "colab_type": "text"
      },
      "source": [
        "# Multivariate Linear Regression"
      ]
    },
    {
      "cell_type": "code",
      "metadata": {
        "id": "h5eC2IFkx3UU",
        "colab_type": "code",
        "colab": {}
      },
      "source": [
        "X = df.iloc[:, :-1].values\n",
        "y = df.iloc[:, -1].values"
      ],
      "execution_count": 0,
      "outputs": []
    },
    {
      "cell_type": "code",
      "metadata": {
        "id": "upFQ_OkOxbnI",
        "colab_type": "code",
        "colab": {
          "base_uri": "https://localhost:8080/",
          "height": 136
        },
        "outputId": "da8a3572-efc2-4753-c6c1-aaeccdc34db1"
      },
      "source": [
        "X"
      ],
      "execution_count": 302,
      "outputs": [
        {
          "output_type": "execute_result",
          "data": {
            "text/plain": [
              "array([[1.0e+00, 6.3e-03, 1.8e+01, ..., 1.5e+01, 4.0e+02, 5.0e+00],\n",
              "       [2.0e+00, 2.7e-02, 0.0e+00, ..., 1.8e+01, 4.0e+02, 9.1e+00],\n",
              "       [3.0e+00, 2.7e-02, 0.0e+00, ..., 1.8e+01, 3.9e+02, 4.0e+00],\n",
              "       ...,\n",
              "       [5.0e+02, 6.1e-02, 0.0e+00, ..., 2.1e+01, 4.0e+02, 5.6e+00],\n",
              "       [5.0e+02, 1.1e-01, 0.0e+00, ..., 2.1e+01, 3.9e+02, 6.5e+00],\n",
              "       [5.1e+02, 4.7e-02, 0.0e+00, ..., 2.1e+01, 4.0e+02, 7.9e+00]])"
            ]
          },
          "metadata": {
            "tags": []
          },
          "execution_count": 302
        }
      ]
    },
    {
      "cell_type": "markdown",
      "metadata": {
        "id": "W2tdTyZniZX5",
        "colab_type": "text"
      },
      "source": [
        ""
      ]
    },
    {
      "cell_type": "markdown",
      "metadata": {
        "id": "7TPwkfZjypc5",
        "colab_type": "text"
      },
      "source": [
        "# Scale Features"
      ]
    },
    {
      "cell_type": "code",
      "metadata": {
        "id": "GKb98mVgyPVS",
        "colab_type": "code",
        "colab": {}
      },
      "source": [
        "from sklearn.preprocessing import StandardScaler"
      ],
      "execution_count": 0,
      "outputs": []
    },
    {
      "cell_type": "code",
      "metadata": {
        "id": "rsZ9vFWoyreg",
        "colab_type": "code",
        "colab": {}
      },
      "source": [
        "sc=StandardScaler()\n",
        "X=sc.fit_transform(X)"
      ],
      "execution_count": 0,
      "outputs": []
    },
    {
      "cell_type": "markdown",
      "metadata": {
        "id": "WJAJUpIGyxpy",
        "colab_type": "text"
      },
      "source": [
        "# Create Model"
      ]
    },
    {
      "cell_type": "code",
      "metadata": {
        "id": "g_qD5-X4ytuC",
        "colab_type": "code",
        "colab": {}
      },
      "source": [
        "from sklearn.model_selection import train_test_split\n",
        "X_train, X_test, y_train, y_test = train_test_split(X, y, test_size = 0.2, random_state = 0)"
      ],
      "execution_count": 0,
      "outputs": []
    },
    {
      "cell_type": "code",
      "metadata": {
        "id": "RHtRC5fM3Cig",
        "colab_type": "code",
        "colab": {
          "base_uri": "https://localhost:8080/",
          "height": 34
        },
        "outputId": "bf592109-e525-4667-e68e-6eab8b9b8587"
      },
      "source": [
        "X_test.shape"
      ],
      "execution_count": 299,
      "outputs": [
        {
          "output_type": "execute_result",
          "data": {
            "text/plain": [
              "(102, 13)"
            ]
          },
          "metadata": {
            "tags": []
          },
          "execution_count": 299
        }
      ]
    },
    {
      "cell_type": "markdown",
      "metadata": {
        "id": "WfiW7SDVy8v6",
        "colab_type": "text"
      },
      "source": [
        "# Fit Model"
      ]
    },
    {
      "cell_type": "code",
      "metadata": {
        "id": "w9TSHp9Ly1-f",
        "colab_type": "code",
        "colab": {
          "base_uri": "https://localhost:8080/",
          "height": 34
        },
        "outputId": "d0b4952f-34ff-47b5-bb68-88f7426b3ebf"
      },
      "source": [
        "from sklearn.linear_model import LinearRegression\n",
        "regressor = LinearRegression()\n",
        "regressor.fit(X_train, y_train)"
      ],
      "execution_count": 306,
      "outputs": [
        {
          "output_type": "execute_result",
          "data": {
            "text/plain": [
              "LinearRegression(copy_X=True, fit_intercept=True, n_jobs=None, normalize=False)"
            ]
          },
          "metadata": {
            "tags": []
          },
          "execution_count": 306
        }
      ]
    },
    {
      "cell_type": "code",
      "metadata": {
        "id": "L5CYpBMdzAeK",
        "colab_type": "code",
        "colab": {
          "base_uri": "https://localhost:8080/",
          "height": 1000
        },
        "outputId": "ef60cd14-e3f8-47b4-e8ae-7fc885b404dd"
      },
      "source": [
        "y_pred = regressor.predict(X_test)\n",
        "np.set_printoptions(precision=1)\n",
        "print(np.concatenate((y_pred.reshape(len(y_pred),1), y_test.reshape(len(y_test),1)),1))"
      ],
      "execution_count": 307,
      "outputs": [
        {
          "output_type": "stream",
          "text": [
            "[[24.7 22.6]\n",
            " [23.8 50. ]\n",
            " [29.3 23. ]\n",
            " [12.1  8.3]\n",
            " [21.6 21.2]\n",
            " [19.5 19.9]\n",
            " [20.4 20.6]\n",
            " [21.1 18.7]\n",
            " [18.7 16.1]\n",
            " [20.1 18.6]\n",
            " [ 5.1  8.8]\n",
            " [16.4 17.2]\n",
            " [17.  14.9]\n",
            " [ 5.6 10.5]\n",
            " [40.1 50. ]\n",
            " [32.4 29. ]\n",
            " [22.4 23. ]\n",
            " [36.9 33.3]\n",
            " [30.9 29.4]\n",
            " [23.4 21. ]\n",
            " [24.6 23.8]\n",
            " [24.7 19.1]\n",
            " [20.7 20.4]\n",
            " [30.3 29.1]\n",
            " [22.6 19.3]\n",
            " [10.3 23.1]\n",
            " [17.9 19.6]\n",
            " [18.4 19.4]\n",
            " [35.6 38.7]\n",
            " [21.1 18.7]\n",
            " [18.2 14.6]\n",
            " [17.7 20. ]\n",
            " [19.8 20.5]\n",
            " [24.  20.1]\n",
            " [29.1 23.6]\n",
            " [19.4 16.8]\n",
            " [11.2  5.6]\n",
            " [24.7 50. ]\n",
            " [17.6 14.5]\n",
            " [15.4 13.3]\n",
            " [26.  23.9]\n",
            " [21.  20. ]\n",
            " [22.1 19.8]\n",
            " [15.5 13.8]\n",
            " [22.7 16.5]\n",
            " [25.3 21.6]\n",
            " [19.9 20.3]\n",
            " [23.  17. ]\n",
            " [10.1 11.8]\n",
            " [24.5 27.5]\n",
            " [21.1 15.6]\n",
            " [17.  23.1]\n",
            " [24.5 24.3]\n",
            " [29.9 42.8]\n",
            " [13.5 15.6]\n",
            " [22.  21.7]\n",
            " [20.5 17.1]\n",
            " [15.2 17.2]\n",
            " [14.  15. ]\n",
            " [22.1 21.7]\n",
            " [17.5 18.6]\n",
            " [21.4 21. ]\n",
            " [32.8 33.1]\n",
            " [31.1 31.5]\n",
            " [17.7 20.1]\n",
            " [32.9 29.8]\n",
            " [18.7 15.2]\n",
            " [20.  15. ]\n",
            " [19.  27.5]\n",
            " [22.9 22.6]\n",
            " [23.1 20. ]\n",
            " [24.2 21.4]\n",
            " [31.  23.5]\n",
            " [28.7 31.2]\n",
            " [25.8 23.7]\n",
            " [ 5.3  7.4]\n",
            " [36.7 48.3]\n",
            " [23.7 24.4]\n",
            " [27.4 22.6]\n",
            " [18.9 18.3]\n",
            " [28.6 23.3]\n",
            " [19.3 17.1]\n",
            " [19.  27.9]\n",
            " [37.8 44.8]\n",
            " [39.2 50. ]\n",
            " [23.5 23. ]\n",
            " [25.  21.4]\n",
            " [15.9 10.2]\n",
            " [26.2 23.3]\n",
            " [16.7 23.2]\n",
            " [16.2 18.9]\n",
            " [13.1 13.4]\n",
            " [24.6 21.9]\n",
            " [31.1 24.8]\n",
            " [21.6 11.9]\n",
            " [20.2 24.3]\n",
            " [ 0.6 13.8]\n",
            " [25.7 24.7]\n",
            " [15.5 14.1]\n",
            " [18.1 18.7]\n",
            " [25.3 28.1]\n",
            " [22.5 19.8]]\n"
          ],
          "name": "stdout"
        }
      ]
    },
    {
      "cell_type": "code",
      "metadata": {
        "id": "lLiiBj4d20XL",
        "colab_type": "code",
        "colab": {
          "base_uri": "https://localhost:8080/",
          "height": 419
        },
        "outputId": "8d9a392d-fe26-4403-c8c3-9006d8a02795"
      },
      "source": [
        "pd.DataFrame({'y_pred: ':y_pred, 'y_reeal: ':y_test})"
      ],
      "execution_count": 308,
      "outputs": [
        {
          "output_type": "execute_result",
          "data": {
            "text/html": [
              "<div>\n",
              "<style scoped>\n",
              "    .dataframe tbody tr th:only-of-type {\n",
              "        vertical-align: middle;\n",
              "    }\n",
              "\n",
              "    .dataframe tbody tr th {\n",
              "        vertical-align: top;\n",
              "    }\n",
              "\n",
              "    .dataframe thead th {\n",
              "        text-align: right;\n",
              "    }\n",
              "</style>\n",
              "<table border=\"1\" class=\"dataframe\">\n",
              "  <thead>\n",
              "    <tr style=\"text-align: right;\">\n",
              "      <th></th>\n",
              "      <th>y_pred:</th>\n",
              "      <th>y_reeal:</th>\n",
              "    </tr>\n",
              "  </thead>\n",
              "  <tbody>\n",
              "    <tr>\n",
              "      <th>0</th>\n",
              "      <td>24.740709</td>\n",
              "      <td>22.6</td>\n",
              "    </tr>\n",
              "    <tr>\n",
              "      <th>1</th>\n",
              "      <td>23.804250</td>\n",
              "      <td>50.0</td>\n",
              "    </tr>\n",
              "    <tr>\n",
              "      <th>2</th>\n",
              "      <td>29.281587</td>\n",
              "      <td>23.0</td>\n",
              "    </tr>\n",
              "    <tr>\n",
              "      <th>3</th>\n",
              "      <td>12.122727</td>\n",
              "      <td>8.3</td>\n",
              "    </tr>\n",
              "    <tr>\n",
              "      <th>4</th>\n",
              "      <td>21.625445</td>\n",
              "      <td>21.2</td>\n",
              "    </tr>\n",
              "    <tr>\n",
              "      <th>...</th>\n",
              "      <td>...</td>\n",
              "      <td>...</td>\n",
              "    </tr>\n",
              "    <tr>\n",
              "      <th>97</th>\n",
              "      <td>25.681895</td>\n",
              "      <td>24.7</td>\n",
              "    </tr>\n",
              "    <tr>\n",
              "      <th>98</th>\n",
              "      <td>15.535477</td>\n",
              "      <td>14.1</td>\n",
              "    </tr>\n",
              "    <tr>\n",
              "      <th>99</th>\n",
              "      <td>18.117483</td>\n",
              "      <td>18.7</td>\n",
              "    </tr>\n",
              "    <tr>\n",
              "      <th>100</th>\n",
              "      <td>25.270993</td>\n",
              "      <td>28.1</td>\n",
              "    </tr>\n",
              "    <tr>\n",
              "      <th>101</th>\n",
              "      <td>22.513741</td>\n",
              "      <td>19.8</td>\n",
              "    </tr>\n",
              "  </tbody>\n",
              "</table>\n",
              "<p>102 rows × 2 columns</p>\n",
              "</div>"
            ],
            "text/plain": [
              "      y_pred:   y_reeal: \n",
              "0    24.740709       22.6\n",
              "1    23.804250       50.0\n",
              "2    29.281587       23.0\n",
              "3    12.122727        8.3\n",
              "4    21.625445       21.2\n",
              "..         ...        ...\n",
              "97   25.681895       24.7\n",
              "98   15.535477       14.1\n",
              "99   18.117483       18.7\n",
              "100  25.270993       28.1\n",
              "101  22.513741       19.8\n",
              "\n",
              "[102 rows x 2 columns]"
            ]
          },
          "metadata": {
            "tags": []
          },
          "execution_count": 308
        }
      ]
    },
    {
      "cell_type": "markdown",
      "metadata": {
        "id": "qcMWmgnXjODJ",
        "colab_type": "text"
      },
      "source": [
        "# Evaluate"
      ]
    },
    {
      "cell_type": "code",
      "metadata": {
        "id": "vknlIivczc-q",
        "colab_type": "code",
        "colab": {
          "base_uri": "https://localhost:8080/",
          "height": 51
        },
        "outputId": "32c43989-43f2-409d-c2fe-1344da99b215"
      },
      "source": [
        "# r_squared for trainning and test data\n",
        "print('Trainning data r_squared: ', regressor.score(X_train,y_train))\n",
        "print('Test data r_squared: ', regressor.score(X_test,y_test))"
      ],
      "execution_count": 309,
      "outputs": [
        {
          "output_type": "stream",
          "text": [
            "Trainning data r_squared:  0.77329841622637\n",
            "Test data r_squared:  0.5914577039362052\n"
          ],
          "name": "stdout"
        }
      ]
    },
    {
      "cell_type": "code",
      "metadata": {
        "id": "79UGPoYOph8X",
        "colab_type": "code",
        "colab": {
          "base_uri": "https://localhost:8080/",
          "height": 34
        },
        "outputId": "2cbf0f21-f753-4fa5-a1b0-f1f6804564dc"
      },
      "source": [
        "import math\n",
        "mlr_rmse_LR = math.sqrt(mean_squared_error(y_test, y_pred))\n",
        "mlr_rmse_LR"
      ],
      "execution_count": 310,
      "outputs": [
        {
          "output_type": "execute_result",
          "data": {
            "text/plain": [
              "5.76775185485984"
            ]
          },
          "metadata": {
            "tags": []
          },
          "execution_count": 310
        }
      ]
    },
    {
      "cell_type": "code",
      "metadata": {
        "id": "rXUq138N3Vu0",
        "colab_type": "code",
        "colab": {
          "base_uri": "https://localhost:8080/",
          "height": 34
        },
        "outputId": "23474a39-b93c-4437-c9e5-2a2c8a907b2f"
      },
      "source": [
        "MAE_LR=mean_absolute_error(y_test,y_pred)\n",
        "MAE_LR"
      ],
      "execution_count": 312,
      "outputs": [
        {
          "output_type": "execute_result",
          "data": {
            "text/plain": [
              "3.838476893830888"
            ]
          },
          "metadata": {
            "tags": []
          },
          "execution_count": 312
        }
      ]
    },
    {
      "cell_type": "code",
      "metadata": {
        "id": "cSx1myRN2Qck",
        "colab_type": "code",
        "colab": {
          "base_uri": "https://localhost:8080/",
          "height": 390
        },
        "outputId": "66384ac6-c060-4889-dd18-382e1f640350"
      },
      "source": [
        "df.head(11)"
      ],
      "execution_count": 123,
      "outputs": [
        {
          "output_type": "execute_result",
          "data": {
            "text/html": [
              "<div>\n",
              "<style scoped>\n",
              "    .dataframe tbody tr th:only-of-type {\n",
              "        vertical-align: middle;\n",
              "    }\n",
              "\n",
              "    .dataframe tbody tr th {\n",
              "        vertical-align: top;\n",
              "    }\n",
              "\n",
              "    .dataframe thead th {\n",
              "        text-align: right;\n",
              "    }\n",
              "</style>\n",
              "<table border=\"1\" class=\"dataframe\">\n",
              "  <thead>\n",
              "    <tr style=\"text-align: right;\">\n",
              "      <th></th>\n",
              "      <th>crim</th>\n",
              "      <th>zn</th>\n",
              "      <th>indus</th>\n",
              "      <th>chas</th>\n",
              "      <th>nox</th>\n",
              "      <th>rm</th>\n",
              "      <th>age</th>\n",
              "      <th>dis</th>\n",
              "      <th>rad</th>\n",
              "      <th>tax</th>\n",
              "      <th>ptratio</th>\n",
              "      <th>black</th>\n",
              "      <th>lstat</th>\n",
              "      <th>medv</th>\n",
              "    </tr>\n",
              "  </thead>\n",
              "  <tbody>\n",
              "    <tr>\n",
              "      <th>0</th>\n",
              "      <td>0.00632</td>\n",
              "      <td>18.0</td>\n",
              "      <td>2.31</td>\n",
              "      <td>0</td>\n",
              "      <td>0.538</td>\n",
              "      <td>6.575</td>\n",
              "      <td>65.2</td>\n",
              "      <td>4.0900</td>\n",
              "      <td>1</td>\n",
              "      <td>296</td>\n",
              "      <td>15.3</td>\n",
              "      <td>396.90</td>\n",
              "      <td>4.98</td>\n",
              "      <td>24.0</td>\n",
              "    </tr>\n",
              "    <tr>\n",
              "      <th>1</th>\n",
              "      <td>0.02731</td>\n",
              "      <td>0.0</td>\n",
              "      <td>7.07</td>\n",
              "      <td>0</td>\n",
              "      <td>0.469</td>\n",
              "      <td>6.421</td>\n",
              "      <td>78.9</td>\n",
              "      <td>4.9671</td>\n",
              "      <td>2</td>\n",
              "      <td>242</td>\n",
              "      <td>17.8</td>\n",
              "      <td>396.90</td>\n",
              "      <td>9.14</td>\n",
              "      <td>21.6</td>\n",
              "    </tr>\n",
              "    <tr>\n",
              "      <th>2</th>\n",
              "      <td>0.02729</td>\n",
              "      <td>0.0</td>\n",
              "      <td>7.07</td>\n",
              "      <td>0</td>\n",
              "      <td>0.469</td>\n",
              "      <td>7.185</td>\n",
              "      <td>61.1</td>\n",
              "      <td>4.9671</td>\n",
              "      <td>2</td>\n",
              "      <td>242</td>\n",
              "      <td>17.8</td>\n",
              "      <td>392.83</td>\n",
              "      <td>4.03</td>\n",
              "      <td>34.7</td>\n",
              "    </tr>\n",
              "    <tr>\n",
              "      <th>3</th>\n",
              "      <td>0.03237</td>\n",
              "      <td>0.0</td>\n",
              "      <td>2.18</td>\n",
              "      <td>0</td>\n",
              "      <td>0.458</td>\n",
              "      <td>6.998</td>\n",
              "      <td>45.8</td>\n",
              "      <td>6.0622</td>\n",
              "      <td>3</td>\n",
              "      <td>222</td>\n",
              "      <td>18.7</td>\n",
              "      <td>394.63</td>\n",
              "      <td>2.94</td>\n",
              "      <td>33.4</td>\n",
              "    </tr>\n",
              "    <tr>\n",
              "      <th>4</th>\n",
              "      <td>0.06905</td>\n",
              "      <td>0.0</td>\n",
              "      <td>2.18</td>\n",
              "      <td>0</td>\n",
              "      <td>0.458</td>\n",
              "      <td>7.147</td>\n",
              "      <td>54.2</td>\n",
              "      <td>6.0622</td>\n",
              "      <td>3</td>\n",
              "      <td>222</td>\n",
              "      <td>18.7</td>\n",
              "      <td>396.90</td>\n",
              "      <td>5.33</td>\n",
              "      <td>36.2</td>\n",
              "    </tr>\n",
              "    <tr>\n",
              "      <th>5</th>\n",
              "      <td>0.02985</td>\n",
              "      <td>0.0</td>\n",
              "      <td>2.18</td>\n",
              "      <td>0</td>\n",
              "      <td>0.458</td>\n",
              "      <td>6.430</td>\n",
              "      <td>58.7</td>\n",
              "      <td>6.0622</td>\n",
              "      <td>3</td>\n",
              "      <td>222</td>\n",
              "      <td>18.7</td>\n",
              "      <td>394.12</td>\n",
              "      <td>5.21</td>\n",
              "      <td>28.7</td>\n",
              "    </tr>\n",
              "    <tr>\n",
              "      <th>6</th>\n",
              "      <td>0.08829</td>\n",
              "      <td>12.5</td>\n",
              "      <td>7.87</td>\n",
              "      <td>0</td>\n",
              "      <td>0.524</td>\n",
              "      <td>6.012</td>\n",
              "      <td>66.6</td>\n",
              "      <td>5.5605</td>\n",
              "      <td>5</td>\n",
              "      <td>311</td>\n",
              "      <td>15.2</td>\n",
              "      <td>395.60</td>\n",
              "      <td>12.43</td>\n",
              "      <td>22.9</td>\n",
              "    </tr>\n",
              "    <tr>\n",
              "      <th>7</th>\n",
              "      <td>0.14455</td>\n",
              "      <td>12.5</td>\n",
              "      <td>7.87</td>\n",
              "      <td>0</td>\n",
              "      <td>0.524</td>\n",
              "      <td>6.172</td>\n",
              "      <td>96.1</td>\n",
              "      <td>5.9505</td>\n",
              "      <td>5</td>\n",
              "      <td>311</td>\n",
              "      <td>15.2</td>\n",
              "      <td>396.90</td>\n",
              "      <td>19.15</td>\n",
              "      <td>27.1</td>\n",
              "    </tr>\n",
              "    <tr>\n",
              "      <th>8</th>\n",
              "      <td>0.21124</td>\n",
              "      <td>12.5</td>\n",
              "      <td>7.87</td>\n",
              "      <td>0</td>\n",
              "      <td>0.524</td>\n",
              "      <td>5.631</td>\n",
              "      <td>100.0</td>\n",
              "      <td>6.0821</td>\n",
              "      <td>5</td>\n",
              "      <td>311</td>\n",
              "      <td>15.2</td>\n",
              "      <td>386.63</td>\n",
              "      <td>29.93</td>\n",
              "      <td>16.5</td>\n",
              "    </tr>\n",
              "    <tr>\n",
              "      <th>9</th>\n",
              "      <td>0.17004</td>\n",
              "      <td>12.5</td>\n",
              "      <td>7.87</td>\n",
              "      <td>0</td>\n",
              "      <td>0.524</td>\n",
              "      <td>6.004</td>\n",
              "      <td>85.9</td>\n",
              "      <td>6.5921</td>\n",
              "      <td>5</td>\n",
              "      <td>311</td>\n",
              "      <td>15.2</td>\n",
              "      <td>386.71</td>\n",
              "      <td>17.10</td>\n",
              "      <td>18.9</td>\n",
              "    </tr>\n",
              "    <tr>\n",
              "      <th>10</th>\n",
              "      <td>0.22489</td>\n",
              "      <td>12.5</td>\n",
              "      <td>7.87</td>\n",
              "      <td>0</td>\n",
              "      <td>0.524</td>\n",
              "      <td>6.377</td>\n",
              "      <td>94.3</td>\n",
              "      <td>6.3467</td>\n",
              "      <td>5</td>\n",
              "      <td>311</td>\n",
              "      <td>15.2</td>\n",
              "      <td>392.52</td>\n",
              "      <td>20.45</td>\n",
              "      <td>15.0</td>\n",
              "    </tr>\n",
              "  </tbody>\n",
              "</table>\n",
              "</div>"
            ],
            "text/plain": [
              "       crim    zn  indus  chas    nox  ...  tax  ptratio   black  lstat  medv\n",
              "0   0.00632  18.0   2.31     0  0.538  ...  296     15.3  396.90   4.98  24.0\n",
              "1   0.02731   0.0   7.07     0  0.469  ...  242     17.8  396.90   9.14  21.6\n",
              "2   0.02729   0.0   7.07     0  0.469  ...  242     17.8  392.83   4.03  34.7\n",
              "3   0.03237   0.0   2.18     0  0.458  ...  222     18.7  394.63   2.94  33.4\n",
              "4   0.06905   0.0   2.18     0  0.458  ...  222     18.7  396.90   5.33  36.2\n",
              "5   0.02985   0.0   2.18     0  0.458  ...  222     18.7  394.12   5.21  28.7\n",
              "6   0.08829  12.5   7.87     0  0.524  ...  311     15.2  395.60  12.43  22.9\n",
              "7   0.14455  12.5   7.87     0  0.524  ...  311     15.2  396.90  19.15  27.1\n",
              "8   0.21124  12.5   7.87     0  0.524  ...  311     15.2  386.63  29.93  16.5\n",
              "9   0.17004  12.5   7.87     0  0.524  ...  311     15.2  386.71  17.10  18.9\n",
              "10  0.22489  12.5   7.87     0  0.524  ...  311     15.2  392.52  20.45  15.0\n",
              "\n",
              "[11 rows x 14 columns]"
            ]
          },
          "metadata": {
            "tags": []
          },
          "execution_count": 123
        }
      ]
    },
    {
      "cell_type": "code",
      "metadata": {
        "id": "I_uqAr2Z4LbM",
        "colab_type": "code",
        "colab": {
          "base_uri": "https://localhost:8080/",
          "height": 68
        },
        "outputId": "040970b3-3678-423e-d3ae-2f7487e94dcf"
      },
      "source": [
        "x_incl_const=sm.add_constant(X_train)\n",
        "model=sm.OLS(y_train,x_incl_const)\n",
        "results=model.fit()\n",
        "results.pvalues"
      ],
      "execution_count": 124,
      "outputs": [
        {
          "output_type": "execute_result",
          "data": {
            "text/plain": [
              "array([7.9e-281, 1.2e-003, 2.1e-003, 9.3e-001, 9.8e-003, 1.5e-004,\n",
              "       6.8e-015, 8.3e-001, 2.8e-010, 5.6e-004, 5.1e-003, 1.7e-013,\n",
              "       6.3e-003, 5.3e-018])"
            ]
          },
          "metadata": {
            "tags": []
          },
          "execution_count": 124
        }
      ]
    },
    {
      "cell_type": "code",
      "metadata": {
        "id": "82klAdPJmCHW",
        "colab_type": "code",
        "colab": {
          "base_uri": "https://localhost:8080/",
          "height": 68
        },
        "outputId": "91b96bd6-0ba8-4040-f5a7-00dc9cfccc2d"
      },
      "source": [
        "df.columns"
      ],
      "execution_count": 125,
      "outputs": [
        {
          "output_type": "execute_result",
          "data": {
            "text/plain": [
              "Index(['crim', 'zn', 'indus', 'chas', 'nox', 'rm', 'age', 'dis', 'rad', 'tax',\n",
              "       'ptratio', 'black', 'lstat', 'medv'],\n",
              "      dtype='object')"
            ]
          },
          "metadata": {
            "tags": []
          },
          "execution_count": 125
        }
      ]
    },
    {
      "cell_type": "code",
      "metadata": {
        "id": "uMkPqtFWmJzx",
        "colab_type": "code",
        "colab": {}
      },
      "source": [
        "columns=['crim', 'zn', 'indus', 'chas', 'nox', 'rm', 'age', 'dis', 'rad', 'tax',\n",
        "       'ptratio', 'black', 'lstat', 'medv']"
      ],
      "execution_count": 0,
      "outputs": []
    },
    {
      "cell_type": "code",
      "metadata": {
        "id": "uyIH3awplWLm",
        "colab_type": "code",
        "colab": {
          "base_uri": "https://localhost:8080/",
          "height": 483
        },
        "outputId": "f9ad25b0-80a3-4b51-8e8b-96223b43eddc"
      },
      "source": [
        "pd.DataFrame({ 'columns: ':columns,'p-values: ':results.pvalues})"
      ],
      "execution_count": 127,
      "outputs": [
        {
          "output_type": "execute_result",
          "data": {
            "text/html": [
              "<div>\n",
              "<style scoped>\n",
              "    .dataframe tbody tr th:only-of-type {\n",
              "        vertical-align: middle;\n",
              "    }\n",
              "\n",
              "    .dataframe tbody tr th {\n",
              "        vertical-align: top;\n",
              "    }\n",
              "\n",
              "    .dataframe thead th {\n",
              "        text-align: right;\n",
              "    }\n",
              "</style>\n",
              "<table border=\"1\" class=\"dataframe\">\n",
              "  <thead>\n",
              "    <tr style=\"text-align: right;\">\n",
              "      <th></th>\n",
              "      <th>columns:</th>\n",
              "      <th>p-values:</th>\n",
              "    </tr>\n",
              "  </thead>\n",
              "  <tbody>\n",
              "    <tr>\n",
              "      <th>0</th>\n",
              "      <td>crim</td>\n",
              "      <td>7.880479e-281</td>\n",
              "    </tr>\n",
              "    <tr>\n",
              "      <th>1</th>\n",
              "      <td>zn</td>\n",
              "      <td>1.222501e-03</td>\n",
              "    </tr>\n",
              "    <tr>\n",
              "      <th>2</th>\n",
              "      <td>indus</td>\n",
              "      <td>2.060526e-03</td>\n",
              "    </tr>\n",
              "    <tr>\n",
              "      <th>3</th>\n",
              "      <td>chas</td>\n",
              "      <td>9.311050e-01</td>\n",
              "    </tr>\n",
              "    <tr>\n",
              "      <th>4</th>\n",
              "      <td>nox</td>\n",
              "      <td>9.826245e-03</td>\n",
              "    </tr>\n",
              "    <tr>\n",
              "      <th>5</th>\n",
              "      <td>rm</td>\n",
              "      <td>1.503121e-04</td>\n",
              "    </tr>\n",
              "    <tr>\n",
              "      <th>6</th>\n",
              "      <td>age</td>\n",
              "      <td>6.837385e-15</td>\n",
              "    </tr>\n",
              "    <tr>\n",
              "      <th>7</th>\n",
              "      <td>dis</td>\n",
              "      <td>8.276851e-01</td>\n",
              "    </tr>\n",
              "    <tr>\n",
              "      <th>8</th>\n",
              "      <td>rad</td>\n",
              "      <td>2.771759e-10</td>\n",
              "    </tr>\n",
              "    <tr>\n",
              "      <th>9</th>\n",
              "      <td>tax</td>\n",
              "      <td>5.570378e-04</td>\n",
              "    </tr>\n",
              "    <tr>\n",
              "      <th>10</th>\n",
              "      <td>ptratio</td>\n",
              "      <td>5.061523e-03</td>\n",
              "    </tr>\n",
              "    <tr>\n",
              "      <th>11</th>\n",
              "      <td>black</td>\n",
              "      <td>1.747353e-13</td>\n",
              "    </tr>\n",
              "    <tr>\n",
              "      <th>12</th>\n",
              "      <td>lstat</td>\n",
              "      <td>6.263236e-03</td>\n",
              "    </tr>\n",
              "    <tr>\n",
              "      <th>13</th>\n",
              "      <td>medv</td>\n",
              "      <td>5.257076e-18</td>\n",
              "    </tr>\n",
              "  </tbody>\n",
              "</table>\n",
              "</div>"
            ],
            "text/plain": [
              "   columns:      p-values: \n",
              "0       crim  7.880479e-281\n",
              "1         zn   1.222501e-03\n",
              "2      indus   2.060526e-03\n",
              "3       chas   9.311050e-01\n",
              "4        nox   9.826245e-03\n",
              "5         rm   1.503121e-04\n",
              "6        age   6.837385e-15\n",
              "7        dis   8.276851e-01\n",
              "8        rad   2.771759e-10\n",
              "9        tax   5.570378e-04\n",
              "10   ptratio   5.061523e-03\n",
              "11     black   1.747353e-13\n",
              "12     lstat   6.263236e-03\n",
              "13      medv   5.257076e-18"
            ]
          },
          "metadata": {
            "tags": []
          },
          "execution_count": 127
        }
      ]
    },
    {
      "cell_type": "markdown",
      "metadata": {
        "id": "qIvhW_A0jRPN",
        "colab_type": "text"
      },
      "source": [
        "# Predictions"
      ]
    },
    {
      "cell_type": "code",
      "metadata": {
        "id": "9jcVRlSh1d2s",
        "colab_type": "code",
        "colab": {}
      },
      "source": [
        "df1=df.drop('medv',axis=1)"
      ],
      "execution_count": 0,
      "outputs": []
    },
    {
      "cell_type": "code",
      "metadata": {
        "id": "FJDE1pwWz5DF",
        "colab_type": "code",
        "colab": {
          "base_uri": "https://localhost:8080/",
          "height": 359
        },
        "outputId": "c081d7f6-8d60-423b-9926-713c384f851e"
      },
      "source": [
        "house_prediction=df1.head(10)\n",
        "house_prediction"
      ],
      "execution_count": 129,
      "outputs": [
        {
          "output_type": "execute_result",
          "data": {
            "text/html": [
              "<div>\n",
              "<style scoped>\n",
              "    .dataframe tbody tr th:only-of-type {\n",
              "        vertical-align: middle;\n",
              "    }\n",
              "\n",
              "    .dataframe tbody tr th {\n",
              "        vertical-align: top;\n",
              "    }\n",
              "\n",
              "    .dataframe thead th {\n",
              "        text-align: right;\n",
              "    }\n",
              "</style>\n",
              "<table border=\"1\" class=\"dataframe\">\n",
              "  <thead>\n",
              "    <tr style=\"text-align: right;\">\n",
              "      <th></th>\n",
              "      <th>crim</th>\n",
              "      <th>zn</th>\n",
              "      <th>indus</th>\n",
              "      <th>chas</th>\n",
              "      <th>nox</th>\n",
              "      <th>rm</th>\n",
              "      <th>age</th>\n",
              "      <th>dis</th>\n",
              "      <th>rad</th>\n",
              "      <th>tax</th>\n",
              "      <th>ptratio</th>\n",
              "      <th>black</th>\n",
              "      <th>lstat</th>\n",
              "    </tr>\n",
              "  </thead>\n",
              "  <tbody>\n",
              "    <tr>\n",
              "      <th>0</th>\n",
              "      <td>0.00632</td>\n",
              "      <td>18.0</td>\n",
              "      <td>2.31</td>\n",
              "      <td>0</td>\n",
              "      <td>0.538</td>\n",
              "      <td>6.575</td>\n",
              "      <td>65.2</td>\n",
              "      <td>4.0900</td>\n",
              "      <td>1</td>\n",
              "      <td>296</td>\n",
              "      <td>15.3</td>\n",
              "      <td>396.90</td>\n",
              "      <td>4.98</td>\n",
              "    </tr>\n",
              "    <tr>\n",
              "      <th>1</th>\n",
              "      <td>0.02731</td>\n",
              "      <td>0.0</td>\n",
              "      <td>7.07</td>\n",
              "      <td>0</td>\n",
              "      <td>0.469</td>\n",
              "      <td>6.421</td>\n",
              "      <td>78.9</td>\n",
              "      <td>4.9671</td>\n",
              "      <td>2</td>\n",
              "      <td>242</td>\n",
              "      <td>17.8</td>\n",
              "      <td>396.90</td>\n",
              "      <td>9.14</td>\n",
              "    </tr>\n",
              "    <tr>\n",
              "      <th>2</th>\n",
              "      <td>0.02729</td>\n",
              "      <td>0.0</td>\n",
              "      <td>7.07</td>\n",
              "      <td>0</td>\n",
              "      <td>0.469</td>\n",
              "      <td>7.185</td>\n",
              "      <td>61.1</td>\n",
              "      <td>4.9671</td>\n",
              "      <td>2</td>\n",
              "      <td>242</td>\n",
              "      <td>17.8</td>\n",
              "      <td>392.83</td>\n",
              "      <td>4.03</td>\n",
              "    </tr>\n",
              "    <tr>\n",
              "      <th>3</th>\n",
              "      <td>0.03237</td>\n",
              "      <td>0.0</td>\n",
              "      <td>2.18</td>\n",
              "      <td>0</td>\n",
              "      <td>0.458</td>\n",
              "      <td>6.998</td>\n",
              "      <td>45.8</td>\n",
              "      <td>6.0622</td>\n",
              "      <td>3</td>\n",
              "      <td>222</td>\n",
              "      <td>18.7</td>\n",
              "      <td>394.63</td>\n",
              "      <td>2.94</td>\n",
              "    </tr>\n",
              "    <tr>\n",
              "      <th>4</th>\n",
              "      <td>0.06905</td>\n",
              "      <td>0.0</td>\n",
              "      <td>2.18</td>\n",
              "      <td>0</td>\n",
              "      <td>0.458</td>\n",
              "      <td>7.147</td>\n",
              "      <td>54.2</td>\n",
              "      <td>6.0622</td>\n",
              "      <td>3</td>\n",
              "      <td>222</td>\n",
              "      <td>18.7</td>\n",
              "      <td>396.90</td>\n",
              "      <td>5.33</td>\n",
              "    </tr>\n",
              "    <tr>\n",
              "      <th>5</th>\n",
              "      <td>0.02985</td>\n",
              "      <td>0.0</td>\n",
              "      <td>2.18</td>\n",
              "      <td>0</td>\n",
              "      <td>0.458</td>\n",
              "      <td>6.430</td>\n",
              "      <td>58.7</td>\n",
              "      <td>6.0622</td>\n",
              "      <td>3</td>\n",
              "      <td>222</td>\n",
              "      <td>18.7</td>\n",
              "      <td>394.12</td>\n",
              "      <td>5.21</td>\n",
              "    </tr>\n",
              "    <tr>\n",
              "      <th>6</th>\n",
              "      <td>0.08829</td>\n",
              "      <td>12.5</td>\n",
              "      <td>7.87</td>\n",
              "      <td>0</td>\n",
              "      <td>0.524</td>\n",
              "      <td>6.012</td>\n",
              "      <td>66.6</td>\n",
              "      <td>5.5605</td>\n",
              "      <td>5</td>\n",
              "      <td>311</td>\n",
              "      <td>15.2</td>\n",
              "      <td>395.60</td>\n",
              "      <td>12.43</td>\n",
              "    </tr>\n",
              "    <tr>\n",
              "      <th>7</th>\n",
              "      <td>0.14455</td>\n",
              "      <td>12.5</td>\n",
              "      <td>7.87</td>\n",
              "      <td>0</td>\n",
              "      <td>0.524</td>\n",
              "      <td>6.172</td>\n",
              "      <td>96.1</td>\n",
              "      <td>5.9505</td>\n",
              "      <td>5</td>\n",
              "      <td>311</td>\n",
              "      <td>15.2</td>\n",
              "      <td>396.90</td>\n",
              "      <td>19.15</td>\n",
              "    </tr>\n",
              "    <tr>\n",
              "      <th>8</th>\n",
              "      <td>0.21124</td>\n",
              "      <td>12.5</td>\n",
              "      <td>7.87</td>\n",
              "      <td>0</td>\n",
              "      <td>0.524</td>\n",
              "      <td>5.631</td>\n",
              "      <td>100.0</td>\n",
              "      <td>6.0821</td>\n",
              "      <td>5</td>\n",
              "      <td>311</td>\n",
              "      <td>15.2</td>\n",
              "      <td>386.63</td>\n",
              "      <td>29.93</td>\n",
              "    </tr>\n",
              "    <tr>\n",
              "      <th>9</th>\n",
              "      <td>0.17004</td>\n",
              "      <td>12.5</td>\n",
              "      <td>7.87</td>\n",
              "      <td>0</td>\n",
              "      <td>0.524</td>\n",
              "      <td>6.004</td>\n",
              "      <td>85.9</td>\n",
              "      <td>6.5921</td>\n",
              "      <td>5</td>\n",
              "      <td>311</td>\n",
              "      <td>15.2</td>\n",
              "      <td>386.71</td>\n",
              "      <td>17.10</td>\n",
              "    </tr>\n",
              "  </tbody>\n",
              "</table>\n",
              "</div>"
            ],
            "text/plain": [
              "      crim    zn  indus  chas    nox  ...  rad  tax  ptratio   black  lstat\n",
              "0  0.00632  18.0   2.31     0  0.538  ...    1  296     15.3  396.90   4.98\n",
              "1  0.02731   0.0   7.07     0  0.469  ...    2  242     17.8  396.90   9.14\n",
              "2  0.02729   0.0   7.07     0  0.469  ...    2  242     17.8  392.83   4.03\n",
              "3  0.03237   0.0   2.18     0  0.458  ...    3  222     18.7  394.63   2.94\n",
              "4  0.06905   0.0   2.18     0  0.458  ...    3  222     18.7  396.90   5.33\n",
              "5  0.02985   0.0   2.18     0  0.458  ...    3  222     18.7  394.12   5.21\n",
              "6  0.08829  12.5   7.87     0  0.524  ...    5  311     15.2  395.60  12.43\n",
              "7  0.14455  12.5   7.87     0  0.524  ...    5  311     15.2  396.90  19.15\n",
              "8  0.21124  12.5   7.87     0  0.524  ...    5  311     15.2  386.63  29.93\n",
              "9  0.17004  12.5   7.87     0  0.524  ...    5  311     15.2  386.71  17.10\n",
              "\n",
              "[10 rows x 13 columns]"
            ]
          },
          "metadata": {
            "tags": []
          },
          "execution_count": 129
        }
      ]
    },
    {
      "cell_type": "code",
      "metadata": {
        "id": "6A8rWReq146F",
        "colab_type": "code",
        "colab": {}
      },
      "source": [
        "house_prediction=sc.transform(house_prediction.values.reshape(-1,13))"
      ],
      "execution_count": 0,
      "outputs": []
    },
    {
      "cell_type": "code",
      "metadata": {
        "id": "0xOXD2pa1XED",
        "colab_type": "code",
        "colab": {}
      },
      "source": [
        "pred_houses = regressor.predict(house_prediction)"
      ],
      "execution_count": 0,
      "outputs": []
    },
    {
      "cell_type": "code",
      "metadata": {
        "id": "7eFUJohn1nbd",
        "colab_type": "code",
        "colab": {
          "base_uri": "https://localhost:8080/",
          "height": 34
        },
        "outputId": "97d80ce9-a595-4224-c3d0-157778b22552"
      },
      "source": [
        "pred_houses"
      ],
      "execution_count": 132,
      "outputs": [
        {
          "output_type": "execute_result",
          "data": {
            "text/plain": [
              "array([30.5, 25.2, 30.5, 28.6, 28. , 25.3, 23.6, 20.3, 12.7, 19.7])"
            ]
          },
          "metadata": {
            "tags": []
          },
          "execution_count": 132
        }
      ]
    },
    {
      "cell_type": "code",
      "metadata": {
        "id": "pUOSaU3pc0Vc",
        "colab_type": "code",
        "colab": {
          "base_uri": "https://localhost:8080/",
          "height": 359
        },
        "outputId": "f6ba8771-d317-40f2-ae0b-54b35b694b86"
      },
      "source": [
        "df_lr = pd.DataFrame(pred_houses, columns=['Predictions_lr'])\n",
        "df_lr"
      ],
      "execution_count": 133,
      "outputs": [
        {
          "output_type": "execute_result",
          "data": {
            "text/html": [
              "<div>\n",
              "<style scoped>\n",
              "    .dataframe tbody tr th:only-of-type {\n",
              "        vertical-align: middle;\n",
              "    }\n",
              "\n",
              "    .dataframe tbody tr th {\n",
              "        vertical-align: top;\n",
              "    }\n",
              "\n",
              "    .dataframe thead th {\n",
              "        text-align: right;\n",
              "    }\n",
              "</style>\n",
              "<table border=\"1\" class=\"dataframe\">\n",
              "  <thead>\n",
              "    <tr style=\"text-align: right;\">\n",
              "      <th></th>\n",
              "      <th>Predictions_lr</th>\n",
              "    </tr>\n",
              "  </thead>\n",
              "  <tbody>\n",
              "    <tr>\n",
              "      <th>0</th>\n",
              "      <td>30.499498</td>\n",
              "    </tr>\n",
              "    <tr>\n",
              "      <th>1</th>\n",
              "      <td>25.172480</td>\n",
              "    </tr>\n",
              "    <tr>\n",
              "      <th>2</th>\n",
              "      <td>30.546654</td>\n",
              "    </tr>\n",
              "    <tr>\n",
              "      <th>3</th>\n",
              "      <td>28.606948</td>\n",
              "    </tr>\n",
              "    <tr>\n",
              "      <th>4</th>\n",
              "      <td>27.969583</td>\n",
              "    </tr>\n",
              "    <tr>\n",
              "      <th>5</th>\n",
              "      <td>25.337665</td>\n",
              "    </tr>\n",
              "    <tr>\n",
              "      <th>6</th>\n",
              "      <td>23.603188</td>\n",
              "    </tr>\n",
              "    <tr>\n",
              "      <th>7</th>\n",
              "      <td>20.256071</td>\n",
              "    </tr>\n",
              "    <tr>\n",
              "      <th>8</th>\n",
              "      <td>12.651475</td>\n",
              "    </tr>\n",
              "    <tr>\n",
              "      <th>9</th>\n",
              "      <td>19.699869</td>\n",
              "    </tr>\n",
              "  </tbody>\n",
              "</table>\n",
              "</div>"
            ],
            "text/plain": [
              "   Predictions_lr\n",
              "0       30.499498\n",
              "1       25.172480\n",
              "2       30.546654\n",
              "3       28.606948\n",
              "4       27.969583\n",
              "5       25.337665\n",
              "6       23.603188\n",
              "7       20.256071\n",
              "8       12.651475\n",
              "9       19.699869"
            ]
          },
          "metadata": {
            "tags": []
          },
          "execution_count": 133
        }
      ]
    },
    {
      "cell_type": "markdown",
      "metadata": {
        "id": "MhgntDiPkDAV",
        "colab_type": "text"
      },
      "source": [
        "# Evaluate"
      ]
    },
    {
      "cell_type": "code",
      "metadata": {
        "id": "inlZ8W6S3pn6",
        "colab_type": "code",
        "colab": {
          "base_uri": "https://localhost:8080/",
          "height": 34
        },
        "outputId": "fd253f3a-caae-4857-da42-300ec4812aba"
      },
      "source": [
        "from sklearn.metrics import mean_absolute_error\n",
        "mean_absolute_error(y_test,y_pred)"
      ],
      "execution_count": 134,
      "outputs": [
        {
          "output_type": "execute_result",
          "data": {
            "text/plain": [
              "3.8429092204444966"
            ]
          },
          "metadata": {
            "tags": []
          },
          "execution_count": 134
        }
      ]
    },
    {
      "cell_type": "code",
      "metadata": {
        "id": "cYcQqjZkpcHW",
        "colab_type": "code",
        "colab": {
          "base_uri": "https://localhost:8080/",
          "height": 34
        },
        "outputId": "edf369af-61e3-415a-cfcf-22b9330666c2"
      },
      "source": [
        "import math\n",
        "mlr_rmse = math.sqrt(mean_squared_error(y_test, y_pred))\n",
        "mlr_rmse"
      ],
      "execution_count": 135,
      "outputs": [
        {
          "output_type": "execute_result",
          "data": {
            "text/plain": [
              "5.783509315085136"
            ]
          },
          "metadata": {
            "tags": []
          },
          "execution_count": 135
        }
      ]
    },
    {
      "cell_type": "code",
      "metadata": {
        "id": "s47bazFuV0yD",
        "colab_type": "code",
        "colab": {
          "base_uri": "https://localhost:8080/",
          "height": 34
        },
        "outputId": "41bc986f-e4c8-4ebe-c446-cbf9befa825c"
      },
      "source": [
        "df['medv'].mean()"
      ],
      "execution_count": 136,
      "outputs": [
        {
          "output_type": "execute_result",
          "data": {
            "text/plain": [
              "22.532806324110698"
            ]
          },
          "metadata": {
            "tags": []
          },
          "execution_count": 136
        }
      ]
    },
    {
      "cell_type": "markdown",
      "metadata": {
        "id": "JpqqTCmZYrNw",
        "colab_type": "text"
      },
      "source": [
        "# ANN Regression"
      ]
    },
    {
      "cell_type": "code",
      "metadata": {
        "id": "2-SEeodXZB_J",
        "colab_type": "code",
        "colab": {}
      },
      "source": [
        "from sklearn.preprocessing import MinMaxScaler\n",
        "from tensorflow.keras.models import Sequential\n",
        "from tensorflow.keras.callbacks import EarlyStopping\n",
        "from tensorflow.keras.layers import Dense, Dropout\n",
        "\n",
        "from sklearn.metrics import mean_absolute_error,mean_squared_error, explained_variance_score"
      ],
      "execution_count": 0,
      "outputs": []
    },
    {
      "cell_type": "code",
      "metadata": {
        "id": "pUMi2YIxXcU2",
        "colab_type": "code",
        "colab": {
          "base_uri": "https://localhost:8080/",
          "height": 204
        },
        "outputId": "526683d9-3480-46ff-b4da-423165f2936f"
      },
      "source": [
        "df = pd.read_csv(io.BytesIO(uploaded['Boston.csv']))\n",
        "df.head()"
      ],
      "execution_count": 313,
      "outputs": [
        {
          "output_type": "execute_result",
          "data": {
            "text/html": [
              "<div>\n",
              "<style scoped>\n",
              "    .dataframe tbody tr th:only-of-type {\n",
              "        vertical-align: middle;\n",
              "    }\n",
              "\n",
              "    .dataframe tbody tr th {\n",
              "        vertical-align: top;\n",
              "    }\n",
              "\n",
              "    .dataframe thead th {\n",
              "        text-align: right;\n",
              "    }\n",
              "</style>\n",
              "<table border=\"1\" class=\"dataframe\">\n",
              "  <thead>\n",
              "    <tr style=\"text-align: right;\">\n",
              "      <th></th>\n",
              "      <th>Unnamed: 0</th>\n",
              "      <th>crim</th>\n",
              "      <th>zn</th>\n",
              "      <th>indus</th>\n",
              "      <th>chas</th>\n",
              "      <th>nox</th>\n",
              "      <th>rm</th>\n",
              "      <th>age</th>\n",
              "      <th>dis</th>\n",
              "      <th>rad</th>\n",
              "      <th>tax</th>\n",
              "      <th>ptratio</th>\n",
              "      <th>black</th>\n",
              "      <th>lstat</th>\n",
              "      <th>medv</th>\n",
              "    </tr>\n",
              "  </thead>\n",
              "  <tbody>\n",
              "    <tr>\n",
              "      <th>0</th>\n",
              "      <td>1</td>\n",
              "      <td>0.00632</td>\n",
              "      <td>18.0</td>\n",
              "      <td>2.31</td>\n",
              "      <td>0</td>\n",
              "      <td>0.538</td>\n",
              "      <td>6.575</td>\n",
              "      <td>65.2</td>\n",
              "      <td>4.0900</td>\n",
              "      <td>1</td>\n",
              "      <td>296</td>\n",
              "      <td>15.3</td>\n",
              "      <td>396.90</td>\n",
              "      <td>4.98</td>\n",
              "      <td>24.0</td>\n",
              "    </tr>\n",
              "    <tr>\n",
              "      <th>1</th>\n",
              "      <td>2</td>\n",
              "      <td>0.02731</td>\n",
              "      <td>0.0</td>\n",
              "      <td>7.07</td>\n",
              "      <td>0</td>\n",
              "      <td>0.469</td>\n",
              "      <td>6.421</td>\n",
              "      <td>78.9</td>\n",
              "      <td>4.9671</td>\n",
              "      <td>2</td>\n",
              "      <td>242</td>\n",
              "      <td>17.8</td>\n",
              "      <td>396.90</td>\n",
              "      <td>9.14</td>\n",
              "      <td>21.6</td>\n",
              "    </tr>\n",
              "    <tr>\n",
              "      <th>2</th>\n",
              "      <td>3</td>\n",
              "      <td>0.02729</td>\n",
              "      <td>0.0</td>\n",
              "      <td>7.07</td>\n",
              "      <td>0</td>\n",
              "      <td>0.469</td>\n",
              "      <td>7.185</td>\n",
              "      <td>61.1</td>\n",
              "      <td>4.9671</td>\n",
              "      <td>2</td>\n",
              "      <td>242</td>\n",
              "      <td>17.8</td>\n",
              "      <td>392.83</td>\n",
              "      <td>4.03</td>\n",
              "      <td>34.7</td>\n",
              "    </tr>\n",
              "    <tr>\n",
              "      <th>3</th>\n",
              "      <td>4</td>\n",
              "      <td>0.03237</td>\n",
              "      <td>0.0</td>\n",
              "      <td>2.18</td>\n",
              "      <td>0</td>\n",
              "      <td>0.458</td>\n",
              "      <td>6.998</td>\n",
              "      <td>45.8</td>\n",
              "      <td>6.0622</td>\n",
              "      <td>3</td>\n",
              "      <td>222</td>\n",
              "      <td>18.7</td>\n",
              "      <td>394.63</td>\n",
              "      <td>2.94</td>\n",
              "      <td>33.4</td>\n",
              "    </tr>\n",
              "    <tr>\n",
              "      <th>4</th>\n",
              "      <td>5</td>\n",
              "      <td>0.06905</td>\n",
              "      <td>0.0</td>\n",
              "      <td>2.18</td>\n",
              "      <td>0</td>\n",
              "      <td>0.458</td>\n",
              "      <td>7.147</td>\n",
              "      <td>54.2</td>\n",
              "      <td>6.0622</td>\n",
              "      <td>3</td>\n",
              "      <td>222</td>\n",
              "      <td>18.7</td>\n",
              "      <td>396.90</td>\n",
              "      <td>5.33</td>\n",
              "      <td>36.2</td>\n",
              "    </tr>\n",
              "  </tbody>\n",
              "</table>\n",
              "</div>"
            ],
            "text/plain": [
              "   Unnamed: 0     crim    zn  indus  chas  ...  tax  ptratio   black  lstat  medv\n",
              "0           1  0.00632  18.0   2.31     0  ...  296     15.3  396.90   4.98  24.0\n",
              "1           2  0.02731   0.0   7.07     0  ...  242     17.8  396.90   9.14  21.6\n",
              "2           3  0.02729   0.0   7.07     0  ...  242     17.8  392.83   4.03  34.7\n",
              "3           4  0.03237   0.0   2.18     0  ...  222     18.7  394.63   2.94  33.4\n",
              "4           5  0.06905   0.0   2.18     0  ...  222     18.7  396.90   5.33  36.2\n",
              "\n",
              "[5 rows x 15 columns]"
            ]
          },
          "metadata": {
            "tags": []
          },
          "execution_count": 313
        }
      ]
    },
    {
      "cell_type": "code",
      "metadata": {
        "id": "WFlfhoLOZKcg",
        "colab_type": "code",
        "colab": {}
      },
      "source": [
        "df=df.drop('Unnamed: 0',axis=1)"
      ],
      "execution_count": 0,
      "outputs": []
    },
    {
      "cell_type": "markdown",
      "metadata": {
        "id": "C08p9NZwkGkV",
        "colab_type": "text"
      },
      "source": [
        "# Train and scale features"
      ]
    },
    {
      "cell_type": "code",
      "metadata": {
        "id": "OMUaab_NYwy-",
        "colab_type": "code",
        "colab": {}
      },
      "source": [
        "#.values because of the validation data\n",
        "X=df.drop('medv',axis=1).values\n",
        "y=df['medv'].values"
      ],
      "execution_count": 0,
      "outputs": []
    },
    {
      "cell_type": "code",
      "metadata": {
        "id": "vi5mcng0YyrL",
        "colab_type": "code",
        "colab": {}
      },
      "source": [
        "X_train,X_test,y_train,y_test=train_test_split(X,y,test_size=0.2,random_state=0)"
      ],
      "execution_count": 0,
      "outputs": []
    },
    {
      "cell_type": "code",
      "metadata": {
        "id": "_Qi7rtdyY4Mb",
        "colab_type": "code",
        "colab": {}
      },
      "source": [
        "scaler=MinMaxScaler()\n",
        "X_train=scaler.fit_transform(X_train)\n",
        "X_test=scaler.transform(X_test)"
      ],
      "execution_count": 0,
      "outputs": []
    },
    {
      "cell_type": "markdown",
      "metadata": {
        "id": "lRRqLwKSg0y-",
        "colab_type": "text"
      },
      "source": [
        "# Model with early stopping and dropout layer"
      ]
    },
    {
      "cell_type": "code",
      "metadata": {
        "id": "lhpErFAFY543",
        "colab_type": "code",
        "colab": {}
      },
      "source": [
        "model=Sequential()\n",
        "\n",
        "model.add(Dense(256, activation='relu'))\n",
        "model.add(Dropout(0.2))\n",
        "model.add(Dense(128, activation='relu'))\n",
        "model.add(Dropout(0.2))\n",
        "model.add(Dense(64, activation='relu'))\n",
        "model.add(Dropout(0.2))\n",
        "model.add(Dense(1))\n",
        "\n",
        "model.compile(optimizer='adam',loss='mse')"
      ],
      "execution_count": 0,
      "outputs": []
    },
    {
      "cell_type": "code",
      "metadata": {
        "id": "_Wr2FpZ0Zjjp",
        "colab_type": "code",
        "colab": {
          "base_uri": "https://localhost:8080/",
          "height": 34
        },
        "outputId": "11fc3ca1-c303-4212-98e7-55ea1f1a44c9"
      },
      "source": [
        "X_test.shape"
      ],
      "execution_count": 319,
      "outputs": [
        {
          "output_type": "execute_result",
          "data": {
            "text/plain": [
              "(102, 13)"
            ]
          },
          "metadata": {
            "tags": []
          },
          "execution_count": 319
        }
      ]
    },
    {
      "cell_type": "code",
      "metadata": {
        "id": "efW6LTTmfvgK",
        "colab_type": "code",
        "colab": {}
      },
      "source": [
        "early_stop=EarlyStopping(monitor='val_loss',mode='min',verbose=1,patience=25)"
      ],
      "execution_count": 0,
      "outputs": []
    },
    {
      "cell_type": "code",
      "metadata": {
        "id": "moHiPoa-ZW3c",
        "colab_type": "code",
        "colab": {
          "base_uri": "https://localhost:8080/",
          "height": 1000
        },
        "outputId": "8dd44835-0ee2-4f4d-a84a-03a6fe6840d9"
      },
      "source": [
        "# also pass Validation Data -> after every epoch on trainning in the training data, it runs on the test data anc check the loss on the test data\n",
        "# because of the size of trainning data, lets use batch sizes\n",
        "model.fit(x=X_train,y=y_train,validation_data=(X_test,y_test),Callbacks=[early_stop],epochs=700)"
      ],
      "execution_count": 321,
      "outputs": [
        {
          "output_type": "stream",
          "text": [
            "Epoch 1/700\n",
            "13/13 [==============================] - 0s 8ms/step - loss: 557.7056 - val_loss: 447.0182\n",
            "Epoch 2/700\n",
            "13/13 [==============================] - 0s 5ms/step - loss: 380.2963 - val_loss: 177.4977\n",
            "Epoch 3/700\n",
            "13/13 [==============================] - 0s 4ms/step - loss: 163.7591 - val_loss: 104.3793\n",
            "Epoch 4/700\n",
            "13/13 [==============================] - 0s 4ms/step - loss: 106.9594 - val_loss: 69.9776\n",
            "Epoch 5/700\n",
            "13/13 [==============================] - 0s 5ms/step - loss: 85.4406 - val_loss: 57.0985\n",
            "Epoch 6/700\n",
            "13/13 [==============================] - 0s 5ms/step - loss: 60.4901 - val_loss: 57.6149\n",
            "Epoch 7/700\n",
            "13/13 [==============================] - 0s 4ms/step - loss: 50.6007 - val_loss: 60.0977\n",
            "Epoch 8/700\n",
            "13/13 [==============================] - 0s 6ms/step - loss: 52.2806 - val_loss: 54.3323\n",
            "Epoch 9/700\n",
            "13/13 [==============================] - 0s 5ms/step - loss: 47.8692 - val_loss: 48.2167\n",
            "Epoch 10/700\n",
            "13/13 [==============================] - 0s 4ms/step - loss: 38.5232 - val_loss: 43.3574\n",
            "Epoch 11/700\n",
            "13/13 [==============================] - 0s 4ms/step - loss: 34.6825 - val_loss: 39.7424\n",
            "Epoch 12/700\n",
            "13/13 [==============================] - 0s 4ms/step - loss: 30.2895 - val_loss: 39.0565\n",
            "Epoch 13/700\n",
            "13/13 [==============================] - 0s 4ms/step - loss: 29.3715 - val_loss: 36.7587\n",
            "Epoch 14/700\n",
            "13/13 [==============================] - 0s 4ms/step - loss: 31.3123 - val_loss: 32.1870\n",
            "Epoch 15/700\n",
            "13/13 [==============================] - 0s 5ms/step - loss: 27.8898 - val_loss: 31.0301\n",
            "Epoch 16/700\n",
            "13/13 [==============================] - 0s 5ms/step - loss: 26.0524 - val_loss: 31.9430\n",
            "Epoch 17/700\n",
            "13/13 [==============================] - 0s 5ms/step - loss: 26.9970 - val_loss: 31.3437\n",
            "Epoch 18/700\n",
            "13/13 [==============================] - 0s 5ms/step - loss: 24.3942 - val_loss: 29.2245\n",
            "Epoch 19/700\n",
            "13/13 [==============================] - 0s 5ms/step - loss: 24.6096 - val_loss: 27.6537\n",
            "Epoch 20/700\n",
            "13/13 [==============================] - 0s 5ms/step - loss: 27.0830 - val_loss: 26.8868\n",
            "Epoch 21/700\n",
            "13/13 [==============================] - 0s 5ms/step - loss: 22.2074 - val_loss: 25.8842\n",
            "Epoch 22/700\n",
            "13/13 [==============================] - 0s 4ms/step - loss: 22.5701 - val_loss: 26.1948\n",
            "Epoch 23/700\n",
            "13/13 [==============================] - 0s 5ms/step - loss: 23.7824 - val_loss: 26.0338\n",
            "Epoch 24/700\n",
            "13/13 [==============================] - 0s 4ms/step - loss: 24.0427 - val_loss: 26.2361\n",
            "Epoch 25/700\n",
            "13/13 [==============================] - 0s 5ms/step - loss: 23.5476 - val_loss: 27.2217\n",
            "Epoch 26/700\n",
            "13/13 [==============================] - 0s 5ms/step - loss: 23.2801 - val_loss: 24.5057\n",
            "Epoch 27/700\n",
            "13/13 [==============================] - 0s 5ms/step - loss: 22.1877 - val_loss: 24.3506\n",
            "Epoch 28/700\n",
            "13/13 [==============================] - 0s 4ms/step - loss: 21.5571 - val_loss: 23.7615\n",
            "Epoch 29/700\n",
            "13/13 [==============================] - 0s 5ms/step - loss: 24.0779 - val_loss: 25.4274\n",
            "Epoch 30/700\n",
            "13/13 [==============================] - 0s 4ms/step - loss: 21.9309 - val_loss: 31.1242\n",
            "Epoch 31/700\n",
            "13/13 [==============================] - 0s 4ms/step - loss: 22.1953 - val_loss: 24.9819\n",
            "Epoch 32/700\n",
            "13/13 [==============================] - 0s 4ms/step - loss: 22.0953 - val_loss: 22.7742\n",
            "Epoch 33/700\n",
            "13/13 [==============================] - 0s 4ms/step - loss: 18.8208 - val_loss: 24.2413\n",
            "Epoch 34/700\n",
            "13/13 [==============================] - 0s 4ms/step - loss: 20.9100 - val_loss: 22.6394\n",
            "Epoch 35/700\n",
            "13/13 [==============================] - 0s 5ms/step - loss: 22.4153 - val_loss: 22.2637\n",
            "Epoch 36/700\n",
            "13/13 [==============================] - 0s 5ms/step - loss: 18.9109 - val_loss: 23.4530\n",
            "Epoch 37/700\n",
            "13/13 [==============================] - 0s 4ms/step - loss: 18.5327 - val_loss: 27.9562\n",
            "Epoch 38/700\n",
            "13/13 [==============================] - 0s 5ms/step - loss: 22.1981 - val_loss: 23.8334\n",
            "Epoch 39/700\n",
            "13/13 [==============================] - 0s 5ms/step - loss: 18.6330 - val_loss: 20.6194\n",
            "Epoch 40/700\n",
            "13/13 [==============================] - 0s 5ms/step - loss: 20.7135 - val_loss: 22.7798\n",
            "Epoch 41/700\n",
            "13/13 [==============================] - 0s 4ms/step - loss: 20.0859 - val_loss: 21.3618\n",
            "Epoch 42/700\n",
            "13/13 [==============================] - 0s 5ms/step - loss: 19.3307 - val_loss: 22.2036\n",
            "Epoch 43/700\n",
            "13/13 [==============================] - 0s 5ms/step - loss: 17.0660 - val_loss: 21.9731\n",
            "Epoch 44/700\n",
            "13/13 [==============================] - 0s 5ms/step - loss: 15.0855 - val_loss: 22.4444\n",
            "Epoch 45/700\n",
            "13/13 [==============================] - 0s 4ms/step - loss: 20.2496 - val_loss: 27.8907\n",
            "Epoch 46/700\n",
            "13/13 [==============================] - 0s 5ms/step - loss: 21.0674 - val_loss: 19.7104\n",
            "Epoch 47/700\n",
            "13/13 [==============================] - 0s 5ms/step - loss: 15.9000 - val_loss: 20.0076\n",
            "Epoch 48/700\n",
            "13/13 [==============================] - 0s 5ms/step - loss: 18.8038 - val_loss: 20.7343\n",
            "Epoch 49/700\n",
            "13/13 [==============================] - 0s 4ms/step - loss: 20.1642 - val_loss: 22.8118\n",
            "Epoch 50/700\n",
            "13/13 [==============================] - 0s 4ms/step - loss: 18.4935 - val_loss: 19.8379\n",
            "Epoch 51/700\n",
            "13/13 [==============================] - 0s 4ms/step - loss: 17.3457 - val_loss: 19.7924\n",
            "Epoch 52/700\n",
            "13/13 [==============================] - 0s 5ms/step - loss: 15.8997 - val_loss: 20.0556\n",
            "Epoch 53/700\n",
            "13/13 [==============================] - 0s 5ms/step - loss: 17.9095 - val_loss: 19.8790\n",
            "Epoch 54/700\n",
            "13/13 [==============================] - 0s 4ms/step - loss: 17.0482 - val_loss: 19.7045\n",
            "Epoch 55/700\n",
            "13/13 [==============================] - 0s 5ms/step - loss: 17.0190 - val_loss: 20.9198\n",
            "Epoch 56/700\n",
            "13/13 [==============================] - 0s 5ms/step - loss: 18.5062 - val_loss: 18.5857\n",
            "Epoch 57/700\n",
            "13/13 [==============================] - 0s 4ms/step - loss: 16.4317 - val_loss: 20.1264\n",
            "Epoch 58/700\n",
            "13/13 [==============================] - 0s 4ms/step - loss: 16.7211 - val_loss: 25.2115\n",
            "Epoch 59/700\n",
            "13/13 [==============================] - 0s 5ms/step - loss: 15.5000 - val_loss: 22.5982\n",
            "Epoch 60/700\n",
            "13/13 [==============================] - 0s 4ms/step - loss: 17.2323 - val_loss: 22.6777\n",
            "Epoch 61/700\n",
            "13/13 [==============================] - 0s 5ms/step - loss: 17.3630 - val_loss: 20.2692\n",
            "Epoch 62/700\n",
            "13/13 [==============================] - 0s 5ms/step - loss: 14.2028 - val_loss: 18.4462\n",
            "Epoch 63/700\n",
            "13/13 [==============================] - 0s 5ms/step - loss: 16.5559 - val_loss: 17.5829\n",
            "Epoch 64/700\n",
            "13/13 [==============================] - 0s 5ms/step - loss: 16.9568 - val_loss: 18.4093\n",
            "Epoch 65/700\n",
            "13/13 [==============================] - 0s 5ms/step - loss: 18.2084 - val_loss: 17.8674\n",
            "Epoch 66/700\n",
            "13/13 [==============================] - 0s 5ms/step - loss: 13.7505 - val_loss: 19.9825\n",
            "Epoch 67/700\n",
            "13/13 [==============================] - 0s 5ms/step - loss: 16.0208 - val_loss: 18.6327\n",
            "Epoch 68/700\n",
            "13/13 [==============================] - 0s 5ms/step - loss: 15.9392 - val_loss: 22.9978\n",
            "Epoch 69/700\n",
            "13/13 [==============================] - 0s 5ms/step - loss: 16.0845 - val_loss: 23.6796\n",
            "Epoch 70/700\n",
            "13/13 [==============================] - 0s 5ms/step - loss: 18.1129 - val_loss: 20.2205\n",
            "Epoch 71/700\n",
            "13/13 [==============================] - 0s 5ms/step - loss: 15.5207 - val_loss: 19.2757\n",
            "Epoch 72/700\n",
            "13/13 [==============================] - 0s 5ms/step - loss: 14.5333 - val_loss: 18.6863\n",
            "Epoch 73/700\n",
            "13/13 [==============================] - 0s 5ms/step - loss: 17.1820 - val_loss: 18.0967\n",
            "Epoch 74/700\n",
            "13/13 [==============================] - 0s 5ms/step - loss: 14.3645 - val_loss: 17.3021\n",
            "Epoch 75/700\n",
            "13/13 [==============================] - 0s 4ms/step - loss: 14.3561 - val_loss: 17.5608\n",
            "Epoch 76/700\n",
            "13/13 [==============================] - 0s 5ms/step - loss: 13.9649 - val_loss: 17.7360\n",
            "Epoch 77/700\n",
            "13/13 [==============================] - 0s 5ms/step - loss: 13.9785 - val_loss: 18.5723\n",
            "Epoch 78/700\n",
            "13/13 [==============================] - 0s 4ms/step - loss: 13.8659 - val_loss: 22.4075\n",
            "Epoch 79/700\n",
            "13/13 [==============================] - 0s 4ms/step - loss: 15.6352 - val_loss: 18.2188\n",
            "Epoch 80/700\n",
            "13/13 [==============================] - 0s 5ms/step - loss: 15.3647 - val_loss: 18.6701\n",
            "Epoch 81/700\n",
            "13/13 [==============================] - 0s 5ms/step - loss: 14.3404 - val_loss: 18.1009\n",
            "Epoch 82/700\n",
            "13/13 [==============================] - 0s 4ms/step - loss: 15.1871 - val_loss: 16.5123\n",
            "Epoch 83/700\n",
            "13/13 [==============================] - 0s 5ms/step - loss: 16.3716 - val_loss: 18.7687\n",
            "Epoch 84/700\n",
            "13/13 [==============================] - 0s 4ms/step - loss: 13.8951 - val_loss: 18.6476\n",
            "Epoch 85/700\n",
            "13/13 [==============================] - 0s 5ms/step - loss: 15.0000 - val_loss: 17.1711\n",
            "Epoch 86/700\n",
            "13/13 [==============================] - 0s 5ms/step - loss: 14.4389 - val_loss: 18.4577\n",
            "Epoch 87/700\n",
            "13/13 [==============================] - 0s 4ms/step - loss: 16.4128 - val_loss: 16.7493\n",
            "Epoch 88/700\n",
            "13/13 [==============================] - 0s 5ms/step - loss: 12.6655 - val_loss: 19.7797\n",
            "Epoch 89/700\n",
            "13/13 [==============================] - 0s 5ms/step - loss: 15.1908 - val_loss: 17.5094\n",
            "Epoch 90/700\n",
            "13/13 [==============================] - 0s 4ms/step - loss: 14.0915 - val_loss: 16.8236\n",
            "Epoch 91/700\n",
            "13/13 [==============================] - 0s 5ms/step - loss: 10.9776 - val_loss: 18.4848\n",
            "Epoch 92/700\n",
            "13/13 [==============================] - 0s 4ms/step - loss: 13.8528 - val_loss: 16.9497\n",
            "Epoch 93/700\n",
            "13/13 [==============================] - 0s 5ms/step - loss: 13.4537 - val_loss: 18.0575\n",
            "Epoch 94/700\n",
            "13/13 [==============================] - 0s 5ms/step - loss: 14.8037 - val_loss: 19.0700\n",
            "Epoch 95/700\n",
            "13/13 [==============================] - 0s 5ms/step - loss: 14.8841 - val_loss: 17.3278\n",
            "Epoch 96/700\n",
            "13/13 [==============================] - 0s 5ms/step - loss: 13.4012 - val_loss: 16.8260\n",
            "Epoch 97/700\n",
            "13/13 [==============================] - 0s 5ms/step - loss: 14.0601 - val_loss: 18.4706\n",
            "Epoch 98/700\n",
            "13/13 [==============================] - 0s 5ms/step - loss: 14.3560 - val_loss: 15.3471\n",
            "Epoch 99/700\n",
            "13/13 [==============================] - 0s 5ms/step - loss: 14.6202 - val_loss: 17.6409\n",
            "Epoch 100/700\n",
            "13/13 [==============================] - 0s 5ms/step - loss: 13.5541 - val_loss: 16.7749\n",
            "Epoch 101/700\n",
            "13/13 [==============================] - 0s 5ms/step - loss: 13.8491 - val_loss: 18.0845\n",
            "Epoch 102/700\n",
            "13/13 [==============================] - 0s 5ms/step - loss: 13.4300 - val_loss: 20.6295\n",
            "Epoch 103/700\n",
            "13/13 [==============================] - 0s 5ms/step - loss: 13.9185 - val_loss: 19.1974\n",
            "Epoch 104/700\n",
            "13/13 [==============================] - 0s 4ms/step - loss: 13.1883 - val_loss: 16.3357\n",
            "Epoch 105/700\n",
            "13/13 [==============================] - 0s 4ms/step - loss: 13.9913 - val_loss: 18.0394\n",
            "Epoch 106/700\n",
            "13/13 [==============================] - 0s 4ms/step - loss: 13.1370 - val_loss: 16.7052\n",
            "Epoch 107/700\n",
            "13/13 [==============================] - 0s 5ms/step - loss: 13.6110 - val_loss: 15.2297\n",
            "Epoch 108/700\n",
            "13/13 [==============================] - 0s 5ms/step - loss: 11.8561 - val_loss: 16.6035\n",
            "Epoch 109/700\n",
            "13/13 [==============================] - 0s 5ms/step - loss: 14.8152 - val_loss: 17.0318\n",
            "Epoch 110/700\n",
            "13/13 [==============================] - 0s 5ms/step - loss: 14.9927 - val_loss: 17.0483\n",
            "Epoch 111/700\n",
            "13/13 [==============================] - 0s 5ms/step - loss: 12.1173 - val_loss: 16.3692\n",
            "Epoch 112/700\n",
            "13/13 [==============================] - 0s 4ms/step - loss: 12.1069 - val_loss: 19.2053\n",
            "Epoch 113/700\n",
            "13/13 [==============================] - 0s 5ms/step - loss: 14.4788 - val_loss: 16.8044\n",
            "Epoch 114/700\n",
            "13/13 [==============================] - 0s 5ms/step - loss: 13.3871 - val_loss: 19.6315\n",
            "Epoch 115/700\n",
            "13/13 [==============================] - 0s 5ms/step - loss: 12.4546 - val_loss: 17.5323\n",
            "Epoch 116/700\n",
            "13/13 [==============================] - 0s 5ms/step - loss: 14.7650 - val_loss: 16.2141\n",
            "Epoch 117/700\n",
            "13/13 [==============================] - 0s 5ms/step - loss: 10.9191 - val_loss: 15.8433\n",
            "Epoch 118/700\n",
            "13/13 [==============================] - 0s 5ms/step - loss: 13.4955 - val_loss: 17.7390\n",
            "Epoch 119/700\n",
            "13/13 [==============================] - 0s 4ms/step - loss: 11.8852 - val_loss: 17.5392\n",
            "Epoch 120/700\n",
            "13/13 [==============================] - 0s 4ms/step - loss: 12.7388 - val_loss: 16.3530\n",
            "Epoch 121/700\n",
            "13/13 [==============================] - 0s 5ms/step - loss: 13.2090 - val_loss: 15.0713\n",
            "Epoch 122/700\n",
            "13/13 [==============================] - 0s 5ms/step - loss: 12.9691 - val_loss: 17.8116\n",
            "Epoch 123/700\n",
            "13/13 [==============================] - 0s 5ms/step - loss: 14.2149 - val_loss: 17.5090\n",
            "Epoch 124/700\n",
            "13/13 [==============================] - 0s 4ms/step - loss: 12.0243 - val_loss: 17.2957\n",
            "Epoch 125/700\n",
            "13/13 [==============================] - 0s 5ms/step - loss: 13.4213 - val_loss: 16.7532\n",
            "Epoch 126/700\n",
            "13/13 [==============================] - 0s 5ms/step - loss: 12.4328 - val_loss: 20.2133\n",
            "Epoch 127/700\n",
            "13/13 [==============================] - 0s 5ms/step - loss: 12.9453 - val_loss: 16.9864\n",
            "Epoch 128/700\n",
            "13/13 [==============================] - 0s 5ms/step - loss: 12.7385 - val_loss: 19.1510\n",
            "Epoch 129/700\n",
            "13/13 [==============================] - 0s 4ms/step - loss: 13.8820 - val_loss: 16.5165\n",
            "Epoch 130/700\n",
            "13/13 [==============================] - 0s 5ms/step - loss: 10.2366 - val_loss: 17.3930\n",
            "Epoch 131/700\n",
            "13/13 [==============================] - 0s 5ms/step - loss: 13.6203 - val_loss: 16.3388\n",
            "Epoch 132/700\n",
            "13/13 [==============================] - 0s 5ms/step - loss: 12.1996 - val_loss: 17.8288\n",
            "Epoch 133/700\n",
            "13/13 [==============================] - 0s 4ms/step - loss: 12.0259 - val_loss: 21.9348\n",
            "Epoch 134/700\n",
            "13/13 [==============================] - 0s 5ms/step - loss: 12.3352 - val_loss: 21.4194\n",
            "Epoch 135/700\n",
            "13/13 [==============================] - 0s 5ms/step - loss: 13.0045 - val_loss: 18.1054\n",
            "Epoch 136/700\n",
            "13/13 [==============================] - 0s 5ms/step - loss: 13.3187 - val_loss: 17.0485\n",
            "Epoch 137/700\n",
            "13/13 [==============================] - 0s 5ms/step - loss: 12.0690 - val_loss: 17.8515\n",
            "Epoch 138/700\n",
            "13/13 [==============================] - 0s 5ms/step - loss: 14.3034 - val_loss: 17.3435\n",
            "Epoch 139/700\n",
            "13/13 [==============================] - 0s 5ms/step - loss: 12.6184 - val_loss: 16.2321\n",
            "Epoch 140/700\n",
            "13/13 [==============================] - 0s 5ms/step - loss: 12.4174 - val_loss: 17.4148\n",
            "Epoch 141/700\n",
            "13/13 [==============================] - 0s 5ms/step - loss: 13.7451 - val_loss: 16.4636\n",
            "Epoch 142/700\n",
            "13/13 [==============================] - 0s 5ms/step - loss: 11.2916 - val_loss: 17.6732\n",
            "Epoch 143/700\n",
            "13/13 [==============================] - 0s 5ms/step - loss: 11.5775 - val_loss: 17.9817\n",
            "Epoch 144/700\n",
            "13/13 [==============================] - 0s 5ms/step - loss: 11.2008 - val_loss: 16.7588\n",
            "Epoch 145/700\n",
            "13/13 [==============================] - 0s 5ms/step - loss: 12.4346 - val_loss: 16.4044\n",
            "Epoch 146/700\n",
            "13/13 [==============================] - 0s 5ms/step - loss: 11.0119 - val_loss: 16.6214\n",
            "Epoch 147/700\n",
            "13/13 [==============================] - 0s 5ms/step - loss: 11.3262 - val_loss: 19.3607\n",
            "Epoch 148/700\n",
            "13/13 [==============================] - 0s 4ms/step - loss: 11.6982 - val_loss: 16.4358\n",
            "Epoch 149/700\n",
            "13/13 [==============================] - 0s 5ms/step - loss: 11.9269 - val_loss: 16.0465\n",
            "Epoch 150/700\n",
            "13/13 [==============================] - 0s 4ms/step - loss: 11.6640 - val_loss: 15.6883\n",
            "Epoch 151/700\n",
            "13/13 [==============================] - 0s 4ms/step - loss: 12.0472 - val_loss: 16.6873\n",
            "Epoch 152/700\n",
            "13/13 [==============================] - 0s 4ms/step - loss: 11.4212 - val_loss: 16.2333\n",
            "Epoch 153/700\n",
            "13/13 [==============================] - 0s 4ms/step - loss: 12.4072 - val_loss: 20.1469\n",
            "Epoch 154/700\n",
            "13/13 [==============================] - 0s 4ms/step - loss: 11.4795 - val_loss: 17.7171\n",
            "Epoch 155/700\n",
            "13/13 [==============================] - 0s 4ms/step - loss: 12.0483 - val_loss: 17.9094\n",
            "Epoch 156/700\n",
            "13/13 [==============================] - 0s 4ms/step - loss: 11.5299 - val_loss: 17.6560\n",
            "Epoch 157/700\n",
            "13/13 [==============================] - 0s 5ms/step - loss: 12.1099 - val_loss: 17.3545\n",
            "Epoch 158/700\n",
            "13/13 [==============================] - 0s 5ms/step - loss: 12.0514 - val_loss: 18.3694\n",
            "Epoch 159/700\n",
            "13/13 [==============================] - 0s 5ms/step - loss: 11.9358 - val_loss: 17.1016\n",
            "Epoch 160/700\n",
            "13/13 [==============================] - 0s 4ms/step - loss: 12.5217 - val_loss: 18.0622\n",
            "Epoch 161/700\n",
            "13/13 [==============================] - 0s 5ms/step - loss: 10.7323 - val_loss: 16.4893\n",
            "Epoch 162/700\n",
            "13/13 [==============================] - 0s 5ms/step - loss: 10.1232 - val_loss: 17.5236\n",
            "Epoch 163/700\n",
            "13/13 [==============================] - 0s 5ms/step - loss: 10.8697 - val_loss: 17.1988\n",
            "Epoch 164/700\n",
            "13/13 [==============================] - 0s 5ms/step - loss: 11.2773 - val_loss: 17.4111\n",
            "Epoch 165/700\n",
            "13/13 [==============================] - 0s 5ms/step - loss: 12.2081 - val_loss: 18.3784\n",
            "Epoch 166/700\n",
            "13/13 [==============================] - 0s 5ms/step - loss: 10.4018 - val_loss: 16.9422\n",
            "Epoch 167/700\n",
            "13/13 [==============================] - 0s 4ms/step - loss: 12.2334 - val_loss: 17.7220\n",
            "Epoch 168/700\n",
            "13/13 [==============================] - 0s 5ms/step - loss: 12.0484 - val_loss: 17.9467\n",
            "Epoch 169/700\n",
            "13/13 [==============================] - 0s 4ms/step - loss: 12.5410 - val_loss: 18.0330\n",
            "Epoch 170/700\n",
            "13/13 [==============================] - 0s 4ms/step - loss: 11.6675 - val_loss: 17.5662\n",
            "Epoch 171/700\n",
            "13/13 [==============================] - 0s 5ms/step - loss: 12.5275 - val_loss: 20.3238\n",
            "Epoch 172/700\n",
            "13/13 [==============================] - 0s 5ms/step - loss: 11.9073 - val_loss: 18.2272\n",
            "Epoch 173/700\n",
            "13/13 [==============================] - 0s 5ms/step - loss: 13.1556 - val_loss: 18.0661\n",
            "Epoch 174/700\n",
            "13/13 [==============================] - 0s 5ms/step - loss: 9.4220 - val_loss: 18.3801\n",
            "Epoch 175/700\n",
            "13/13 [==============================] - 0s 4ms/step - loss: 12.4854 - val_loss: 17.9706\n",
            "Epoch 176/700\n",
            "13/13 [==============================] - 0s 5ms/step - loss: 10.9577 - val_loss: 16.7993\n",
            "Epoch 177/700\n",
            "13/13 [==============================] - 0s 5ms/step - loss: 11.2529 - val_loss: 21.2169\n",
            "Epoch 178/700\n",
            "13/13 [==============================] - 0s 5ms/step - loss: 13.7868 - val_loss: 19.0120\n",
            "Epoch 179/700\n",
            "13/13 [==============================] - 0s 4ms/step - loss: 12.9111 - val_loss: 16.1439\n",
            "Epoch 180/700\n",
            "13/13 [==============================] - 0s 4ms/step - loss: 11.2922 - val_loss: 16.7631\n",
            "Epoch 181/700\n",
            "13/13 [==============================] - 0s 5ms/step - loss: 12.8669 - val_loss: 17.2468\n",
            "Epoch 182/700\n",
            "13/13 [==============================] - 0s 4ms/step - loss: 11.2524 - val_loss: 16.2603\n",
            "Epoch 183/700\n",
            "13/13 [==============================] - 0s 4ms/step - loss: 9.8402 - val_loss: 16.6846\n",
            "Epoch 184/700\n",
            "13/13 [==============================] - 0s 4ms/step - loss: 10.0619 - val_loss: 15.5844\n",
            "Epoch 185/700\n",
            "13/13 [==============================] - 0s 4ms/step - loss: 10.3736 - val_loss: 18.7194\n",
            "Epoch 186/700\n",
            "13/13 [==============================] - 0s 4ms/step - loss: 9.8658 - val_loss: 17.3158\n",
            "Epoch 187/700\n",
            "13/13 [==============================] - 0s 5ms/step - loss: 11.6483 - val_loss: 16.8136\n",
            "Epoch 188/700\n",
            "13/13 [==============================] - 0s 5ms/step - loss: 11.2784 - val_loss: 20.0019\n",
            "Epoch 189/700\n",
            "13/13 [==============================] - 0s 5ms/step - loss: 11.6493 - val_loss: 19.0429\n",
            "Epoch 190/700\n",
            "13/13 [==============================] - 0s 5ms/step - loss: 10.4862 - val_loss: 21.4104\n",
            "Epoch 191/700\n",
            "13/13 [==============================] - 0s 5ms/step - loss: 11.2996 - val_loss: 19.8012\n",
            "Epoch 192/700\n",
            "13/13 [==============================] - 0s 5ms/step - loss: 10.3078 - val_loss: 16.4521\n",
            "Epoch 193/700\n",
            "13/13 [==============================] - 0s 5ms/step - loss: 11.7908 - val_loss: 16.4733\n",
            "Epoch 194/700\n",
            "13/13 [==============================] - 0s 5ms/step - loss: 10.5938 - val_loss: 16.3424\n",
            "Epoch 195/700\n",
            "13/13 [==============================] - 0s 4ms/step - loss: 9.6282 - val_loss: 17.5448\n",
            "Epoch 196/700\n",
            "13/13 [==============================] - 0s 6ms/step - loss: 11.9865 - val_loss: 17.4882\n",
            "Epoch 197/700\n",
            "13/13 [==============================] - 0s 5ms/step - loss: 12.2473 - val_loss: 17.4552\n",
            "Epoch 198/700\n",
            "13/13 [==============================] - 0s 4ms/step - loss: 10.3147 - val_loss: 18.0502\n",
            "Epoch 199/700\n",
            "13/13 [==============================] - 0s 5ms/step - loss: 10.2094 - val_loss: 17.7093\n",
            "Epoch 200/700\n",
            "13/13 [==============================] - 0s 4ms/step - loss: 9.4985 - val_loss: 18.5809\n",
            "Epoch 201/700\n",
            "13/13 [==============================] - 0s 4ms/step - loss: 12.1659 - val_loss: 20.4828\n",
            "Epoch 202/700\n",
            "13/13 [==============================] - 0s 5ms/step - loss: 11.4801 - val_loss: 21.8580\n",
            "Epoch 203/700\n",
            "13/13 [==============================] - 0s 5ms/step - loss: 12.3999 - val_loss: 16.9880\n",
            "Epoch 204/700\n",
            "13/13 [==============================] - 0s 5ms/step - loss: 11.3539 - val_loss: 17.8699\n",
            "Epoch 205/700\n",
            "13/13 [==============================] - 0s 4ms/step - loss: 11.3400 - val_loss: 16.9503\n",
            "Epoch 206/700\n",
            "13/13 [==============================] - 0s 5ms/step - loss: 11.2748 - val_loss: 16.7560\n",
            "Epoch 207/700\n",
            "13/13 [==============================] - 0s 4ms/step - loss: 12.5128 - val_loss: 16.7310\n",
            "Epoch 208/700\n",
            "13/13 [==============================] - 0s 5ms/step - loss: 11.7322 - val_loss: 16.7725\n",
            "Epoch 209/700\n",
            "13/13 [==============================] - 0s 5ms/step - loss: 10.1350 - val_loss: 18.5459\n",
            "Epoch 210/700\n",
            "13/13 [==============================] - 0s 5ms/step - loss: 10.9992 - val_loss: 15.2192\n",
            "Epoch 211/700\n",
            "13/13 [==============================] - 0s 4ms/step - loss: 12.6199 - val_loss: 14.2752\n",
            "Epoch 212/700\n",
            "13/13 [==============================] - 0s 4ms/step - loss: 9.5783 - val_loss: 18.7380\n",
            "Epoch 213/700\n",
            "13/13 [==============================] - 0s 5ms/step - loss: 10.6404 - val_loss: 16.5234\n",
            "Epoch 214/700\n",
            "13/13 [==============================] - 0s 5ms/step - loss: 10.8170 - val_loss: 16.9860\n",
            "Epoch 215/700\n",
            "13/13 [==============================] - 0s 5ms/step - loss: 10.7892 - val_loss: 15.4571\n",
            "Epoch 216/700\n",
            "13/13 [==============================] - 0s 4ms/step - loss: 12.5461 - val_loss: 15.0067\n",
            "Epoch 217/700\n",
            "13/13 [==============================] - 0s 5ms/step - loss: 9.3589 - val_loss: 19.2035\n",
            "Epoch 218/700\n",
            "13/13 [==============================] - 0s 5ms/step - loss: 10.9534 - val_loss: 15.9154\n",
            "Epoch 219/700\n",
            "13/13 [==============================] - 0s 5ms/step - loss: 11.9214 - val_loss: 16.5123\n",
            "Epoch 220/700\n",
            "13/13 [==============================] - 0s 5ms/step - loss: 11.9447 - val_loss: 18.8734\n",
            "Epoch 221/700\n",
            "13/13 [==============================] - 0s 5ms/step - loss: 10.9101 - val_loss: 20.2873\n",
            "Epoch 222/700\n",
            "13/13 [==============================] - 0s 4ms/step - loss: 10.7417 - val_loss: 16.5430\n",
            "Epoch 223/700\n",
            "13/13 [==============================] - 0s 5ms/step - loss: 9.8846 - val_loss: 17.5163\n",
            "Epoch 224/700\n",
            "13/13 [==============================] - 0s 4ms/step - loss: 10.6097 - val_loss: 16.7070\n",
            "Epoch 225/700\n",
            "13/13 [==============================] - 0s 5ms/step - loss: 10.5683 - val_loss: 16.2123\n",
            "Epoch 226/700\n",
            "13/13 [==============================] - 0s 4ms/step - loss: 10.4146 - val_loss: 18.1385\n",
            "Epoch 227/700\n",
            "13/13 [==============================] - 0s 4ms/step - loss: 10.6762 - val_loss: 19.3959\n",
            "Epoch 228/700\n",
            "13/13 [==============================] - 0s 4ms/step - loss: 10.8871 - val_loss: 16.3399\n",
            "Epoch 229/700\n",
            "13/13 [==============================] - 0s 4ms/step - loss: 12.1756 - val_loss: 17.2062\n",
            "Epoch 230/700\n",
            "13/13 [==============================] - 0s 4ms/step - loss: 10.7207 - val_loss: 16.4852\n",
            "Epoch 231/700\n",
            "13/13 [==============================] - 0s 5ms/step - loss: 11.3826 - val_loss: 16.2497\n",
            "Epoch 232/700\n",
            "13/13 [==============================] - 0s 4ms/step - loss: 10.9714 - val_loss: 15.8826\n",
            "Epoch 233/700\n",
            "13/13 [==============================] - 0s 5ms/step - loss: 9.6238 - val_loss: 16.7129\n",
            "Epoch 234/700\n",
            "13/13 [==============================] - 0s 5ms/step - loss: 9.4483 - val_loss: 16.8022\n",
            "Epoch 235/700\n",
            "13/13 [==============================] - 0s 5ms/step - loss: 9.0464 - val_loss: 16.8749\n",
            "Epoch 236/700\n",
            "13/13 [==============================] - 0s 4ms/step - loss: 11.6939 - val_loss: 16.0572\n",
            "Epoch 237/700\n",
            "13/13 [==============================] - 0s 5ms/step - loss: 10.8470 - val_loss: 17.1363\n",
            "Epoch 238/700\n",
            "13/13 [==============================] - 0s 5ms/step - loss: 9.1544 - val_loss: 17.3422\n",
            "Epoch 239/700\n",
            "13/13 [==============================] - 0s 5ms/step - loss: 11.0231 - val_loss: 16.7337\n",
            "Epoch 240/700\n",
            "13/13 [==============================] - 0s 4ms/step - loss: 8.5429 - val_loss: 16.4760\n",
            "Epoch 241/700\n",
            "13/13 [==============================] - 0s 4ms/step - loss: 10.2619 - val_loss: 15.0296\n",
            "Epoch 242/700\n",
            "13/13 [==============================] - 0s 5ms/step - loss: 10.7293 - val_loss: 16.4222\n",
            "Epoch 243/700\n",
            "13/13 [==============================] - 0s 5ms/step - loss: 9.3929 - val_loss: 16.9139\n",
            "Epoch 244/700\n",
            "13/13 [==============================] - 0s 5ms/step - loss: 13.0302 - val_loss: 21.7257\n",
            "Epoch 245/700\n",
            "13/13 [==============================] - 0s 5ms/step - loss: 10.4572 - val_loss: 18.6950\n",
            "Epoch 246/700\n",
            "13/13 [==============================] - 0s 5ms/step - loss: 11.6803 - val_loss: 17.8936\n",
            "Epoch 247/700\n",
            "13/13 [==============================] - 0s 5ms/step - loss: 11.0902 - val_loss: 14.5382\n",
            "Epoch 248/700\n",
            "13/13 [==============================] - 0s 5ms/step - loss: 10.8834 - val_loss: 15.6157\n",
            "Epoch 249/700\n",
            "13/13 [==============================] - 0s 4ms/step - loss: 9.9884 - val_loss: 16.6305\n",
            "Epoch 250/700\n",
            "13/13 [==============================] - 0s 4ms/step - loss: 9.9281 - val_loss: 15.8716\n",
            "Epoch 251/700\n",
            "13/13 [==============================] - 0s 5ms/step - loss: 11.2943 - val_loss: 15.8760\n",
            "Epoch 252/700\n",
            "13/13 [==============================] - 0s 4ms/step - loss: 10.4127 - val_loss: 14.4158\n",
            "Epoch 253/700\n",
            "13/13 [==============================] - 0s 5ms/step - loss: 10.8932 - val_loss: 17.6714\n",
            "Epoch 254/700\n",
            "13/13 [==============================] - 0s 5ms/step - loss: 11.4600 - val_loss: 15.3267\n",
            "Epoch 255/700\n",
            "13/13 [==============================] - 0s 4ms/step - loss: 11.2767 - val_loss: 21.0872\n",
            "Epoch 256/700\n",
            "13/13 [==============================] - 0s 5ms/step - loss: 10.7759 - val_loss: 19.1506\n",
            "Epoch 257/700\n",
            "13/13 [==============================] - 0s 5ms/step - loss: 9.2042 - val_loss: 17.1835\n",
            "Epoch 258/700\n",
            "13/13 [==============================] - 0s 4ms/step - loss: 9.8779 - val_loss: 16.7573\n",
            "Epoch 259/700\n",
            "13/13 [==============================] - 0s 4ms/step - loss: 10.3900 - val_loss: 17.3344\n",
            "Epoch 260/700\n",
            "13/13 [==============================] - 0s 5ms/step - loss: 8.9846 - val_loss: 16.5195\n",
            "Epoch 261/700\n",
            "13/13 [==============================] - 0s 4ms/step - loss: 10.4619 - val_loss: 16.1690\n",
            "Epoch 262/700\n",
            "13/13 [==============================] - 0s 5ms/step - loss: 9.3183 - val_loss: 16.4802\n",
            "Epoch 263/700\n",
            "13/13 [==============================] - 0s 6ms/step - loss: 12.0957 - val_loss: 17.1355\n",
            "Epoch 264/700\n",
            "13/13 [==============================] - 0s 4ms/step - loss: 10.0065 - val_loss: 15.4059\n",
            "Epoch 265/700\n",
            "13/13 [==============================] - 0s 5ms/step - loss: 9.7294 - val_loss: 16.0176\n",
            "Epoch 266/700\n",
            "13/13 [==============================] - 0s 4ms/step - loss: 10.5953 - val_loss: 14.6211\n",
            "Epoch 267/700\n",
            "13/13 [==============================] - 0s 5ms/step - loss: 10.2506 - val_loss: 15.2527\n",
            "Epoch 268/700\n",
            "13/13 [==============================] - 0s 4ms/step - loss: 9.1739 - val_loss: 16.7355\n",
            "Epoch 269/700\n",
            "13/13 [==============================] - 0s 5ms/step - loss: 9.2276 - val_loss: 15.7883\n",
            "Epoch 270/700\n",
            "13/13 [==============================] - 0s 5ms/step - loss: 10.0916 - val_loss: 15.1101\n",
            "Epoch 271/700\n",
            "13/13 [==============================] - 0s 4ms/step - loss: 9.4405 - val_loss: 19.6383\n",
            "Epoch 272/700\n",
            "13/13 [==============================] - 0s 5ms/step - loss: 11.5537 - val_loss: 18.1962\n",
            "Epoch 273/700\n",
            "13/13 [==============================] - 0s 4ms/step - loss: 11.6089 - val_loss: 21.3612\n",
            "Epoch 274/700\n",
            "13/13 [==============================] - 0s 5ms/step - loss: 10.2378 - val_loss: 14.9299\n",
            "Epoch 275/700\n",
            "13/13 [==============================] - 0s 4ms/step - loss: 10.3639 - val_loss: 15.9243\n",
            "Epoch 276/700\n",
            "13/13 [==============================] - 0s 4ms/step - loss: 10.2528 - val_loss: 16.9534\n",
            "Epoch 277/700\n",
            "13/13 [==============================] - 0s 4ms/step - loss: 11.6971 - val_loss: 18.3115\n",
            "Epoch 278/700\n",
            "13/13 [==============================] - 0s 5ms/step - loss: 10.4873 - val_loss: 15.7664\n",
            "Epoch 279/700\n",
            "13/13 [==============================] - 0s 5ms/step - loss: 11.9235 - val_loss: 16.7271\n",
            "Epoch 280/700\n",
            "13/13 [==============================] - 0s 4ms/step - loss: 10.5775 - val_loss: 17.3132\n",
            "Epoch 281/700\n",
            "13/13 [==============================] - 0s 4ms/step - loss: 10.1564 - val_loss: 17.7976\n",
            "Epoch 282/700\n",
            "13/13 [==============================] - 0s 5ms/step - loss: 9.1828 - val_loss: 16.9962\n",
            "Epoch 283/700\n",
            "13/13 [==============================] - 0s 5ms/step - loss: 9.7567 - val_loss: 16.5195\n",
            "Epoch 284/700\n",
            "13/13 [==============================] - 0s 4ms/step - loss: 9.4847 - val_loss: 17.9592\n",
            "Epoch 285/700\n",
            "13/13 [==============================] - 0s 4ms/step - loss: 10.3049 - val_loss: 17.1642\n",
            "Epoch 286/700\n",
            "13/13 [==============================] - 0s 5ms/step - loss: 11.0731 - val_loss: 16.2555\n",
            "Epoch 287/700\n",
            "13/13 [==============================] - 0s 5ms/step - loss: 9.4134 - val_loss: 16.6484\n",
            "Epoch 288/700\n",
            "13/13 [==============================] - 0s 5ms/step - loss: 10.1273 - val_loss: 15.9913\n",
            "Epoch 289/700\n",
            "13/13 [==============================] - 0s 5ms/step - loss: 9.6150 - val_loss: 15.6082\n",
            "Epoch 290/700\n",
            "13/13 [==============================] - 0s 5ms/step - loss: 10.9081 - val_loss: 15.6907\n",
            "Epoch 291/700\n",
            "13/13 [==============================] - 0s 5ms/step - loss: 10.8864 - val_loss: 14.4366\n",
            "Epoch 292/700\n",
            "13/13 [==============================] - 0s 5ms/step - loss: 9.6027 - val_loss: 16.7246\n",
            "Epoch 293/700\n",
            "13/13 [==============================] - 0s 5ms/step - loss: 9.0361 - val_loss: 17.4441\n",
            "Epoch 294/700\n",
            "13/13 [==============================] - 0s 5ms/step - loss: 9.1876 - val_loss: 16.1537\n",
            "Epoch 295/700\n",
            "13/13 [==============================] - 0s 5ms/step - loss: 9.2272 - val_loss: 16.9211\n",
            "Epoch 296/700\n",
            "13/13 [==============================] - 0s 5ms/step - loss: 8.3660 - val_loss: 17.1157\n",
            "Epoch 297/700\n",
            "13/13 [==============================] - 0s 5ms/step - loss: 9.6949 - val_loss: 17.0234\n",
            "Epoch 298/700\n",
            "13/13 [==============================] - 0s 5ms/step - loss: 10.5613 - val_loss: 16.6424\n",
            "Epoch 299/700\n",
            "13/13 [==============================] - 0s 4ms/step - loss: 11.0320 - val_loss: 15.0486\n",
            "Epoch 300/700\n",
            "13/13 [==============================] - 0s 4ms/step - loss: 9.9567 - val_loss: 18.1951\n",
            "Epoch 301/700\n",
            "13/13 [==============================] - 0s 6ms/step - loss: 8.8433 - val_loss: 18.6110\n",
            "Epoch 302/700\n",
            "13/13 [==============================] - 0s 5ms/step - loss: 9.5301 - val_loss: 16.6589\n",
            "Epoch 303/700\n",
            "13/13 [==============================] - 0s 5ms/step - loss: 10.4880 - val_loss: 18.5741\n",
            "Epoch 304/700\n",
            "13/13 [==============================] - 0s 4ms/step - loss: 9.5732 - val_loss: 17.8558\n",
            "Epoch 305/700\n",
            "13/13 [==============================] - 0s 4ms/step - loss: 9.8482 - val_loss: 15.7822\n",
            "Epoch 306/700\n",
            "13/13 [==============================] - 0s 5ms/step - loss: 8.6682 - val_loss: 16.1149\n",
            "Epoch 307/700\n",
            "13/13 [==============================] - 0s 5ms/step - loss: 11.6733 - val_loss: 15.9178\n",
            "Epoch 308/700\n",
            "13/13 [==============================] - 0s 5ms/step - loss: 8.7891 - val_loss: 17.9442\n",
            "Epoch 309/700\n",
            "13/13 [==============================] - 0s 4ms/step - loss: 8.5107 - val_loss: 16.7600\n",
            "Epoch 310/700\n",
            "13/13 [==============================] - 0s 5ms/step - loss: 9.6457 - val_loss: 14.7645\n",
            "Epoch 311/700\n",
            "13/13 [==============================] - 0s 4ms/step - loss: 8.5313 - val_loss: 15.4334\n",
            "Epoch 312/700\n",
            "13/13 [==============================] - 0s 5ms/step - loss: 10.3942 - val_loss: 16.6374\n",
            "Epoch 313/700\n",
            "13/13 [==============================] - 0s 5ms/step - loss: 8.7474 - val_loss: 15.4394\n",
            "Epoch 314/700\n",
            "13/13 [==============================] - 0s 5ms/step - loss: 9.9491 - val_loss: 15.5203\n",
            "Epoch 315/700\n",
            "13/13 [==============================] - 0s 5ms/step - loss: 10.9402 - val_loss: 18.6966\n",
            "Epoch 316/700\n",
            "13/13 [==============================] - 0s 5ms/step - loss: 9.1549 - val_loss: 16.3561\n",
            "Epoch 317/700\n",
            "13/13 [==============================] - 0s 5ms/step - loss: 9.3157 - val_loss: 15.4474\n",
            "Epoch 318/700\n",
            "13/13 [==============================] - 0s 5ms/step - loss: 10.5024 - val_loss: 14.1244\n",
            "Epoch 319/700\n",
            "13/13 [==============================] - 0s 5ms/step - loss: 10.8064 - val_loss: 17.0183\n",
            "Epoch 320/700\n",
            "13/13 [==============================] - 0s 5ms/step - loss: 8.3524 - val_loss: 17.8302\n",
            "Epoch 321/700\n",
            "13/13 [==============================] - 0s 4ms/step - loss: 8.6919 - val_loss: 16.7506\n",
            "Epoch 322/700\n",
            "13/13 [==============================] - 0s 5ms/step - loss: 10.6267 - val_loss: 16.5577\n",
            "Epoch 323/700\n",
            "13/13 [==============================] - 0s 5ms/step - loss: 10.2098 - val_loss: 14.5457\n",
            "Epoch 324/700\n",
            "13/13 [==============================] - 0s 4ms/step - loss: 10.5073 - val_loss: 16.4541\n",
            "Epoch 325/700\n",
            "13/13 [==============================] - 0s 4ms/step - loss: 9.6902 - val_loss: 17.9270\n",
            "Epoch 326/700\n",
            "13/13 [==============================] - 0s 4ms/step - loss: 8.5107 - val_loss: 16.1083\n",
            "Epoch 327/700\n",
            "13/13 [==============================] - 0s 4ms/step - loss: 8.6640 - val_loss: 14.6687\n",
            "Epoch 328/700\n",
            "13/13 [==============================] - 0s 4ms/step - loss: 9.4548 - val_loss: 16.1297\n",
            "Epoch 329/700\n",
            "13/13 [==============================] - 0s 5ms/step - loss: 9.5802 - val_loss: 15.4781\n",
            "Epoch 330/700\n",
            "13/13 [==============================] - 0s 5ms/step - loss: 9.6694 - val_loss: 16.9567\n",
            "Epoch 331/700\n",
            "13/13 [==============================] - 0s 4ms/step - loss: 9.0593 - val_loss: 15.3221\n",
            "Epoch 332/700\n",
            "13/13 [==============================] - 0s 5ms/step - loss: 10.7559 - val_loss: 16.1086\n",
            "Epoch 333/700\n",
            "13/13 [==============================] - 0s 4ms/step - loss: 9.7437 - val_loss: 15.2059\n",
            "Epoch 334/700\n",
            "13/13 [==============================] - 0s 5ms/step - loss: 9.9000 - val_loss: 15.9642\n",
            "Epoch 335/700\n",
            "13/13 [==============================] - 0s 4ms/step - loss: 10.6180 - val_loss: 14.6001\n",
            "Epoch 336/700\n",
            "13/13 [==============================] - 0s 4ms/step - loss: 10.7106 - val_loss: 15.8945\n",
            "Epoch 337/700\n",
            "13/13 [==============================] - 0s 4ms/step - loss: 9.7928 - val_loss: 15.8207\n",
            "Epoch 338/700\n",
            "13/13 [==============================] - 0s 6ms/step - loss: 8.7898 - val_loss: 16.9280\n",
            "Epoch 339/700\n",
            "13/13 [==============================] - 0s 5ms/step - loss: 10.0379 - val_loss: 15.0342\n",
            "Epoch 340/700\n",
            "13/13 [==============================] - 0s 5ms/step - loss: 9.2943 - val_loss: 14.3935\n",
            "Epoch 341/700\n",
            "13/13 [==============================] - 0s 5ms/step - loss: 9.5385 - val_loss: 16.0848\n",
            "Epoch 342/700\n",
            "13/13 [==============================] - 0s 5ms/step - loss: 10.2277 - val_loss: 16.6893\n",
            "Epoch 343/700\n",
            "13/13 [==============================] - 0s 5ms/step - loss: 10.0222 - val_loss: 16.9086\n",
            "Epoch 344/700\n",
            "13/13 [==============================] - 0s 5ms/step - loss: 8.6188 - val_loss: 19.1921\n",
            "Epoch 345/700\n",
            "13/13 [==============================] - 0s 5ms/step - loss: 8.6117 - val_loss: 16.8694\n",
            "Epoch 346/700\n",
            "13/13 [==============================] - 0s 5ms/step - loss: 8.0981 - val_loss: 18.3479\n",
            "Epoch 347/700\n",
            "13/13 [==============================] - 0s 5ms/step - loss: 8.1499 - val_loss: 17.3002\n",
            "Epoch 348/700\n",
            "13/13 [==============================] - 0s 5ms/step - loss: 8.9477 - val_loss: 18.5191\n",
            "Epoch 349/700\n",
            "13/13 [==============================] - 0s 4ms/step - loss: 9.4809 - val_loss: 15.6592\n",
            "Epoch 350/700\n",
            "13/13 [==============================] - 0s 5ms/step - loss: 9.8035 - val_loss: 16.4085\n",
            "Epoch 351/700\n",
            "13/13 [==============================] - 0s 4ms/step - loss: 10.4340 - val_loss: 17.8136\n",
            "Epoch 352/700\n",
            "13/13 [==============================] - 0s 4ms/step - loss: 8.7110 - val_loss: 17.9468\n",
            "Epoch 353/700\n",
            "13/13 [==============================] - 0s 5ms/step - loss: 8.8323 - val_loss: 15.4762\n",
            "Epoch 354/700\n",
            "13/13 [==============================] - 0s 5ms/step - loss: 7.6306 - val_loss: 14.6753\n",
            "Epoch 355/700\n",
            "13/13 [==============================] - 0s 4ms/step - loss: 9.1402 - val_loss: 15.1577\n",
            "Epoch 356/700\n",
            "13/13 [==============================] - 0s 4ms/step - loss: 9.7448 - val_loss: 21.4120\n",
            "Epoch 357/700\n",
            "13/13 [==============================] - 0s 5ms/step - loss: 11.1657 - val_loss: 15.4984\n",
            "Epoch 358/700\n",
            "13/13 [==============================] - 0s 5ms/step - loss: 9.3571 - val_loss: 16.5373\n",
            "Epoch 359/700\n",
            "13/13 [==============================] - 0s 5ms/step - loss: 8.5886 - val_loss: 15.5038\n",
            "Epoch 360/700\n",
            "13/13 [==============================] - 0s 4ms/step - loss: 8.1087 - val_loss: 17.6993\n",
            "Epoch 361/700\n",
            "13/13 [==============================] - 0s 4ms/step - loss: 9.6781 - val_loss: 15.8448\n",
            "Epoch 362/700\n",
            "13/13 [==============================] - 0s 4ms/step - loss: 8.2514 - val_loss: 16.8440\n",
            "Epoch 363/700\n",
            "13/13 [==============================] - 0s 5ms/step - loss: 9.6703 - val_loss: 16.5073\n",
            "Epoch 364/700\n",
            "13/13 [==============================] - 0s 5ms/step - loss: 9.0915 - val_loss: 18.5810\n",
            "Epoch 365/700\n",
            "13/13 [==============================] - 0s 4ms/step - loss: 8.5404 - val_loss: 18.7115\n",
            "Epoch 366/700\n",
            "13/13 [==============================] - 0s 5ms/step - loss: 7.9697 - val_loss: 16.9000\n",
            "Epoch 367/700\n",
            "13/13 [==============================] - 0s 5ms/step - loss: 8.4627 - val_loss: 16.6622\n",
            "Epoch 368/700\n",
            "13/13 [==============================] - 0s 5ms/step - loss: 8.3133 - val_loss: 17.3809\n",
            "Epoch 369/700\n",
            "13/13 [==============================] - 0s 5ms/step - loss: 9.0466 - val_loss: 15.1571\n",
            "Epoch 370/700\n",
            "13/13 [==============================] - 0s 5ms/step - loss: 8.1737 - val_loss: 15.6572\n",
            "Epoch 371/700\n",
            "13/13 [==============================] - 0s 4ms/step - loss: 8.1081 - val_loss: 15.4964\n",
            "Epoch 372/700\n",
            "13/13 [==============================] - 0s 5ms/step - loss: 8.4327 - val_loss: 18.3461\n",
            "Epoch 373/700\n",
            "13/13 [==============================] - 0s 4ms/step - loss: 9.0344 - val_loss: 17.6020\n",
            "Epoch 374/700\n",
            "13/13 [==============================] - 0s 4ms/step - loss: 8.5659 - val_loss: 14.8525\n",
            "Epoch 375/700\n",
            "13/13 [==============================] - 0s 4ms/step - loss: 10.4988 - val_loss: 17.0000\n",
            "Epoch 376/700\n",
            "13/13 [==============================] - 0s 5ms/step - loss: 10.0718 - val_loss: 15.7081\n",
            "Epoch 377/700\n",
            "13/13 [==============================] - 0s 4ms/step - loss: 8.9943 - val_loss: 15.4238\n",
            "Epoch 378/700\n",
            "13/13 [==============================] - 0s 4ms/step - loss: 9.7375 - val_loss: 15.5256\n",
            "Epoch 379/700\n",
            "13/13 [==============================] - 0s 4ms/step - loss: 8.8640 - val_loss: 16.0157\n",
            "Epoch 380/700\n",
            "13/13 [==============================] - 0s 4ms/step - loss: 7.1299 - val_loss: 14.3607\n",
            "Epoch 381/700\n",
            "13/13 [==============================] - 0s 5ms/step - loss: 9.3217 - val_loss: 16.0659\n",
            "Epoch 382/700\n",
            "13/13 [==============================] - 0s 5ms/step - loss: 8.1342 - val_loss: 17.7010\n",
            "Epoch 383/700\n",
            "13/13 [==============================] - 0s 5ms/step - loss: 8.9961 - val_loss: 17.0429\n",
            "Epoch 384/700\n",
            "13/13 [==============================] - 0s 4ms/step - loss: 9.8644 - val_loss: 16.6933\n",
            "Epoch 385/700\n",
            "13/13 [==============================] - 0s 5ms/step - loss: 8.5708 - val_loss: 15.3531\n",
            "Epoch 386/700\n",
            "13/13 [==============================] - 0s 5ms/step - loss: 8.8177 - val_loss: 15.4006\n",
            "Epoch 387/700\n",
            "13/13 [==============================] - 0s 5ms/step - loss: 9.3893 - val_loss: 15.2828\n",
            "Epoch 388/700\n",
            "13/13 [==============================] - 0s 5ms/step - loss: 8.8333 - val_loss: 16.6285\n",
            "Epoch 389/700\n",
            "13/13 [==============================] - 0s 5ms/step - loss: 8.3900 - val_loss: 16.2048\n",
            "Epoch 390/700\n",
            "13/13 [==============================] - 0s 5ms/step - loss: 8.7568 - val_loss: 16.2410\n",
            "Epoch 391/700\n",
            "13/13 [==============================] - 0s 4ms/step - loss: 10.5616 - val_loss: 15.7343\n",
            "Epoch 392/700\n",
            "13/13 [==============================] - 0s 5ms/step - loss: 9.3304 - val_loss: 15.5482\n",
            "Epoch 393/700\n",
            "13/13 [==============================] - 0s 4ms/step - loss: 8.1522 - val_loss: 17.5663\n",
            "Epoch 394/700\n",
            "13/13 [==============================] - 0s 4ms/step - loss: 8.5270 - val_loss: 15.6189\n",
            "Epoch 395/700\n",
            "13/13 [==============================] - 0s 5ms/step - loss: 10.3252 - val_loss: 16.4899\n",
            "Epoch 396/700\n",
            "13/13 [==============================] - 0s 5ms/step - loss: 7.7024 - val_loss: 16.5531\n",
            "Epoch 397/700\n",
            "13/13 [==============================] - 0s 5ms/step - loss: 8.6763 - val_loss: 15.0159\n",
            "Epoch 398/700\n",
            "13/13 [==============================] - 0s 5ms/step - loss: 9.1788 - val_loss: 15.5241\n",
            "Epoch 399/700\n",
            "13/13 [==============================] - 0s 5ms/step - loss: 9.4123 - val_loss: 20.5160\n",
            "Epoch 400/700\n",
            "13/13 [==============================] - 0s 5ms/step - loss: 8.5507 - val_loss: 18.5748\n",
            "Epoch 401/700\n",
            "13/13 [==============================] - 0s 5ms/step - loss: 8.5966 - val_loss: 14.1586\n",
            "Epoch 402/700\n",
            "13/13 [==============================] - 0s 4ms/step - loss: 7.6700 - val_loss: 14.5240\n",
            "Epoch 403/700\n",
            "13/13 [==============================] - 0s 4ms/step - loss: 9.1277 - val_loss: 14.7256\n",
            "Epoch 404/700\n",
            "13/13 [==============================] - 0s 5ms/step - loss: 8.3137 - val_loss: 15.6634\n",
            "Epoch 405/700\n",
            "13/13 [==============================] - 0s 4ms/step - loss: 10.7572 - val_loss: 15.3448\n",
            "Epoch 406/700\n",
            "13/13 [==============================] - 0s 5ms/step - loss: 8.6539 - val_loss: 15.8036\n",
            "Epoch 407/700\n",
            "13/13 [==============================] - 0s 4ms/step - loss: 8.2962 - val_loss: 15.5722\n",
            "Epoch 408/700\n",
            "13/13 [==============================] - 0s 4ms/step - loss: 7.9687 - val_loss: 15.6965\n",
            "Epoch 409/700\n",
            "13/13 [==============================] - 0s 4ms/step - loss: 8.0074 - val_loss: 18.1345\n",
            "Epoch 410/700\n",
            "13/13 [==============================] - 0s 4ms/step - loss: 8.0849 - val_loss: 15.2102\n",
            "Epoch 411/700\n",
            "13/13 [==============================] - 0s 5ms/step - loss: 8.7040 - val_loss: 14.4911\n",
            "Epoch 412/700\n",
            "13/13 [==============================] - 0s 5ms/step - loss: 8.4266 - val_loss: 15.3946\n",
            "Epoch 413/700\n",
            "13/13 [==============================] - 0s 5ms/step - loss: 8.5807 - val_loss: 16.3110\n",
            "Epoch 414/700\n",
            "13/13 [==============================] - 0s 5ms/step - loss: 9.6449 - val_loss: 18.2396\n",
            "Epoch 415/700\n",
            "13/13 [==============================] - 0s 4ms/step - loss: 9.7065 - val_loss: 15.7436\n",
            "Epoch 416/700\n",
            "13/13 [==============================] - 0s 5ms/step - loss: 10.1980 - val_loss: 15.7911\n",
            "Epoch 417/700\n",
            "13/13 [==============================] - 0s 5ms/step - loss: 9.5223 - val_loss: 15.4888\n",
            "Epoch 418/700\n",
            "13/13 [==============================] - 0s 5ms/step - loss: 9.2364 - val_loss: 14.6664\n",
            "Epoch 419/700\n",
            "13/13 [==============================] - 0s 5ms/step - loss: 9.4518 - val_loss: 14.8261\n",
            "Epoch 420/700\n",
            "13/13 [==============================] - 0s 5ms/step - loss: 8.9111 - val_loss: 17.0785\n",
            "Epoch 421/700\n",
            "13/13 [==============================] - 0s 4ms/step - loss: 8.0681 - val_loss: 15.1901\n",
            "Epoch 422/700\n",
            "13/13 [==============================] - 0s 5ms/step - loss: 8.0523 - val_loss: 16.4737\n",
            "Epoch 423/700\n",
            "13/13 [==============================] - 0s 5ms/step - loss: 7.4094 - val_loss: 17.4747\n",
            "Epoch 424/700\n",
            "13/13 [==============================] - 0s 5ms/step - loss: 9.6080 - val_loss: 18.2642\n",
            "Epoch 425/700\n",
            "13/13 [==============================] - 0s 5ms/step - loss: 9.2188 - val_loss: 13.5929\n",
            "Epoch 426/700\n",
            "13/13 [==============================] - 0s 5ms/step - loss: 9.7691 - val_loss: 15.0207\n",
            "Epoch 427/700\n",
            "13/13 [==============================] - 0s 5ms/step - loss: 8.8845 - val_loss: 15.2198\n",
            "Epoch 428/700\n",
            "13/13 [==============================] - 0s 5ms/step - loss: 9.4329 - val_loss: 17.6773\n",
            "Epoch 429/700\n",
            "13/13 [==============================] - 0s 5ms/step - loss: 8.5593 - val_loss: 14.3109\n",
            "Epoch 430/700\n",
            "13/13 [==============================] - 0s 5ms/step - loss: 8.8097 - val_loss: 16.5271\n",
            "Epoch 431/700\n",
            "13/13 [==============================] - 0s 4ms/step - loss: 7.1741 - val_loss: 15.2265\n",
            "Epoch 432/700\n",
            "13/13 [==============================] - 0s 4ms/step - loss: 8.5160 - val_loss: 14.2999\n",
            "Epoch 433/700\n",
            "13/13 [==============================] - 0s 5ms/step - loss: 8.5766 - val_loss: 15.3586\n",
            "Epoch 434/700\n",
            "13/13 [==============================] - 0s 4ms/step - loss: 8.0106 - val_loss: 14.7217\n",
            "Epoch 435/700\n",
            "13/13 [==============================] - 0s 4ms/step - loss: 7.5537 - val_loss: 17.2039\n",
            "Epoch 436/700\n",
            "13/13 [==============================] - 0s 4ms/step - loss: 7.7755 - val_loss: 17.7784\n",
            "Epoch 437/700\n",
            "13/13 [==============================] - 0s 4ms/step - loss: 8.2219 - val_loss: 17.3311\n",
            "Epoch 438/700\n",
            "13/13 [==============================] - 0s 5ms/step - loss: 8.3726 - val_loss: 14.4379\n",
            "Epoch 439/700\n",
            "13/13 [==============================] - 0s 5ms/step - loss: 8.8238 - val_loss: 16.7297\n",
            "Epoch 440/700\n",
            "13/13 [==============================] - 0s 4ms/step - loss: 8.8927 - val_loss: 16.2624\n",
            "Epoch 441/700\n",
            "13/13 [==============================] - 0s 4ms/step - loss: 9.0723 - val_loss: 16.1685\n",
            "Epoch 442/700\n",
            "13/13 [==============================] - 0s 5ms/step - loss: 9.7359 - val_loss: 14.6605\n",
            "Epoch 443/700\n",
            "13/13 [==============================] - 0s 5ms/step - loss: 11.0152 - val_loss: 17.3944\n",
            "Epoch 444/700\n",
            "13/13 [==============================] - 0s 5ms/step - loss: 9.0058 - val_loss: 14.9593\n",
            "Epoch 445/700\n",
            "13/13 [==============================] - 0s 5ms/step - loss: 8.5038 - val_loss: 16.5042\n",
            "Epoch 446/700\n",
            "13/13 [==============================] - 0s 4ms/step - loss: 9.9233 - val_loss: 16.3314\n",
            "Epoch 447/700\n",
            "13/13 [==============================] - 0s 4ms/step - loss: 7.3121 - val_loss: 18.7590\n",
            "Epoch 448/700\n",
            "13/13 [==============================] - 0s 5ms/step - loss: 8.4602 - val_loss: 15.0294\n",
            "Epoch 449/700\n",
            "13/13 [==============================] - 0s 5ms/step - loss: 7.9907 - val_loss: 15.7590\n",
            "Epoch 450/700\n",
            "13/13 [==============================] - 0s 5ms/step - loss: 7.8680 - val_loss: 18.7755\n",
            "Epoch 451/700\n",
            "13/13 [==============================] - 0s 4ms/step - loss: 9.1692 - val_loss: 16.2628\n",
            "Epoch 452/700\n",
            "13/13 [==============================] - 0s 5ms/step - loss: 7.2478 - val_loss: 17.4246\n",
            "Epoch 453/700\n",
            "13/13 [==============================] - 0s 5ms/step - loss: 8.1467 - val_loss: 16.1427\n",
            "Epoch 454/700\n",
            "13/13 [==============================] - 0s 5ms/step - loss: 8.0763 - val_loss: 14.9385\n",
            "Epoch 455/700\n",
            "13/13 [==============================] - 0s 5ms/step - loss: 7.9487 - val_loss: 14.3714\n",
            "Epoch 456/700\n",
            "13/13 [==============================] - 0s 5ms/step - loss: 7.9879 - val_loss: 16.9809\n",
            "Epoch 457/700\n",
            "13/13 [==============================] - 0s 5ms/step - loss: 8.9011 - val_loss: 15.5315\n",
            "Epoch 458/700\n",
            "13/13 [==============================] - 0s 5ms/step - loss: 8.9024 - val_loss: 16.3398\n",
            "Epoch 459/700\n",
            "13/13 [==============================] - 0s 5ms/step - loss: 7.4496 - val_loss: 16.2337\n",
            "Epoch 460/700\n",
            "13/13 [==============================] - 0s 5ms/step - loss: 8.1975 - val_loss: 14.5921\n",
            "Epoch 461/700\n",
            "13/13 [==============================] - 0s 5ms/step - loss: 9.4736 - val_loss: 14.1558\n",
            "Epoch 462/700\n",
            "13/13 [==============================] - 0s 4ms/step - loss: 8.6023 - val_loss: 16.2951\n",
            "Epoch 463/700\n",
            "13/13 [==============================] - 0s 5ms/step - loss: 8.5559 - val_loss: 15.7039\n",
            "Epoch 464/700\n",
            "13/13 [==============================] - 0s 5ms/step - loss: 9.3450 - val_loss: 14.3095\n",
            "Epoch 465/700\n",
            "13/13 [==============================] - 0s 5ms/step - loss: 8.3978 - val_loss: 15.5546\n",
            "Epoch 466/700\n",
            "13/13 [==============================] - 0s 5ms/step - loss: 10.4132 - val_loss: 15.2170\n",
            "Epoch 467/700\n",
            "13/13 [==============================] - 0s 5ms/step - loss: 8.5336 - val_loss: 17.2726\n",
            "Epoch 468/700\n",
            "13/13 [==============================] - 0s 5ms/step - loss: 8.9017 - val_loss: 15.1915\n",
            "Epoch 469/700\n",
            "13/13 [==============================] - 0s 4ms/step - loss: 9.0528 - val_loss: 16.5828\n",
            "Epoch 470/700\n",
            "13/13 [==============================] - 0s 5ms/step - loss: 9.4662 - val_loss: 14.6754\n",
            "Epoch 471/700\n",
            "13/13 [==============================] - 0s 4ms/step - loss: 7.7419 - val_loss: 16.5783\n",
            "Epoch 472/700\n",
            "13/13 [==============================] - 0s 4ms/step - loss: 7.8949 - val_loss: 15.6087\n",
            "Epoch 473/700\n",
            "13/13 [==============================] - 0s 5ms/step - loss: 8.6715 - val_loss: 15.2261\n",
            "Epoch 474/700\n",
            "13/13 [==============================] - 0s 5ms/step - loss: 8.3693 - val_loss: 14.6274\n",
            "Epoch 475/700\n",
            "13/13 [==============================] - 0s 5ms/step - loss: 8.2968 - val_loss: 14.8687\n",
            "Epoch 476/700\n",
            "13/13 [==============================] - 0s 5ms/step - loss: 9.0286 - val_loss: 14.4812\n",
            "Epoch 477/700\n",
            "13/13 [==============================] - 0s 4ms/step - loss: 8.4235 - val_loss: 16.0490\n",
            "Epoch 478/700\n",
            "13/13 [==============================] - 0s 4ms/step - loss: 7.7091 - val_loss: 15.4864\n",
            "Epoch 479/700\n",
            "13/13 [==============================] - 0s 4ms/step - loss: 8.5869 - val_loss: 14.4642\n",
            "Epoch 480/700\n",
            "13/13 [==============================] - 0s 5ms/step - loss: 8.3025 - val_loss: 15.1334\n",
            "Epoch 481/700\n",
            "13/13 [==============================] - 0s 4ms/step - loss: 8.8111 - val_loss: 18.8089\n",
            "Epoch 482/700\n",
            "13/13 [==============================] - 0s 4ms/step - loss: 8.0665 - val_loss: 17.0779\n",
            "Epoch 483/700\n",
            "13/13 [==============================] - 0s 4ms/step - loss: 8.9626 - val_loss: 15.2864\n",
            "Epoch 484/700\n",
            "13/13 [==============================] - 0s 4ms/step - loss: 7.6723 - val_loss: 16.3761\n",
            "Epoch 485/700\n",
            "13/13 [==============================] - 0s 5ms/step - loss: 8.8050 - val_loss: 16.9696\n",
            "Epoch 486/700\n",
            "13/13 [==============================] - 0s 4ms/step - loss: 7.6904 - val_loss: 15.2810\n",
            "Epoch 487/700\n",
            "13/13 [==============================] - 0s 5ms/step - loss: 10.2588 - val_loss: 17.4678\n",
            "Epoch 488/700\n",
            "13/13 [==============================] - 0s 5ms/step - loss: 9.6951 - val_loss: 18.0344\n",
            "Epoch 489/700\n",
            "13/13 [==============================] - 0s 5ms/step - loss: 9.5625 - val_loss: 16.9656\n",
            "Epoch 490/700\n",
            "13/13 [==============================] - 0s 5ms/step - loss: 7.6483 - val_loss: 16.9064\n",
            "Epoch 491/700\n",
            "13/13 [==============================] - 0s 5ms/step - loss: 9.0898 - val_loss: 16.0680\n",
            "Epoch 492/700\n",
            "13/13 [==============================] - 0s 5ms/step - loss: 8.9212 - val_loss: 17.7590\n",
            "Epoch 493/700\n",
            "13/13 [==============================] - 0s 5ms/step - loss: 9.0507 - val_loss: 15.6628\n",
            "Epoch 494/700\n",
            "13/13 [==============================] - 0s 5ms/step - loss: 9.4548 - val_loss: 16.1638\n",
            "Epoch 495/700\n",
            "13/13 [==============================] - 0s 5ms/step - loss: 9.4712 - val_loss: 16.1775\n",
            "Epoch 496/700\n",
            "13/13 [==============================] - 0s 5ms/step - loss: 8.8493 - val_loss: 14.3364\n",
            "Epoch 497/700\n",
            "13/13 [==============================] - 0s 5ms/step - loss: 8.9416 - val_loss: 14.6229\n",
            "Epoch 498/700\n",
            "13/13 [==============================] - 0s 5ms/step - loss: 8.0130 - val_loss: 16.5045\n",
            "Epoch 499/700\n",
            "13/13 [==============================] - 0s 5ms/step - loss: 7.9884 - val_loss: 17.2958\n",
            "Epoch 500/700\n",
            "13/13 [==============================] - 0s 5ms/step - loss: 9.0688 - val_loss: 16.7951\n",
            "Epoch 501/700\n",
            "13/13 [==============================] - 0s 5ms/step - loss: 8.2708 - val_loss: 16.1577\n",
            "Epoch 502/700\n",
            "13/13 [==============================] - 0s 5ms/step - loss: 8.3908 - val_loss: 15.9460\n",
            "Epoch 503/700\n",
            "13/13 [==============================] - 0s 4ms/step - loss: 7.6220 - val_loss: 15.4450\n",
            "Epoch 504/700\n",
            "13/13 [==============================] - 0s 4ms/step - loss: 9.7878 - val_loss: 15.2998\n",
            "Epoch 505/700\n",
            "13/13 [==============================] - 0s 5ms/step - loss: 9.7625 - val_loss: 14.7742\n",
            "Epoch 506/700\n",
            "13/13 [==============================] - 0s 5ms/step - loss: 9.9759 - val_loss: 15.7752\n",
            "Epoch 507/700\n",
            "13/13 [==============================] - 0s 4ms/step - loss: 9.3711 - val_loss: 15.3988\n",
            "Epoch 508/700\n",
            "13/13 [==============================] - 0s 5ms/step - loss: 8.8776 - val_loss: 15.4321\n",
            "Epoch 509/700\n",
            "13/13 [==============================] - 0s 4ms/step - loss: 8.2633 - val_loss: 19.5816\n",
            "Epoch 510/700\n",
            "13/13 [==============================] - 0s 5ms/step - loss: 8.8610 - val_loss: 16.0307\n",
            "Epoch 511/700\n",
            "13/13 [==============================] - 0s 5ms/step - loss: 8.7848 - val_loss: 14.7558\n",
            "Epoch 512/700\n",
            "13/13 [==============================] - 0s 5ms/step - loss: 8.0889 - val_loss: 16.1960\n",
            "Epoch 513/700\n",
            "13/13 [==============================] - 0s 5ms/step - loss: 7.7665 - val_loss: 16.2869\n",
            "Epoch 514/700\n",
            "13/13 [==============================] - 0s 5ms/step - loss: 7.9256 - val_loss: 15.8000\n",
            "Epoch 515/700\n",
            "13/13 [==============================] - 0s 4ms/step - loss: 8.3070 - val_loss: 16.5905\n",
            "Epoch 516/700\n",
            "13/13 [==============================] - 0s 5ms/step - loss: 7.2048 - val_loss: 16.3173\n",
            "Epoch 517/700\n",
            "13/13 [==============================] - 0s 6ms/step - loss: 8.3681 - val_loss: 15.6896\n",
            "Epoch 518/700\n",
            "13/13 [==============================] - 0s 4ms/step - loss: 7.3495 - val_loss: 15.4916\n",
            "Epoch 519/700\n",
            "13/13 [==============================] - 0s 4ms/step - loss: 7.5575 - val_loss: 15.6559\n",
            "Epoch 520/700\n",
            "13/13 [==============================] - 0s 5ms/step - loss: 7.1444 - val_loss: 15.7485\n",
            "Epoch 521/700\n",
            "13/13 [==============================] - 0s 4ms/step - loss: 8.0570 - val_loss: 15.9907\n",
            "Epoch 522/700\n",
            "13/13 [==============================] - 0s 5ms/step - loss: 6.5106 - val_loss: 15.5360\n",
            "Epoch 523/700\n",
            "13/13 [==============================] - 0s 5ms/step - loss: 7.5674 - val_loss: 15.9041\n",
            "Epoch 524/700\n",
            "13/13 [==============================] - 0s 5ms/step - loss: 7.2323 - val_loss: 16.2051\n",
            "Epoch 525/700\n",
            "13/13 [==============================] - 0s 5ms/step - loss: 8.4183 - val_loss: 14.9773\n",
            "Epoch 526/700\n",
            "13/13 [==============================] - 0s 4ms/step - loss: 6.6861 - val_loss: 16.1438\n",
            "Epoch 527/700\n",
            "13/13 [==============================] - 0s 5ms/step - loss: 9.8509 - val_loss: 14.3486\n",
            "Epoch 528/700\n",
            "13/13 [==============================] - 0s 4ms/step - loss: 7.2259 - val_loss: 15.7002\n",
            "Epoch 529/700\n",
            "13/13 [==============================] - 0s 5ms/step - loss: 9.3515 - val_loss: 17.4325\n",
            "Epoch 530/700\n",
            "13/13 [==============================] - 0s 5ms/step - loss: 7.7473 - val_loss: 17.3120\n",
            "Epoch 531/700\n",
            "13/13 [==============================] - 0s 5ms/step - loss: 10.0791 - val_loss: 15.7882\n",
            "Epoch 532/700\n",
            "13/13 [==============================] - 0s 5ms/step - loss: 8.4598 - val_loss: 14.6673\n",
            "Epoch 533/700\n",
            "13/13 [==============================] - 0s 4ms/step - loss: 7.4977 - val_loss: 15.6887\n",
            "Epoch 534/700\n",
            "13/13 [==============================] - 0s 5ms/step - loss: 8.6178 - val_loss: 15.4628\n",
            "Epoch 535/700\n",
            "13/13 [==============================] - 0s 5ms/step - loss: 8.5762 - val_loss: 17.2874\n",
            "Epoch 536/700\n",
            "13/13 [==============================] - 0s 5ms/step - loss: 8.7833 - val_loss: 15.9747\n",
            "Epoch 537/700\n",
            "13/13 [==============================] - 0s 4ms/step - loss: 8.1577 - val_loss: 15.4157\n",
            "Epoch 538/700\n",
            "13/13 [==============================] - 0s 5ms/step - loss: 8.8983 - val_loss: 14.7060\n",
            "Epoch 539/700\n",
            "13/13 [==============================] - 0s 5ms/step - loss: 7.3923 - val_loss: 16.0518\n",
            "Epoch 540/700\n",
            "13/13 [==============================] - 0s 5ms/step - loss: 8.9260 - val_loss: 15.3069\n",
            "Epoch 541/700\n",
            "13/13 [==============================] - 0s 4ms/step - loss: 8.2092 - val_loss: 13.7484\n",
            "Epoch 542/700\n",
            "13/13 [==============================] - 0s 5ms/step - loss: 9.3539 - val_loss: 16.7772\n",
            "Epoch 543/700\n",
            "13/13 [==============================] - 0s 4ms/step - loss: 7.8933 - val_loss: 15.5155\n",
            "Epoch 544/700\n",
            "13/13 [==============================] - 0s 5ms/step - loss: 9.3492 - val_loss: 14.9542\n",
            "Epoch 545/700\n",
            "13/13 [==============================] - 0s 4ms/step - loss: 9.0956 - val_loss: 15.9015\n",
            "Epoch 546/700\n",
            "13/13 [==============================] - 0s 5ms/step - loss: 7.9348 - val_loss: 14.9777\n",
            "Epoch 547/700\n",
            "13/13 [==============================] - 0s 5ms/step - loss: 7.6363 - val_loss: 15.0940\n",
            "Epoch 548/700\n",
            "13/13 [==============================] - 0s 5ms/step - loss: 8.3329 - val_loss: 16.2148\n",
            "Epoch 549/700\n",
            "13/13 [==============================] - 0s 4ms/step - loss: 8.3719 - val_loss: 16.2356\n",
            "Epoch 550/700\n",
            "13/13 [==============================] - 0s 4ms/step - loss: 7.6262 - val_loss: 13.8586\n",
            "Epoch 551/700\n",
            "13/13 [==============================] - 0s 5ms/step - loss: 7.3774 - val_loss: 15.0506\n",
            "Epoch 552/700\n",
            "13/13 [==============================] - 0s 4ms/step - loss: 7.5101 - val_loss: 18.7111\n",
            "Epoch 553/700\n",
            "13/13 [==============================] - 0s 4ms/step - loss: 8.3278 - val_loss: 16.3223\n",
            "Epoch 554/700\n",
            "13/13 [==============================] - 0s 4ms/step - loss: 7.7896 - val_loss: 17.3116\n",
            "Epoch 555/700\n",
            "13/13 [==============================] - 0s 5ms/step - loss: 8.1850 - val_loss: 14.3378\n",
            "Epoch 556/700\n",
            "13/13 [==============================] - 0s 5ms/step - loss: 8.7992 - val_loss: 21.6608\n",
            "Epoch 557/700\n",
            "13/13 [==============================] - 0s 5ms/step - loss: 8.7009 - val_loss: 17.2983\n",
            "Epoch 558/700\n",
            "13/13 [==============================] - 0s 5ms/step - loss: 7.6670 - val_loss: 15.8080\n",
            "Epoch 559/700\n",
            "13/13 [==============================] - 0s 5ms/step - loss: 8.2824 - val_loss: 15.1485\n",
            "Epoch 560/700\n",
            "13/13 [==============================] - 0s 5ms/step - loss: 7.4936 - val_loss: 14.8283\n",
            "Epoch 561/700\n",
            "13/13 [==============================] - 0s 5ms/step - loss: 7.9595 - val_loss: 16.6377\n",
            "Epoch 562/700\n",
            "13/13 [==============================] - 0s 5ms/step - loss: 8.3400 - val_loss: 17.5641\n",
            "Epoch 563/700\n",
            "13/13 [==============================] - 0s 4ms/step - loss: 7.1083 - val_loss: 15.1528\n",
            "Epoch 564/700\n",
            "13/13 [==============================] - 0s 4ms/step - loss: 7.9646 - val_loss: 16.0848\n",
            "Epoch 565/700\n",
            "13/13 [==============================] - 0s 5ms/step - loss: 7.7977 - val_loss: 16.7532\n",
            "Epoch 566/700\n",
            "13/13 [==============================] - 0s 5ms/step - loss: 7.1648 - val_loss: 17.2841\n",
            "Epoch 567/700\n",
            "13/13 [==============================] - 0s 5ms/step - loss: 8.0199 - val_loss: 15.8008\n",
            "Epoch 568/700\n",
            "13/13 [==============================] - 0s 4ms/step - loss: 8.1963 - val_loss: 16.6489\n",
            "Epoch 569/700\n",
            "13/13 [==============================] - 0s 5ms/step - loss: 7.7809 - val_loss: 13.7937\n",
            "Epoch 570/700\n",
            "13/13 [==============================] - 0s 5ms/step - loss: 8.8122 - val_loss: 17.6032\n",
            "Epoch 571/700\n",
            "13/13 [==============================] - 0s 4ms/step - loss: 7.2326 - val_loss: 17.5436\n",
            "Epoch 572/700\n",
            "13/13 [==============================] - 0s 5ms/step - loss: 7.6955 - val_loss: 17.1973\n",
            "Epoch 573/700\n",
            "13/13 [==============================] - 0s 5ms/step - loss: 9.4527 - val_loss: 15.8798\n",
            "Epoch 574/700\n",
            "13/13 [==============================] - 0s 6ms/step - loss: 7.5848 - val_loss: 15.3422\n",
            "Epoch 575/700\n",
            "13/13 [==============================] - 0s 5ms/step - loss: 8.0807 - val_loss: 14.6231\n",
            "Epoch 576/700\n",
            "13/13 [==============================] - 0s 5ms/step - loss: 7.1184 - val_loss: 17.0052\n",
            "Epoch 577/700\n",
            "13/13 [==============================] - 0s 5ms/step - loss: 7.9285 - val_loss: 14.9762\n",
            "Epoch 578/700\n",
            "13/13 [==============================] - 0s 5ms/step - loss: 7.0910 - val_loss: 16.0378\n",
            "Epoch 579/700\n",
            "13/13 [==============================] - 0s 5ms/step - loss: 10.1971 - val_loss: 14.1975\n",
            "Epoch 580/700\n",
            "13/13 [==============================] - 0s 4ms/step - loss: 8.8803 - val_loss: 15.5821\n",
            "Epoch 581/700\n",
            "13/13 [==============================] - 0s 4ms/step - loss: 7.6430 - val_loss: 16.0947\n",
            "Epoch 582/700\n",
            "13/13 [==============================] - 0s 4ms/step - loss: 7.8827 - val_loss: 15.3203\n",
            "Epoch 583/700\n",
            "13/13 [==============================] - 0s 4ms/step - loss: 8.0652 - val_loss: 16.6700\n",
            "Epoch 584/700\n",
            "13/13 [==============================] - 0s 5ms/step - loss: 9.9785 - val_loss: 15.4049\n",
            "Epoch 585/700\n",
            "13/13 [==============================] - 0s 4ms/step - loss: 7.5231 - val_loss: 16.4215\n",
            "Epoch 586/700\n",
            "13/13 [==============================] - 0s 5ms/step - loss: 7.8418 - val_loss: 16.9665\n",
            "Epoch 587/700\n",
            "13/13 [==============================] - 0s 5ms/step - loss: 7.2889 - val_loss: 15.2164\n",
            "Epoch 588/700\n",
            "13/13 [==============================] - 0s 5ms/step - loss: 7.6214 - val_loss: 13.9568\n",
            "Epoch 589/700\n",
            "13/13 [==============================] - 0s 5ms/step - loss: 7.2867 - val_loss: 14.8731\n",
            "Epoch 590/700\n",
            "13/13 [==============================] - 0s 5ms/step - loss: 8.5808 - val_loss: 15.7235\n",
            "Epoch 591/700\n",
            "13/13 [==============================] - 0s 5ms/step - loss: 8.7475 - val_loss: 15.8820\n",
            "Epoch 592/700\n",
            "13/13 [==============================] - 0s 5ms/step - loss: 7.9447 - val_loss: 15.8585\n",
            "Epoch 593/700\n",
            "13/13 [==============================] - 0s 5ms/step - loss: 9.1288 - val_loss: 15.9983\n",
            "Epoch 594/700\n",
            "13/13 [==============================] - 0s 5ms/step - loss: 8.6795 - val_loss: 17.9907\n",
            "Epoch 595/700\n",
            "13/13 [==============================] - 0s 5ms/step - loss: 7.4614 - val_loss: 16.3582\n",
            "Epoch 596/700\n",
            "13/13 [==============================] - 0s 4ms/step - loss: 6.9873 - val_loss: 14.0363\n",
            "Epoch 597/700\n",
            "13/13 [==============================] - 0s 4ms/step - loss: 7.7493 - val_loss: 15.3033\n",
            "Epoch 598/700\n",
            "13/13 [==============================] - 0s 5ms/step - loss: 8.9754 - val_loss: 15.1818\n",
            "Epoch 599/700\n",
            "13/13 [==============================] - 0s 5ms/step - loss: 7.4790 - val_loss: 18.8942\n",
            "Epoch 600/700\n",
            "13/13 [==============================] - 0s 5ms/step - loss: 8.0377 - val_loss: 15.2842\n",
            "Epoch 601/700\n",
            "13/13 [==============================] - 0s 5ms/step - loss: 7.7317 - val_loss: 16.9159\n",
            "Epoch 602/700\n",
            "13/13 [==============================] - 0s 4ms/step - loss: 7.2945 - val_loss: 17.5239\n",
            "Epoch 603/700\n",
            "13/13 [==============================] - 0s 5ms/step - loss: 7.5711 - val_loss: 16.5535\n",
            "Epoch 604/700\n",
            "13/13 [==============================] - 0s 5ms/step - loss: 7.3497 - val_loss: 15.9394\n",
            "Epoch 605/700\n",
            "13/13 [==============================] - 0s 5ms/step - loss: 6.7799 - val_loss: 19.3351\n",
            "Epoch 606/700\n",
            "13/13 [==============================] - 0s 4ms/step - loss: 7.9813 - val_loss: 16.4989\n",
            "Epoch 607/700\n",
            "13/13 [==============================] - 0s 5ms/step - loss: 6.7550 - val_loss: 15.2369\n",
            "Epoch 608/700\n",
            "13/13 [==============================] - 0s 4ms/step - loss: 8.0558 - val_loss: 16.2681\n",
            "Epoch 609/700\n",
            "13/13 [==============================] - 0s 4ms/step - loss: 8.2256 - val_loss: 14.8218\n",
            "Epoch 610/700\n",
            "13/13 [==============================] - 0s 5ms/step - loss: 6.8311 - val_loss: 14.5782\n",
            "Epoch 611/700\n",
            "13/13 [==============================] - 0s 5ms/step - loss: 7.2102 - val_loss: 16.3709\n",
            "Epoch 612/700\n",
            "13/13 [==============================] - 0s 6ms/step - loss: 6.7965 - val_loss: 13.7250\n",
            "Epoch 613/700\n",
            "13/13 [==============================] - 0s 4ms/step - loss: 8.0212 - val_loss: 18.2400\n",
            "Epoch 614/700\n",
            "13/13 [==============================] - 0s 4ms/step - loss: 7.5754 - val_loss: 17.2476\n",
            "Epoch 615/700\n",
            "13/13 [==============================] - 0s 5ms/step - loss: 8.1526 - val_loss: 18.6141\n",
            "Epoch 616/700\n",
            "13/13 [==============================] - 0s 5ms/step - loss: 9.0044 - val_loss: 16.9729\n",
            "Epoch 617/700\n",
            "13/13 [==============================] - 0s 5ms/step - loss: 7.0461 - val_loss: 17.4014\n",
            "Epoch 618/700\n",
            "13/13 [==============================] - 0s 5ms/step - loss: 7.0831 - val_loss: 16.1078\n",
            "Epoch 619/700\n",
            "13/13 [==============================] - 0s 5ms/step - loss: 8.1025 - val_loss: 17.6212\n",
            "Epoch 620/700\n",
            "13/13 [==============================] - 0s 5ms/step - loss: 7.2981 - val_loss: 16.8194\n",
            "Epoch 621/700\n",
            "13/13 [==============================] - 0s 5ms/step - loss: 6.3601 - val_loss: 15.6674\n",
            "Epoch 622/700\n",
            "13/13 [==============================] - 0s 6ms/step - loss: 8.5762 - val_loss: 16.1733\n",
            "Epoch 623/700\n",
            "13/13 [==============================] - 0s 5ms/step - loss: 7.9461 - val_loss: 15.4208\n",
            "Epoch 624/700\n",
            "13/13 [==============================] - 0s 5ms/step - loss: 7.4256 - val_loss: 17.9090\n",
            "Epoch 625/700\n",
            "13/13 [==============================] - 0s 5ms/step - loss: 8.2909 - val_loss: 15.2628\n",
            "Epoch 626/700\n",
            "13/13 [==============================] - 0s 5ms/step - loss: 6.9099 - val_loss: 15.1517\n",
            "Epoch 627/700\n",
            "13/13 [==============================] - 0s 5ms/step - loss: 9.3315 - val_loss: 14.4192\n",
            "Epoch 628/700\n",
            "13/13 [==============================] - 0s 5ms/step - loss: 7.0525 - val_loss: 14.7573\n",
            "Epoch 629/700\n",
            "13/13 [==============================] - 0s 5ms/step - loss: 7.4566 - val_loss: 14.9364\n",
            "Epoch 630/700\n",
            "13/13 [==============================] - 0s 5ms/step - loss: 7.8112 - val_loss: 16.7082\n",
            "Epoch 631/700\n",
            "13/13 [==============================] - 0s 5ms/step - loss: 7.6440 - val_loss: 19.8157\n",
            "Epoch 632/700\n",
            "13/13 [==============================] - 0s 5ms/step - loss: 7.9078 - val_loss: 18.1620\n",
            "Epoch 633/700\n",
            "13/13 [==============================] - 0s 5ms/step - loss: 7.2324 - val_loss: 16.2727\n",
            "Epoch 634/700\n",
            "13/13 [==============================] - 0s 5ms/step - loss: 7.5968 - val_loss: 16.7724\n",
            "Epoch 635/700\n",
            "13/13 [==============================] - 0s 5ms/step - loss: 6.5510 - val_loss: 17.9087\n",
            "Epoch 636/700\n",
            "13/13 [==============================] - 0s 4ms/step - loss: 7.8203 - val_loss: 15.9027\n",
            "Epoch 637/700\n",
            "13/13 [==============================] - 0s 5ms/step - loss: 7.8019 - val_loss: 14.5000\n",
            "Epoch 638/700\n",
            "13/13 [==============================] - 0s 5ms/step - loss: 8.1536 - val_loss: 14.0736\n",
            "Epoch 639/700\n",
            "13/13 [==============================] - 0s 4ms/step - loss: 8.6412 - val_loss: 15.6770\n",
            "Epoch 640/700\n",
            "13/13 [==============================] - 0s 5ms/step - loss: 9.3123 - val_loss: 13.2144\n",
            "Epoch 641/700\n",
            "13/13 [==============================] - 0s 5ms/step - loss: 8.0203 - val_loss: 16.0827\n",
            "Epoch 642/700\n",
            "13/13 [==============================] - 0s 5ms/step - loss: 7.5095 - val_loss: 17.5464\n",
            "Epoch 643/700\n",
            "13/13 [==============================] - 0s 4ms/step - loss: 8.4761 - val_loss: 14.8795\n",
            "Epoch 644/700\n",
            "13/13 [==============================] - 0s 4ms/step - loss: 8.1543 - val_loss: 14.0800\n",
            "Epoch 645/700\n",
            "13/13 [==============================] - 0s 5ms/step - loss: 6.8907 - val_loss: 14.8885\n",
            "Epoch 646/700\n",
            "13/13 [==============================] - 0s 5ms/step - loss: 7.1331 - val_loss: 14.8771\n",
            "Epoch 647/700\n",
            "13/13 [==============================] - 0s 5ms/step - loss: 6.6545 - val_loss: 14.5332\n",
            "Epoch 648/700\n",
            "13/13 [==============================] - 0s 5ms/step - loss: 7.3299 - val_loss: 17.4461\n",
            "Epoch 649/700\n",
            "13/13 [==============================] - 0s 4ms/step - loss: 7.9549 - val_loss: 14.5862\n",
            "Epoch 650/700\n",
            "13/13 [==============================] - 0s 6ms/step - loss: 7.8814 - val_loss: 17.4763\n",
            "Epoch 651/700\n",
            "13/13 [==============================] - 0s 5ms/step - loss: 7.2775 - val_loss: 16.8132\n",
            "Epoch 652/700\n",
            "13/13 [==============================] - 0s 5ms/step - loss: 6.3697 - val_loss: 18.9329\n",
            "Epoch 653/700\n",
            "13/13 [==============================] - 0s 5ms/step - loss: 10.0994 - val_loss: 15.8666\n",
            "Epoch 654/700\n",
            "13/13 [==============================] - 0s 5ms/step - loss: 8.0920 - val_loss: 16.1146\n",
            "Epoch 655/700\n",
            "13/13 [==============================] - 0s 5ms/step - loss: 7.7565 - val_loss: 14.7699\n",
            "Epoch 656/700\n",
            "13/13 [==============================] - 0s 5ms/step - loss: 9.2320 - val_loss: 18.9985\n",
            "Epoch 657/700\n",
            "13/13 [==============================] - 0s 5ms/step - loss: 6.7907 - val_loss: 16.1975\n",
            "Epoch 658/700\n",
            "13/13 [==============================] - 0s 5ms/step - loss: 8.2495 - val_loss: 14.4514\n",
            "Epoch 659/700\n",
            "13/13 [==============================] - 0s 6ms/step - loss: 8.1402 - val_loss: 16.2530\n",
            "Epoch 660/700\n",
            "13/13 [==============================] - 0s 5ms/step - loss: 7.7056 - val_loss: 15.7453\n",
            "Epoch 661/700\n",
            "13/13 [==============================] - 0s 5ms/step - loss: 8.0533 - val_loss: 16.3624\n",
            "Epoch 662/700\n",
            "13/13 [==============================] - 0s 4ms/step - loss: 7.1479 - val_loss: 16.8356\n",
            "Epoch 663/700\n",
            "13/13 [==============================] - 0s 5ms/step - loss: 6.8397 - val_loss: 14.1861\n",
            "Epoch 664/700\n",
            "13/13 [==============================] - 0s 4ms/step - loss: 7.3314 - val_loss: 14.5573\n",
            "Epoch 665/700\n",
            "13/13 [==============================] - 0s 5ms/step - loss: 6.7270 - val_loss: 15.1601\n",
            "Epoch 666/700\n",
            "13/13 [==============================] - 0s 6ms/step - loss: 6.7579 - val_loss: 16.0166\n",
            "Epoch 667/700\n",
            "13/13 [==============================] - 0s 5ms/step - loss: 6.3602 - val_loss: 16.3711\n",
            "Epoch 668/700\n",
            "13/13 [==============================] - 0s 5ms/step - loss: 7.2719 - val_loss: 14.5343\n",
            "Epoch 669/700\n",
            "13/13 [==============================] - 0s 5ms/step - loss: 7.2047 - val_loss: 15.5739\n",
            "Epoch 670/700\n",
            "13/13 [==============================] - 0s 23ms/step - loss: 7.1630 - val_loss: 16.7603\n",
            "Epoch 671/700\n",
            "13/13 [==============================] - 0s 5ms/step - loss: 8.2494 - val_loss: 17.1200\n",
            "Epoch 672/700\n",
            "13/13 [==============================] - 0s 4ms/step - loss: 7.7868 - val_loss: 12.8876\n",
            "Epoch 673/700\n",
            "13/13 [==============================] - 0s 4ms/step - loss: 8.4836 - val_loss: 16.1953\n",
            "Epoch 674/700\n",
            "13/13 [==============================] - 0s 5ms/step - loss: 7.6057 - val_loss: 16.6659\n",
            "Epoch 675/700\n",
            "13/13 [==============================] - 0s 5ms/step - loss: 7.9895 - val_loss: 13.9180\n",
            "Epoch 676/700\n",
            "13/13 [==============================] - 0s 5ms/step - loss: 7.4894 - val_loss: 15.2013\n",
            "Epoch 677/700\n",
            "13/13 [==============================] - 0s 5ms/step - loss: 7.9177 - val_loss: 16.0404\n",
            "Epoch 678/700\n",
            "13/13 [==============================] - 0s 5ms/step - loss: 6.9113 - val_loss: 15.9223\n",
            "Epoch 679/700\n",
            "13/13 [==============================] - 0s 5ms/step - loss: 7.9935 - val_loss: 16.8066\n",
            "Epoch 680/700\n",
            "13/13 [==============================] - 0s 5ms/step - loss: 8.3497 - val_loss: 13.4288\n",
            "Epoch 681/700\n",
            "13/13 [==============================] - 0s 5ms/step - loss: 7.6487 - val_loss: 16.3353\n",
            "Epoch 682/700\n",
            "13/13 [==============================] - 0s 4ms/step - loss: 7.1220 - val_loss: 15.5251\n",
            "Epoch 683/700\n",
            "13/13 [==============================] - 0s 5ms/step - loss: 8.2066 - val_loss: 13.3872\n",
            "Epoch 684/700\n",
            "13/13 [==============================] - 0s 5ms/step - loss: 7.6961 - val_loss: 15.9247\n",
            "Epoch 685/700\n",
            "13/13 [==============================] - 0s 5ms/step - loss: 7.2773 - val_loss: 16.1145\n",
            "Epoch 686/700\n",
            "13/13 [==============================] - 0s 5ms/step - loss: 10.2060 - val_loss: 13.5831\n",
            "Epoch 687/700\n",
            "13/13 [==============================] - 0s 5ms/step - loss: 7.1408 - val_loss: 15.0297\n",
            "Epoch 688/700\n",
            "13/13 [==============================] - 0s 5ms/step - loss: 7.3515 - val_loss: 16.8055\n",
            "Epoch 689/700\n",
            "13/13 [==============================] - 0s 4ms/step - loss: 7.2025 - val_loss: 15.6100\n",
            "Epoch 690/700\n",
            "13/13 [==============================] - 0s 5ms/step - loss: 6.7125 - val_loss: 15.8679\n",
            "Epoch 691/700\n",
            "13/13 [==============================] - 0s 4ms/step - loss: 7.1386 - val_loss: 14.5801\n",
            "Epoch 692/700\n",
            "13/13 [==============================] - 0s 5ms/step - loss: 7.4643 - val_loss: 14.9910\n",
            "Epoch 693/700\n",
            "13/13 [==============================] - 0s 5ms/step - loss: 8.3039 - val_loss: 15.9246\n",
            "Epoch 694/700\n",
            "13/13 [==============================] - 0s 4ms/step - loss: 6.0683 - val_loss: 14.1409\n",
            "Epoch 695/700\n",
            "13/13 [==============================] - 0s 4ms/step - loss: 6.3870 - val_loss: 14.8923\n",
            "Epoch 696/700\n",
            "13/13 [==============================] - 0s 4ms/step - loss: 6.7062 - val_loss: 15.7927\n",
            "Epoch 697/700\n",
            "13/13 [==============================] - 0s 5ms/step - loss: 7.0081 - val_loss: 14.8488\n",
            "Epoch 698/700\n",
            "13/13 [==============================] - 0s 4ms/step - loss: 7.1328 - val_loss: 15.8037\n",
            "Epoch 699/700\n",
            "13/13 [==============================] - 0s 4ms/step - loss: 6.6336 - val_loss: 16.4460\n",
            "Epoch 700/700\n",
            "13/13 [==============================] - 0s 4ms/step - loss: 6.8561 - val_loss: 15.2950\n"
          ],
          "name": "stdout"
        },
        {
          "output_type": "execute_result",
          "data": {
            "text/plain": [
              "<tensorflow.python.keras.callbacks.History at 0x7f2fb2eab0b8>"
            ]
          },
          "metadata": {
            "tags": []
          },
          "execution_count": 321
        }
      ]
    },
    {
      "cell_type": "markdown",
      "metadata": {
        "id": "EKPFhUo-kLmu",
        "colab_type": "text"
      },
      "source": [
        "# Plot Loss"
      ]
    },
    {
      "cell_type": "code",
      "metadata": {
        "id": "izVFJ1tcZqfd",
        "colab_type": "code",
        "colab": {
          "base_uri": "https://localhost:8080/",
          "height": 500
        },
        "outputId": "ef56f03f-5d66-4f4b-f17c-c97976c9a390"
      },
      "source": [
        "loss_df=pd.DataFrame(model.history.history)\n",
        "loss_df.plot(figsize=(14,8))"
      ],
      "execution_count": 322,
      "outputs": [
        {
          "output_type": "execute_result",
          "data": {
            "text/plain": [
              "<matplotlib.axes._subplots.AxesSubplot at 0x7f2fbb0f53c8>"
            ]
          },
          "metadata": {
            "tags": []
          },
          "execution_count": 322
        },
        {
          "output_type": "display_data",
          "data": {
            "image/png": "[encoded data removed]",
            "text/plain": [
              "<Figure size 1008x576 with 1 Axes>"
            ]
          },
          "metadata": {
            "tags": [],
            "needs_background": "light"
          }
        }
      ]
    },
    {
      "cell_type": "code",
      "metadata": {
        "id": "UwKbJMn4Z11o",
        "colab_type": "code",
        "colab": {}
      },
      "source": [
        "predictions=model.predict(X_test)"
      ],
      "execution_count": 0,
      "outputs": []
    },
    {
      "cell_type": "code",
      "metadata": {
        "id": "7fyXnk3gZ5Qi",
        "colab_type": "code",
        "colab": {
          "base_uri": "https://localhost:8080/",
          "height": 1000
        },
        "outputId": "a8858813-b0cf-453e-e0a1-109e84e3cb06"
      },
      "source": [
        "predictions"
      ],
      "execution_count": 324,
      "outputs": [
        {
          "output_type": "execute_result",
          "data": {
            "text/plain": [
              "array([[25.1],\n",
              "       [26.7],\n",
              "       [24.2],\n",
              "       [10.2],\n",
              "       [20.9],\n",
              "       [20.2],\n",
              "       [22.1],\n",
              "       [20.3],\n",
              "       [20.4],\n",
              "       [19.4],\n",
              "       [10. ],\n",
              "       [12.9],\n",
              "       [15. ],\n",
              "       [ 8.6],\n",
              "       [46.6],\n",
              "       [34.1],\n",
              "       [22.3],\n",
              "       [37.9],\n",
              "       [30.6],\n",
              "       [22.1],\n",
              "       [23.9],\n",
              "       [20.6],\n",
              "       [21.2],\n",
              "       [26.8],\n",
              "       [20.8],\n",
              "       [25.3],\n",
              "       [17. ],\n",
              "       [17.7],\n",
              "       [38.5],\n",
              "       [19.5],\n",
              "       [17.4],\n",
              "       [17.6],\n",
              "       [21.1],\n",
              "       [21.5],\n",
              "       [25.8],\n",
              "       [21.6],\n",
              "       [ 9.9],\n",
              "       [31.8],\n",
              "       [15. ],\n",
              "       [17.1],\n",
              "       [23.4],\n",
              "       [21.4],\n",
              "       [22.2],\n",
              "       [20.8],\n",
              "       [20.1],\n",
              "       [22.1],\n",
              "       [20.9],\n",
              "       [17.7],\n",
              "       [16.2],\n",
              "       [23.4],\n",
              "       [14.9],\n",
              "       [23.9],\n",
              "       [22.9],\n",
              "       [40.3],\n",
              "       [14.9],\n",
              "       [21.7],\n",
              "       [19. ],\n",
              "       [17.8],\n",
              "       [17.2],\n",
              "       [21.2],\n",
              "       [20.9],\n",
              "       [21.6],\n",
              "       [33.2],\n",
              "       [31.5],\n",
              "       [20.6],\n",
              "       [32.2],\n",
              "       [15.8],\n",
              "       [23.6],\n",
              "       [14.3],\n",
              "       [22. ],\n",
              "       [21.2],\n",
              "       [22.2],\n",
              "       [28.3],\n",
              "       [29.3],\n",
              "       [24.8],\n",
              "       [ 8.6],\n",
              "       [40.8],\n",
              "       [23.3],\n",
              "       [24.8],\n",
              "       [18.7],\n",
              "       [25.9],\n",
              "       [18.5],\n",
              "       [21.1],\n",
              "       [41.1],\n",
              "       [45. ],\n",
              "       [23.4],\n",
              "       [21.7],\n",
              "       [12.3],\n",
              "       [27.1],\n",
              "       [14.7],\n",
              "       [18.9],\n",
              "       [10.5],\n",
              "       [22.4],\n",
              "       [28.3],\n",
              "       [20.1],\n",
              "       [21.5],\n",
              "       [12.5],\n",
              "       [24.5],\n",
              "       [15. ],\n",
              "       [18.7],\n",
              "       [24.5],\n",
              "       [21.4]], dtype=float32)"
            ]
          },
          "metadata": {
            "tags": []
          },
          "execution_count": 324
        }
      ]
    },
    {
      "cell_type": "markdown",
      "metadata": {
        "id": "JBtexzqgkRmN",
        "colab_type": "text"
      },
      "source": [
        "# Evaluate"
      ]
    },
    {
      "cell_type": "code",
      "metadata": {
        "id": "ZyKhve9VaAln",
        "colab_type": "code",
        "colab": {
          "base_uri": "https://localhost:8080/",
          "height": 34
        },
        "outputId": "31a0a22a-d3da-4351-e89f-05dca348778c"
      },
      "source": [
        "df['medv'].mean()"
      ],
      "execution_count": 325,
      "outputs": [
        {
          "output_type": "execute_result",
          "data": {
            "text/plain": [
              "22.532806324110698"
            ]
          },
          "metadata": {
            "tags": []
          },
          "execution_count": 325
        }
      ]
    },
    {
      "cell_type": "code",
      "metadata": {
        "id": "zSndJx9KppLt",
        "colab_type": "code",
        "colab": {
          "base_uri": "https://localhost:8080/",
          "height": 34
        },
        "outputId": "ef6d3468-a6b2-4bcf-8cda-98afe2e5807d"
      },
      "source": [
        "import math\n",
        "mlr_rmse_ANN = math.sqrt(mean_squared_error(y_test, predictions))\n",
        "mlr_rmse_ANN"
      ],
      "execution_count": 326,
      "outputs": [
        {
          "output_type": "execute_result",
          "data": {
            "text/plain": [
              "4.292649953280244"
            ]
          },
          "metadata": {
            "tags": []
          },
          "execution_count": 326
        }
      ]
    },
    {
      "cell_type": "code",
      "metadata": {
        "id": "CFOoUVDnZ6m-",
        "colab_type": "code",
        "colab": {
          "base_uri": "https://localhost:8080/",
          "height": 34
        },
        "outputId": "c248e2fa-1896-4db5-fc1b-d94b9807f152"
      },
      "source": [
        "MAE_ANN=mean_absolute_error(y_test,predictions)\n",
        "MAE_ANN"
      ],
      "execution_count": 327,
      "outputs": [
        {
          "output_type": "execute_result",
          "data": {
            "text/plain": [
              "2.5876094331928328"
            ]
          },
          "metadata": {
            "tags": []
          },
          "execution_count": 327
        }
      ]
    },
    {
      "cell_type": "markdown",
      "metadata": {
        "id": "lTgO6j7zkY3s",
        "colab_type": "text"
      },
      "source": [
        "# Predictions"
      ]
    },
    {
      "cell_type": "code",
      "metadata": {
        "id": "MnxuZonAbfBb",
        "colab_type": "code",
        "colab": {}
      },
      "source": [
        "df2=df.drop('medv',axis=1)"
      ],
      "execution_count": 0,
      "outputs": []
    },
    {
      "cell_type": "code",
      "metadata": {
        "id": "PjgSdsjkbfEG",
        "colab_type": "code",
        "colab": {
          "base_uri": "https://localhost:8080/",
          "height": 359
        },
        "outputId": "7d191f6a-7bed-41fd-f9cb-2e985af0235e"
      },
      "source": [
        "house_prediction=df2.head(10)\n",
        "house_prediction"
      ],
      "execution_count": 154,
      "outputs": [
        {
          "output_type": "execute_result",
          "data": {
            "text/html": [
              "<div>\n",
              "<style scoped>\n",
              "    .dataframe tbody tr th:only-of-type {\n",
              "        vertical-align: middle;\n",
              "    }\n",
              "\n",
              "    .dataframe tbody tr th {\n",
              "        vertical-align: top;\n",
              "    }\n",
              "\n",
              "    .dataframe thead th {\n",
              "        text-align: right;\n",
              "    }\n",
              "</style>\n",
              "<table border=\"1\" class=\"dataframe\">\n",
              "  <thead>\n",
              "    <tr style=\"text-align: right;\">\n",
              "      <th></th>\n",
              "      <th>crim</th>\n",
              "      <th>zn</th>\n",
              "      <th>indus</th>\n",
              "      <th>chas</th>\n",
              "      <th>nox</th>\n",
              "      <th>rm</th>\n",
              "      <th>age</th>\n",
              "      <th>dis</th>\n",
              "      <th>rad</th>\n",
              "      <th>tax</th>\n",
              "      <th>ptratio</th>\n",
              "      <th>black</th>\n",
              "      <th>lstat</th>\n",
              "    </tr>\n",
              "  </thead>\n",
              "  <tbody>\n",
              "    <tr>\n",
              "      <th>0</th>\n",
              "      <td>0.00632</td>\n",
              "      <td>18.0</td>\n",
              "      <td>2.31</td>\n",
              "      <td>0</td>\n",
              "      <td>0.538</td>\n",
              "      <td>6.575</td>\n",
              "      <td>65.2</td>\n",
              "      <td>4.0900</td>\n",
              "      <td>1</td>\n",
              "      <td>296</td>\n",
              "      <td>15.3</td>\n",
              "      <td>396.90</td>\n",
              "      <td>4.98</td>\n",
              "    </tr>\n",
              "    <tr>\n",
              "      <th>1</th>\n",
              "      <td>0.02731</td>\n",
              "      <td>0.0</td>\n",
              "      <td>7.07</td>\n",
              "      <td>0</td>\n",
              "      <td>0.469</td>\n",
              "      <td>6.421</td>\n",
              "      <td>78.9</td>\n",
              "      <td>4.9671</td>\n",
              "      <td>2</td>\n",
              "      <td>242</td>\n",
              "      <td>17.8</td>\n",
              "      <td>396.90</td>\n",
              "      <td>9.14</td>\n",
              "    </tr>\n",
              "    <tr>\n",
              "      <th>2</th>\n",
              "      <td>0.02729</td>\n",
              "      <td>0.0</td>\n",
              "      <td>7.07</td>\n",
              "      <td>0</td>\n",
              "      <td>0.469</td>\n",
              "      <td>7.185</td>\n",
              "      <td>61.1</td>\n",
              "      <td>4.9671</td>\n",
              "      <td>2</td>\n",
              "      <td>242</td>\n",
              "      <td>17.8</td>\n",
              "      <td>392.83</td>\n",
              "      <td>4.03</td>\n",
              "    </tr>\n",
              "    <tr>\n",
              "      <th>3</th>\n",
              "      <td>0.03237</td>\n",
              "      <td>0.0</td>\n",
              "      <td>2.18</td>\n",
              "      <td>0</td>\n",
              "      <td>0.458</td>\n",
              "      <td>6.998</td>\n",
              "      <td>45.8</td>\n",
              "      <td>6.0622</td>\n",
              "      <td>3</td>\n",
              "      <td>222</td>\n",
              "      <td>18.7</td>\n",
              "      <td>394.63</td>\n",
              "      <td>2.94</td>\n",
              "    </tr>\n",
              "    <tr>\n",
              "      <th>4</th>\n",
              "      <td>0.06905</td>\n",
              "      <td>0.0</td>\n",
              "      <td>2.18</td>\n",
              "      <td>0</td>\n",
              "      <td>0.458</td>\n",
              "      <td>7.147</td>\n",
              "      <td>54.2</td>\n",
              "      <td>6.0622</td>\n",
              "      <td>3</td>\n",
              "      <td>222</td>\n",
              "      <td>18.7</td>\n",
              "      <td>396.90</td>\n",
              "      <td>5.33</td>\n",
              "    </tr>\n",
              "    <tr>\n",
              "      <th>5</th>\n",
              "      <td>0.02985</td>\n",
              "      <td>0.0</td>\n",
              "      <td>2.18</td>\n",
              "      <td>0</td>\n",
              "      <td>0.458</td>\n",
              "      <td>6.430</td>\n",
              "      <td>58.7</td>\n",
              "      <td>6.0622</td>\n",
              "      <td>3</td>\n",
              "      <td>222</td>\n",
              "      <td>18.7</td>\n",
              "      <td>394.12</td>\n",
              "      <td>5.21</td>\n",
              "    </tr>\n",
              "    <tr>\n",
              "      <th>6</th>\n",
              "      <td>0.08829</td>\n",
              "      <td>12.5</td>\n",
              "      <td>7.87</td>\n",
              "      <td>0</td>\n",
              "      <td>0.524</td>\n",
              "      <td>6.012</td>\n",
              "      <td>66.6</td>\n",
              "      <td>5.5605</td>\n",
              "      <td>5</td>\n",
              "      <td>311</td>\n",
              "      <td>15.2</td>\n",
              "      <td>395.60</td>\n",
              "      <td>12.43</td>\n",
              "    </tr>\n",
              "    <tr>\n",
              "      <th>7</th>\n",
              "      <td>0.14455</td>\n",
              "      <td>12.5</td>\n",
              "      <td>7.87</td>\n",
              "      <td>0</td>\n",
              "      <td>0.524</td>\n",
              "      <td>6.172</td>\n",
              "      <td>96.1</td>\n",
              "      <td>5.9505</td>\n",
              "      <td>5</td>\n",
              "      <td>311</td>\n",
              "      <td>15.2</td>\n",
              "      <td>396.90</td>\n",
              "      <td>19.15</td>\n",
              "    </tr>\n",
              "    <tr>\n",
              "      <th>8</th>\n",
              "      <td>0.21124</td>\n",
              "      <td>12.5</td>\n",
              "      <td>7.87</td>\n",
              "      <td>0</td>\n",
              "      <td>0.524</td>\n",
              "      <td>5.631</td>\n",
              "      <td>100.0</td>\n",
              "      <td>6.0821</td>\n",
              "      <td>5</td>\n",
              "      <td>311</td>\n",
              "      <td>15.2</td>\n",
              "      <td>386.63</td>\n",
              "      <td>29.93</td>\n",
              "    </tr>\n",
              "    <tr>\n",
              "      <th>9</th>\n",
              "      <td>0.17004</td>\n",
              "      <td>12.5</td>\n",
              "      <td>7.87</td>\n",
              "      <td>0</td>\n",
              "      <td>0.524</td>\n",
              "      <td>6.004</td>\n",
              "      <td>85.9</td>\n",
              "      <td>6.5921</td>\n",
              "      <td>5</td>\n",
              "      <td>311</td>\n",
              "      <td>15.2</td>\n",
              "      <td>386.71</td>\n",
              "      <td>17.10</td>\n",
              "    </tr>\n",
              "  </tbody>\n",
              "</table>\n",
              "</div>"
            ],
            "text/plain": [
              "      crim    zn  indus  chas    nox  ...  rad  tax  ptratio   black  lstat\n",
              "0  0.00632  18.0   2.31     0  0.538  ...    1  296     15.3  396.90   4.98\n",
              "1  0.02731   0.0   7.07     0  0.469  ...    2  242     17.8  396.90   9.14\n",
              "2  0.02729   0.0   7.07     0  0.469  ...    2  242     17.8  392.83   4.03\n",
              "3  0.03237   0.0   2.18     0  0.458  ...    3  222     18.7  394.63   2.94\n",
              "4  0.06905   0.0   2.18     0  0.458  ...    3  222     18.7  396.90   5.33\n",
              "5  0.02985   0.0   2.18     0  0.458  ...    3  222     18.7  394.12   5.21\n",
              "6  0.08829  12.5   7.87     0  0.524  ...    5  311     15.2  395.60  12.43\n",
              "7  0.14455  12.5   7.87     0  0.524  ...    5  311     15.2  396.90  19.15\n",
              "8  0.21124  12.5   7.87     0  0.524  ...    5  311     15.2  386.63  29.93\n",
              "9  0.17004  12.5   7.87     0  0.524  ...    5  311     15.2  386.71  17.10\n",
              "\n",
              "[10 rows x 13 columns]"
            ]
          },
          "metadata": {
            "tags": []
          },
          "execution_count": 154
        }
      ]
    },
    {
      "cell_type": "code",
      "metadata": {
        "id": "Pw0fv_JRbkSZ",
        "colab_type": "code",
        "colab": {}
      },
      "source": [
        "house_ann=scaler.transform(house_prediction.values.reshape(-1,13))"
      ],
      "execution_count": 0,
      "outputs": []
    },
    {
      "cell_type": "code",
      "metadata": {
        "id": "ZzwJq24jbkaa",
        "colab_type": "code",
        "colab": {}
      },
      "source": [
        "predictions_ann=model.predict(house_ann)"
      ],
      "execution_count": 0,
      "outputs": []
    },
    {
      "cell_type": "code",
      "metadata": {
        "id": "jpFaH_WIbkYA",
        "colab_type": "code",
        "colab": {
          "base_uri": "https://localhost:8080/",
          "height": 359
        },
        "outputId": "92ea6956-48e5-4b0f-d7b7-857bfe61e534"
      },
      "source": [
        "df_ann = pd.DataFrame(predictions_ann, columns=['Predictions_ann'])\n",
        "df_ann"
      ],
      "execution_count": 157,
      "outputs": [
        {
          "output_type": "execute_result",
          "data": {
            "text/html": [
              "<div>\n",
              "<style scoped>\n",
              "    .dataframe tbody tr th:only-of-type {\n",
              "        vertical-align: middle;\n",
              "    }\n",
              "\n",
              "    .dataframe tbody tr th {\n",
              "        vertical-align: top;\n",
              "    }\n",
              "\n",
              "    .dataframe thead th {\n",
              "        text-align: right;\n",
              "    }\n",
              "</style>\n",
              "<table border=\"1\" class=\"dataframe\">\n",
              "  <thead>\n",
              "    <tr style=\"text-align: right;\">\n",
              "      <th></th>\n",
              "      <th>Predictions_ann</th>\n",
              "    </tr>\n",
              "  </thead>\n",
              "  <tbody>\n",
              "    <tr>\n",
              "      <th>0</th>\n",
              "      <td>25.204807</td>\n",
              "    </tr>\n",
              "    <tr>\n",
              "      <th>1</th>\n",
              "      <td>22.331741</td>\n",
              "    </tr>\n",
              "    <tr>\n",
              "      <th>2</th>\n",
              "      <td>30.816872</td>\n",
              "    </tr>\n",
              "    <tr>\n",
              "      <th>3</th>\n",
              "      <td>32.384190</td>\n",
              "    </tr>\n",
              "    <tr>\n",
              "      <th>4</th>\n",
              "      <td>32.175018</td>\n",
              "    </tr>\n",
              "    <tr>\n",
              "      <th>5</th>\n",
              "      <td>26.085541</td>\n",
              "    </tr>\n",
              "    <tr>\n",
              "      <th>6</th>\n",
              "      <td>21.806234</td>\n",
              "    </tr>\n",
              "    <tr>\n",
              "      <th>7</th>\n",
              "      <td>22.170792</td>\n",
              "    </tr>\n",
              "    <tr>\n",
              "      <th>8</th>\n",
              "      <td>17.147882</td>\n",
              "    </tr>\n",
              "    <tr>\n",
              "      <th>9</th>\n",
              "      <td>20.906023</td>\n",
              "    </tr>\n",
              "  </tbody>\n",
              "</table>\n",
              "</div>"
            ],
            "text/plain": [
              "   Predictions_ann\n",
              "0        25.204807\n",
              "1        22.331741\n",
              "2        30.816872\n",
              "3        32.384190\n",
              "4        32.175018\n",
              "5        26.085541\n",
              "6        21.806234\n",
              "7        22.170792\n",
              "8        17.147882\n",
              "9        20.906023"
            ]
          },
          "metadata": {
            "tags": []
          },
          "execution_count": 157
        }
      ]
    },
    {
      "cell_type": "code",
      "metadata": {
        "id": "f7lwxSLGcItc",
        "colab_type": "code",
        "colab": {
          "base_uri": "https://localhost:8080/",
          "height": 359
        },
        "outputId": "b3d1b1ac-e111-4535-d77d-8f0f9222f9d9"
      },
      "source": [
        "data_predicted= pd.concat([df, df_ann,df_lr], axis=1)\n",
        "data_predicted.head(10)"
      ],
      "execution_count": 158,
      "outputs": [
        {
          "output_type": "execute_result",
          "data": {
            "text/html": [
              "<div>\n",
              "<style scoped>\n",
              "    .dataframe tbody tr th:only-of-type {\n",
              "        vertical-align: middle;\n",
              "    }\n",
              "\n",
              "    .dataframe tbody tr th {\n",
              "        vertical-align: top;\n",
              "    }\n",
              "\n",
              "    .dataframe thead th {\n",
              "        text-align: right;\n",
              "    }\n",
              "</style>\n",
              "<table border=\"1\" class=\"dataframe\">\n",
              "  <thead>\n",
              "    <tr style=\"text-align: right;\">\n",
              "      <th></th>\n",
              "      <th>crim</th>\n",
              "      <th>zn</th>\n",
              "      <th>indus</th>\n",
              "      <th>chas</th>\n",
              "      <th>nox</th>\n",
              "      <th>rm</th>\n",
              "      <th>age</th>\n",
              "      <th>dis</th>\n",
              "      <th>rad</th>\n",
              "      <th>tax</th>\n",
              "      <th>ptratio</th>\n",
              "      <th>black</th>\n",
              "      <th>lstat</th>\n",
              "      <th>medv</th>\n",
              "      <th>Predictions_ann</th>\n",
              "      <th>Predictions_lr</th>\n",
              "    </tr>\n",
              "  </thead>\n",
              "  <tbody>\n",
              "    <tr>\n",
              "      <th>0</th>\n",
              "      <td>0.00632</td>\n",
              "      <td>18.0</td>\n",
              "      <td>2.31</td>\n",
              "      <td>0</td>\n",
              "      <td>0.538</td>\n",
              "      <td>6.575</td>\n",
              "      <td>65.2</td>\n",
              "      <td>4.0900</td>\n",
              "      <td>1</td>\n",
              "      <td>296</td>\n",
              "      <td>15.3</td>\n",
              "      <td>396.90</td>\n",
              "      <td>4.98</td>\n",
              "      <td>24.0</td>\n",
              "      <td>25.204807</td>\n",
              "      <td>30.499498</td>\n",
              "    </tr>\n",
              "    <tr>\n",
              "      <th>1</th>\n",
              "      <td>0.02731</td>\n",
              "      <td>0.0</td>\n",
              "      <td>7.07</td>\n",
              "      <td>0</td>\n",
              "      <td>0.469</td>\n",
              "      <td>6.421</td>\n",
              "      <td>78.9</td>\n",
              "      <td>4.9671</td>\n",
              "      <td>2</td>\n",
              "      <td>242</td>\n",
              "      <td>17.8</td>\n",
              "      <td>396.90</td>\n",
              "      <td>9.14</td>\n",
              "      <td>21.6</td>\n",
              "      <td>22.331741</td>\n",
              "      <td>25.172480</td>\n",
              "    </tr>\n",
              "    <tr>\n",
              "      <th>2</th>\n",
              "      <td>0.02729</td>\n",
              "      <td>0.0</td>\n",
              "      <td>7.07</td>\n",
              "      <td>0</td>\n",
              "      <td>0.469</td>\n",
              "      <td>7.185</td>\n",
              "      <td>61.1</td>\n",
              "      <td>4.9671</td>\n",
              "      <td>2</td>\n",
              "      <td>242</td>\n",
              "      <td>17.8</td>\n",
              "      <td>392.83</td>\n",
              "      <td>4.03</td>\n",
              "      <td>34.7</td>\n",
              "      <td>30.816872</td>\n",
              "      <td>30.546654</td>\n",
              "    </tr>\n",
              "    <tr>\n",
              "      <th>3</th>\n",
              "      <td>0.03237</td>\n",
              "      <td>0.0</td>\n",
              "      <td>2.18</td>\n",
              "      <td>0</td>\n",
              "      <td>0.458</td>\n",
              "      <td>6.998</td>\n",
              "      <td>45.8</td>\n",
              "      <td>6.0622</td>\n",
              "      <td>3</td>\n",
              "      <td>222</td>\n",
              "      <td>18.7</td>\n",
              "      <td>394.63</td>\n",
              "      <td>2.94</td>\n",
              "      <td>33.4</td>\n",
              "      <td>32.384190</td>\n",
              "      <td>28.606948</td>\n",
              "    </tr>\n",
              "    <tr>\n",
              "      <th>4</th>\n",
              "      <td>0.06905</td>\n",
              "      <td>0.0</td>\n",
              "      <td>2.18</td>\n",
              "      <td>0</td>\n",
              "      <td>0.458</td>\n",
              "      <td>7.147</td>\n",
              "      <td>54.2</td>\n",
              "      <td>6.0622</td>\n",
              "      <td>3</td>\n",
              "      <td>222</td>\n",
              "      <td>18.7</td>\n",
              "      <td>396.90</td>\n",
              "      <td>5.33</td>\n",
              "      <td>36.2</td>\n",
              "      <td>32.175018</td>\n",
              "      <td>27.969583</td>\n",
              "    </tr>\n",
              "    <tr>\n",
              "      <th>5</th>\n",
              "      <td>0.02985</td>\n",
              "      <td>0.0</td>\n",
              "      <td>2.18</td>\n",
              "      <td>0</td>\n",
              "      <td>0.458</td>\n",
              "      <td>6.430</td>\n",
              "      <td>58.7</td>\n",
              "      <td>6.0622</td>\n",
              "      <td>3</td>\n",
              "      <td>222</td>\n",
              "      <td>18.7</td>\n",
              "      <td>394.12</td>\n",
              "      <td>5.21</td>\n",
              "      <td>28.7</td>\n",
              "      <td>26.085541</td>\n",
              "      <td>25.337665</td>\n",
              "    </tr>\n",
              "    <tr>\n",
              "      <th>6</th>\n",
              "      <td>0.08829</td>\n",
              "      <td>12.5</td>\n",
              "      <td>7.87</td>\n",
              "      <td>0</td>\n",
              "      <td>0.524</td>\n",
              "      <td>6.012</td>\n",
              "      <td>66.6</td>\n",
              "      <td>5.5605</td>\n",
              "      <td>5</td>\n",
              "      <td>311</td>\n",
              "      <td>15.2</td>\n",
              "      <td>395.60</td>\n",
              "      <td>12.43</td>\n",
              "      <td>22.9</td>\n",
              "      <td>21.806234</td>\n",
              "      <td>23.603188</td>\n",
              "    </tr>\n",
              "    <tr>\n",
              "      <th>7</th>\n",
              "      <td>0.14455</td>\n",
              "      <td>12.5</td>\n",
              "      <td>7.87</td>\n",
              "      <td>0</td>\n",
              "      <td>0.524</td>\n",
              "      <td>6.172</td>\n",
              "      <td>96.1</td>\n",
              "      <td>5.9505</td>\n",
              "      <td>5</td>\n",
              "      <td>311</td>\n",
              "      <td>15.2</td>\n",
              "      <td>396.90</td>\n",
              "      <td>19.15</td>\n",
              "      <td>27.1</td>\n",
              "      <td>22.170792</td>\n",
              "      <td>20.256071</td>\n",
              "    </tr>\n",
              "    <tr>\n",
              "      <th>8</th>\n",
              "      <td>0.21124</td>\n",
              "      <td>12.5</td>\n",
              "      <td>7.87</td>\n",
              "      <td>0</td>\n",
              "      <td>0.524</td>\n",
              "      <td>5.631</td>\n",
              "      <td>100.0</td>\n",
              "      <td>6.0821</td>\n",
              "      <td>5</td>\n",
              "      <td>311</td>\n",
              "      <td>15.2</td>\n",
              "      <td>386.63</td>\n",
              "      <td>29.93</td>\n",
              "      <td>16.5</td>\n",
              "      <td>17.147882</td>\n",
              "      <td>12.651475</td>\n",
              "    </tr>\n",
              "    <tr>\n",
              "      <th>9</th>\n",
              "      <td>0.17004</td>\n",
              "      <td>12.5</td>\n",
              "      <td>7.87</td>\n",
              "      <td>0</td>\n",
              "      <td>0.524</td>\n",
              "      <td>6.004</td>\n",
              "      <td>85.9</td>\n",
              "      <td>6.5921</td>\n",
              "      <td>5</td>\n",
              "      <td>311</td>\n",
              "      <td>15.2</td>\n",
              "      <td>386.71</td>\n",
              "      <td>17.10</td>\n",
              "      <td>18.9</td>\n",
              "      <td>20.906023</td>\n",
              "      <td>19.699869</td>\n",
              "    </tr>\n",
              "  </tbody>\n",
              "</table>\n",
              "</div>"
            ],
            "text/plain": [
              "      crim    zn  indus  chas  ...  lstat  medv  Predictions_ann  Predictions_lr\n",
              "0  0.00632  18.0   2.31     0  ...   4.98  24.0        25.204807       30.499498\n",
              "1  0.02731   0.0   7.07     0  ...   9.14  21.6        22.331741       25.172480\n",
              "2  0.02729   0.0   7.07     0  ...   4.03  34.7        30.816872       30.546654\n",
              "3  0.03237   0.0   2.18     0  ...   2.94  33.4        32.384190       28.606948\n",
              "4  0.06905   0.0   2.18     0  ...   5.33  36.2        32.175018       27.969583\n",
              "5  0.02985   0.0   2.18     0  ...   5.21  28.7        26.085541       25.337665\n",
              "6  0.08829  12.5   7.87     0  ...  12.43  22.9        21.806234       23.603188\n",
              "7  0.14455  12.5   7.87     0  ...  19.15  27.1        22.170792       20.256071\n",
              "8  0.21124  12.5   7.87     0  ...  29.93  16.5        17.147882       12.651475\n",
              "9  0.17004  12.5   7.87     0  ...  17.10  18.9        20.906023       19.699869\n",
              "\n",
              "[10 rows x 16 columns]"
            ]
          },
          "metadata": {
            "tags": []
          },
          "execution_count": 158
        }
      ]
    },
    {
      "cell_type": "code",
      "metadata": {
        "id": "3q6JJqBfcIwk",
        "colab_type": "code",
        "colab": {
          "base_uri": "https://localhost:8080/",
          "height": 516
        },
        "outputId": "e4a03590-32bc-4838-ae18-cefbf0dd974a"
      },
      "source": [
        "plt.figure(figsize=(14,8))\n",
        "plt.scatter(y_test,predictions)\n",
        "plt.plot(y_test,y_test,'r')\n",
        "plt.title('ANN')"
      ],
      "execution_count": 159,
      "outputs": [
        {
          "output_type": "execute_result",
          "data": {
            "text/plain": [
              "Text(0.5, 1.0, 'ANN')"
            ]
          },
          "metadata": {
            "tags": []
          },
          "execution_count": 159
        },
        {
          "output_type": "display_data",
          "data": {
            "image/png": "[encoded data removed]",
            "text/plain": [
              "<Figure size 1008x576 with 1 Axes>"
            ]
          },
          "metadata": {
            "tags": [],
            "needs_background": "light"
          }
        }
      ]
    },
    {
      "cell_type": "code",
      "metadata": {
        "id": "Vkq4Q07mfNJ7",
        "colab_type": "code",
        "colab": {
          "base_uri": "https://localhost:8080/",
          "height": 516
        },
        "outputId": "a75f82f3-9b0f-48b4-f014-55dc991ea510"
      },
      "source": [
        "plt.figure(figsize=(14,8))\n",
        "plt.scatter(y_test,y_pred)\n",
        "plt.plot(y_test,y_test,'r')\n",
        "plt.title('LR')"
      ],
      "execution_count": 160,
      "outputs": [
        {
          "output_type": "execute_result",
          "data": {
            "text/plain": [
              "Text(0.5, 1.0, 'LR')"
            ]
          },
          "metadata": {
            "tags": []
          },
          "execution_count": 160
        },
        {
          "output_type": "display_data",
          "data": {
            "image/png": "[encoded data removed]",
            "text/plain": [
              "<Figure size 1008x576 with 1 Axes>"
            ]
          },
          "metadata": {
            "tags": [],
            "needs_background": "light"
          }
        }
      ]
    },
    {
      "cell_type": "markdown",
      "metadata": {
        "id": "NNEAfyBG1lc8",
        "colab_type": "text"
      },
      "source": [
        "# Polynominal Regression"
      ]
    },
    {
      "cell_type": "code",
      "metadata": {
        "id": "M8krRt46otQ9",
        "colab_type": "code",
        "colab": {}
      },
      "source": [
        "from sklearn.preprocessing import PolynomialFeatures\n",
        "from sklearn.metrics import r2_score"
      ],
      "execution_count": 0,
      "outputs": []
    },
    {
      "cell_type": "code",
      "metadata": {
        "id": "2GltS8SA2LOp",
        "colab_type": "code",
        "colab": {
          "base_uri": "https://localhost:8080/",
          "height": 204
        },
        "outputId": "7926a233-35f8-4288-fcfe-93bfe25d98dc"
      },
      "source": [
        "df = pd.read_csv(io.BytesIO(uploaded['Boston.csv']))\n",
        "df.head()"
      ],
      "execution_count": 328,
      "outputs": [
        {
          "output_type": "execute_result",
          "data": {
            "text/html": [
              "<div>\n",
              "<style scoped>\n",
              "    .dataframe tbody tr th:only-of-type {\n",
              "        vertical-align: middle;\n",
              "    }\n",
              "\n",
              "    .dataframe tbody tr th {\n",
              "        vertical-align: top;\n",
              "    }\n",
              "\n",
              "    .dataframe thead th {\n",
              "        text-align: right;\n",
              "    }\n",
              "</style>\n",
              "<table border=\"1\" class=\"dataframe\">\n",
              "  <thead>\n",
              "    <tr style=\"text-align: right;\">\n",
              "      <th></th>\n",
              "      <th>Unnamed: 0</th>\n",
              "      <th>crim</th>\n",
              "      <th>zn</th>\n",
              "      <th>indus</th>\n",
              "      <th>chas</th>\n",
              "      <th>nox</th>\n",
              "      <th>rm</th>\n",
              "      <th>age</th>\n",
              "      <th>dis</th>\n",
              "      <th>rad</th>\n",
              "      <th>tax</th>\n",
              "      <th>ptratio</th>\n",
              "      <th>black</th>\n",
              "      <th>lstat</th>\n",
              "      <th>medv</th>\n",
              "    </tr>\n",
              "  </thead>\n",
              "  <tbody>\n",
              "    <tr>\n",
              "      <th>0</th>\n",
              "      <td>1</td>\n",
              "      <td>0.00632</td>\n",
              "      <td>18.0</td>\n",
              "      <td>2.31</td>\n",
              "      <td>0</td>\n",
              "      <td>0.538</td>\n",
              "      <td>6.575</td>\n",
              "      <td>65.2</td>\n",
              "      <td>4.0900</td>\n",
              "      <td>1</td>\n",
              "      <td>296</td>\n",
              "      <td>15.3</td>\n",
              "      <td>396.90</td>\n",
              "      <td>4.98</td>\n",
              "      <td>24.0</td>\n",
              "    </tr>\n",
              "    <tr>\n",
              "      <th>1</th>\n",
              "      <td>2</td>\n",
              "      <td>0.02731</td>\n",
              "      <td>0.0</td>\n",
              "      <td>7.07</td>\n",
              "      <td>0</td>\n",
              "      <td>0.469</td>\n",
              "      <td>6.421</td>\n",
              "      <td>78.9</td>\n",
              "      <td>4.9671</td>\n",
              "      <td>2</td>\n",
              "      <td>242</td>\n",
              "      <td>17.8</td>\n",
              "      <td>396.90</td>\n",
              "      <td>9.14</td>\n",
              "      <td>21.6</td>\n",
              "    </tr>\n",
              "    <tr>\n",
              "      <th>2</th>\n",
              "      <td>3</td>\n",
              "      <td>0.02729</td>\n",
              "      <td>0.0</td>\n",
              "      <td>7.07</td>\n",
              "      <td>0</td>\n",
              "      <td>0.469</td>\n",
              "      <td>7.185</td>\n",
              "      <td>61.1</td>\n",
              "      <td>4.9671</td>\n",
              "      <td>2</td>\n",
              "      <td>242</td>\n",
              "      <td>17.8</td>\n",
              "      <td>392.83</td>\n",
              "      <td>4.03</td>\n",
              "      <td>34.7</td>\n",
              "    </tr>\n",
              "    <tr>\n",
              "      <th>3</th>\n",
              "      <td>4</td>\n",
              "      <td>0.03237</td>\n",
              "      <td>0.0</td>\n",
              "      <td>2.18</td>\n",
              "      <td>0</td>\n",
              "      <td>0.458</td>\n",
              "      <td>6.998</td>\n",
              "      <td>45.8</td>\n",
              "      <td>6.0622</td>\n",
              "      <td>3</td>\n",
              "      <td>222</td>\n",
              "      <td>18.7</td>\n",
              "      <td>394.63</td>\n",
              "      <td>2.94</td>\n",
              "      <td>33.4</td>\n",
              "    </tr>\n",
              "    <tr>\n",
              "      <th>4</th>\n",
              "      <td>5</td>\n",
              "      <td>0.06905</td>\n",
              "      <td>0.0</td>\n",
              "      <td>2.18</td>\n",
              "      <td>0</td>\n",
              "      <td>0.458</td>\n",
              "      <td>7.147</td>\n",
              "      <td>54.2</td>\n",
              "      <td>6.0622</td>\n",
              "      <td>3</td>\n",
              "      <td>222</td>\n",
              "      <td>18.7</td>\n",
              "      <td>396.90</td>\n",
              "      <td>5.33</td>\n",
              "      <td>36.2</td>\n",
              "    </tr>\n",
              "  </tbody>\n",
              "</table>\n",
              "</div>"
            ],
            "text/plain": [
              "   Unnamed: 0     crim    zn  indus  chas  ...  tax  ptratio   black  lstat  medv\n",
              "0           1  0.00632  18.0   2.31     0  ...  296     15.3  396.90   4.98  24.0\n",
              "1           2  0.02731   0.0   7.07     0  ...  242     17.8  396.90   9.14  21.6\n",
              "2           3  0.02729   0.0   7.07     0  ...  242     17.8  392.83   4.03  34.7\n",
              "3           4  0.03237   0.0   2.18     0  ...  222     18.7  394.63   2.94  33.4\n",
              "4           5  0.06905   0.0   2.18     0  ...  222     18.7  396.90   5.33  36.2\n",
              "\n",
              "[5 rows x 15 columns]"
            ]
          },
          "metadata": {
            "tags": []
          },
          "execution_count": 328
        }
      ]
    },
    {
      "cell_type": "code",
      "metadata": {
        "id": "80QC-55N1tI3",
        "colab_type": "code",
        "colab": {}
      },
      "source": [
        " poly_features = PolynomialFeatures(degree=2)"
      ],
      "execution_count": 0,
      "outputs": []
    },
    {
      "cell_type": "code",
      "metadata": {
        "id": "nSOOjulJ1wnE",
        "colab_type": "code",
        "colab": {}
      },
      "source": [
        "X = df.iloc[:, :-1].values\n",
        "y = df.iloc[:, -1].values"
      ],
      "execution_count": 0,
      "outputs": []
    },
    {
      "cell_type": "code",
      "metadata": {
        "id": "NUdy-Y5n2ddY",
        "colab_type": "code",
        "colab": {}
      },
      "source": [
        "from sklearn.model_selection import train_test_split\n",
        "X_train, X_test, y_train, y_test = train_test_split(X, y, test_size = 0.2, random_state = 0)"
      ],
      "execution_count": 0,
      "outputs": []
    },
    {
      "cell_type": "code",
      "metadata": {
        "id": "VeGp8ZEl2f5L",
        "colab_type": "code",
        "colab": {}
      },
      "source": [
        "X_train_poly = poly_features.fit_transform(X_train)"
      ],
      "execution_count": 0,
      "outputs": []
    },
    {
      "cell_type": "code",
      "metadata": {
        "id": "LPJ6XPdC2iMm",
        "colab_type": "code",
        "colab": {
          "base_uri": "https://localhost:8080/",
          "height": 34
        },
        "outputId": "e15c4ab3-bc82-424d-d855-4fafe306af23"
      },
      "source": [
        "poly_model = LinearRegression()\n",
        "poly_model.fit(X_train_poly, y_train)"
      ],
      "execution_count": 333,
      "outputs": [
        {
          "output_type": "execute_result",
          "data": {
            "text/plain": [
              "LinearRegression(copy_X=True, fit_intercept=True, n_jobs=None, normalize=False)"
            ]
          },
          "metadata": {
            "tags": []
          },
          "execution_count": 333
        }
      ]
    },
    {
      "cell_type": "code",
      "metadata": {
        "id": "NxnfflD12rfd",
        "colab_type": "code",
        "colab": {}
      },
      "source": [
        "y_test_predict_poly = poly_model.predict(poly_features.fit_transform(X_test))"
      ],
      "execution_count": 0,
      "outputs": []
    },
    {
      "cell_type": "code",
      "metadata": {
        "id": "5NdlZJRS24kx",
        "colab_type": "code",
        "colab": {
          "base_uri": "https://localhost:8080/",
          "height": 221
        },
        "outputId": "181de921-ad23-465e-9809-93dbe2bdceb6"
      },
      "source": [
        "y_test_predict_poly"
      ],
      "execution_count": 335,
      "outputs": [
        {
          "output_type": "execute_result",
          "data": {
            "text/plain": [
              "array([ 23.2,  28.5,  27.5,   6.9,  20.8,  21. ,  21.7,  20. ,  18.6,\n",
              "        24.8,   9.9,  15.8,  13.8,   4.3,  45.9,  32.1,  23. ,  38.9,\n",
              "        32.4,  21.5,  23. ,  22. ,  20.1,  26.3,  16.6,  25.1,  16. ,\n",
              "        18.7,  34.8,  14.8,  18.4,  17.5,  19.5,  17.7,  26.3,  16. ,\n",
              "         7.6,  38.4,  17.2,  15.1,  21.5,  17.1,  20.8,  18.5,  22.5,\n",
              "        20.2,  19.3,  12. ,  14.2,  23.2, -15.6,  26. ,  21.7,  50.6,\n",
              "         5.3,  20.7,  15.2,  19.2,  27.5,  19.3,  21.5,  21.7,  31.1,\n",
              "        31. ,  17.9,  29.9,  15. ,  20.4,  17.2,  19.2,  17.6,  22.5,\n",
              "        29.1,  28.6,  27.4,   6.5,  42.3,  22.5,  25.8,  18.4,  25.2,\n",
              "        18.6,  22.8,  41.5,  44.1,  22.6,  23.1,  13.6,  33.9,  16.5,\n",
              "        28.9,   8.5,  23.2,  27.5,  16.3,  19.7,  12.9,  31.5,  13.3,\n",
              "        16.2,  24.4,  19.1])"
            ]
          },
          "metadata": {
            "tags": []
          },
          "execution_count": 335
        }
      ]
    },
    {
      "cell_type": "code",
      "metadata": {
        "id": "iwmMIJRj4Ww2",
        "colab_type": "code",
        "colab": {}
      },
      "source": [
        "mlr_rmse_ANN = math.sqrt(mean_squared_error(y_test, predictions))\n",
        "mlr_rmse_ANN"
      ],
      "execution_count": 0,
      "outputs": []
    },
    {
      "cell_type": "code",
      "metadata": {
        "id": "jrs5o0mz2_r2",
        "colab_type": "code",
        "colab": {
          "base_uri": "https://localhost:8080/",
          "height": 34
        },
        "outputId": "433a3a2b-60a8-4174-bcb4-1c21bef4254d"
      },
      "source": [
        "rmse_test_POLY = np.sqrt(mean_squared_error(y_test, y_test_predict_poly))\n",
        "rmse_test_POLY\n",
        "  "
      ],
      "execution_count": 336,
      "outputs": [
        {
          "output_type": "execute_result",
          "data": {
            "text/plain": [
              "5.530545453977526"
            ]
          },
          "metadata": {
            "tags": []
          },
          "execution_count": 336
        }
      ]
    },
    {
      "cell_type": "code",
      "metadata": {
        "id": "-GRVkz3D3fK_",
        "colab_type": "code",
        "colab": {
          "base_uri": "https://localhost:8080/",
          "height": 34
        },
        "outputId": "f08a8b72-03be-4b08-8c4d-a139277fc4d6"
      },
      "source": [
        "print('Trainning data r_squared: ', poly_model.score(X_train_poly,y_train))"
      ],
      "execution_count": 172,
      "outputs": [
        {
          "output_type": "stream",
          "text": [
            "Trainning data r_squared:  0.9518402891629278\n"
          ],
          "name": "stdout"
        }
      ]
    },
    {
      "cell_type": "code",
      "metadata": {
        "id": "hu_AhnuA38oU",
        "colab_type": "code",
        "colab": {
          "base_uri": "https://localhost:8080/",
          "height": 34
        },
        "outputId": "9067a7fd-842e-4478-836f-d6920753050b"
      },
      "source": [
        "MAE_POLY=mean_absolute_error(y_test,y_test_predict_poly)\n",
        "MAE_POLY"
      ],
      "execution_count": 337,
      "outputs": [
        {
          "output_type": "execute_result",
          "data": {
            "text/plain": [
              "3.5950201843299125"
            ]
          },
          "metadata": {
            "tags": []
          },
          "execution_count": 337
        }
      ]
    },
    {
      "cell_type": "markdown",
      "metadata": {
        "id": "rnPbMzl377Ez",
        "colab_type": "text"
      },
      "source": [
        "# Visualizing"
      ]
    },
    {
      "cell_type": "code",
      "metadata": {
        "id": "Vh3VDryC9OFt",
        "colab_type": "code",
        "colab": {
          "base_uri": "https://localhost:8080/",
          "height": 516
        },
        "outputId": "1ebd54fd-a572-4467-d232-300447393c24"
      },
      "source": [
        "plt.figure(figsize=(14,8))\n",
        "plt.scatter(y_test,y_test_predict_poly)\n",
        "plt.plot(y_test,y_test,'r')\n",
        "plt.title('Poly')"
      ],
      "execution_count": 174,
      "outputs": [
        {
          "output_type": "execute_result",
          "data": {
            "text/plain": [
              "Text(0.5, 1.0, 'Poly')"
            ]
          },
          "metadata": {
            "tags": []
          },
          "execution_count": 174
        },
        {
          "output_type": "display_data",
          "data": {
            "image/png": "[encoded data removed]",
            "text/plain": [
              "<Figure size 1008x576 with 1 Axes>"
            ]
          },
          "metadata": {
            "tags": [],
            "needs_background": "light"
          }
        }
      ]
    },
    {
      "cell_type": "code",
      "metadata": {
        "id": "oAvhGR3k7xmA",
        "colab_type": "code",
        "colab": {}
      },
      "source": [
        ""
      ],
      "execution_count": 0,
      "outputs": []
    },
    {
      "cell_type": "code",
      "metadata": {
        "id": "iun9Oubr4Enh",
        "colab_type": "code",
        "colab": {}
      },
      "source": [
        "df3=df.drop('medv',axis=1)"
      ],
      "execution_count": 0,
      "outputs": []
    },
    {
      "cell_type": "code",
      "metadata": {
        "id": "McLG_Kfe6QF0",
        "colab_type": "code",
        "colab": {
          "base_uri": "https://localhost:8080/",
          "height": 359
        },
        "outputId": "03d10bed-9854-40b7-f414-89386595b395"
      },
      "source": [
        "house_prediction_poly=df3.head(10)\n",
        "house_prediction_poly"
      ],
      "execution_count": 176,
      "outputs": [
        {
          "output_type": "execute_result",
          "data": {
            "text/html": [
              "<div>\n",
              "<style scoped>\n",
              "    .dataframe tbody tr th:only-of-type {\n",
              "        vertical-align: middle;\n",
              "    }\n",
              "\n",
              "    .dataframe tbody tr th {\n",
              "        vertical-align: top;\n",
              "    }\n",
              "\n",
              "    .dataframe thead th {\n",
              "        text-align: right;\n",
              "    }\n",
              "</style>\n",
              "<table border=\"1\" class=\"dataframe\">\n",
              "  <thead>\n",
              "    <tr style=\"text-align: right;\">\n",
              "      <th></th>\n",
              "      <th>Unnamed: 0</th>\n",
              "      <th>crim</th>\n",
              "      <th>zn</th>\n",
              "      <th>indus</th>\n",
              "      <th>chas</th>\n",
              "      <th>nox</th>\n",
              "      <th>rm</th>\n",
              "      <th>age</th>\n",
              "      <th>dis</th>\n",
              "      <th>rad</th>\n",
              "      <th>tax</th>\n",
              "      <th>ptratio</th>\n",
              "      <th>black</th>\n",
              "      <th>lstat</th>\n",
              "    </tr>\n",
              "  </thead>\n",
              "  <tbody>\n",
              "    <tr>\n",
              "      <th>0</th>\n",
              "      <td>1</td>\n",
              "      <td>0.00632</td>\n",
              "      <td>18.0</td>\n",
              "      <td>2.31</td>\n",
              "      <td>0</td>\n",
              "      <td>0.538</td>\n",
              "      <td>6.575</td>\n",
              "      <td>65.2</td>\n",
              "      <td>4.0900</td>\n",
              "      <td>1</td>\n",
              "      <td>296</td>\n",
              "      <td>15.3</td>\n",
              "      <td>396.90</td>\n",
              "      <td>4.98</td>\n",
              "    </tr>\n",
              "    <tr>\n",
              "      <th>1</th>\n",
              "      <td>2</td>\n",
              "      <td>0.02731</td>\n",
              "      <td>0.0</td>\n",
              "      <td>7.07</td>\n",
              "      <td>0</td>\n",
              "      <td>0.469</td>\n",
              "      <td>6.421</td>\n",
              "      <td>78.9</td>\n",
              "      <td>4.9671</td>\n",
              "      <td>2</td>\n",
              "      <td>242</td>\n",
              "      <td>17.8</td>\n",
              "      <td>396.90</td>\n",
              "      <td>9.14</td>\n",
              "    </tr>\n",
              "    <tr>\n",
              "      <th>2</th>\n",
              "      <td>3</td>\n",
              "      <td>0.02729</td>\n",
              "      <td>0.0</td>\n",
              "      <td>7.07</td>\n",
              "      <td>0</td>\n",
              "      <td>0.469</td>\n",
              "      <td>7.185</td>\n",
              "      <td>61.1</td>\n",
              "      <td>4.9671</td>\n",
              "      <td>2</td>\n",
              "      <td>242</td>\n",
              "      <td>17.8</td>\n",
              "      <td>392.83</td>\n",
              "      <td>4.03</td>\n",
              "    </tr>\n",
              "    <tr>\n",
              "      <th>3</th>\n",
              "      <td>4</td>\n",
              "      <td>0.03237</td>\n",
              "      <td>0.0</td>\n",
              "      <td>2.18</td>\n",
              "      <td>0</td>\n",
              "      <td>0.458</td>\n",
              "      <td>6.998</td>\n",
              "      <td>45.8</td>\n",
              "      <td>6.0622</td>\n",
              "      <td>3</td>\n",
              "      <td>222</td>\n",
              "      <td>18.7</td>\n",
              "      <td>394.63</td>\n",
              "      <td>2.94</td>\n",
              "    </tr>\n",
              "    <tr>\n",
              "      <th>4</th>\n",
              "      <td>5</td>\n",
              "      <td>0.06905</td>\n",
              "      <td>0.0</td>\n",
              "      <td>2.18</td>\n",
              "      <td>0</td>\n",
              "      <td>0.458</td>\n",
              "      <td>7.147</td>\n",
              "      <td>54.2</td>\n",
              "      <td>6.0622</td>\n",
              "      <td>3</td>\n",
              "      <td>222</td>\n",
              "      <td>18.7</td>\n",
              "      <td>396.90</td>\n",
              "      <td>5.33</td>\n",
              "    </tr>\n",
              "    <tr>\n",
              "      <th>5</th>\n",
              "      <td>6</td>\n",
              "      <td>0.02985</td>\n",
              "      <td>0.0</td>\n",
              "      <td>2.18</td>\n",
              "      <td>0</td>\n",
              "      <td>0.458</td>\n",
              "      <td>6.430</td>\n",
              "      <td>58.7</td>\n",
              "      <td>6.0622</td>\n",
              "      <td>3</td>\n",
              "      <td>222</td>\n",
              "      <td>18.7</td>\n",
              "      <td>394.12</td>\n",
              "      <td>5.21</td>\n",
              "    </tr>\n",
              "    <tr>\n",
              "      <th>6</th>\n",
              "      <td>7</td>\n",
              "      <td>0.08829</td>\n",
              "      <td>12.5</td>\n",
              "      <td>7.87</td>\n",
              "      <td>0</td>\n",
              "      <td>0.524</td>\n",
              "      <td>6.012</td>\n",
              "      <td>66.6</td>\n",
              "      <td>5.5605</td>\n",
              "      <td>5</td>\n",
              "      <td>311</td>\n",
              "      <td>15.2</td>\n",
              "      <td>395.60</td>\n",
              "      <td>12.43</td>\n",
              "    </tr>\n",
              "    <tr>\n",
              "      <th>7</th>\n",
              "      <td>8</td>\n",
              "      <td>0.14455</td>\n",
              "      <td>12.5</td>\n",
              "      <td>7.87</td>\n",
              "      <td>0</td>\n",
              "      <td>0.524</td>\n",
              "      <td>6.172</td>\n",
              "      <td>96.1</td>\n",
              "      <td>5.9505</td>\n",
              "      <td>5</td>\n",
              "      <td>311</td>\n",
              "      <td>15.2</td>\n",
              "      <td>396.90</td>\n",
              "      <td>19.15</td>\n",
              "    </tr>\n",
              "    <tr>\n",
              "      <th>8</th>\n",
              "      <td>9</td>\n",
              "      <td>0.21124</td>\n",
              "      <td>12.5</td>\n",
              "      <td>7.87</td>\n",
              "      <td>0</td>\n",
              "      <td>0.524</td>\n",
              "      <td>5.631</td>\n",
              "      <td>100.0</td>\n",
              "      <td>6.0821</td>\n",
              "      <td>5</td>\n",
              "      <td>311</td>\n",
              "      <td>15.2</td>\n",
              "      <td>386.63</td>\n",
              "      <td>29.93</td>\n",
              "    </tr>\n",
              "    <tr>\n",
              "      <th>9</th>\n",
              "      <td>10</td>\n",
              "      <td>0.17004</td>\n",
              "      <td>12.5</td>\n",
              "      <td>7.87</td>\n",
              "      <td>0</td>\n",
              "      <td>0.524</td>\n",
              "      <td>6.004</td>\n",
              "      <td>85.9</td>\n",
              "      <td>6.5921</td>\n",
              "      <td>5</td>\n",
              "      <td>311</td>\n",
              "      <td>15.2</td>\n",
              "      <td>386.71</td>\n",
              "      <td>17.10</td>\n",
              "    </tr>\n",
              "  </tbody>\n",
              "</table>\n",
              "</div>"
            ],
            "text/plain": [
              "   Unnamed: 0     crim    zn  indus  chas  ...  rad  tax  ptratio   black  lstat\n",
              "0           1  0.00632  18.0   2.31     0  ...    1  296     15.3  396.90   4.98\n",
              "1           2  0.02731   0.0   7.07     0  ...    2  242     17.8  396.90   9.14\n",
              "2           3  0.02729   0.0   7.07     0  ...    2  242     17.8  392.83   4.03\n",
              "3           4  0.03237   0.0   2.18     0  ...    3  222     18.7  394.63   2.94\n",
              "4           5  0.06905   0.0   2.18     0  ...    3  222     18.7  396.90   5.33\n",
              "5           6  0.02985   0.0   2.18     0  ...    3  222     18.7  394.12   5.21\n",
              "6           7  0.08829  12.5   7.87     0  ...    5  311     15.2  395.60  12.43\n",
              "7           8  0.14455  12.5   7.87     0  ...    5  311     15.2  396.90  19.15\n",
              "8           9  0.21124  12.5   7.87     0  ...    5  311     15.2  386.63  29.93\n",
              "9          10  0.17004  12.5   7.87     0  ...    5  311     15.2  386.71  17.10\n",
              "\n",
              "[10 rows x 14 columns]"
            ]
          },
          "metadata": {
            "tags": []
          },
          "execution_count": 176
        }
      ]
    },
    {
      "cell_type": "code",
      "metadata": {
        "id": "jqI1FGrd6THb",
        "colab_type": "code",
        "colab": {}
      },
      "source": [
        "house_prediction_poly=poly_model.predict(poly_features.fit_transform(house_prediction_poly))"
      ],
      "execution_count": 0,
      "outputs": []
    },
    {
      "cell_type": "code",
      "metadata": {
        "id": "2gpANDXp6cdy",
        "colab_type": "code",
        "colab": {
          "base_uri": "https://localhost:8080/",
          "height": 34
        },
        "outputId": "362a351e-a932-4e8b-b374-d53db5a39bbd"
      },
      "source": [
        "house_prediction_poly"
      ],
      "execution_count": 178,
      "outputs": [
        {
          "output_type": "execute_result",
          "data": {
            "text/plain": [
              "array([26.2, 20.2, 31.2, 34.5, 33.3, 28.2, 21.9, 18. , 14.7, 22.3])"
            ]
          },
          "metadata": {
            "tags": []
          },
          "execution_count": 178
        }
      ]
    },
    {
      "cell_type": "code",
      "metadata": {
        "id": "wqS4k7_k7Nu4",
        "colab_type": "code",
        "colab": {
          "base_uri": "https://localhost:8080/",
          "height": 359
        },
        "outputId": "c7c2b301-b721-4d5f-a3d5-51e43aa353af"
      },
      "source": [
        "df_poly = pd.DataFrame(house_prediction_poly, columns=['Predictions_poly'])\n",
        "df_poly"
      ],
      "execution_count": 179,
      "outputs": [
        {
          "output_type": "execute_result",
          "data": {
            "text/html": [
              "<div>\n",
              "<style scoped>\n",
              "    .dataframe tbody tr th:only-of-type {\n",
              "        vertical-align: middle;\n",
              "    }\n",
              "\n",
              "    .dataframe tbody tr th {\n",
              "        vertical-align: top;\n",
              "    }\n",
              "\n",
              "    .dataframe thead th {\n",
              "        text-align: right;\n",
              "    }\n",
              "</style>\n",
              "<table border=\"1\" class=\"dataframe\">\n",
              "  <thead>\n",
              "    <tr style=\"text-align: right;\">\n",
              "      <th></th>\n",
              "      <th>Predictions_poly</th>\n",
              "    </tr>\n",
              "  </thead>\n",
              "  <tbody>\n",
              "    <tr>\n",
              "      <th>0</th>\n",
              "      <td>26.185130</td>\n",
              "    </tr>\n",
              "    <tr>\n",
              "      <th>1</th>\n",
              "      <td>20.242273</td>\n",
              "    </tr>\n",
              "    <tr>\n",
              "      <th>2</th>\n",
              "      <td>31.229378</td>\n",
              "    </tr>\n",
              "    <tr>\n",
              "      <th>3</th>\n",
              "      <td>34.547726</td>\n",
              "    </tr>\n",
              "    <tr>\n",
              "      <th>4</th>\n",
              "      <td>33.330851</td>\n",
              "    </tr>\n",
              "    <tr>\n",
              "      <th>5</th>\n",
              "      <td>28.211071</td>\n",
              "    </tr>\n",
              "    <tr>\n",
              "      <th>6</th>\n",
              "      <td>21.896255</td>\n",
              "    </tr>\n",
              "    <tr>\n",
              "      <th>7</th>\n",
              "      <td>18.026796</td>\n",
              "    </tr>\n",
              "    <tr>\n",
              "      <th>8</th>\n",
              "      <td>14.739570</td>\n",
              "    </tr>\n",
              "    <tr>\n",
              "      <th>9</th>\n",
              "      <td>22.343196</td>\n",
              "    </tr>\n",
              "  </tbody>\n",
              "</table>\n",
              "</div>"
            ],
            "text/plain": [
              "   Predictions_poly\n",
              "0         26.185130\n",
              "1         20.242273\n",
              "2         31.229378\n",
              "3         34.547726\n",
              "4         33.330851\n",
              "5         28.211071\n",
              "6         21.896255\n",
              "7         18.026796\n",
              "8         14.739570\n",
              "9         22.343196"
            ]
          },
          "metadata": {
            "tags": []
          },
          "execution_count": 179
        }
      ]
    },
    {
      "cell_type": "code",
      "metadata": {
        "id": "jJw9R5Um7YwH",
        "colab_type": "code",
        "colab": {
          "base_uri": "https://localhost:8080/",
          "height": 359
        },
        "outputId": "02e236dd-2757-41e9-e9bd-523fdf940bd8"
      },
      "source": [
        "data_predicted= pd.concat([df, df_ann,df_lr,df_poly], axis=1)\n",
        "data_predicted.head(10)"
      ],
      "execution_count": 180,
      "outputs": [
        {
          "output_type": "execute_result",
          "data": {
            "text/html": [
              "<div>\n",
              "<style scoped>\n",
              "    .dataframe tbody tr th:only-of-type {\n",
              "        vertical-align: middle;\n",
              "    }\n",
              "\n",
              "    .dataframe tbody tr th {\n",
              "        vertical-align: top;\n",
              "    }\n",
              "\n",
              "    .dataframe thead th {\n",
              "        text-align: right;\n",
              "    }\n",
              "</style>\n",
              "<table border=\"1\" class=\"dataframe\">\n",
              "  <thead>\n",
              "    <tr style=\"text-align: right;\">\n",
              "      <th></th>\n",
              "      <th>Unnamed: 0</th>\n",
              "      <th>crim</th>\n",
              "      <th>zn</th>\n",
              "      <th>indus</th>\n",
              "      <th>chas</th>\n",
              "      <th>nox</th>\n",
              "      <th>rm</th>\n",
              "      <th>age</th>\n",
              "      <th>dis</th>\n",
              "      <th>rad</th>\n",
              "      <th>tax</th>\n",
              "      <th>ptratio</th>\n",
              "      <th>black</th>\n",
              "      <th>lstat</th>\n",
              "      <th>medv</th>\n",
              "      <th>Predictions_ann</th>\n",
              "      <th>Predictions_lr</th>\n",
              "      <th>Predictions_poly</th>\n",
              "    </tr>\n",
              "  </thead>\n",
              "  <tbody>\n",
              "    <tr>\n",
              "      <th>0</th>\n",
              "      <td>1</td>\n",
              "      <td>0.00632</td>\n",
              "      <td>18.0</td>\n",
              "      <td>2.31</td>\n",
              "      <td>0</td>\n",
              "      <td>0.538</td>\n",
              "      <td>6.575</td>\n",
              "      <td>65.2</td>\n",
              "      <td>4.0900</td>\n",
              "      <td>1</td>\n",
              "      <td>296</td>\n",
              "      <td>15.3</td>\n",
              "      <td>396.90</td>\n",
              "      <td>4.98</td>\n",
              "      <td>24.0</td>\n",
              "      <td>25.204807</td>\n",
              "      <td>30.499498</td>\n",
              "      <td>26.185130</td>\n",
              "    </tr>\n",
              "    <tr>\n",
              "      <th>1</th>\n",
              "      <td>2</td>\n",
              "      <td>0.02731</td>\n",
              "      <td>0.0</td>\n",
              "      <td>7.07</td>\n",
              "      <td>0</td>\n",
              "      <td>0.469</td>\n",
              "      <td>6.421</td>\n",
              "      <td>78.9</td>\n",
              "      <td>4.9671</td>\n",
              "      <td>2</td>\n",
              "      <td>242</td>\n",
              "      <td>17.8</td>\n",
              "      <td>396.90</td>\n",
              "      <td>9.14</td>\n",
              "      <td>21.6</td>\n",
              "      <td>22.331741</td>\n",
              "      <td>25.172480</td>\n",
              "      <td>20.242273</td>\n",
              "    </tr>\n",
              "    <tr>\n",
              "      <th>2</th>\n",
              "      <td>3</td>\n",
              "      <td>0.02729</td>\n",
              "      <td>0.0</td>\n",
              "      <td>7.07</td>\n",
              "      <td>0</td>\n",
              "      <td>0.469</td>\n",
              "      <td>7.185</td>\n",
              "      <td>61.1</td>\n",
              "      <td>4.9671</td>\n",
              "      <td>2</td>\n",
              "      <td>242</td>\n",
              "      <td>17.8</td>\n",
              "      <td>392.83</td>\n",
              "      <td>4.03</td>\n",
              "      <td>34.7</td>\n",
              "      <td>30.816872</td>\n",
              "      <td>30.546654</td>\n",
              "      <td>31.229378</td>\n",
              "    </tr>\n",
              "    <tr>\n",
              "      <th>3</th>\n",
              "      <td>4</td>\n",
              "      <td>0.03237</td>\n",
              "      <td>0.0</td>\n",
              "      <td>2.18</td>\n",
              "      <td>0</td>\n",
              "      <td>0.458</td>\n",
              "      <td>6.998</td>\n",
              "      <td>45.8</td>\n",
              "      <td>6.0622</td>\n",
              "      <td>3</td>\n",
              "      <td>222</td>\n",
              "      <td>18.7</td>\n",
              "      <td>394.63</td>\n",
              "      <td>2.94</td>\n",
              "      <td>33.4</td>\n",
              "      <td>32.384190</td>\n",
              "      <td>28.606948</td>\n",
              "      <td>34.547726</td>\n",
              "    </tr>\n",
              "    <tr>\n",
              "      <th>4</th>\n",
              "      <td>5</td>\n",
              "      <td>0.06905</td>\n",
              "      <td>0.0</td>\n",
              "      <td>2.18</td>\n",
              "      <td>0</td>\n",
              "      <td>0.458</td>\n",
              "      <td>7.147</td>\n",
              "      <td>54.2</td>\n",
              "      <td>6.0622</td>\n",
              "      <td>3</td>\n",
              "      <td>222</td>\n",
              "      <td>18.7</td>\n",
              "      <td>396.90</td>\n",
              "      <td>5.33</td>\n",
              "      <td>36.2</td>\n",
              "      <td>32.175018</td>\n",
              "      <td>27.969583</td>\n",
              "      <td>33.330851</td>\n",
              "    </tr>\n",
              "    <tr>\n",
              "      <th>5</th>\n",
              "      <td>6</td>\n",
              "      <td>0.02985</td>\n",
              "      <td>0.0</td>\n",
              "      <td>2.18</td>\n",
              "      <td>0</td>\n",
              "      <td>0.458</td>\n",
              "      <td>6.430</td>\n",
              "      <td>58.7</td>\n",
              "      <td>6.0622</td>\n",
              "      <td>3</td>\n",
              "      <td>222</td>\n",
              "      <td>18.7</td>\n",
              "      <td>394.12</td>\n",
              "      <td>5.21</td>\n",
              "      <td>28.7</td>\n",
              "      <td>26.085541</td>\n",
              "      <td>25.337665</td>\n",
              "      <td>28.211071</td>\n",
              "    </tr>\n",
              "    <tr>\n",
              "      <th>6</th>\n",
              "      <td>7</td>\n",
              "      <td>0.08829</td>\n",
              "      <td>12.5</td>\n",
              "      <td>7.87</td>\n",
              "      <td>0</td>\n",
              "      <td>0.524</td>\n",
              "      <td>6.012</td>\n",
              "      <td>66.6</td>\n",
              "      <td>5.5605</td>\n",
              "      <td>5</td>\n",
              "      <td>311</td>\n",
              "      <td>15.2</td>\n",
              "      <td>395.60</td>\n",
              "      <td>12.43</td>\n",
              "      <td>22.9</td>\n",
              "      <td>21.806234</td>\n",
              "      <td>23.603188</td>\n",
              "      <td>21.896255</td>\n",
              "    </tr>\n",
              "    <tr>\n",
              "      <th>7</th>\n",
              "      <td>8</td>\n",
              "      <td>0.14455</td>\n",
              "      <td>12.5</td>\n",
              "      <td>7.87</td>\n",
              "      <td>0</td>\n",
              "      <td>0.524</td>\n",
              "      <td>6.172</td>\n",
              "      <td>96.1</td>\n",
              "      <td>5.9505</td>\n",
              "      <td>5</td>\n",
              "      <td>311</td>\n",
              "      <td>15.2</td>\n",
              "      <td>396.90</td>\n",
              "      <td>19.15</td>\n",
              "      <td>27.1</td>\n",
              "      <td>22.170792</td>\n",
              "      <td>20.256071</td>\n",
              "      <td>18.026796</td>\n",
              "    </tr>\n",
              "    <tr>\n",
              "      <th>8</th>\n",
              "      <td>9</td>\n",
              "      <td>0.21124</td>\n",
              "      <td>12.5</td>\n",
              "      <td>7.87</td>\n",
              "      <td>0</td>\n",
              "      <td>0.524</td>\n",
              "      <td>5.631</td>\n",
              "      <td>100.0</td>\n",
              "      <td>6.0821</td>\n",
              "      <td>5</td>\n",
              "      <td>311</td>\n",
              "      <td>15.2</td>\n",
              "      <td>386.63</td>\n",
              "      <td>29.93</td>\n",
              "      <td>16.5</td>\n",
              "      <td>17.147882</td>\n",
              "      <td>12.651475</td>\n",
              "      <td>14.739570</td>\n",
              "    </tr>\n",
              "    <tr>\n",
              "      <th>9</th>\n",
              "      <td>10</td>\n",
              "      <td>0.17004</td>\n",
              "      <td>12.5</td>\n",
              "      <td>7.87</td>\n",
              "      <td>0</td>\n",
              "      <td>0.524</td>\n",
              "      <td>6.004</td>\n",
              "      <td>85.9</td>\n",
              "      <td>6.5921</td>\n",
              "      <td>5</td>\n",
              "      <td>311</td>\n",
              "      <td>15.2</td>\n",
              "      <td>386.71</td>\n",
              "      <td>17.10</td>\n",
              "      <td>18.9</td>\n",
              "      <td>20.906023</td>\n",
              "      <td>19.699869</td>\n",
              "      <td>22.343196</td>\n",
              "    </tr>\n",
              "  </tbody>\n",
              "</table>\n",
              "</div>"
            ],
            "text/plain": [
              "   Unnamed: 0     crim    zn  ...  Predictions_ann  Predictions_lr  Predictions_poly\n",
              "0           1  0.00632  18.0  ...        25.204807       30.499498         26.185130\n",
              "1           2  0.02731   0.0  ...        22.331741       25.172480         20.242273\n",
              "2           3  0.02729   0.0  ...        30.816872       30.546654         31.229378\n",
              "3           4  0.03237   0.0  ...        32.384190       28.606948         34.547726\n",
              "4           5  0.06905   0.0  ...        32.175018       27.969583         33.330851\n",
              "5           6  0.02985   0.0  ...        26.085541       25.337665         28.211071\n",
              "6           7  0.08829  12.5  ...        21.806234       23.603188         21.896255\n",
              "7           8  0.14455  12.5  ...        22.170792       20.256071         18.026796\n",
              "8           9  0.21124  12.5  ...        17.147882       12.651475         14.739570\n",
              "9          10  0.17004  12.5  ...        20.906023       19.699869         22.343196\n",
              "\n",
              "[10 rows x 18 columns]"
            ]
          },
          "metadata": {
            "tags": []
          },
          "execution_count": 180
        }
      ]
    },
    {
      "cell_type": "markdown",
      "metadata": {
        "id": "wErAGghfkgpF",
        "colab_type": "text"
      },
      "source": [
        "# SVM"
      ]
    },
    {
      "cell_type": "code",
      "metadata": {
        "id": "xs4avYUKlZpT",
        "colab_type": "code",
        "colab": {}
      },
      "source": [
        "from sklearn.svm import SVR"
      ],
      "execution_count": 0,
      "outputs": []
    },
    {
      "cell_type": "code",
      "metadata": {
        "id": "FFYFW2-u7kEN",
        "colab_type": "code",
        "colab": {
          "base_uri": "https://localhost:8080/",
          "height": 204
        },
        "outputId": "976362fc-e65f-4106-ffcc-ed2fa5234904"
      },
      "source": [
        "df = pd.read_csv(io.BytesIO(uploaded['Boston.csv']))\n",
        "df.head()"
      ],
      "execution_count": 338,
      "outputs": [
        {
          "output_type": "execute_result",
          "data": {
            "text/html": [
              "<div>\n",
              "<style scoped>\n",
              "    .dataframe tbody tr th:only-of-type {\n",
              "        vertical-align: middle;\n",
              "    }\n",
              "\n",
              "    .dataframe tbody tr th {\n",
              "        vertical-align: top;\n",
              "    }\n",
              "\n",
              "    .dataframe thead th {\n",
              "        text-align: right;\n",
              "    }\n",
              "</style>\n",
              "<table border=\"1\" class=\"dataframe\">\n",
              "  <thead>\n",
              "    <tr style=\"text-align: right;\">\n",
              "      <th></th>\n",
              "      <th>Unnamed: 0</th>\n",
              "      <th>crim</th>\n",
              "      <th>zn</th>\n",
              "      <th>indus</th>\n",
              "      <th>chas</th>\n",
              "      <th>nox</th>\n",
              "      <th>rm</th>\n",
              "      <th>age</th>\n",
              "      <th>dis</th>\n",
              "      <th>rad</th>\n",
              "      <th>tax</th>\n",
              "      <th>ptratio</th>\n",
              "      <th>black</th>\n",
              "      <th>lstat</th>\n",
              "      <th>medv</th>\n",
              "    </tr>\n",
              "  </thead>\n",
              "  <tbody>\n",
              "    <tr>\n",
              "      <th>0</th>\n",
              "      <td>1</td>\n",
              "      <td>0.00632</td>\n",
              "      <td>18.0</td>\n",
              "      <td>2.31</td>\n",
              "      <td>0</td>\n",
              "      <td>0.538</td>\n",
              "      <td>6.575</td>\n",
              "      <td>65.2</td>\n",
              "      <td>4.0900</td>\n",
              "      <td>1</td>\n",
              "      <td>296</td>\n",
              "      <td>15.3</td>\n",
              "      <td>396.90</td>\n",
              "      <td>4.98</td>\n",
              "      <td>24.0</td>\n",
              "    </tr>\n",
              "    <tr>\n",
              "      <th>1</th>\n",
              "      <td>2</td>\n",
              "      <td>0.02731</td>\n",
              "      <td>0.0</td>\n",
              "      <td>7.07</td>\n",
              "      <td>0</td>\n",
              "      <td>0.469</td>\n",
              "      <td>6.421</td>\n",
              "      <td>78.9</td>\n",
              "      <td>4.9671</td>\n",
              "      <td>2</td>\n",
              "      <td>242</td>\n",
              "      <td>17.8</td>\n",
              "      <td>396.90</td>\n",
              "      <td>9.14</td>\n",
              "      <td>21.6</td>\n",
              "    </tr>\n",
              "    <tr>\n",
              "      <th>2</th>\n",
              "      <td>3</td>\n",
              "      <td>0.02729</td>\n",
              "      <td>0.0</td>\n",
              "      <td>7.07</td>\n",
              "      <td>0</td>\n",
              "      <td>0.469</td>\n",
              "      <td>7.185</td>\n",
              "      <td>61.1</td>\n",
              "      <td>4.9671</td>\n",
              "      <td>2</td>\n",
              "      <td>242</td>\n",
              "      <td>17.8</td>\n",
              "      <td>392.83</td>\n",
              "      <td>4.03</td>\n",
              "      <td>34.7</td>\n",
              "    </tr>\n",
              "    <tr>\n",
              "      <th>3</th>\n",
              "      <td>4</td>\n",
              "      <td>0.03237</td>\n",
              "      <td>0.0</td>\n",
              "      <td>2.18</td>\n",
              "      <td>0</td>\n",
              "      <td>0.458</td>\n",
              "      <td>6.998</td>\n",
              "      <td>45.8</td>\n",
              "      <td>6.0622</td>\n",
              "      <td>3</td>\n",
              "      <td>222</td>\n",
              "      <td>18.7</td>\n",
              "      <td>394.63</td>\n",
              "      <td>2.94</td>\n",
              "      <td>33.4</td>\n",
              "    </tr>\n",
              "    <tr>\n",
              "      <th>4</th>\n",
              "      <td>5</td>\n",
              "      <td>0.06905</td>\n",
              "      <td>0.0</td>\n",
              "      <td>2.18</td>\n",
              "      <td>0</td>\n",
              "      <td>0.458</td>\n",
              "      <td>7.147</td>\n",
              "      <td>54.2</td>\n",
              "      <td>6.0622</td>\n",
              "      <td>3</td>\n",
              "      <td>222</td>\n",
              "      <td>18.7</td>\n",
              "      <td>396.90</td>\n",
              "      <td>5.33</td>\n",
              "      <td>36.2</td>\n",
              "    </tr>\n",
              "  </tbody>\n",
              "</table>\n",
              "</div>"
            ],
            "text/plain": [
              "   Unnamed: 0     crim    zn  indus  chas  ...  tax  ptratio   black  lstat  medv\n",
              "0           1  0.00632  18.0   2.31     0  ...  296     15.3  396.90   4.98  24.0\n",
              "1           2  0.02731   0.0   7.07     0  ...  242     17.8  396.90   9.14  21.6\n",
              "2           3  0.02729   0.0   7.07     0  ...  242     17.8  392.83   4.03  34.7\n",
              "3           4  0.03237   0.0   2.18     0  ...  222     18.7  394.63   2.94  33.4\n",
              "4           5  0.06905   0.0   2.18     0  ...  222     18.7  396.90   5.33  36.2\n",
              "\n",
              "[5 rows x 15 columns]"
            ]
          },
          "metadata": {
            "tags": []
          },
          "execution_count": 338
        }
      ]
    },
    {
      "cell_type": "code",
      "metadata": {
        "id": "r_QRp0rCk08H",
        "colab_type": "code",
        "colab": {}
      },
      "source": [
        "X = df.iloc[:, 1:-1].values\n",
        "y = df.iloc[:, -1].values"
      ],
      "execution_count": 0,
      "outputs": []
    },
    {
      "cell_type": "code",
      "metadata": {
        "id": "5dPiwopCle66",
        "colab_type": "code",
        "colab": {}
      },
      "source": [
        "sc=StandardScaler()\n",
        "X=sc.fit_transform(X)"
      ],
      "execution_count": 0,
      "outputs": []
    },
    {
      "cell_type": "code",
      "metadata": {
        "id": "sw1_Vh87liXx",
        "colab_type": "code",
        "colab": {}
      },
      "source": [
        "X_train, X_test, y_train, y_test = train_test_split(X, y, test_size = 0.2, random_state = 0)"
      ],
      "execution_count": 0,
      "outputs": []
    },
    {
      "cell_type": "code",
      "metadata": {
        "id": "EasHlHXFlSN4",
        "colab_type": "code",
        "colab": {
          "base_uri": "https://localhost:8080/",
          "height": 51
        },
        "outputId": "405e2ed4-fdd0-4086-a8d4-7fcaff67ade3"
      },
      "source": [
        "regressor = SVR(kernel = 'rbf')\n",
        "regressor.fit(X_train, y_train)"
      ],
      "execution_count": 342,
      "outputs": [
        {
          "output_type": "execute_result",
          "data": {
            "text/plain": [
              "SVR(C=1.0, cache_size=200, coef0=0.0, degree=3, epsilon=0.1, gamma='scale',\n",
              "    kernel='rbf', max_iter=-1, shrinking=True, tol=0.001, verbose=False)"
            ]
          },
          "metadata": {
            "tags": []
          },
          "execution_count": 342
        }
      ]
    },
    {
      "cell_type": "code",
      "metadata": {
        "id": "ecv4OdHAltmd",
        "colab_type": "code",
        "colab": {
          "base_uri": "https://localhost:8080/",
          "height": 1000
        },
        "outputId": "90b7ddef-7b3c-44c5-e779-542c6f33900f"
      },
      "source": [
        "y_pred = regressor.predict(X_test)\n",
        "np.set_printoptions(precision=1)\n",
        "print(np.concatenate((y_pred.reshape(len(y_pred),1), y_test.reshape(len(y_test),1)),1))"
      ],
      "execution_count": 343,
      "outputs": [
        {
          "output_type": "stream",
          "text": [
            "[[25.2 22.6]\n",
            " [19.1 50. ]\n",
            " [24.6 23. ]\n",
            " [13.3  8.3]\n",
            " [21.1 21.2]\n",
            " [19.4 19.9]\n",
            " [20.8 20.6]\n",
            " [20.2 18.7]\n",
            " [19.1 16.1]\n",
            " [19.2 18.6]\n",
            " [20.7  8.8]\n",
            " [13.1 17.2]\n",
            " [14.8 14.9]\n",
            " [12.8 10.5]\n",
            " [27.3 50. ]\n",
            " [30.4 29. ]\n",
            " [21.4 23. ]\n",
            " [31.8 33.3]\n",
            " [28.9 29.4]\n",
            " [21.5 21. ]\n",
            " [23.8 23.8]\n",
            " [21.7 19.1]\n",
            " [18.9 20.4]\n",
            " [28.  29.1]\n",
            " [20.6 19.3]\n",
            " [18.  23.1]\n",
            " [17.1 19.6]\n",
            " [18.6 19.4]\n",
            " [34.  38.7]\n",
            " [18.6 18.7]\n",
            " [15.3 14.6]\n",
            " [17.3 20. ]\n",
            " [19.7 20.5]\n",
            " [21.5 20.1]\n",
            " [26.  23.6]\n",
            " [20.9 16.8]\n",
            " [11.9  5.6]\n",
            " [22.3 50. ]\n",
            " [14.  14.5]\n",
            " [13.3 13.3]\n",
            " [23.7 23.9]\n",
            " [20.4 20. ]\n",
            " [23.1 19.8]\n",
            " [15.1 13.8]\n",
            " [25.3 16.5]\n",
            " [23.4 21.6]\n",
            " [19.3 20.3]\n",
            " [21.  17. ]\n",
            " [16.8 11.8]\n",
            " [23.  27.5]\n",
            " [20.8 15.6]\n",
            " [19.8 23.1]\n",
            " [21.5 24.3]\n",
            " [29.7 42.8]\n",
            " [15.3 15.6]\n",
            " [21.3 21.7]\n",
            " [20.1 17.1]\n",
            " [18.7 17.2]\n",
            " [19.3 15. ]\n",
            " [21.6 21.7]\n",
            " [21.  18.6]\n",
            " [21.  21. ]\n",
            " [31.7 33.1]\n",
            " [28.3 31.5]\n",
            " [18.4 20.1]\n",
            " [30.  29.8]\n",
            " [16.1 15.2]\n",
            " [20.3 15. ]\n",
            " [13.8 27.5]\n",
            " [22.1 22.6]\n",
            " [21.  20. ]\n",
            " [22.9 21.4]\n",
            " [26.8 23.5]\n",
            " [29.9 31.2]\n",
            " [23.  23.7]\n",
            " [12.2  7.4]\n",
            " [35.1 48.3]\n",
            " [22.8 24.4]\n",
            " [25.6 22.6]\n",
            " [18.4 18.3]\n",
            " [27.6 23.3]\n",
            " [18.7 17.1]\n",
            " [16.4 27.9]\n",
            " [34.7 44.8]\n",
            " [34.  50. ]\n",
            " [23.6 23. ]\n",
            " [22.7 21.4]\n",
            " [14.9 10.2]\n",
            " [23.8 23.3]\n",
            " [15.5 23.2]\n",
            " [19.8 18.9]\n",
            " [11.6 13.4]\n",
            " [23.5 21.9]\n",
            " [29.4 24.8]\n",
            " [20.2 11.9]\n",
            " [21.  24.3]\n",
            " [15.1 13.8]\n",
            " [25.  24.7]\n",
            " [13.7 14.1]\n",
            " [17.4 18.7]\n",
            " [24.5 28.1]\n",
            " [20.2 19.8]]\n"
          ],
          "name": "stdout"
        }
      ]
    },
    {
      "cell_type": "code",
      "metadata": {
        "id": "uR3ZKn_Wl99x",
        "colab_type": "code",
        "colab": {
          "base_uri": "https://localhost:8080/",
          "height": 419
        },
        "outputId": "6a17dbae-cc10-4c05-8c13-bd840c61906f"
      },
      "source": [
        "pd.DataFrame({'y_pred: ':y_pred, 'y_reeal: ':y_test})"
      ],
      "execution_count": 344,
      "outputs": [
        {
          "output_type": "execute_result",
          "data": {
            "text/html": [
              "<div>\n",
              "<style scoped>\n",
              "    .dataframe tbody tr th:only-of-type {\n",
              "        vertical-align: middle;\n",
              "    }\n",
              "\n",
              "    .dataframe tbody tr th {\n",
              "        vertical-align: top;\n",
              "    }\n",
              "\n",
              "    .dataframe thead th {\n",
              "        text-align: right;\n",
              "    }\n",
              "</style>\n",
              "<table border=\"1\" class=\"dataframe\">\n",
              "  <thead>\n",
              "    <tr style=\"text-align: right;\">\n",
              "      <th></th>\n",
              "      <th>y_pred:</th>\n",
              "      <th>y_reeal:</th>\n",
              "    </tr>\n",
              "  </thead>\n",
              "  <tbody>\n",
              "    <tr>\n",
              "      <th>0</th>\n",
              "      <td>25.223587</td>\n",
              "      <td>22.6</td>\n",
              "    </tr>\n",
              "    <tr>\n",
              "      <th>1</th>\n",
              "      <td>19.065835</td>\n",
              "      <td>50.0</td>\n",
              "    </tr>\n",
              "    <tr>\n",
              "      <th>2</th>\n",
              "      <td>24.606021</td>\n",
              "      <td>23.0</td>\n",
              "    </tr>\n",
              "    <tr>\n",
              "      <th>3</th>\n",
              "      <td>13.262906</td>\n",
              "      <td>8.3</td>\n",
              "    </tr>\n",
              "    <tr>\n",
              "      <th>4</th>\n",
              "      <td>21.083118</td>\n",
              "      <td>21.2</td>\n",
              "    </tr>\n",
              "    <tr>\n",
              "      <th>...</th>\n",
              "      <td>...</td>\n",
              "      <td>...</td>\n",
              "    </tr>\n",
              "    <tr>\n",
              "      <th>97</th>\n",
              "      <td>24.988729</td>\n",
              "      <td>24.7</td>\n",
              "    </tr>\n",
              "    <tr>\n",
              "      <th>98</th>\n",
              "      <td>13.707261</td>\n",
              "      <td>14.1</td>\n",
              "    </tr>\n",
              "    <tr>\n",
              "      <th>99</th>\n",
              "      <td>17.430025</td>\n",
              "      <td>18.7</td>\n",
              "    </tr>\n",
              "    <tr>\n",
              "      <th>100</th>\n",
              "      <td>24.527239</td>\n",
              "      <td>28.1</td>\n",
              "    </tr>\n",
              "    <tr>\n",
              "      <th>101</th>\n",
              "      <td>20.193468</td>\n",
              "      <td>19.8</td>\n",
              "    </tr>\n",
              "  </tbody>\n",
              "</table>\n",
              "<p>102 rows × 2 columns</p>\n",
              "</div>"
            ],
            "text/plain": [
              "      y_pred:   y_reeal: \n",
              "0    25.223587       22.6\n",
              "1    19.065835       50.0\n",
              "2    24.606021       23.0\n",
              "3    13.262906        8.3\n",
              "4    21.083118       21.2\n",
              "..         ...        ...\n",
              "97   24.988729       24.7\n",
              "98   13.707261       14.1\n",
              "99   17.430025       18.7\n",
              "100  24.527239       28.1\n",
              "101  20.193468       19.8\n",
              "\n",
              "[102 rows x 2 columns]"
            ]
          },
          "metadata": {
            "tags": []
          },
          "execution_count": 344
        }
      ]
    },
    {
      "cell_type": "code",
      "metadata": {
        "id": "PmVeidV60v9G",
        "colab_type": "code",
        "colab": {
          "base_uri": "https://localhost:8080/",
          "height": 516
        },
        "outputId": "7a6c499d-ed9c-404d-9ee2-a5a9fe28e84b"
      },
      "source": [
        "plt.figure(figsize=(14,8))\n",
        "plt.scatter(y_test,y_pred)\n",
        "plt.plot(y_test,y_test,'r')\n",
        "plt.title('SVR')"
      ],
      "execution_count": 345,
      "outputs": [
        {
          "output_type": "execute_result",
          "data": {
            "text/plain": [
              "Text(0.5, 1.0, 'SVR')"
            ]
          },
          "metadata": {
            "tags": []
          },
          "execution_count": 345
        },
        {
          "output_type": "display_data",
          "data": {
            "image/png": "[encoded data removed]",
            "text/plain": [
              "<Figure size 1008x576 with 1 Axes>"
            ]
          },
          "metadata": {
            "tags": [],
            "needs_background": "light"
          }
        }
      ]
    },
    {
      "cell_type": "code",
      "metadata": {
        "id": "Yk9fy6mLoQDA",
        "colab_type": "code",
        "colab": {
          "base_uri": "https://localhost:8080/",
          "height": 51
        },
        "outputId": "6fb377c8-ecd9-4b90-da5b-27d77051175f"
      },
      "source": [
        "regressor = SVR(kernel = 'rbf')\n",
        "regressor.fit(X, y)"
      ],
      "execution_count": 346,
      "outputs": [
        {
          "output_type": "execute_result",
          "data": {
            "text/plain": [
              "SVR(C=1.0, cache_size=200, coef0=0.0, degree=3, epsilon=0.1, gamma='scale',\n",
              "    kernel='rbf', max_iter=-1, shrinking=True, tol=0.001, verbose=False)"
            ]
          },
          "metadata": {
            "tags": []
          },
          "execution_count": 346
        }
      ]
    },
    {
      "cell_type": "code",
      "metadata": {
        "id": "V48Fr1QomD1m",
        "colab_type": "code",
        "colab": {
          "base_uri": "https://localhost:8080/",
          "height": 51
        },
        "outputId": "e7e6416d-ebbd-446f-ecde-3fc70d7a44de"
      },
      "source": [
        "print('Trainning data r_squared: ', regressor.score(X_train,y_train))\n",
        "print('Test data r_squared: ', regressor.score(X_test,y_test))"
      ],
      "execution_count": 347,
      "outputs": [
        {
          "output_type": "stream",
          "text": [
            "Trainning data r_squared:  0.7389982732275268\n",
            "Test data r_squared:  0.5525833604671697\n"
          ],
          "name": "stdout"
        }
      ]
    },
    {
      "cell_type": "code",
      "metadata": {
        "id": "zJ8OK2Y1nnSB",
        "colab_type": "code",
        "colab": {
          "base_uri": "https://localhost:8080/",
          "height": 34
        },
        "outputId": "4c9b8b82-313e-4d13-a761-677ad82c8963"
      },
      "source": [
        "MAE_SVR=mean_absolute_error(y_test,y_pred)\n",
        "MAE_SVR"
      ],
      "execution_count": 348,
      "outputs": [
        {
          "output_type": "execute_result",
          "data": {
            "text/plain": [
              "3.618530917197434"
            ]
          },
          "metadata": {
            "tags": []
          },
          "execution_count": 348
        }
      ]
    },
    {
      "cell_type": "code",
      "metadata": {
        "id": "8bRVnM-lqmnd",
        "colab_type": "code",
        "colab": {
          "base_uri": "https://localhost:8080/",
          "height": 34
        },
        "outputId": "1e2c1156-004a-4c97-8c24-a69cfb7a7b20"
      },
      "source": [
        "import math\n",
        "mlr_rmse_SVR = math.sqrt(mean_squared_error(y_test, y_pred))\n",
        "mlr_rmse_SVR"
      ],
      "execution_count": 349,
      "outputs": [
        {
          "output_type": "execute_result",
          "data": {
            "text/plain": [
              "6.401605159252353"
            ]
          },
          "metadata": {
            "tags": []
          },
          "execution_count": 349
        }
      ]
    },
    {
      "cell_type": "code",
      "metadata": {
        "id": "J32nlzTcmOb8",
        "colab_type": "code",
        "colab": {}
      },
      "source": [
        "df4=df.drop('medv',axis=1)"
      ],
      "execution_count": 0,
      "outputs": []
    },
    {
      "cell_type": "code",
      "metadata": {
        "id": "NupMpGhCnD4G",
        "colab_type": "code",
        "colab": {}
      },
      "source": [
        "df4=df4.drop('Unnamed: 0',axis=1)"
      ],
      "execution_count": 0,
      "outputs": []
    },
    {
      "cell_type": "code",
      "metadata": {
        "id": "LmwZpe5UmTsS",
        "colab_type": "code",
        "colab": {
          "base_uri": "https://localhost:8080/",
          "height": 359
        },
        "outputId": "8deb7e8c-623b-4193-8cb2-2e1b03b3f3a2"
      },
      "source": [
        "house_prediction_svm=df4.head(10)\n",
        "house_prediction_svm"
      ],
      "execution_count": 194,
      "outputs": [
        {
          "output_type": "execute_result",
          "data": {
            "text/html": [
              "<div>\n",
              "<style scoped>\n",
              "    .dataframe tbody tr th:only-of-type {\n",
              "        vertical-align: middle;\n",
              "    }\n",
              "\n",
              "    .dataframe tbody tr th {\n",
              "        vertical-align: top;\n",
              "    }\n",
              "\n",
              "    .dataframe thead th {\n",
              "        text-align: right;\n",
              "    }\n",
              "</style>\n",
              "<table border=\"1\" class=\"dataframe\">\n",
              "  <thead>\n",
              "    <tr style=\"text-align: right;\">\n",
              "      <th></th>\n",
              "      <th>crim</th>\n",
              "      <th>zn</th>\n",
              "      <th>indus</th>\n",
              "      <th>chas</th>\n",
              "      <th>nox</th>\n",
              "      <th>rm</th>\n",
              "      <th>age</th>\n",
              "      <th>dis</th>\n",
              "      <th>rad</th>\n",
              "      <th>tax</th>\n",
              "      <th>ptratio</th>\n",
              "      <th>black</th>\n",
              "      <th>lstat</th>\n",
              "    </tr>\n",
              "  </thead>\n",
              "  <tbody>\n",
              "    <tr>\n",
              "      <th>0</th>\n",
              "      <td>0.00632</td>\n",
              "      <td>18.0</td>\n",
              "      <td>2.31</td>\n",
              "      <td>0</td>\n",
              "      <td>0.538</td>\n",
              "      <td>6.575</td>\n",
              "      <td>65.2</td>\n",
              "      <td>4.0900</td>\n",
              "      <td>1</td>\n",
              "      <td>296</td>\n",
              "      <td>15.3</td>\n",
              "      <td>396.90</td>\n",
              "      <td>4.98</td>\n",
              "    </tr>\n",
              "    <tr>\n",
              "      <th>1</th>\n",
              "      <td>0.02731</td>\n",
              "      <td>0.0</td>\n",
              "      <td>7.07</td>\n",
              "      <td>0</td>\n",
              "      <td>0.469</td>\n",
              "      <td>6.421</td>\n",
              "      <td>78.9</td>\n",
              "      <td>4.9671</td>\n",
              "      <td>2</td>\n",
              "      <td>242</td>\n",
              "      <td>17.8</td>\n",
              "      <td>396.90</td>\n",
              "      <td>9.14</td>\n",
              "    </tr>\n",
              "    <tr>\n",
              "      <th>2</th>\n",
              "      <td>0.02729</td>\n",
              "      <td>0.0</td>\n",
              "      <td>7.07</td>\n",
              "      <td>0</td>\n",
              "      <td>0.469</td>\n",
              "      <td>7.185</td>\n",
              "      <td>61.1</td>\n",
              "      <td>4.9671</td>\n",
              "      <td>2</td>\n",
              "      <td>242</td>\n",
              "      <td>17.8</td>\n",
              "      <td>392.83</td>\n",
              "      <td>4.03</td>\n",
              "    </tr>\n",
              "    <tr>\n",
              "      <th>3</th>\n",
              "      <td>0.03237</td>\n",
              "      <td>0.0</td>\n",
              "      <td>2.18</td>\n",
              "      <td>0</td>\n",
              "      <td>0.458</td>\n",
              "      <td>6.998</td>\n",
              "      <td>45.8</td>\n",
              "      <td>6.0622</td>\n",
              "      <td>3</td>\n",
              "      <td>222</td>\n",
              "      <td>18.7</td>\n",
              "      <td>394.63</td>\n",
              "      <td>2.94</td>\n",
              "    </tr>\n",
              "    <tr>\n",
              "      <th>4</th>\n",
              "      <td>0.06905</td>\n",
              "      <td>0.0</td>\n",
              "      <td>2.18</td>\n",
              "      <td>0</td>\n",
              "      <td>0.458</td>\n",
              "      <td>7.147</td>\n",
              "      <td>54.2</td>\n",
              "      <td>6.0622</td>\n",
              "      <td>3</td>\n",
              "      <td>222</td>\n",
              "      <td>18.7</td>\n",
              "      <td>396.90</td>\n",
              "      <td>5.33</td>\n",
              "    </tr>\n",
              "    <tr>\n",
              "      <th>5</th>\n",
              "      <td>0.02985</td>\n",
              "      <td>0.0</td>\n",
              "      <td>2.18</td>\n",
              "      <td>0</td>\n",
              "      <td>0.458</td>\n",
              "      <td>6.430</td>\n",
              "      <td>58.7</td>\n",
              "      <td>6.0622</td>\n",
              "      <td>3</td>\n",
              "      <td>222</td>\n",
              "      <td>18.7</td>\n",
              "      <td>394.12</td>\n",
              "      <td>5.21</td>\n",
              "    </tr>\n",
              "    <tr>\n",
              "      <th>6</th>\n",
              "      <td>0.08829</td>\n",
              "      <td>12.5</td>\n",
              "      <td>7.87</td>\n",
              "      <td>0</td>\n",
              "      <td>0.524</td>\n",
              "      <td>6.012</td>\n",
              "      <td>66.6</td>\n",
              "      <td>5.5605</td>\n",
              "      <td>5</td>\n",
              "      <td>311</td>\n",
              "      <td>15.2</td>\n",
              "      <td>395.60</td>\n",
              "      <td>12.43</td>\n",
              "    </tr>\n",
              "    <tr>\n",
              "      <th>7</th>\n",
              "      <td>0.14455</td>\n",
              "      <td>12.5</td>\n",
              "      <td>7.87</td>\n",
              "      <td>0</td>\n",
              "      <td>0.524</td>\n",
              "      <td>6.172</td>\n",
              "      <td>96.1</td>\n",
              "      <td>5.9505</td>\n",
              "      <td>5</td>\n",
              "      <td>311</td>\n",
              "      <td>15.2</td>\n",
              "      <td>396.90</td>\n",
              "      <td>19.15</td>\n",
              "    </tr>\n",
              "    <tr>\n",
              "      <th>8</th>\n",
              "      <td>0.21124</td>\n",
              "      <td>12.5</td>\n",
              "      <td>7.87</td>\n",
              "      <td>0</td>\n",
              "      <td>0.524</td>\n",
              "      <td>5.631</td>\n",
              "      <td>100.0</td>\n",
              "      <td>6.0821</td>\n",
              "      <td>5</td>\n",
              "      <td>311</td>\n",
              "      <td>15.2</td>\n",
              "      <td>386.63</td>\n",
              "      <td>29.93</td>\n",
              "    </tr>\n",
              "    <tr>\n",
              "      <th>9</th>\n",
              "      <td>0.17004</td>\n",
              "      <td>12.5</td>\n",
              "      <td>7.87</td>\n",
              "      <td>0</td>\n",
              "      <td>0.524</td>\n",
              "      <td>6.004</td>\n",
              "      <td>85.9</td>\n",
              "      <td>6.5921</td>\n",
              "      <td>5</td>\n",
              "      <td>311</td>\n",
              "      <td>15.2</td>\n",
              "      <td>386.71</td>\n",
              "      <td>17.10</td>\n",
              "    </tr>\n",
              "  </tbody>\n",
              "</table>\n",
              "</div>"
            ],
            "text/plain": [
              "      crim    zn  indus  chas    nox  ...  rad  tax  ptratio   black  lstat\n",
              "0  0.00632  18.0   2.31     0  0.538  ...    1  296     15.3  396.90   4.98\n",
              "1  0.02731   0.0   7.07     0  0.469  ...    2  242     17.8  396.90   9.14\n",
              "2  0.02729   0.0   7.07     0  0.469  ...    2  242     17.8  392.83   4.03\n",
              "3  0.03237   0.0   2.18     0  0.458  ...    3  222     18.7  394.63   2.94\n",
              "4  0.06905   0.0   2.18     0  0.458  ...    3  222     18.7  396.90   5.33\n",
              "5  0.02985   0.0   2.18     0  0.458  ...    3  222     18.7  394.12   5.21\n",
              "6  0.08829  12.5   7.87     0  0.524  ...    5  311     15.2  395.60  12.43\n",
              "7  0.14455  12.5   7.87     0  0.524  ...    5  311     15.2  396.90  19.15\n",
              "8  0.21124  12.5   7.87     0  0.524  ...    5  311     15.2  386.63  29.93\n",
              "9  0.17004  12.5   7.87     0  0.524  ...    5  311     15.2  386.71  17.10\n",
              "\n",
              "[10 rows x 13 columns]"
            ]
          },
          "metadata": {
            "tags": []
          },
          "execution_count": 194
        }
      ]
    },
    {
      "cell_type": "code",
      "metadata": {
        "id": "RC-JpA1vmbi6",
        "colab_type": "code",
        "colab": {}
      },
      "source": [
        "house_prediction_svm=sc.transform(house_prediction_svm.values.reshape(-1,13))"
      ],
      "execution_count": 0,
      "outputs": []
    },
    {
      "cell_type": "code",
      "metadata": {
        "id": "RfA_XHegmljC",
        "colab_type": "code",
        "colab": {}
      },
      "source": [
        "pred_houses_svm = regressor.predict(house_prediction_svm)"
      ],
      "execution_count": 0,
      "outputs": []
    },
    {
      "cell_type": "code",
      "metadata": {
        "id": "l2mWtX8hnLln",
        "colab_type": "code",
        "colab": {
          "base_uri": "https://localhost:8080/",
          "height": 34
        },
        "outputId": "a11792b0-ff68-4df3-aeda-de25a8254c02"
      },
      "source": [
        "pred_houses_svm"
      ],
      "execution_count": 197,
      "outputs": [
        {
          "output_type": "execute_result",
          "data": {
            "text/plain": [
              "array([29.3, 23.1, 31.2, 29. , 29.3, 23.9, 21.6, 19.4, 16.6, 19. ])"
            ]
          },
          "metadata": {
            "tags": []
          },
          "execution_count": 197
        }
      ]
    },
    {
      "cell_type": "code",
      "metadata": {
        "id": "zC6Bah6vnN8w",
        "colab_type": "code",
        "colab": {
          "base_uri": "https://localhost:8080/",
          "height": 359
        },
        "outputId": "95c63f80-a77b-4838-9ecb-8800d0ba1376"
      },
      "source": [
        "df_svm = pd.DataFrame(pred_houses_svm, columns=['Predictions_svm'])\n",
        "df_svm"
      ],
      "execution_count": 198,
      "outputs": [
        {
          "output_type": "execute_result",
          "data": {
            "text/html": [
              "<div>\n",
              "<style scoped>\n",
              "    .dataframe tbody tr th:only-of-type {\n",
              "        vertical-align: middle;\n",
              "    }\n",
              "\n",
              "    .dataframe tbody tr th {\n",
              "        vertical-align: top;\n",
              "    }\n",
              "\n",
              "    .dataframe thead th {\n",
              "        text-align: right;\n",
              "    }\n",
              "</style>\n",
              "<table border=\"1\" class=\"dataframe\">\n",
              "  <thead>\n",
              "    <tr style=\"text-align: right;\">\n",
              "      <th></th>\n",
              "      <th>Predictions_svm</th>\n",
              "    </tr>\n",
              "  </thead>\n",
              "  <tbody>\n",
              "    <tr>\n",
              "      <th>0</th>\n",
              "      <td>29.328247</td>\n",
              "    </tr>\n",
              "    <tr>\n",
              "      <th>1</th>\n",
              "      <td>23.068567</td>\n",
              "    </tr>\n",
              "    <tr>\n",
              "      <th>2</th>\n",
              "      <td>31.225956</td>\n",
              "    </tr>\n",
              "    <tr>\n",
              "      <th>3</th>\n",
              "      <td>28.985480</td>\n",
              "    </tr>\n",
              "    <tr>\n",
              "      <th>4</th>\n",
              "      <td>29.334102</td>\n",
              "    </tr>\n",
              "    <tr>\n",
              "      <th>5</th>\n",
              "      <td>23.913574</td>\n",
              "    </tr>\n",
              "    <tr>\n",
              "      <th>6</th>\n",
              "      <td>21.580021</td>\n",
              "    </tr>\n",
              "    <tr>\n",
              "      <th>7</th>\n",
              "      <td>19.399650</td>\n",
              "    </tr>\n",
              "    <tr>\n",
              "      <th>8</th>\n",
              "      <td>16.600376</td>\n",
              "    </tr>\n",
              "    <tr>\n",
              "      <th>9</th>\n",
              "      <td>18.999790</td>\n",
              "    </tr>\n",
              "  </tbody>\n",
              "</table>\n",
              "</div>"
            ],
            "text/plain": [
              "   Predictions_svm\n",
              "0        29.328247\n",
              "1        23.068567\n",
              "2        31.225956\n",
              "3        28.985480\n",
              "4        29.334102\n",
              "5        23.913574\n",
              "6        21.580021\n",
              "7        19.399650\n",
              "8        16.600376\n",
              "9        18.999790"
            ]
          },
          "metadata": {
            "tags": []
          },
          "execution_count": 198
        }
      ]
    },
    {
      "cell_type": "markdown",
      "metadata": {
        "id": "J87PgkJCsPuM",
        "colab_type": "text"
      },
      "source": [
        "# LR vs ANN vs PR vs SVR"
      ]
    },
    {
      "cell_type": "code",
      "metadata": {
        "id": "t4mkM_X_nYms",
        "colab_type": "code",
        "colab": {
          "base_uri": "https://localhost:8080/",
          "height": 359
        },
        "outputId": "f44ee12f-6552-42c7-da9a-7e2cb879c6d1"
      },
      "source": [
        "data_predicted= pd.concat([df, df_ann,df_lr,df_poly,df_svm], axis=1)\n",
        "data_predicted.head(10)"
      ],
      "execution_count": 199,
      "outputs": [
        {
          "output_type": "execute_result",
          "data": {
            "text/html": [
              "<div>\n",
              "<style scoped>\n",
              "    .dataframe tbody tr th:only-of-type {\n",
              "        vertical-align: middle;\n",
              "    }\n",
              "\n",
              "    .dataframe tbody tr th {\n",
              "        vertical-align: top;\n",
              "    }\n",
              "\n",
              "    .dataframe thead th {\n",
              "        text-align: right;\n",
              "    }\n",
              "</style>\n",
              "<table border=\"1\" class=\"dataframe\">\n",
              "  <thead>\n",
              "    <tr style=\"text-align: right;\">\n",
              "      <th></th>\n",
              "      <th>Unnamed: 0</th>\n",
              "      <th>crim</th>\n",
              "      <th>zn</th>\n",
              "      <th>indus</th>\n",
              "      <th>chas</th>\n",
              "      <th>nox</th>\n",
              "      <th>rm</th>\n",
              "      <th>age</th>\n",
              "      <th>dis</th>\n",
              "      <th>rad</th>\n",
              "      <th>tax</th>\n",
              "      <th>ptratio</th>\n",
              "      <th>black</th>\n",
              "      <th>lstat</th>\n",
              "      <th>medv</th>\n",
              "      <th>Predictions_ann</th>\n",
              "      <th>Predictions_lr</th>\n",
              "      <th>Predictions_poly</th>\n",
              "      <th>Predictions_svm</th>\n",
              "    </tr>\n",
              "  </thead>\n",
              "  <tbody>\n",
              "    <tr>\n",
              "      <th>0</th>\n",
              "      <td>1</td>\n",
              "      <td>0.00632</td>\n",
              "      <td>18.0</td>\n",
              "      <td>2.31</td>\n",
              "      <td>0</td>\n",
              "      <td>0.538</td>\n",
              "      <td>6.575</td>\n",
              "      <td>65.2</td>\n",
              "      <td>4.0900</td>\n",
              "      <td>1</td>\n",
              "      <td>296</td>\n",
              "      <td>15.3</td>\n",
              "      <td>396.90</td>\n",
              "      <td>4.98</td>\n",
              "      <td>24.0</td>\n",
              "      <td>25.204807</td>\n",
              "      <td>30.499498</td>\n",
              "      <td>26.185130</td>\n",
              "      <td>29.328247</td>\n",
              "    </tr>\n",
              "    <tr>\n",
              "      <th>1</th>\n",
              "      <td>2</td>\n",
              "      <td>0.02731</td>\n",
              "      <td>0.0</td>\n",
              "      <td>7.07</td>\n",
              "      <td>0</td>\n",
              "      <td>0.469</td>\n",
              "      <td>6.421</td>\n",
              "      <td>78.9</td>\n",
              "      <td>4.9671</td>\n",
              "      <td>2</td>\n",
              "      <td>242</td>\n",
              "      <td>17.8</td>\n",
              "      <td>396.90</td>\n",
              "      <td>9.14</td>\n",
              "      <td>21.6</td>\n",
              "      <td>22.331741</td>\n",
              "      <td>25.172480</td>\n",
              "      <td>20.242273</td>\n",
              "      <td>23.068567</td>\n",
              "    </tr>\n",
              "    <tr>\n",
              "      <th>2</th>\n",
              "      <td>3</td>\n",
              "      <td>0.02729</td>\n",
              "      <td>0.0</td>\n",
              "      <td>7.07</td>\n",
              "      <td>0</td>\n",
              "      <td>0.469</td>\n",
              "      <td>7.185</td>\n",
              "      <td>61.1</td>\n",
              "      <td>4.9671</td>\n",
              "      <td>2</td>\n",
              "      <td>242</td>\n",
              "      <td>17.8</td>\n",
              "      <td>392.83</td>\n",
              "      <td>4.03</td>\n",
              "      <td>34.7</td>\n",
              "      <td>30.816872</td>\n",
              "      <td>30.546654</td>\n",
              "      <td>31.229378</td>\n",
              "      <td>31.225956</td>\n",
              "    </tr>\n",
              "    <tr>\n",
              "      <th>3</th>\n",
              "      <td>4</td>\n",
              "      <td>0.03237</td>\n",
              "      <td>0.0</td>\n",
              "      <td>2.18</td>\n",
              "      <td>0</td>\n",
              "      <td>0.458</td>\n",
              "      <td>6.998</td>\n",
              "      <td>45.8</td>\n",
              "      <td>6.0622</td>\n",
              "      <td>3</td>\n",
              "      <td>222</td>\n",
              "      <td>18.7</td>\n",
              "      <td>394.63</td>\n",
              "      <td>2.94</td>\n",
              "      <td>33.4</td>\n",
              "      <td>32.384190</td>\n",
              "      <td>28.606948</td>\n",
              "      <td>34.547726</td>\n",
              "      <td>28.985480</td>\n",
              "    </tr>\n",
              "    <tr>\n",
              "      <th>4</th>\n",
              "      <td>5</td>\n",
              "      <td>0.06905</td>\n",
              "      <td>0.0</td>\n",
              "      <td>2.18</td>\n",
              "      <td>0</td>\n",
              "      <td>0.458</td>\n",
              "      <td>7.147</td>\n",
              "      <td>54.2</td>\n",
              "      <td>6.0622</td>\n",
              "      <td>3</td>\n",
              "      <td>222</td>\n",
              "      <td>18.7</td>\n",
              "      <td>396.90</td>\n",
              "      <td>5.33</td>\n",
              "      <td>36.2</td>\n",
              "      <td>32.175018</td>\n",
              "      <td>27.969583</td>\n",
              "      <td>33.330851</td>\n",
              "      <td>29.334102</td>\n",
              "    </tr>\n",
              "    <tr>\n",
              "      <th>5</th>\n",
              "      <td>6</td>\n",
              "      <td>0.02985</td>\n",
              "      <td>0.0</td>\n",
              "      <td>2.18</td>\n",
              "      <td>0</td>\n",
              "      <td>0.458</td>\n",
              "      <td>6.430</td>\n",
              "      <td>58.7</td>\n",
              "      <td>6.0622</td>\n",
              "      <td>3</td>\n",
              "      <td>222</td>\n",
              "      <td>18.7</td>\n",
              "      <td>394.12</td>\n",
              "      <td>5.21</td>\n",
              "      <td>28.7</td>\n",
              "      <td>26.085541</td>\n",
              "      <td>25.337665</td>\n",
              "      <td>28.211071</td>\n",
              "      <td>23.913574</td>\n",
              "    </tr>\n",
              "    <tr>\n",
              "      <th>6</th>\n",
              "      <td>7</td>\n",
              "      <td>0.08829</td>\n",
              "      <td>12.5</td>\n",
              "      <td>7.87</td>\n",
              "      <td>0</td>\n",
              "      <td>0.524</td>\n",
              "      <td>6.012</td>\n",
              "      <td>66.6</td>\n",
              "      <td>5.5605</td>\n",
              "      <td>5</td>\n",
              "      <td>311</td>\n",
              "      <td>15.2</td>\n",
              "      <td>395.60</td>\n",
              "      <td>12.43</td>\n",
              "      <td>22.9</td>\n",
              "      <td>21.806234</td>\n",
              "      <td>23.603188</td>\n",
              "      <td>21.896255</td>\n",
              "      <td>21.580021</td>\n",
              "    </tr>\n",
              "    <tr>\n",
              "      <th>7</th>\n",
              "      <td>8</td>\n",
              "      <td>0.14455</td>\n",
              "      <td>12.5</td>\n",
              "      <td>7.87</td>\n",
              "      <td>0</td>\n",
              "      <td>0.524</td>\n",
              "      <td>6.172</td>\n",
              "      <td>96.1</td>\n",
              "      <td>5.9505</td>\n",
              "      <td>5</td>\n",
              "      <td>311</td>\n",
              "      <td>15.2</td>\n",
              "      <td>396.90</td>\n",
              "      <td>19.15</td>\n",
              "      <td>27.1</td>\n",
              "      <td>22.170792</td>\n",
              "      <td>20.256071</td>\n",
              "      <td>18.026796</td>\n",
              "      <td>19.399650</td>\n",
              "    </tr>\n",
              "    <tr>\n",
              "      <th>8</th>\n",
              "      <td>9</td>\n",
              "      <td>0.21124</td>\n",
              "      <td>12.5</td>\n",
              "      <td>7.87</td>\n",
              "      <td>0</td>\n",
              "      <td>0.524</td>\n",
              "      <td>5.631</td>\n",
              "      <td>100.0</td>\n",
              "      <td>6.0821</td>\n",
              "      <td>5</td>\n",
              "      <td>311</td>\n",
              "      <td>15.2</td>\n",
              "      <td>386.63</td>\n",
              "      <td>29.93</td>\n",
              "      <td>16.5</td>\n",
              "      <td>17.147882</td>\n",
              "      <td>12.651475</td>\n",
              "      <td>14.739570</td>\n",
              "      <td>16.600376</td>\n",
              "    </tr>\n",
              "    <tr>\n",
              "      <th>9</th>\n",
              "      <td>10</td>\n",
              "      <td>0.17004</td>\n",
              "      <td>12.5</td>\n",
              "      <td>7.87</td>\n",
              "      <td>0</td>\n",
              "      <td>0.524</td>\n",
              "      <td>6.004</td>\n",
              "      <td>85.9</td>\n",
              "      <td>6.5921</td>\n",
              "      <td>5</td>\n",
              "      <td>311</td>\n",
              "      <td>15.2</td>\n",
              "      <td>386.71</td>\n",
              "      <td>17.10</td>\n",
              "      <td>18.9</td>\n",
              "      <td>20.906023</td>\n",
              "      <td>19.699869</td>\n",
              "      <td>22.343196</td>\n",
              "      <td>18.999790</td>\n",
              "    </tr>\n",
              "  </tbody>\n",
              "</table>\n",
              "</div>"
            ],
            "text/plain": [
              "   Unnamed: 0     crim    zn  ...  Predictions_lr  Predictions_poly  Predictions_svm\n",
              "0           1  0.00632  18.0  ...       30.499498         26.185130        29.328247\n",
              "1           2  0.02731   0.0  ...       25.172480         20.242273        23.068567\n",
              "2           3  0.02729   0.0  ...       30.546654         31.229378        31.225956\n",
              "3           4  0.03237   0.0  ...       28.606948         34.547726        28.985480\n",
              "4           5  0.06905   0.0  ...       27.969583         33.330851        29.334102\n",
              "5           6  0.02985   0.0  ...       25.337665         28.211071        23.913574\n",
              "6           7  0.08829  12.5  ...       23.603188         21.896255        21.580021\n",
              "7           8  0.14455  12.5  ...       20.256071         18.026796        19.399650\n",
              "8           9  0.21124  12.5  ...       12.651475         14.739570        16.600376\n",
              "9          10  0.17004  12.5  ...       19.699869         22.343196        18.999790\n",
              "\n",
              "[10 rows x 19 columns]"
            ]
          },
          "metadata": {
            "tags": []
          },
          "execution_count": 199
        }
      ]
    },
    {
      "cell_type": "markdown",
      "metadata": {
        "id": "he80C-KQv-69",
        "colab_type": "text"
      },
      "source": [
        "# Decision Trees Regression"
      ]
    },
    {
      "cell_type": "code",
      "metadata": {
        "id": "JPUg6u9-wd62",
        "colab_type": "code",
        "colab": {}
      },
      "source": [
        "from sklearn.tree import DecisionTreeRegressor"
      ],
      "execution_count": 0,
      "outputs": []
    },
    {
      "cell_type": "code",
      "metadata": {
        "id": "CH5MgAp_o52w",
        "colab_type": "code",
        "colab": {
          "base_uri": "https://localhost:8080/",
          "height": 204
        },
        "outputId": "49f754be-a647-493b-91d6-36b28c4d6843"
      },
      "source": [
        "df = pd.read_csv(io.BytesIO(uploaded['Boston.csv']))\n",
        "df.head()"
      ],
      "execution_count": 350,
      "outputs": [
        {
          "output_type": "execute_result",
          "data": {
            "text/html": [
              "<div>\n",
              "<style scoped>\n",
              "    .dataframe tbody tr th:only-of-type {\n",
              "        vertical-align: middle;\n",
              "    }\n",
              "\n",
              "    .dataframe tbody tr th {\n",
              "        vertical-align: top;\n",
              "    }\n",
              "\n",
              "    .dataframe thead th {\n",
              "        text-align: right;\n",
              "    }\n",
              "</style>\n",
              "<table border=\"1\" class=\"dataframe\">\n",
              "  <thead>\n",
              "    <tr style=\"text-align: right;\">\n",
              "      <th></th>\n",
              "      <th>Unnamed: 0</th>\n",
              "      <th>crim</th>\n",
              "      <th>zn</th>\n",
              "      <th>indus</th>\n",
              "      <th>chas</th>\n",
              "      <th>nox</th>\n",
              "      <th>rm</th>\n",
              "      <th>age</th>\n",
              "      <th>dis</th>\n",
              "      <th>rad</th>\n",
              "      <th>tax</th>\n",
              "      <th>ptratio</th>\n",
              "      <th>black</th>\n",
              "      <th>lstat</th>\n",
              "      <th>medv</th>\n",
              "    </tr>\n",
              "  </thead>\n",
              "  <tbody>\n",
              "    <tr>\n",
              "      <th>0</th>\n",
              "      <td>1</td>\n",
              "      <td>0.00632</td>\n",
              "      <td>18.0</td>\n",
              "      <td>2.31</td>\n",
              "      <td>0</td>\n",
              "      <td>0.538</td>\n",
              "      <td>6.575</td>\n",
              "      <td>65.2</td>\n",
              "      <td>4.0900</td>\n",
              "      <td>1</td>\n",
              "      <td>296</td>\n",
              "      <td>15.3</td>\n",
              "      <td>396.90</td>\n",
              "      <td>4.98</td>\n",
              "      <td>24.0</td>\n",
              "    </tr>\n",
              "    <tr>\n",
              "      <th>1</th>\n",
              "      <td>2</td>\n",
              "      <td>0.02731</td>\n",
              "      <td>0.0</td>\n",
              "      <td>7.07</td>\n",
              "      <td>0</td>\n",
              "      <td>0.469</td>\n",
              "      <td>6.421</td>\n",
              "      <td>78.9</td>\n",
              "      <td>4.9671</td>\n",
              "      <td>2</td>\n",
              "      <td>242</td>\n",
              "      <td>17.8</td>\n",
              "      <td>396.90</td>\n",
              "      <td>9.14</td>\n",
              "      <td>21.6</td>\n",
              "    </tr>\n",
              "    <tr>\n",
              "      <th>2</th>\n",
              "      <td>3</td>\n",
              "      <td>0.02729</td>\n",
              "      <td>0.0</td>\n",
              "      <td>7.07</td>\n",
              "      <td>0</td>\n",
              "      <td>0.469</td>\n",
              "      <td>7.185</td>\n",
              "      <td>61.1</td>\n",
              "      <td>4.9671</td>\n",
              "      <td>2</td>\n",
              "      <td>242</td>\n",
              "      <td>17.8</td>\n",
              "      <td>392.83</td>\n",
              "      <td>4.03</td>\n",
              "      <td>34.7</td>\n",
              "    </tr>\n",
              "    <tr>\n",
              "      <th>3</th>\n",
              "      <td>4</td>\n",
              "      <td>0.03237</td>\n",
              "      <td>0.0</td>\n",
              "      <td>2.18</td>\n",
              "      <td>0</td>\n",
              "      <td>0.458</td>\n",
              "      <td>6.998</td>\n",
              "      <td>45.8</td>\n",
              "      <td>6.0622</td>\n",
              "      <td>3</td>\n",
              "      <td>222</td>\n",
              "      <td>18.7</td>\n",
              "      <td>394.63</td>\n",
              "      <td>2.94</td>\n",
              "      <td>33.4</td>\n",
              "    </tr>\n",
              "    <tr>\n",
              "      <th>4</th>\n",
              "      <td>5</td>\n",
              "      <td>0.06905</td>\n",
              "      <td>0.0</td>\n",
              "      <td>2.18</td>\n",
              "      <td>0</td>\n",
              "      <td>0.458</td>\n",
              "      <td>7.147</td>\n",
              "      <td>54.2</td>\n",
              "      <td>6.0622</td>\n",
              "      <td>3</td>\n",
              "      <td>222</td>\n",
              "      <td>18.7</td>\n",
              "      <td>396.90</td>\n",
              "      <td>5.33</td>\n",
              "      <td>36.2</td>\n",
              "    </tr>\n",
              "  </tbody>\n",
              "</table>\n",
              "</div>"
            ],
            "text/plain": [
              "   Unnamed: 0     crim    zn  indus  chas  ...  tax  ptratio   black  lstat  medv\n",
              "0           1  0.00632  18.0   2.31     0  ...  296     15.3  396.90   4.98  24.0\n",
              "1           2  0.02731   0.0   7.07     0  ...  242     17.8  396.90   9.14  21.6\n",
              "2           3  0.02729   0.0   7.07     0  ...  242     17.8  392.83   4.03  34.7\n",
              "3           4  0.03237   0.0   2.18     0  ...  222     18.7  394.63   2.94  33.4\n",
              "4           5  0.06905   0.0   2.18     0  ...  222     18.7  396.90   5.33  36.2\n",
              "\n",
              "[5 rows x 15 columns]"
            ]
          },
          "metadata": {
            "tags": []
          },
          "execution_count": 350
        }
      ]
    },
    {
      "cell_type": "code",
      "metadata": {
        "id": "S6aJxwHLwHlT",
        "colab_type": "code",
        "colab": {}
      },
      "source": [
        "X = df.iloc[:, 1:-1].values\n",
        "y = df.iloc[:, -1].values"
      ],
      "execution_count": 0,
      "outputs": []
    },
    {
      "cell_type": "code",
      "metadata": {
        "id": "RhLt06dVwTUq",
        "colab_type": "code",
        "colab": {}
      },
      "source": [
        "sc=StandardScaler()\n",
        "X=sc.fit_transform(X)"
      ],
      "execution_count": 0,
      "outputs": []
    },
    {
      "cell_type": "code",
      "metadata": {
        "id": "vRa2VVAcwTr1",
        "colab_type": "code",
        "colab": {}
      },
      "source": [
        "X_train, X_test, y_train, y_test = train_test_split(X, y, test_size = 0.2, random_state = 0)"
      ],
      "execution_count": 0,
      "outputs": []
    },
    {
      "cell_type": "code",
      "metadata": {
        "id": "SaX59kvUwa5b",
        "colab_type": "code",
        "colab": {
          "base_uri": "https://localhost:8080/",
          "height": 119
        },
        "outputId": "18940c77-ea0e-4d2d-a673-e1128d746d3d"
      },
      "source": [
        "regressor = DecisionTreeRegressor(random_state = 0)\n",
        "regressor.fit(X_train, y_train)"
      ],
      "execution_count": 354,
      "outputs": [
        {
          "output_type": "execute_result",
          "data": {
            "text/plain": [
              "DecisionTreeRegressor(ccp_alpha=0.0, criterion='mse', max_depth=None,\n",
              "                      max_features=None, max_leaf_nodes=None,\n",
              "                      min_impurity_decrease=0.0, min_impurity_split=None,\n",
              "                      min_samples_leaf=1, min_samples_split=2,\n",
              "                      min_weight_fraction_leaf=0.0, presort='deprecated',\n",
              "                      random_state=0, splitter='best')"
            ]
          },
          "metadata": {
            "tags": []
          },
          "execution_count": 354
        }
      ]
    },
    {
      "cell_type": "code",
      "metadata": {
        "id": "PeUV-epLwlBE",
        "colab_type": "code",
        "colab": {
          "base_uri": "https://localhost:8080/",
          "height": 1000
        },
        "outputId": "6db7972a-440b-4ce5-f887-60c92e39b24c"
      },
      "source": [
        "y_pred = regressor.predict(X_test)\n",
        "np.set_printoptions(precision=1)\n",
        "print(np.concatenate((y_pred.reshape(len(y_pred),1), y_test.reshape(len(y_test),1)),1))"
      ],
      "execution_count": 355,
      "outputs": [
        {
          "output_type": "stream",
          "text": [
            "[[23.7 22.6]\n",
            " [23.8 50. ]\n",
            " [19.2 23. ]\n",
            " [11.7  8.3]\n",
            " [21.2 21.2]\n",
            " [21.1 19.9]\n",
            " [20.6 20.6]\n",
            " [19.  18.7]\n",
            " [24.5 16.1]\n",
            " [16.1 18.6]\n",
            " [ 8.3  8.8]\n",
            " [17.9 17.2]\n",
            " [14.2 14.9]\n",
            " [ 8.8 10.5]\n",
            " [48.5 50. ]\n",
            " [37.  29. ]\n",
            " [21.2 23. ]\n",
            " [34.6 33.3]\n",
            " [24.1 29.4]\n",
            " [21.1 21. ]\n",
            " [24.7 23.8]\n",
            " [19.4 19.1]\n",
            " [21.4 20.4]\n",
            " [24.7 29.1]\n",
            " [18.5 19.3]\n",
            " [10.9 23.1]\n",
            " [14.5 19.6]\n",
            " [16.4 19.4]\n",
            " [39.8 38.7]\n",
            " [18.8 18.7]\n",
            " [12.5 14.6]\n",
            " [19.5 20. ]\n",
            " [18.9 20.5]\n",
            " [23.2 20.1]\n",
            " [19.2 23.6]\n",
            " [19.9 16.8]\n",
            " [10.4  5.6]\n",
            " [23.8 50. ]\n",
            " [12.5 14.5]\n",
            " [17.9 13.3]\n",
            " [25.  23.9]\n",
            " [18.5 20. ]\n",
            " [22.2 19.8]\n",
            " [11.7 13.8]\n",
            " [36.2 16.5]\n",
            " [18.2 21.6]\n",
            " [22.4 20.3]\n",
            " [16.4 17. ]\n",
            " [13.4 11.8]\n",
            " [22.8 27.5]\n",
            " [19.  15.6]\n",
            " [16.2 23.1]\n",
            " [19.3 24.3]\n",
            " [21.9 42.8]\n",
            " [15.6 15.6]\n",
            " [18.9 21.7]\n",
            " [20.9 17.1]\n",
            " [17.5 17.2]\n",
            " [10.9 15. ]\n",
            " [22.5 21.7]\n",
            " [20.6 18.6]\n",
            " [22.2 21. ]\n",
            " [31.5 33.1]\n",
            " [24.1 31.5]\n",
            " [19.9 20.1]\n",
            " [24.1 29.8]\n",
            " [17.4 15.2]\n",
            " [27.1 15. ]\n",
            " [16.7 27.5]\n",
            " [19.3 22.6]\n",
            " [24.5 20. ]\n",
            " [26.4 21.4]\n",
            " [24.8 23.5]\n",
            " [30.5 31.2]\n",
            " [25.  23.7]\n",
            " [ 8.8  7.4]\n",
            " [41.7 48.3]\n",
            " [23.9 24.4]\n",
            " [23.1 22.6]\n",
            " [18.2 18.3]\n",
            " [30.1 23.3]\n",
            " [19.2 17.1]\n",
            " [19.4 27.9]\n",
            " [41.7 44.8]\n",
            " [41.7 50. ]\n",
            " [25.  23. ]\n",
            " [22.4 21.4]\n",
            " [13.8 10.2]\n",
            " [24.3 23.3]\n",
            " [15.6 23.2]\n",
            " [17.5 18.9]\n",
            " [11.8 13.4]\n",
            " [20.6 21.9]\n",
            " [29.9 24.8]\n",
            " [21.1 11.9]\n",
            " [22.  24.3]\n",
            " [10.2 13.8]\n",
            " [22.9 24.7]\n",
            " [12.7 14.1]\n",
            " [19.7 18.7]\n",
            " [25.  28.1]\n",
            " [20.1 19.8]]\n"
          ],
          "name": "stdout"
        }
      ]
    },
    {
      "cell_type": "code",
      "metadata": {
        "id": "jlgFhDwLwl00",
        "colab_type": "code",
        "colab": {
          "base_uri": "https://localhost:8080/",
          "height": 419
        },
        "outputId": "b1042f83-06c4-4a6f-a434-9d396cc0d146"
      },
      "source": [
        "pd.DataFrame({'y_pred: ':y_pred, 'y_reeal: ':y_test})"
      ],
      "execution_count": 356,
      "outputs": [
        {
          "output_type": "execute_result",
          "data": {
            "text/html": [
              "<div>\n",
              "<style scoped>\n",
              "    .dataframe tbody tr th:only-of-type {\n",
              "        vertical-align: middle;\n",
              "    }\n",
              "\n",
              "    .dataframe tbody tr th {\n",
              "        vertical-align: top;\n",
              "    }\n",
              "\n",
              "    .dataframe thead th {\n",
              "        text-align: right;\n",
              "    }\n",
              "</style>\n",
              "<table border=\"1\" class=\"dataframe\">\n",
              "  <thead>\n",
              "    <tr style=\"text-align: right;\">\n",
              "      <th></th>\n",
              "      <th>y_pred:</th>\n",
              "      <th>y_reeal:</th>\n",
              "    </tr>\n",
              "  </thead>\n",
              "  <tbody>\n",
              "    <tr>\n",
              "      <th>0</th>\n",
              "      <td>23.7</td>\n",
              "      <td>22.6</td>\n",
              "    </tr>\n",
              "    <tr>\n",
              "      <th>1</th>\n",
              "      <td>23.8</td>\n",
              "      <td>50.0</td>\n",
              "    </tr>\n",
              "    <tr>\n",
              "      <th>2</th>\n",
              "      <td>19.2</td>\n",
              "      <td>23.0</td>\n",
              "    </tr>\n",
              "    <tr>\n",
              "      <th>3</th>\n",
              "      <td>11.7</td>\n",
              "      <td>8.3</td>\n",
              "    </tr>\n",
              "    <tr>\n",
              "      <th>4</th>\n",
              "      <td>21.2</td>\n",
              "      <td>21.2</td>\n",
              "    </tr>\n",
              "    <tr>\n",
              "      <th>...</th>\n",
              "      <td>...</td>\n",
              "      <td>...</td>\n",
              "    </tr>\n",
              "    <tr>\n",
              "      <th>97</th>\n",
              "      <td>22.9</td>\n",
              "      <td>24.7</td>\n",
              "    </tr>\n",
              "    <tr>\n",
              "      <th>98</th>\n",
              "      <td>12.7</td>\n",
              "      <td>14.1</td>\n",
              "    </tr>\n",
              "    <tr>\n",
              "      <th>99</th>\n",
              "      <td>19.7</td>\n",
              "      <td>18.7</td>\n",
              "    </tr>\n",
              "    <tr>\n",
              "      <th>100</th>\n",
              "      <td>25.0</td>\n",
              "      <td>28.1</td>\n",
              "    </tr>\n",
              "    <tr>\n",
              "      <th>101</th>\n",
              "      <td>20.1</td>\n",
              "      <td>19.8</td>\n",
              "    </tr>\n",
              "  </tbody>\n",
              "</table>\n",
              "<p>102 rows × 2 columns</p>\n",
              "</div>"
            ],
            "text/plain": [
              "     y_pred:   y_reeal: \n",
              "0        23.7       22.6\n",
              "1        23.8       50.0\n",
              "2        19.2       23.0\n",
              "3        11.7        8.3\n",
              "4        21.2       21.2\n",
              "..        ...        ...\n",
              "97       22.9       24.7\n",
              "98       12.7       14.1\n",
              "99       19.7       18.7\n",
              "100      25.0       28.1\n",
              "101      20.1       19.8\n",
              "\n",
              "[102 rows x 2 columns]"
            ]
          },
          "metadata": {
            "tags": []
          },
          "execution_count": 356
        }
      ]
    },
    {
      "cell_type": "code",
      "metadata": {
        "id": "R-RLs_Hawoch",
        "colab_type": "code",
        "colab": {
          "base_uri": "https://localhost:8080/",
          "height": 51
        },
        "outputId": "34c637f7-00b7-4565-b5b0-39ac86b84505"
      },
      "source": [
        "print('Trainning data r_squared: ', regressor.score(X_train,y_train))\n",
        "print('Test data r_squared: ', regressor.score(X_test,y_test))"
      ],
      "execution_count": 357,
      "outputs": [
        {
          "output_type": "stream",
          "text": [
            "Trainning data r_squared:  1.0\n",
            "Test data r_squared:  0.5443310446304845\n"
          ],
          "name": "stdout"
        }
      ]
    },
    {
      "cell_type": "code",
      "metadata": {
        "id": "y8U8l4U6wuRh",
        "colab_type": "code",
        "colab": {
          "base_uri": "https://localhost:8080/",
          "height": 34
        },
        "outputId": "e32beed5-1192-4fcf-912b-4adc9bd90edb"
      },
      "source": [
        "MAE_DT=mean_absolute_error(y_test,y_pred)\n",
        "MAE_DT"
      ],
      "execution_count": 359,
      "outputs": [
        {
          "output_type": "execute_result",
          "data": {
            "text/plain": [
              "3.7401960784313726"
            ]
          },
          "metadata": {
            "tags": []
          },
          "execution_count": 359
        }
      ]
    },
    {
      "cell_type": "code",
      "metadata": {
        "id": "FP_a76BHwyl1",
        "colab_type": "code",
        "colab": {
          "base_uri": "https://localhost:8080/",
          "height": 34
        },
        "outputId": "c9cf5654-95a9-4e45-95e0-7613de0f3094"
      },
      "source": [
        "import math\n",
        "mlr_rmse_DT = math.sqrt(mean_squared_error(y_test, y_pred))\n",
        "mlr_rmse_DT"
      ],
      "execution_count": 360,
      "outputs": [
        {
          "output_type": "execute_result",
          "data": {
            "text/plain": [
              "6.091339078126079"
            ]
          },
          "metadata": {
            "tags": []
          },
          "execution_count": 360
        }
      ]
    },
    {
      "cell_type": "code",
      "metadata": {
        "id": "t3K_62bzw2Ut",
        "colab_type": "code",
        "colab": {}
      },
      "source": [
        "df5=df.drop('medv',axis=1)"
      ],
      "execution_count": 0,
      "outputs": []
    },
    {
      "cell_type": "code",
      "metadata": {
        "id": "wSogKtN3xFOt",
        "colab_type": "code",
        "colab": {}
      },
      "source": [
        "df5=df5.drop('Unnamed: 0',axis=1)"
      ],
      "execution_count": 0,
      "outputs": []
    },
    {
      "cell_type": "code",
      "metadata": {
        "id": "BTNQi8ySxHsr",
        "colab_type": "code",
        "colab": {
          "base_uri": "https://localhost:8080/",
          "height": 359
        },
        "outputId": "e4321a57-e90c-43b2-d7ec-210271a3b436"
      },
      "source": [
        "house_prediction_dt=df5.head(10)\n",
        "house_prediction_dt"
      ],
      "execution_count": 277,
      "outputs": [
        {
          "output_type": "execute_result",
          "data": {
            "text/html": [
              "<div>\n",
              "<style scoped>\n",
              "    .dataframe tbody tr th:only-of-type {\n",
              "        vertical-align: middle;\n",
              "    }\n",
              "\n",
              "    .dataframe tbody tr th {\n",
              "        vertical-align: top;\n",
              "    }\n",
              "\n",
              "    .dataframe thead th {\n",
              "        text-align: right;\n",
              "    }\n",
              "</style>\n",
              "<table border=\"1\" class=\"dataframe\">\n",
              "  <thead>\n",
              "    <tr style=\"text-align: right;\">\n",
              "      <th></th>\n",
              "      <th>crim</th>\n",
              "      <th>zn</th>\n",
              "      <th>indus</th>\n",
              "      <th>chas</th>\n",
              "      <th>nox</th>\n",
              "      <th>rm</th>\n",
              "      <th>age</th>\n",
              "      <th>dis</th>\n",
              "      <th>rad</th>\n",
              "      <th>tax</th>\n",
              "      <th>ptratio</th>\n",
              "      <th>black</th>\n",
              "      <th>lstat</th>\n",
              "    </tr>\n",
              "  </thead>\n",
              "  <tbody>\n",
              "    <tr>\n",
              "      <th>0</th>\n",
              "      <td>0.00632</td>\n",
              "      <td>18.0</td>\n",
              "      <td>2.31</td>\n",
              "      <td>0</td>\n",
              "      <td>0.538</td>\n",
              "      <td>6.575</td>\n",
              "      <td>65.2</td>\n",
              "      <td>4.0900</td>\n",
              "      <td>1</td>\n",
              "      <td>296</td>\n",
              "      <td>15.3</td>\n",
              "      <td>396.90</td>\n",
              "      <td>4.98</td>\n",
              "    </tr>\n",
              "    <tr>\n",
              "      <th>1</th>\n",
              "      <td>0.02731</td>\n",
              "      <td>0.0</td>\n",
              "      <td>7.07</td>\n",
              "      <td>0</td>\n",
              "      <td>0.469</td>\n",
              "      <td>6.421</td>\n",
              "      <td>78.9</td>\n",
              "      <td>4.9671</td>\n",
              "      <td>2</td>\n",
              "      <td>242</td>\n",
              "      <td>17.8</td>\n",
              "      <td>396.90</td>\n",
              "      <td>9.14</td>\n",
              "    </tr>\n",
              "    <tr>\n",
              "      <th>2</th>\n",
              "      <td>0.02729</td>\n",
              "      <td>0.0</td>\n",
              "      <td>7.07</td>\n",
              "      <td>0</td>\n",
              "      <td>0.469</td>\n",
              "      <td>7.185</td>\n",
              "      <td>61.1</td>\n",
              "      <td>4.9671</td>\n",
              "      <td>2</td>\n",
              "      <td>242</td>\n",
              "      <td>17.8</td>\n",
              "      <td>392.83</td>\n",
              "      <td>4.03</td>\n",
              "    </tr>\n",
              "    <tr>\n",
              "      <th>3</th>\n",
              "      <td>0.03237</td>\n",
              "      <td>0.0</td>\n",
              "      <td>2.18</td>\n",
              "      <td>0</td>\n",
              "      <td>0.458</td>\n",
              "      <td>6.998</td>\n",
              "      <td>45.8</td>\n",
              "      <td>6.0622</td>\n",
              "      <td>3</td>\n",
              "      <td>222</td>\n",
              "      <td>18.7</td>\n",
              "      <td>394.63</td>\n",
              "      <td>2.94</td>\n",
              "    </tr>\n",
              "    <tr>\n",
              "      <th>4</th>\n",
              "      <td>0.06905</td>\n",
              "      <td>0.0</td>\n",
              "      <td>2.18</td>\n",
              "      <td>0</td>\n",
              "      <td>0.458</td>\n",
              "      <td>7.147</td>\n",
              "      <td>54.2</td>\n",
              "      <td>6.0622</td>\n",
              "      <td>3</td>\n",
              "      <td>222</td>\n",
              "      <td>18.7</td>\n",
              "      <td>396.90</td>\n",
              "      <td>5.33</td>\n",
              "    </tr>\n",
              "    <tr>\n",
              "      <th>5</th>\n",
              "      <td>0.02985</td>\n",
              "      <td>0.0</td>\n",
              "      <td>2.18</td>\n",
              "      <td>0</td>\n",
              "      <td>0.458</td>\n",
              "      <td>6.430</td>\n",
              "      <td>58.7</td>\n",
              "      <td>6.0622</td>\n",
              "      <td>3</td>\n",
              "      <td>222</td>\n",
              "      <td>18.7</td>\n",
              "      <td>394.12</td>\n",
              "      <td>5.21</td>\n",
              "    </tr>\n",
              "    <tr>\n",
              "      <th>6</th>\n",
              "      <td>0.08829</td>\n",
              "      <td>12.5</td>\n",
              "      <td>7.87</td>\n",
              "      <td>0</td>\n",
              "      <td>0.524</td>\n",
              "      <td>6.012</td>\n",
              "      <td>66.6</td>\n",
              "      <td>5.5605</td>\n",
              "      <td>5</td>\n",
              "      <td>311</td>\n",
              "      <td>15.2</td>\n",
              "      <td>395.60</td>\n",
              "      <td>12.43</td>\n",
              "    </tr>\n",
              "    <tr>\n",
              "      <th>7</th>\n",
              "      <td>0.14455</td>\n",
              "      <td>12.5</td>\n",
              "      <td>7.87</td>\n",
              "      <td>0</td>\n",
              "      <td>0.524</td>\n",
              "      <td>6.172</td>\n",
              "      <td>96.1</td>\n",
              "      <td>5.9505</td>\n",
              "      <td>5</td>\n",
              "      <td>311</td>\n",
              "      <td>15.2</td>\n",
              "      <td>396.90</td>\n",
              "      <td>19.15</td>\n",
              "    </tr>\n",
              "    <tr>\n",
              "      <th>8</th>\n",
              "      <td>0.21124</td>\n",
              "      <td>12.5</td>\n",
              "      <td>7.87</td>\n",
              "      <td>0</td>\n",
              "      <td>0.524</td>\n",
              "      <td>5.631</td>\n",
              "      <td>100.0</td>\n",
              "      <td>6.0821</td>\n",
              "      <td>5</td>\n",
              "      <td>311</td>\n",
              "      <td>15.2</td>\n",
              "      <td>386.63</td>\n",
              "      <td>29.93</td>\n",
              "    </tr>\n",
              "    <tr>\n",
              "      <th>9</th>\n",
              "      <td>0.17004</td>\n",
              "      <td>12.5</td>\n",
              "      <td>7.87</td>\n",
              "      <td>0</td>\n",
              "      <td>0.524</td>\n",
              "      <td>6.004</td>\n",
              "      <td>85.9</td>\n",
              "      <td>6.5921</td>\n",
              "      <td>5</td>\n",
              "      <td>311</td>\n",
              "      <td>15.2</td>\n",
              "      <td>386.71</td>\n",
              "      <td>17.10</td>\n",
              "    </tr>\n",
              "  </tbody>\n",
              "</table>\n",
              "</div>"
            ],
            "text/plain": [
              "      crim    zn  indus  chas    nox  ...  rad  tax  ptratio   black  lstat\n",
              "0  0.00632  18.0   2.31     0  0.538  ...    1  296     15.3  396.90   4.98\n",
              "1  0.02731   0.0   7.07     0  0.469  ...    2  242     17.8  396.90   9.14\n",
              "2  0.02729   0.0   7.07     0  0.469  ...    2  242     17.8  392.83   4.03\n",
              "3  0.03237   0.0   2.18     0  0.458  ...    3  222     18.7  394.63   2.94\n",
              "4  0.06905   0.0   2.18     0  0.458  ...    3  222     18.7  396.90   5.33\n",
              "5  0.02985   0.0   2.18     0  0.458  ...    3  222     18.7  394.12   5.21\n",
              "6  0.08829  12.5   7.87     0  0.524  ...    5  311     15.2  395.60  12.43\n",
              "7  0.14455  12.5   7.87     0  0.524  ...    5  311     15.2  396.90  19.15\n",
              "8  0.21124  12.5   7.87     0  0.524  ...    5  311     15.2  386.63  29.93\n",
              "9  0.17004  12.5   7.87     0  0.524  ...    5  311     15.2  386.71  17.10\n",
              "\n",
              "[10 rows x 13 columns]"
            ]
          },
          "metadata": {
            "tags": []
          },
          "execution_count": 277
        }
      ]
    },
    {
      "cell_type": "code",
      "metadata": {
        "id": "ZW_jtIJkxMEZ",
        "colab_type": "code",
        "colab": {}
      },
      "source": [
        "house_prediction_dt=sc.transform(house_prediction_dt.values.reshape(-1,13))"
      ],
      "execution_count": 0,
      "outputs": []
    },
    {
      "cell_type": "code",
      "metadata": {
        "id": "7sw8v1gYxR3N",
        "colab_type": "code",
        "colab": {}
      },
      "source": [
        "pred_houses_dt = regressor.predict(house_prediction_dt)"
      ],
      "execution_count": 0,
      "outputs": []
    },
    {
      "cell_type": "code",
      "metadata": {
        "id": "Zuz30LKBxXPU",
        "colab_type": "code",
        "colab": {
          "base_uri": "https://localhost:8080/",
          "height": 359
        },
        "outputId": "c8951dfc-7d6f-4948-de44-8dc064992a9f"
      },
      "source": [
        "df_dt = pd.DataFrame(pred_houses_dt, columns=['Predictions_dt'])\n",
        "df_dt"
      ],
      "execution_count": 280,
      "outputs": [
        {
          "output_type": "execute_result",
          "data": {
            "text/html": [
              "<div>\n",
              "<style scoped>\n",
              "    .dataframe tbody tr th:only-of-type {\n",
              "        vertical-align: middle;\n",
              "    }\n",
              "\n",
              "    .dataframe tbody tr th {\n",
              "        vertical-align: top;\n",
              "    }\n",
              "\n",
              "    .dataframe thead th {\n",
              "        text-align: right;\n",
              "    }\n",
              "</style>\n",
              "<table border=\"1\" class=\"dataframe\">\n",
              "  <thead>\n",
              "    <tr style=\"text-align: right;\">\n",
              "      <th></th>\n",
              "      <th>Predictions_dt</th>\n",
              "    </tr>\n",
              "  </thead>\n",
              "  <tbody>\n",
              "    <tr>\n",
              "      <th>0</th>\n",
              "      <td>24.0</td>\n",
              "    </tr>\n",
              "    <tr>\n",
              "      <th>1</th>\n",
              "      <td>18.2</td>\n",
              "    </tr>\n",
              "    <tr>\n",
              "      <th>2</th>\n",
              "      <td>34.7</td>\n",
              "    </tr>\n",
              "    <tr>\n",
              "      <th>3</th>\n",
              "      <td>33.4</td>\n",
              "    </tr>\n",
              "    <tr>\n",
              "      <th>4</th>\n",
              "      <td>36.2</td>\n",
              "    </tr>\n",
              "    <tr>\n",
              "      <th>5</th>\n",
              "      <td>28.7</td>\n",
              "    </tr>\n",
              "    <tr>\n",
              "      <th>6</th>\n",
              "      <td>22.9</td>\n",
              "    </tr>\n",
              "    <tr>\n",
              "      <th>7</th>\n",
              "      <td>27.1</td>\n",
              "    </tr>\n",
              "    <tr>\n",
              "      <th>8</th>\n",
              "      <td>16.5</td>\n",
              "    </tr>\n",
              "    <tr>\n",
              "      <th>9</th>\n",
              "      <td>18.9</td>\n",
              "    </tr>\n",
              "  </tbody>\n",
              "</table>\n",
              "</div>"
            ],
            "text/plain": [
              "   Predictions_dt\n",
              "0            24.0\n",
              "1            18.2\n",
              "2            34.7\n",
              "3            33.4\n",
              "4            36.2\n",
              "5            28.7\n",
              "6            22.9\n",
              "7            27.1\n",
              "8            16.5\n",
              "9            18.9"
            ]
          },
          "metadata": {
            "tags": []
          },
          "execution_count": 280
        }
      ]
    },
    {
      "cell_type": "markdown",
      "metadata": {
        "id": "SMYgBeoExlvc",
        "colab_type": "text"
      },
      "source": [
        "# LR vs ANN vs PR vs SVR vs DT"
      ]
    },
    {
      "cell_type": "code",
      "metadata": {
        "id": "LPeD1ybyxiv-",
        "colab_type": "code",
        "colab": {
          "base_uri": "https://localhost:8080/",
          "height": 359
        },
        "outputId": "f51dd0a1-d909-4de4-ba78-66c6de584c7c"
      },
      "source": [
        "data_predicted= pd.concat([df, df_ann,df_lr,df_poly,df_svm,df_dt], axis=1)\n",
        "data_predicted.head(10)"
      ],
      "execution_count": 281,
      "outputs": [
        {
          "output_type": "execute_result",
          "data": {
            "text/html": [
              "<div>\n",
              "<style scoped>\n",
              "    .dataframe tbody tr th:only-of-type {\n",
              "        vertical-align: middle;\n",
              "    }\n",
              "\n",
              "    .dataframe tbody tr th {\n",
              "        vertical-align: top;\n",
              "    }\n",
              "\n",
              "    .dataframe thead th {\n",
              "        text-align: right;\n",
              "    }\n",
              "</style>\n",
              "<table border=\"1\" class=\"dataframe\">\n",
              "  <thead>\n",
              "    <tr style=\"text-align: right;\">\n",
              "      <th></th>\n",
              "      <th>Unnamed: 0</th>\n",
              "      <th>crim</th>\n",
              "      <th>zn</th>\n",
              "      <th>indus</th>\n",
              "      <th>chas</th>\n",
              "      <th>nox</th>\n",
              "      <th>rm</th>\n",
              "      <th>age</th>\n",
              "      <th>dis</th>\n",
              "      <th>rad</th>\n",
              "      <th>tax</th>\n",
              "      <th>ptratio</th>\n",
              "      <th>black</th>\n",
              "      <th>lstat</th>\n",
              "      <th>medv</th>\n",
              "      <th>Predictions_ann</th>\n",
              "      <th>Predictions_lr</th>\n",
              "      <th>Predictions_poly</th>\n",
              "      <th>Predictions_svm</th>\n",
              "      <th>Predictions_dt</th>\n",
              "    </tr>\n",
              "  </thead>\n",
              "  <tbody>\n",
              "    <tr>\n",
              "      <th>0</th>\n",
              "      <td>1</td>\n",
              "      <td>0.00632</td>\n",
              "      <td>18.0</td>\n",
              "      <td>2.31</td>\n",
              "      <td>0</td>\n",
              "      <td>0.538</td>\n",
              "      <td>6.575</td>\n",
              "      <td>65.2</td>\n",
              "      <td>4.0900</td>\n",
              "      <td>1</td>\n",
              "      <td>296</td>\n",
              "      <td>15.3</td>\n",
              "      <td>396.90</td>\n",
              "      <td>4.98</td>\n",
              "      <td>24.0</td>\n",
              "      <td>25.204807</td>\n",
              "      <td>30.499498</td>\n",
              "      <td>26.185130</td>\n",
              "      <td>29.328247</td>\n",
              "      <td>24.0</td>\n",
              "    </tr>\n",
              "    <tr>\n",
              "      <th>1</th>\n",
              "      <td>2</td>\n",
              "      <td>0.02731</td>\n",
              "      <td>0.0</td>\n",
              "      <td>7.07</td>\n",
              "      <td>0</td>\n",
              "      <td>0.469</td>\n",
              "      <td>6.421</td>\n",
              "      <td>78.9</td>\n",
              "      <td>4.9671</td>\n",
              "      <td>2</td>\n",
              "      <td>242</td>\n",
              "      <td>17.8</td>\n",
              "      <td>396.90</td>\n",
              "      <td>9.14</td>\n",
              "      <td>21.6</td>\n",
              "      <td>22.331741</td>\n",
              "      <td>25.172480</td>\n",
              "      <td>20.242273</td>\n",
              "      <td>23.068567</td>\n",
              "      <td>18.2</td>\n",
              "    </tr>\n",
              "    <tr>\n",
              "      <th>2</th>\n",
              "      <td>3</td>\n",
              "      <td>0.02729</td>\n",
              "      <td>0.0</td>\n",
              "      <td>7.07</td>\n",
              "      <td>0</td>\n",
              "      <td>0.469</td>\n",
              "      <td>7.185</td>\n",
              "      <td>61.1</td>\n",
              "      <td>4.9671</td>\n",
              "      <td>2</td>\n",
              "      <td>242</td>\n",
              "      <td>17.8</td>\n",
              "      <td>392.83</td>\n",
              "      <td>4.03</td>\n",
              "      <td>34.7</td>\n",
              "      <td>30.816872</td>\n",
              "      <td>30.546654</td>\n",
              "      <td>31.229378</td>\n",
              "      <td>31.225956</td>\n",
              "      <td>34.7</td>\n",
              "    </tr>\n",
              "    <tr>\n",
              "      <th>3</th>\n",
              "      <td>4</td>\n",
              "      <td>0.03237</td>\n",
              "      <td>0.0</td>\n",
              "      <td>2.18</td>\n",
              "      <td>0</td>\n",
              "      <td>0.458</td>\n",
              "      <td>6.998</td>\n",
              "      <td>45.8</td>\n",
              "      <td>6.0622</td>\n",
              "      <td>3</td>\n",
              "      <td>222</td>\n",
              "      <td>18.7</td>\n",
              "      <td>394.63</td>\n",
              "      <td>2.94</td>\n",
              "      <td>33.4</td>\n",
              "      <td>32.384190</td>\n",
              "      <td>28.606948</td>\n",
              "      <td>34.547726</td>\n",
              "      <td>28.985480</td>\n",
              "      <td>33.4</td>\n",
              "    </tr>\n",
              "    <tr>\n",
              "      <th>4</th>\n",
              "      <td>5</td>\n",
              "      <td>0.06905</td>\n",
              "      <td>0.0</td>\n",
              "      <td>2.18</td>\n",
              "      <td>0</td>\n",
              "      <td>0.458</td>\n",
              "      <td>7.147</td>\n",
              "      <td>54.2</td>\n",
              "      <td>6.0622</td>\n",
              "      <td>3</td>\n",
              "      <td>222</td>\n",
              "      <td>18.7</td>\n",
              "      <td>396.90</td>\n",
              "      <td>5.33</td>\n",
              "      <td>36.2</td>\n",
              "      <td>32.175018</td>\n",
              "      <td>27.969583</td>\n",
              "      <td>33.330851</td>\n",
              "      <td>29.334102</td>\n",
              "      <td>36.2</td>\n",
              "    </tr>\n",
              "    <tr>\n",
              "      <th>5</th>\n",
              "      <td>6</td>\n",
              "      <td>0.02985</td>\n",
              "      <td>0.0</td>\n",
              "      <td>2.18</td>\n",
              "      <td>0</td>\n",
              "      <td>0.458</td>\n",
              "      <td>6.430</td>\n",
              "      <td>58.7</td>\n",
              "      <td>6.0622</td>\n",
              "      <td>3</td>\n",
              "      <td>222</td>\n",
              "      <td>18.7</td>\n",
              "      <td>394.12</td>\n",
              "      <td>5.21</td>\n",
              "      <td>28.7</td>\n",
              "      <td>26.085541</td>\n",
              "      <td>25.337665</td>\n",
              "      <td>28.211071</td>\n",
              "      <td>23.913574</td>\n",
              "      <td>28.7</td>\n",
              "    </tr>\n",
              "    <tr>\n",
              "      <th>6</th>\n",
              "      <td>7</td>\n",
              "      <td>0.08829</td>\n",
              "      <td>12.5</td>\n",
              "      <td>7.87</td>\n",
              "      <td>0</td>\n",
              "      <td>0.524</td>\n",
              "      <td>6.012</td>\n",
              "      <td>66.6</td>\n",
              "      <td>5.5605</td>\n",
              "      <td>5</td>\n",
              "      <td>311</td>\n",
              "      <td>15.2</td>\n",
              "      <td>395.60</td>\n",
              "      <td>12.43</td>\n",
              "      <td>22.9</td>\n",
              "      <td>21.806234</td>\n",
              "      <td>23.603188</td>\n",
              "      <td>21.896255</td>\n",
              "      <td>21.580021</td>\n",
              "      <td>22.9</td>\n",
              "    </tr>\n",
              "    <tr>\n",
              "      <th>7</th>\n",
              "      <td>8</td>\n",
              "      <td>0.14455</td>\n",
              "      <td>12.5</td>\n",
              "      <td>7.87</td>\n",
              "      <td>0</td>\n",
              "      <td>0.524</td>\n",
              "      <td>6.172</td>\n",
              "      <td>96.1</td>\n",
              "      <td>5.9505</td>\n",
              "      <td>5</td>\n",
              "      <td>311</td>\n",
              "      <td>15.2</td>\n",
              "      <td>396.90</td>\n",
              "      <td>19.15</td>\n",
              "      <td>27.1</td>\n",
              "      <td>22.170792</td>\n",
              "      <td>20.256071</td>\n",
              "      <td>18.026796</td>\n",
              "      <td>19.399650</td>\n",
              "      <td>27.1</td>\n",
              "    </tr>\n",
              "    <tr>\n",
              "      <th>8</th>\n",
              "      <td>9</td>\n",
              "      <td>0.21124</td>\n",
              "      <td>12.5</td>\n",
              "      <td>7.87</td>\n",
              "      <td>0</td>\n",
              "      <td>0.524</td>\n",
              "      <td>5.631</td>\n",
              "      <td>100.0</td>\n",
              "      <td>6.0821</td>\n",
              "      <td>5</td>\n",
              "      <td>311</td>\n",
              "      <td>15.2</td>\n",
              "      <td>386.63</td>\n",
              "      <td>29.93</td>\n",
              "      <td>16.5</td>\n",
              "      <td>17.147882</td>\n",
              "      <td>12.651475</td>\n",
              "      <td>14.739570</td>\n",
              "      <td>16.600376</td>\n",
              "      <td>16.5</td>\n",
              "    </tr>\n",
              "    <tr>\n",
              "      <th>9</th>\n",
              "      <td>10</td>\n",
              "      <td>0.17004</td>\n",
              "      <td>12.5</td>\n",
              "      <td>7.87</td>\n",
              "      <td>0</td>\n",
              "      <td>0.524</td>\n",
              "      <td>6.004</td>\n",
              "      <td>85.9</td>\n",
              "      <td>6.5921</td>\n",
              "      <td>5</td>\n",
              "      <td>311</td>\n",
              "      <td>15.2</td>\n",
              "      <td>386.71</td>\n",
              "      <td>17.10</td>\n",
              "      <td>18.9</td>\n",
              "      <td>20.906023</td>\n",
              "      <td>19.699869</td>\n",
              "      <td>22.343196</td>\n",
              "      <td>18.999790</td>\n",
              "      <td>18.9</td>\n",
              "    </tr>\n",
              "  </tbody>\n",
              "</table>\n",
              "</div>"
            ],
            "text/plain": [
              "   Unnamed: 0     crim    zn  ...  Predictions_poly  Predictions_svm  Predictions_dt\n",
              "0           1  0.00632  18.0  ...         26.185130        29.328247            24.0\n",
              "1           2  0.02731   0.0  ...         20.242273        23.068567            18.2\n",
              "2           3  0.02729   0.0  ...         31.229378        31.225956            34.7\n",
              "3           4  0.03237   0.0  ...         34.547726        28.985480            33.4\n",
              "4           5  0.06905   0.0  ...         33.330851        29.334102            36.2\n",
              "5           6  0.02985   0.0  ...         28.211071        23.913574            28.7\n",
              "6           7  0.08829  12.5  ...         21.896255        21.580021            22.9\n",
              "7           8  0.14455  12.5  ...         18.026796        19.399650            27.1\n",
              "8           9  0.21124  12.5  ...         14.739570        16.600376            16.5\n",
              "9          10  0.17004  12.5  ...         22.343196        18.999790            18.9\n",
              "\n",
              "[10 rows x 20 columns]"
            ]
          },
          "metadata": {
            "tags": []
          },
          "execution_count": 281
        }
      ]
    },
    {
      "cell_type": "markdown",
      "metadata": {
        "id": "hvzBqjli5LMq",
        "colab_type": "text"
      },
      "source": [
        "# Comparison"
      ]
    },
    {
      "cell_type": "code",
      "metadata": {
        "id": "MS-2An_z6HX7",
        "colab_type": "code",
        "colab": {
          "base_uri": "https://localhost:8080/",
          "height": 34
        },
        "outputId": "197a3116-0686-4242-f111-7a860bacd195"
      },
      "source": [
        "df['medv'].mean()"
      ],
      "execution_count": 366,
      "outputs": [
        {
          "output_type": "execute_result",
          "data": {
            "text/plain": [
              "22.532806324110698"
            ]
          },
          "metadata": {
            "tags": []
          },
          "execution_count": 366
        }
      ]
    },
    {
      "cell_type": "code",
      "metadata": {
        "id": "oNpR65EV0fZi",
        "colab_type": "code",
        "colab": {
          "base_uri": "https://localhost:8080/",
          "height": 102
        },
        "outputId": "f95e9c7e-00b6-480a-a41b-28f81129119d"
      },
      "source": [
        "print('MAE LR :',MAE_LR)\n",
        "print('MAE ANN :',MAE_ANN)\n",
        "print('MAE POLY :',MAE_POLY)\n",
        "print('MAE SVR :',MAE_SVR)\n",
        "print('MAE DT :',MAE_DT)"
      ],
      "execution_count": 363,
      "outputs": [
        {
          "output_type": "stream",
          "text": [
            "MAE LR : 3.838476893830888\n",
            "MAE ANN : 2.5876094331928328\n",
            "MAE POLY : 3.5950201843299125\n",
            "MAE SVR : 3.618530917197434\n",
            "MAE DT : 3.7401960784313726\n"
          ],
          "name": "stdout"
        }
      ]
    },
    {
      "cell_type": "code",
      "metadata": {
        "id": "HTxiyx675UaM",
        "colab_type": "code",
        "colab": {
          "base_uri": "https://localhost:8080/",
          "height": 102
        },
        "outputId": "1cdf4b5b-70fb-4e0f-ae91-3853cfe5e77e"
      },
      "source": [
        "print('RMSE LR :',mlr_rmse_LR)\n",
        "print('RMSE ANN :',mlr_rmse_ANN)\n",
        "print('RMSE POLY :',rmse_test_POLY)\n",
        "print('RMSE SVR :',mlr_rmse_SVR)\n",
        "print('RMSE DT :',mlr_rmse_DT)"
      ],
      "execution_count": 365,
      "outputs": [
        {
          "output_type": "stream",
          "text": [
            "RMSE LR : 5.76775185485984\n",
            "RMSE ANN : 4.292649953280244\n",
            "RMSE POLY : 5.530545453977526\n",
            "RMSE SVR : 6.401605159252353\n",
            "RMSE DT : 6.091339078126079\n"
          ],
          "name": "stdout"
        }
      ]
    },
    {
      "cell_type": "code",
      "metadata": {
        "id": "xhnEzy_L58XV",
        "colab_type": "code",
        "colab": {}
      },
      "source": [
        ""
      ],
      "execution_count": 0,
      "outputs": []
    }
  ]
}